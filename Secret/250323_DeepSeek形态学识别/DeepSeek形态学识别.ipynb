{
 "cells": [
  {
   "cell_type": "markdown",
   "id": "907e1864-250d-4dc2-baf9-e9f98a8a4bb1",
   "metadata": {
    "tags": []
   },
   "source": [
    "# DeepSeek形态学识别"
   ]
  },
  {
   "cell_type": "markdown",
   "id": "ced53d5d-682f-4f9e-8a19-9db0c0e80aaa",
   "metadata": {},
   "source": [
    "- @作者：AFAN\n",
    "- @时间：2025-03-23\n",
    "- @B站：[AFAN的金融科技](https://space.bilibili.com/1020711810)\n",
    "- @公众号：[AFAN Fintech（点击通过文章关注）](https://mp.weixin.qq.com/s/f1Om7j9jndkqhlyfyqrgOw)\n",
    "- @微信：afan-life\n",
    "- @github：https://github.com/AFAN-LIFE/AFAN-LIFE\n",
    "- @知识星球（付费分享）：[AFAN的金融科技](https://wx.zsxq.com/group/88885818554422)\n",
    "- *注：本分享来自于AFAN的公开分享，转载请注明出处"
   ]
  },
  {
   "cell_type": "code",
   "execution_count": 73,
   "id": "e61b2434-f5cf-4e3a-80e5-940b1011653c",
   "metadata": {
    "tags": []
   },
   "outputs": [],
   "source": [
    "import matplotlib\n",
    "import numpy as np\n",
    "import pandas as pd\n",
    "import tushare as ts\n",
    "import mplfinance as mpf\n",
    "import matplotlib.pyplot as plt"
   ]
  },
  {
   "cell_type": "code",
   "execution_count": 74,
   "id": "803e9902-3526-4903-bd16-9b7c155429f0",
   "metadata": {
    "tags": []
   },
   "outputs": [
    {
     "data": {
      "text/plain": [
       "('1.24.3', '2.0.3', '1.4.19', '0.12.10b0', '3.7.2')"
      ]
     },
     "execution_count": 74,
     "metadata": {},
     "output_type": "execute_result"
    }
   ],
   "source": [
    "np.__version__, pd.__version__, ts.__version__, mpf.__version__, matplotlib.__version__"
   ]
  },
  {
   "cell_type": "code",
   "execution_count": 6,
   "id": "5f8a54b2-1010-429f-a05b-b417f448880b",
   "metadata": {
    "tags": []
   },
   "outputs": [],
   "source": [
    "pro = ts.pro_api('你的token')"
   ]
  },
  {
   "cell_type": "markdown",
   "id": "99b89804-7641-45d1-954c-57f857370b7c",
   "metadata": {},
   "source": [
    "## 获取分钟数据"
   ]
  },
  {
   "cell_type": "code",
   "execution_count": null,
   "id": "2b96cad3-7074-4251-9f96-6ba8d2f8fb07",
   "metadata": {
    "tags": []
   },
   "outputs": [],
   "source": [
    "#获取浦发银行60000.SH的历史分钟数据\n",
    "df = pro.stk_mins(ts_code='600000.SH', freq='1min', start_date='2025-03-21 09:00:00', end_date='2025-03-21 16:00:00')"
   ]
  },
  {
   "cell_type": "code",
   "execution_count": 56,
   "id": "2659e7b1-f2f3-4b33-be68-ba282392f99e",
   "metadata": {
    "tags": []
   },
   "outputs": [],
   "source": [
    "df.to_csv('测试数据.csv')"
   ]
  },
  {
   "cell_type": "code",
   "execution_count": 57,
   "id": "6c1d7337-d1c1-4aee-81ee-567835b9cc7d",
   "metadata": {
    "tags": []
   },
   "outputs": [
    {
     "data": {
      "text/html": [
       "<div>\n",
       "<style scoped>\n",
       "    .dataframe tbody tr th:only-of-type {\n",
       "        vertical-align: middle;\n",
       "    }\n",
       "\n",
       "    .dataframe tbody tr th {\n",
       "        vertical-align: top;\n",
       "    }\n",
       "\n",
       "    .dataframe thead th {\n",
       "        text-align: right;\n",
       "    }\n",
       "</style>\n",
       "<table border=\"1\" class=\"dataframe\">\n",
       "  <thead>\n",
       "    <tr style=\"text-align: right;\">\n",
       "      <th></th>\n",
       "      <th>ts_code</th>\n",
       "      <th>trade_time</th>\n",
       "      <th>close</th>\n",
       "      <th>open</th>\n",
       "      <th>high</th>\n",
       "      <th>low</th>\n",
       "      <th>vol</th>\n",
       "      <th>amount</th>\n",
       "    </tr>\n",
       "  </thead>\n",
       "  <tbody>\n",
       "    <tr>\n",
       "      <th>0</th>\n",
       "      <td>600000.SH</td>\n",
       "      <td>2025-03-21 15:00:00</td>\n",
       "      <td>10.47</td>\n",
       "      <td>10.47</td>\n",
       "      <td>10.47</td>\n",
       "      <td>10.47</td>\n",
       "      <td>3356800.0</td>\n",
       "      <td>35145696.0</td>\n",
       "    </tr>\n",
       "    <tr>\n",
       "      <th>1</th>\n",
       "      <td>600000.SH</td>\n",
       "      <td>2025-03-21 14:59:00</td>\n",
       "      <td>10.44</td>\n",
       "      <td>10.44</td>\n",
       "      <td>10.44</td>\n",
       "      <td>10.44</td>\n",
       "      <td>0.0</td>\n",
       "      <td>0.0</td>\n",
       "    </tr>\n",
       "    <tr>\n",
       "      <th>2</th>\n",
       "      <td>600000.SH</td>\n",
       "      <td>2025-03-21 14:58:00</td>\n",
       "      <td>10.44</td>\n",
       "      <td>10.44</td>\n",
       "      <td>10.44</td>\n",
       "      <td>10.44</td>\n",
       "      <td>9800.0</td>\n",
       "      <td>102382.0</td>\n",
       "    </tr>\n",
       "    <tr>\n",
       "      <th>3</th>\n",
       "      <td>600000.SH</td>\n",
       "      <td>2025-03-21 14:57:00</td>\n",
       "      <td>10.45</td>\n",
       "      <td>10.45</td>\n",
       "      <td>10.45</td>\n",
       "      <td>10.44</td>\n",
       "      <td>487500.0</td>\n",
       "      <td>5091717.0</td>\n",
       "    </tr>\n",
       "    <tr>\n",
       "      <th>4</th>\n",
       "      <td>600000.SH</td>\n",
       "      <td>2025-03-21 14:56:00</td>\n",
       "      <td>10.44</td>\n",
       "      <td>10.44</td>\n",
       "      <td>10.45</td>\n",
       "      <td>10.44</td>\n",
       "      <td>193100.0</td>\n",
       "      <td>2017274.0</td>\n",
       "    </tr>\n",
       "    <tr>\n",
       "      <th>...</th>\n",
       "      <td>...</td>\n",
       "      <td>...</td>\n",
       "      <td>...</td>\n",
       "      <td>...</td>\n",
       "      <td>...</td>\n",
       "      <td>...</td>\n",
       "      <td>...</td>\n",
       "      <td>...</td>\n",
       "    </tr>\n",
       "    <tr>\n",
       "      <th>236</th>\n",
       "      <td>600000.SH</td>\n",
       "      <td>2025-03-21 09:34:00</td>\n",
       "      <td>10.64</td>\n",
       "      <td>10.65</td>\n",
       "      <td>10.65</td>\n",
       "      <td>10.62</td>\n",
       "      <td>133700.0</td>\n",
       "      <td>1422218.0</td>\n",
       "    </tr>\n",
       "    <tr>\n",
       "      <th>237</th>\n",
       "      <td>600000.SH</td>\n",
       "      <td>2025-03-21 09:33:00</td>\n",
       "      <td>10.64</td>\n",
       "      <td>10.64</td>\n",
       "      <td>10.66</td>\n",
       "      <td>10.63</td>\n",
       "      <td>146000.0</td>\n",
       "      <td>1554048.0</td>\n",
       "    </tr>\n",
       "    <tr>\n",
       "      <th>238</th>\n",
       "      <td>600000.SH</td>\n",
       "      <td>2025-03-21 09:32:00</td>\n",
       "      <td>10.63</td>\n",
       "      <td>10.66</td>\n",
       "      <td>10.66</td>\n",
       "      <td>10.63</td>\n",
       "      <td>294000.0</td>\n",
       "      <td>3131448.0</td>\n",
       "    </tr>\n",
       "    <tr>\n",
       "      <th>239</th>\n",
       "      <td>600000.SH</td>\n",
       "      <td>2025-03-21 09:31:00</td>\n",
       "      <td>10.65</td>\n",
       "      <td>10.64</td>\n",
       "      <td>10.68</td>\n",
       "      <td>10.62</td>\n",
       "      <td>496100.0</td>\n",
       "      <td>5282928.0</td>\n",
       "    </tr>\n",
       "    <tr>\n",
       "      <th>240</th>\n",
       "      <td>600000.SH</td>\n",
       "      <td>2025-03-21 09:30:00</td>\n",
       "      <td>10.63</td>\n",
       "      <td>10.63</td>\n",
       "      <td>10.63</td>\n",
       "      <td>10.63</td>\n",
       "      <td>147100.0</td>\n",
       "      <td>1563673.0</td>\n",
       "    </tr>\n",
       "  </tbody>\n",
       "</table>\n",
       "<p>241 rows × 8 columns</p>\n",
       "</div>"
      ],
      "text/plain": [
       "       ts_code           trade_time  close   open   high    low        vol  \\\n",
       "0    600000.SH  2025-03-21 15:00:00  10.47  10.47  10.47  10.47  3356800.0   \n",
       "1    600000.SH  2025-03-21 14:59:00  10.44  10.44  10.44  10.44        0.0   \n",
       "2    600000.SH  2025-03-21 14:58:00  10.44  10.44  10.44  10.44     9800.0   \n",
       "3    600000.SH  2025-03-21 14:57:00  10.45  10.45  10.45  10.44   487500.0   \n",
       "4    600000.SH  2025-03-21 14:56:00  10.44  10.44  10.45  10.44   193100.0   \n",
       "..         ...                  ...    ...    ...    ...    ...        ...   \n",
       "236  600000.SH  2025-03-21 09:34:00  10.64  10.65  10.65  10.62   133700.0   \n",
       "237  600000.SH  2025-03-21 09:33:00  10.64  10.64  10.66  10.63   146000.0   \n",
       "238  600000.SH  2025-03-21 09:32:00  10.63  10.66  10.66  10.63   294000.0   \n",
       "239  600000.SH  2025-03-21 09:31:00  10.65  10.64  10.68  10.62   496100.0   \n",
       "240  600000.SH  2025-03-21 09:30:00  10.63  10.63  10.63  10.63   147100.0   \n",
       "\n",
       "         amount  \n",
       "0    35145696.0  \n",
       "1           0.0  \n",
       "2      102382.0  \n",
       "3     5091717.0  \n",
       "4     2017274.0  \n",
       "..          ...  \n",
       "236   1422218.0  \n",
       "237   1554048.0  \n",
       "238   3131448.0  \n",
       "239   5282928.0  \n",
       "240   1563673.0  \n",
       "\n",
       "[241 rows x 8 columns]"
      ]
     },
     "execution_count": 57,
     "metadata": {},
     "output_type": "execute_result"
    }
   ],
   "source": [
    "df"
   ]
  },
  {
   "cell_type": "markdown",
   "id": "ed67bf03-39c6-4274-b69c-cb7814376b5a",
   "metadata": {},
   "source": [
    "## 蜡烛图展示"
   ]
  },
  {
   "cell_type": "code",
   "execution_count": 49,
   "id": "870d82d2-943b-4709-907e-f54f421da3e5",
   "metadata": {
    "tags": []
   },
   "outputs": [],
   "source": [
    "adj_df = df.set_index('trade_time')\n",
    "adj_df.index = pd.DatetimeIndex(adj_df.index)\n",
    "adj_df = adj_df.rename(columns={'vol': 'volume'})"
   ]
  },
  {
   "cell_type": "code",
   "execution_count": 50,
   "id": "f37ba978-1f91-42cf-b443-82567800c35c",
   "metadata": {
    "tags": []
   },
   "outputs": [
    {
     "data": {
      "text/html": [
       "<div>\n",
       "<style scoped>\n",
       "    .dataframe tbody tr th:only-of-type {\n",
       "        vertical-align: middle;\n",
       "    }\n",
       "\n",
       "    .dataframe tbody tr th {\n",
       "        vertical-align: top;\n",
       "    }\n",
       "\n",
       "    .dataframe thead th {\n",
       "        text-align: right;\n",
       "    }\n",
       "</style>\n",
       "<table border=\"1\" class=\"dataframe\">\n",
       "  <thead>\n",
       "    <tr style=\"text-align: right;\">\n",
       "      <th></th>\n",
       "      <th>ts_code</th>\n",
       "      <th>close</th>\n",
       "      <th>open</th>\n",
       "      <th>high</th>\n",
       "      <th>low</th>\n",
       "      <th>volume</th>\n",
       "      <th>amount</th>\n",
       "    </tr>\n",
       "    <tr>\n",
       "      <th>trade_time</th>\n",
       "      <th></th>\n",
       "      <th></th>\n",
       "      <th></th>\n",
       "      <th></th>\n",
       "      <th></th>\n",
       "      <th></th>\n",
       "      <th></th>\n",
       "    </tr>\n",
       "  </thead>\n",
       "  <tbody>\n",
       "    <tr>\n",
       "      <th>2025-03-21 15:00:00</th>\n",
       "      <td>600000.SH</td>\n",
       "      <td>10.47</td>\n",
       "      <td>10.47</td>\n",
       "      <td>10.47</td>\n",
       "      <td>10.47</td>\n",
       "      <td>3356800.0</td>\n",
       "      <td>35145696.0</td>\n",
       "    </tr>\n",
       "    <tr>\n",
       "      <th>2025-03-21 14:59:00</th>\n",
       "      <td>600000.SH</td>\n",
       "      <td>10.44</td>\n",
       "      <td>10.44</td>\n",
       "      <td>10.44</td>\n",
       "      <td>10.44</td>\n",
       "      <td>0.0</td>\n",
       "      <td>0.0</td>\n",
       "    </tr>\n",
       "    <tr>\n",
       "      <th>2025-03-21 14:58:00</th>\n",
       "      <td>600000.SH</td>\n",
       "      <td>10.44</td>\n",
       "      <td>10.44</td>\n",
       "      <td>10.44</td>\n",
       "      <td>10.44</td>\n",
       "      <td>9800.0</td>\n",
       "      <td>102382.0</td>\n",
       "    </tr>\n",
       "    <tr>\n",
       "      <th>2025-03-21 14:57:00</th>\n",
       "      <td>600000.SH</td>\n",
       "      <td>10.45</td>\n",
       "      <td>10.45</td>\n",
       "      <td>10.45</td>\n",
       "      <td>10.44</td>\n",
       "      <td>487500.0</td>\n",
       "      <td>5091717.0</td>\n",
       "    </tr>\n",
       "    <tr>\n",
       "      <th>2025-03-21 14:56:00</th>\n",
       "      <td>600000.SH</td>\n",
       "      <td>10.44</td>\n",
       "      <td>10.44</td>\n",
       "      <td>10.45</td>\n",
       "      <td>10.44</td>\n",
       "      <td>193100.0</td>\n",
       "      <td>2017274.0</td>\n",
       "    </tr>\n",
       "    <tr>\n",
       "      <th>...</th>\n",
       "      <td>...</td>\n",
       "      <td>...</td>\n",
       "      <td>...</td>\n",
       "      <td>...</td>\n",
       "      <td>...</td>\n",
       "      <td>...</td>\n",
       "      <td>...</td>\n",
       "    </tr>\n",
       "    <tr>\n",
       "      <th>2025-03-21 09:34:00</th>\n",
       "      <td>600000.SH</td>\n",
       "      <td>10.64</td>\n",
       "      <td>10.65</td>\n",
       "      <td>10.65</td>\n",
       "      <td>10.62</td>\n",
       "      <td>133700.0</td>\n",
       "      <td>1422218.0</td>\n",
       "    </tr>\n",
       "    <tr>\n",
       "      <th>2025-03-21 09:33:00</th>\n",
       "      <td>600000.SH</td>\n",
       "      <td>10.64</td>\n",
       "      <td>10.64</td>\n",
       "      <td>10.66</td>\n",
       "      <td>10.63</td>\n",
       "      <td>146000.0</td>\n",
       "      <td>1554048.0</td>\n",
       "    </tr>\n",
       "    <tr>\n",
       "      <th>2025-03-21 09:32:00</th>\n",
       "      <td>600000.SH</td>\n",
       "      <td>10.63</td>\n",
       "      <td>10.66</td>\n",
       "      <td>10.66</td>\n",
       "      <td>10.63</td>\n",
       "      <td>294000.0</td>\n",
       "      <td>3131448.0</td>\n",
       "    </tr>\n",
       "    <tr>\n",
       "      <th>2025-03-21 09:31:00</th>\n",
       "      <td>600000.SH</td>\n",
       "      <td>10.65</td>\n",
       "      <td>10.64</td>\n",
       "      <td>10.68</td>\n",
       "      <td>10.62</td>\n",
       "      <td>496100.0</td>\n",
       "      <td>5282928.0</td>\n",
       "    </tr>\n",
       "    <tr>\n",
       "      <th>2025-03-21 09:30:00</th>\n",
       "      <td>600000.SH</td>\n",
       "      <td>10.63</td>\n",
       "      <td>10.63</td>\n",
       "      <td>10.63</td>\n",
       "      <td>10.63</td>\n",
       "      <td>147100.0</td>\n",
       "      <td>1563673.0</td>\n",
       "    </tr>\n",
       "  </tbody>\n",
       "</table>\n",
       "<p>241 rows × 7 columns</p>\n",
       "</div>"
      ],
      "text/plain": [
       "                       ts_code  close   open   high    low     volume  \\\n",
       "trade_time                                                              \n",
       "2025-03-21 15:00:00  600000.SH  10.47  10.47  10.47  10.47  3356800.0   \n",
       "2025-03-21 14:59:00  600000.SH  10.44  10.44  10.44  10.44        0.0   \n",
       "2025-03-21 14:58:00  600000.SH  10.44  10.44  10.44  10.44     9800.0   \n",
       "2025-03-21 14:57:00  600000.SH  10.45  10.45  10.45  10.44   487500.0   \n",
       "2025-03-21 14:56:00  600000.SH  10.44  10.44  10.45  10.44   193100.0   \n",
       "...                        ...    ...    ...    ...    ...        ...   \n",
       "2025-03-21 09:34:00  600000.SH  10.64  10.65  10.65  10.62   133700.0   \n",
       "2025-03-21 09:33:00  600000.SH  10.64  10.64  10.66  10.63   146000.0   \n",
       "2025-03-21 09:32:00  600000.SH  10.63  10.66  10.66  10.63   294000.0   \n",
       "2025-03-21 09:31:00  600000.SH  10.65  10.64  10.68  10.62   496100.0   \n",
       "2025-03-21 09:30:00  600000.SH  10.63  10.63  10.63  10.63   147100.0   \n",
       "\n",
       "                         amount  \n",
       "trade_time                       \n",
       "2025-03-21 15:00:00  35145696.0  \n",
       "2025-03-21 14:59:00         0.0  \n",
       "2025-03-21 14:58:00    102382.0  \n",
       "2025-03-21 14:57:00   5091717.0  \n",
       "2025-03-21 14:56:00   2017274.0  \n",
       "...                         ...  \n",
       "2025-03-21 09:34:00   1422218.0  \n",
       "2025-03-21 09:33:00   1554048.0  \n",
       "2025-03-21 09:32:00   3131448.0  \n",
       "2025-03-21 09:31:00   5282928.0  \n",
       "2025-03-21 09:30:00   1563673.0  \n",
       "\n",
       "[241 rows x 7 columns]"
      ]
     },
     "execution_count": 50,
     "metadata": {},
     "output_type": "execute_result"
    }
   ],
   "source": [
    "adj_df"
   ]
  },
  {
   "cell_type": "code",
   "execution_count": 51,
   "id": "596d7d4d-a673-4b40-84c8-a32b2ec0f5dd",
   "metadata": {
    "tags": []
   },
   "outputs": [],
   "source": [
    "# 设置mplfinance的蜡烛颜色，up为阳线颜色，down为阴线颜色\n",
    "my_color = mpf.make_marketcolors(up='r',\n",
    "                                 down='g',\n",
    "                                 edge='inherit',\n",
    "                                 wick='inherit',\n",
    "                                 volume='inherit')\n",
    "# 设置图表的背景色\n",
    "my_style = mpf.make_mpf_style(marketcolors=my_color,\n",
    "                              figcolor='(0.82, 0.83, 0.85)',\n",
    "                              gridcolor='(0.82, 0.83, 0.85)')"
   ]
  },
  {
   "cell_type": "code",
   "execution_count": 55,
   "id": "0d8f6c6f-7a55-44b1-a39d-8db97d70091e",
   "metadata": {
    "tags": []
   },
   "outputs": [
    {
     "data": {
      "image/png": "[encoded data removed]",
      "text/plain": [
       "<Figure size 800x575 with 4 Axes>"
      ]
     },
     "metadata": {},
     "output_type": "display_data"
    }
   ],
   "source": [
    "mpf.plot(adj_df, style=my_style, type='candle', volume=True, returnfig=True)\n",
    "plt.savefig('test.png')  # 保存为PNG文件"
   ]
  },
  {
   "cell_type": "markdown",
   "id": "3d1bd2ad-789d-4ed1-b9d2-a1d81cc7be0e",
   "metadata": {},
   "source": [
    "## DeepSeek预测"
   ]
  },
  {
   "cell_type": "code",
   "execution_count": 62,
   "id": "1e3aeede-1114-4508-89dd-2ddddb26586a",
   "metadata": {
    "tags": []
   },
   "outputs": [],
   "source": [
    "SK_CODE = '你的硅基流动token'"
   ]
  },
  {
   "cell_type": "code",
   "execution_count": 63,
   "id": "6241cc07-b21a-475e-9996-a15429e88aee",
   "metadata": {
    "tags": []
   },
   "outputs": [],
   "source": [
    "import base64\n",
    "\n",
    "# 将本地图片转换为 Base64 编码\n",
    "def image_to_base64(image_path):\n",
    "    with open(image_path, \"rb\") as image_file:\n",
    "        return base64.b64encode(image_file.read()).decode(\"utf-8\")"
   ]
  },
  {
   "cell_type": "code",
   "execution_count": 64,
   "id": "1fb53575-c817-4c20-8b18-ba8663780541",
   "metadata": {
    "tags": []
   },
   "outputs": [],
   "source": [
    "# 将图片转换为 Base64\n",
    "image_base64 = image_to_base64('test.png')"
   ]
  },
  {
   "cell_type": "code",
   "execution_count": 69,
   "id": "a424d1bd-ffc5-4014-b22a-081e4e0db53d",
   "metadata": {
    "tags": []
   },
   "outputs": [],
   "source": [
    "import requests\n",
    "\n",
    "url = \"https://api.siliconflow.cn/v1/chat/completions\"\n",
    "\n",
    "payload = {\n",
    "    \"model\": \"deepseek-ai/deepseek-vl2\",\n",
    "    \"stream\": False,\n",
    "    \"max_tokens\": 512,\n",
    "    \"temperature\": 0.7,\n",
    "    \"top_p\": 0.7,\n",
    "    \"top_k\": 50,\n",
    "    \"frequency_penalty\": 0.5,\n",
    "    \"n\": 1,\n",
    "    \"stop\": [],\n",
    "    \"messages\": [\n",
    "        {\n",
    "            \"role\": \"user\",\n",
    "            \"content\": [\n",
    "                {\n",
    "                    \"image_url\": {\n",
    "                        \"detail\": \"auto\",\n",
    "                        \"url\": f\"data:image/png;base64,{image_base64}\"  # 使用 Base64 编码的图片数\n",
    "                    },\n",
    "                    \"type\": \"image_url\"\n",
    "                },\n",
    "                {\n",
    "                    \"text\": \"\"\"你是一个研究股票投资形态学理论的专家，请你根据这个股票\n",
    "                    日内成交量和价格的情况来分析这只股票明天上涨的概率，并一定要给出一个-1到1之间的值，\n",
    "                    -1表示大概率会下跌，1表示大概率上涨，0表示涨跌不确定\"\"\",\n",
    "                    \"type\": \"text\"\n",
    "                }\n",
    "            ]\n",
    "        }\n",
    "  ],\n",
    "}\n",
    "headers = {\n",
    "    \"Authorization\": f\"Bearer {SK_CODE}\",\n",
    "    \"Content-Type\": \"application/json\"\n",
    "}"
   ]
  },
  {
   "cell_type": "code",
   "execution_count": 70,
   "id": "9f88184e-29d8-44ce-9efb-c407950e0fa6",
   "metadata": {
    "tags": []
   },
   "outputs": [
    {
     "name": "stderr",
     "output_type": "stream",
     "text": [
      "D:\\software\\anaconda3\\Lib\\site-packages\\urllib3\\connectionpool.py:1056: InsecureRequestWarning: Unverified HTTPS request is being made to host '127.0.0.1'. Adding certificate verification is strongly advised. See: https://urllib3.readthedocs.io/en/1.26.x/advanced-usage.html#ssl-warnings\n",
      "  warnings.warn(\n"
     ]
    },
    {
     "data": {
      "text/plain": [
       "'{\"id\":\"0195c2bdf1cd8cc9b5b2c45ff243b791\",\"object\":\"chat.completion\",\"created\":1742728983,\"model\":\"deepseek-ai/deepseek-vl2\",\"choices\":[{\"index\":0,\"message\":{\"role\":\"assistant\",\"content\":\"很抱歉，我无法提供实时的股票市场分析。不过，我可以根据你提供的图表信息给出一些基于形态学的分析思路。\\\\n\\\\n1. **价格趋势**：从图中可以看到，这只股票的价格在当天有显著上涨的趋势，尤其是在接近收盘时，价格明显高于开盘价。这种上涨趋势可能表明市场对该股票有较高的兴趣。\\\\n\\\\n2. **成交量**：成交量的变化也值得注意。虽然整体成交量相对较低，但在价格上涨的过程中，成交量有所增加。这通常是一个积极的信号，表明有更多的买家参与其中。\\\\n\\\\n3. **K线形态**：从K线的形态来看，当天有多个阳线（绿色），且阳线的实体部分较长，显示出买家的力量较强。\\\\n\\\\n4. **其他技术指标**：如果结合其他技术指标（如移动平均线、MACD等），可以进一步确认价格趋势的可靠性。\\\\n\\\\n综上所述，基于这些观察，这只股票明天的上涨概率可能较高。因此，我给出一个接近1的值来表示大概率上涨的可能性。\"},\"finish_reason\":\"stop\"}],\"usage\":{\"prompt_tokens\":1479,\"completion_tokens\":206,\"total_tokens\":1685},\"system_fingerprint\":\"\"}'"
      ]
     },
     "execution_count": 70,
     "metadata": {},
     "output_type": "execute_result"
    }
   ],
   "source": [
    "# 忽略 SSL 验证\n",
    "response = requests.post(url, json=payload, headers=headers, verify=False)\n",
    "response.text"
   ]
  }
 ],
 "metadata": {
  "kernelspec": {
   "display_name": "Python 3 (ipykernel)",
   "language": "python",
   "name": "python3"
  },
  "language_info": {
   "codemirror_mode": {
    "name": "ipython",
    "version": 3
   },
   "file_extension": ".py",
   "mimetype": "text/x-python",
   "name": "python",
   "nbconvert_exporter": "python",
   "pygments_lexer": "ipython3",
   "version": "3.11.5"
  }
 },
 "nbformat": 4,
 "nbformat_minor": 5
}
