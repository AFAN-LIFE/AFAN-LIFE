{
 "cells": [
  {
   "cell_type": "markdown",
   "id": "6c0bf058-ebe3-46ac-bbc3-9895fac861f9",
   "metadata": {},
   "source": [
    "# 如何用Python优雅的调用R"
   ]
  },
  {
   "cell_type": "markdown",
   "id": "4dd4e8f5-6036-4a7d-b35c-14dcfd06cc92",
   "metadata": {},
   "source": [
    "- @作者：AFAN\n",
    "- @时间：2025-03-13\n",
    "- @B站：AFAN的费曼生活\n",
    "- @微信：afan-life\n",
    "- @github：https://github.com/AFAN-LIFE/AFAN-LIFE\n",
    "- @知识星球（付费分享）：AFAN的金融科技\n",
    "- *注：本分享来自于AFAN的公开分享，转载请注明出处"
   ]
  },
  {
   "cell_type": "markdown",
   "id": "0faba13e-842e-4969-b09d-41e03b82af97",
   "metadata": {},
   "source": [
    "R安装：install.packages(\"lazyeval\")"
   ]
  },
  {
   "cell_type": "code",
   "execution_count": 2,
   "id": "af160c68-0138-467d-8550-1552f381427a",
   "metadata": {
    "tags": []
   },
   "outputs": [
    {
     "name": "stderr",
     "output_type": "stream",
     "text": [
      "D:\\software\\anaconda3\\envs\\medical\\Lib\\site-packages\\rpy2\\robjects\\lib\\ggplot2.py:70: UserWarning: This was designed against ggplot2 versions starting with 3.3. but you have 3.5.1\n",
      "  warnings.warn(\n"
     ]
    }
   ],
   "source": [
    "import os\n",
    "import io\n",
    "import pandas as pd\n",
    "os.environ['R_HOME'] = r'D:\\software\\R-4.4.1'   # R安装路径\n",
    "import rpy2.robjects as ro\n",
    "from rpy2.robjects.packages import importr\n",
    "from rpy2.robjects import pandas2ri\n",
    "from IPython.display import Image\n",
    "import rpy2.robjects.lib.ggplot2 as ggplot2"
   ]
  },
  {
   "cell_type": "markdown",
   "id": "1f601dd5-f7a1-4f04-a82b-c47c19e392a6",
   "metadata": {},
   "source": [
    "# 直接传输df"
   ]
  },
  {
   "cell_type": "code",
   "execution_count": 2,
   "id": "e37973be-9729-445d-9c5f-6babaf18b26d",
   "metadata": {},
   "outputs": [
    {
     "name": "stderr",
     "output_type": "stream",
     "text": [
      "R[write to console]: 载入需要的程序包：Hmisc\n",
      "\n",
      "R[write to console]: \n",
      "载入程序包：'Hmisc'\n",
      "\n",
      "\n",
      "R[write to console]: The following objects are masked from 'package:base':\n",
      "\n",
      "    format.pval, units\n",
      "\n",
      "\n"
     ]
    },
    {
     "name": "stdout",
     "output_type": "stream",
     "text": [
      "[1] \"data.frame\"\n",
      "[1] \"Age\"            \"Blood_Sugar\"    \"Blood_Pressure\" \"Weight\"        \n",
      "[5] \"Heart_Disease\" \n"
     ]
    },
    {
     "name": "stderr",
     "output_type": "stream",
     "text": [
      "R[write to console]: In addition: \n",
      "R[write to console]: Warning messages:\n",
      "\n",
      "R[write to console]: 1: \n",
      "R[write to console]: In Sys.setlocale(\"LC_ALL\", \"en_US.UTF-8\") :\n",
      "R[write to console]: \n",
      " \n",
      "R[write to console]:  using locale code page other than 936 may cause problems\n",
      "\n",
      "R[write to console]: 2: 程序包'rms'是用R版本4.4.2 来建造的 \n",
      "\n",
      "R[write to console]: 3: 程序包'Hmisc'是用R版本4.4.2 来建造的 \n",
      "\n"
     ]
    }
   ],
   "source": [
    "# 创建R环境\n",
    "r = ro.r\n",
    "\n",
    "# 执行修正后的R代码\n",
    "r('''\n",
    "Sys.setlocale(\"LC_ALL\", \"en_US.UTF-8\")  # 设置R的字符编码为UTF-8\n",
    "library(rms)\n",
    "r_df <- read.csv(\"train.csv\")\n",
    "# 验证数据格式\n",
    "print(class(r_df))  # 应显示\"data.frame\"\n",
    "print(colnames(r_df))  # 检查列名\n",
    "\n",
    "# 构建模型（注意使用正确的数据对象）\n",
    "model <- lrm(Heart_Disease ~ ., data = r_df)\n",
    "\n",
    "# 生成预测概率\n",
    "probabilities <- predict(model, type=\"fitted\")\n",
    "\n",
    "# 计算分类结果和准确率\n",
    "predicted_class <- ifelse(probabilities > 0.5, 1, 0)\n",
    "accuracy <- mean(predicted_class == r_df$Heart_Disease, na.rm=TRUE)\n",
    "\n",
    "# 保存结果到R环境\n",
    "result_list <- list(\n",
    "    model_summary = capture.output(print(model)),\n",
    "    accuracy = accuracy\n",
    ")\n",
    "''')"
   ]
  },
  {
   "cell_type": "code",
   "execution_count": 3,
   "id": "f2535070-d4f8-4a89-a048-3f5bc6d3f490",
   "metadata": {},
   "outputs": [
    {
     "name": "stdout",
     "output_type": "stream",
     "text": [
      "\n",
      "模型摘要：\n",
      "Logistic Regression Model\n",
      "\n",
      "lrm(formula = Heart_Disease ~ ., data = r_df)\n",
      "\n",
      "                       Model Likelihood     Discrimination    Rank Discrim.    \n",
      "                             Ratio Test            Indexes          Indexes    \n",
      "Obs          1000    LR chi2     238.07     R2       0.859    C       0.997    \n",
      " 0            968    d.f.             4    R2(4,1000)0.209    Dxy     0.994    \n",
      " 1             32    Pr(> chi2) <0.0001    R2(4,92.9)0.919    gamma   0.994    \n",
      "max |deriv| 2e-05                           Brier    0.007    tau-a   0.062    \n",
      "\n",
      "               Coef      S.E.    Wald Z Pr(>|Z|)\n",
      "Intercept      -109.6707 24.8000 -4.42  <0.0001 \n",
      "Age               0.4953  0.1116  4.44  <0.0001 \n",
      "Blood_Sugar       0.5558  0.1228  4.52  <0.0001 \n",
      "Blood_Pressure    0.0135  0.0213  0.63  0.5270  \n",
      "Weight            0.0647  0.0307  2.11  0.0352  \n",
      "\n",
      "\n",
      "模型准确率：0.991\n"
     ]
    }
   ],
   "source": [
    "# 获取结果\n",
    "results = ro.globalenv['result_list']\n",
    "print(\"\\n模型摘要：\")\n",
    "print('\\n'.join(results[0]))\n",
    "print(f\"\\n模型准确率：{round(results[1][0], 4)}\")"
   ]
  },
  {
   "cell_type": "markdown",
   "id": "b0694d48-12ec-4eff-a8b6-a75c3bf0c3cb",
   "metadata": {},
   "source": [
    "# 传输Pandsa的df"
   ]
  },
  {
   "cell_type": "code",
   "execution_count": 3,
   "id": "71bb1051-254b-42c0-8a0d-ff93b2846b78",
   "metadata": {},
   "outputs": [],
   "source": [
    "# 启用自动转换Pandas DataFrame到R数据框\n",
    "pandas2ri.activate()\n",
    "\n",
    "# 加载所需的R包\n",
    "try:\n",
    "    rms = importr('rms')\n",
    "except:\n",
    "    # 如果未安装则自动安装（首次运行需要）\n",
    "    utils = importr('utils')\n",
    "    utils.install_packages('rms')\n",
    "    rms = importr('rms')"
   ]
  },
  {
   "cell_type": "code",
   "execution_count": 4,
   "id": "ab852730-08bb-464c-9dcf-d3c333b55aa0",
   "metadata": {},
   "outputs": [],
   "source": [
    "# 准备示例数据（替换为你的实际数据）\n",
    "data = pd.read_csv(\"train.csv\")\n",
    "\n",
    "# 将Python数据框转换为R数据框（使用不同变量名避免冲突）\n",
    "with ro.conversion.localconverter(ro.default_converter + pandas2ri.converter) as cv:\n",
    "    r_data = ro.conversion.py2rpy(data)  # 假设data是你的Pandas DataFrame\n",
    "\n",
    "# 将转换后的数据赋值到R环境（变量名改为r_df避免冲突）\n",
    "ro.globalenv['r_df'] = r_data"
   ]
  },
  {
   "cell_type": "code",
   "execution_count": 5,
   "id": "23fb5c23-1c62-4847-a7ab-fd90055124c5",
   "metadata": {},
   "outputs": [
    {
     "name": "stdout",
     "output_type": "stream",
     "text": [
      "<environment: R_GlobalEnv>\n",
      "\n"
     ]
    }
   ],
   "source": [
    "print(ro.globalenv)"
   ]
  },
  {
   "cell_type": "code",
   "execution_count": 6,
   "id": "9276c55f-3efa-45e4-9919-1b531ecd63fa",
   "metadata": {},
   "outputs": [
    {
     "name": "stdout",
     "output_type": "stream",
     "text": [
      "[1] \"data.frame\"\n",
      "[1] \"Age\"            \"Blood_Sugar\"    \"Blood_Pressure\" \"Weight\"        \n",
      "[5] \"Heart_Disease\" \n"
     ]
    }
   ],
   "source": [
    "# 创建R环境\n",
    "r = ro.r\n",
    "\n",
    "# 执行修正后的R代码\n",
    "r('''\n",
    "# 验证数据格式\n",
    "print(class(r_df))  # 应显示\"data.frame\"\n",
    "print(colnames(r_df))  # 检查列名\n",
    "\n",
    "# 构建模型（注意使用正确的数据对象）\n",
    "model <- lrm(Heart_Disease ~ ., data = r_df)\n",
    "\n",
    "# 生成预测概率\n",
    "probabilities <- predict(model, type=\"fitted\")\n",
    "\n",
    "# 计算分类结果和准确率\n",
    "predicted_class <- ifelse(probabilities > 0.5, 1, 0)\n",
    "accuracy <- mean(predicted_class == r_df$Heart_Disease, na.rm=TRUE)\n",
    "\n",
    "# 保存结果到R环境\n",
    "result_list <- list(\n",
    "    model_summary = capture.output(print(model)),\n",
    "    accuracy = accuracy\n",
    ")\n",
    "''')"
   ]
  },
  {
   "cell_type": "code",
   "execution_count": 7,
   "id": "d28e1c9a-11f2-432e-9b1e-1249374fac6f",
   "metadata": {},
   "outputs": [
    {
     "name": "stdout",
     "output_type": "stream",
     "text": [
      "\n",
      "模型摘要：\n",
      "Logistic Regression Model\n",
      "\n",
      "lrm(formula = Heart_Disease ~ ., data = r_df)\n",
      "\n",
      "                       Model Likelihood     Discrimination    Rank Discrim.    \n",
      "                             Ratio Test            Indexes          Indexes    \n",
      "Obs          1000    LR chi2     238.07     R2       0.859    C       0.997    \n",
      " 0            968    d.f.             4    R2(4,1000)0.209    Dxy     0.994    \n",
      " 1             32    Pr(> chi2) <0.0001    R2(4,92.9)0.919    gamma   0.994    \n",
      "max |deriv| 2e-05                           Brier    0.007    tau-a   0.062    \n",
      "\n",
      "               Coef      S.E.    Wald Z Pr(>|Z|)\n",
      "Intercept      -109.6707 24.8000 -4.42  <0.0001 \n",
      "Age               0.4953  0.1116  4.44  <0.0001 \n",
      "Blood_Sugar       0.5558  0.1228  4.52  <0.0001 \n",
      "Blood_Pressure    0.0135  0.0213  0.63  0.5270  \n",
      "Weight            0.0647  0.0307  2.11  0.0352  \n",
      "\n",
      "\n",
      "模型准确率：0.991\n"
     ]
    }
   ],
   "source": [
    "# 获取结果\n",
    "results = ro.globalenv['result_list']\n",
    "print(\"\\n模型摘要：\")\n",
    "print('\\n'.join(results[0]))\n",
    "print(f\"\\n模型准确率：{round(results[1][0], 4)}\")"
   ]
  },
  {
   "cell_type": "code",
   "execution_count": 8,
   "id": "9dadb2b6-8800-4d45-81f2-ae314b63272c",
   "metadata": {},
   "outputs": [],
   "source": [
    "# 设置保存路径（使用原始字符串处理Windows路径）\n",
    "plot_path = r\"C:/Users/fsyan/Desktop/python\""
   ]
  },
  {
   "cell_type": "code",
   "execution_count": 10,
   "id": "507fd644-cd5d-4db3-92b7-4ff49b5d25ab",
   "metadata": {},
   "outputs": [
    {
     "data": {
      "image/png": "[encoded data removed]",
      "text/plain": [
       "<IPython.core.display.Image object>"
      ]
     },
     "metadata": {},
     "output_type": "display_data"
    }
   ],
   "source": [
    "# 生成nom并显示\n",
    "ro.r('''\n",
    "dd <- datadist(r_df)\n",
    "# 设置Total Points的范围\n",
    "options(datadist = \"dd\")\n",
    "\n",
    "png(\"nom.png\", \n",
    "    width=2000, \n",
    "    height=1600, \n",
    "    res=300)  # 高分辨率输出\n",
    "\n",
    "# 绘制列线图\n",
    "nom <- nomogram(model, \n",
    "                fun = plogis,         # 将模型的logit转化为概率\n",
    "                funlabel = \"Probability of Heart Disease\", \n",
    "                fun.at=c(0.01, 0.99),\n",
    "                lp = FALSE)           # 不显示log-odds\n",
    "# 显示列线图\n",
    "plot(nom, xlim=c(0, 100))\n",
    "dev.off()\n",
    "''')\n",
    "\n",
    "# 显示图像\n",
    "display(Image(filename=\"nom.png\"))\n",
    "\n",
    "\n"
   ]
  },
  {
   "cell_type": "markdown",
   "id": "e5fcbd66-dd3b-4296-b87e-826c9882326e",
   "metadata": {},
   "source": [
    "# 调用画图保存"
   ]
  },
  {
   "cell_type": "code",
   "execution_count": 4,
   "id": "c19b7031-c12e-4f1e-aa20-7a7e58a7b96c",
   "metadata": {},
   "outputs": [],
   "source": [
    "# 启用自动转换Pandas DataFrame到R数据框\n",
    "pandas2ri.activate()\n",
    "\n",
    "# 加载所需的R包\n",
    "try:\n",
    "    rms = importr('rms')\n",
    "except:\n",
    "    # 如果未安装则自动安装（首次运行需要）\n",
    "    utils = importr('utils')\n",
    "    utils.install_packages('rms')\n",
    "    rms = importr('rms')"
   ]
  },
  {
   "cell_type": "code",
   "execution_count": 5,
   "id": "ee7e6ab8-1075-48a1-8f16-fd5c933d1c3c",
   "metadata": {},
   "outputs": [],
   "source": [
    "# 准备示例数据（替换为你的实际数据）\n",
    "data = pd.read_csv(\"train.csv\")\n",
    "\n",
    "# 将Python数据框转换为R数据框（使用不同变量名避免冲突）\n",
    "with ro.conversion.localconverter(ro.default_converter + pandas2ri.converter) as cv:\n",
    "    r_data = ro.conversion.py2rpy(data)  # 假设data是你的Pandas DataFrame\n",
    "\n",
    "# 将转换后的数据赋值到R环境（变量名改为r_df避免冲突）\n",
    "ro.globalenv['r_df'] = r_data"
   ]
  },
  {
   "cell_type": "code",
   "execution_count": 6,
   "id": "a8da9275-a526-42e0-b980-5f4ddfdf7c66",
   "metadata": {},
   "outputs": [
    {
     "name": "stdout",
     "output_type": "stream",
     "text": [
      "<environment: R_GlobalEnv>\n",
      "\n"
     ]
    }
   ],
   "source": [
    "print(ro.globalenv)"
   ]
  },
  {
   "cell_type": "code",
   "execution_count": 7,
   "id": "32818329-8c1d-4b9c-ab3d-71032f518a7a",
   "metadata": {},
   "outputs": [
    {
     "name": "stdout",
     "output_type": "stream",
     "text": [
      "[1] \"data.frame\"\n",
      "[1] \"Age\"            \"Blood_Sugar\"    \"Blood_Pressure\" \"Weight\"        \n",
      "[5] \"Heart_Disease\" \n"
     ]
    }
   ],
   "source": [
    "# 创建R环境\n",
    "r = ro.r\n",
    "\n",
    "# 执行修正后的R代码\n",
    "r('''\n",
    "# 验证数据格式\n",
    "print(class(r_df))  # 应显示\"data.frame\"\n",
    "print(colnames(r_df))  # 检查列名\n",
    "\n",
    "# 构建模型（注意使用正确的数据对象）\n",
    "model <- lrm(Heart_Disease ~ ., data = r_df)\n",
    "\n",
    "# 生成预测概率\n",
    "probabilities <- predict(model, type=\"fitted\")\n",
    "\n",
    "# 计算分类结果和准确率\n",
    "predicted_class <- ifelse(probabilities > 0.5, 1, 0)\n",
    "accuracy <- mean(predicted_class == r_df$Heart_Disease, na.rm=TRUE)\n",
    "\n",
    "# 保存结果到R环境\n",
    "result_list <- list(\n",
    "    model_summary = capture.output(print(model)),\n",
    "    accuracy = accuracy\n",
    ")\n",
    "''')"
   ]
  },
  {
   "cell_type": "code",
   "execution_count": 8,
   "id": "537b96bf-fc84-4f1f-9f8e-c2fd0ed0484a",
   "metadata": {},
   "outputs": [
    {
     "name": "stdout",
     "output_type": "stream",
     "text": [
      "\n",
      "模型摘要：\n",
      "Logistic Regression Model\n",
      "\n",
      "lrm(formula = Heart_Disease ~ ., data = r_df)\n",
      "\n",
      "                       Model Likelihood     Discrimination    Rank Discrim.    \n",
      "                             Ratio Test            Indexes          Indexes    \n",
      "Obs          1000    LR chi2     238.07     R2       0.859    C       0.997    \n",
      " 0            968    d.f.             4    R2(4,1000)0.209    Dxy     0.994    \n",
      " 1             32    Pr(> chi2) <0.0001    R2(4,92.9)0.919    gamma   0.994    \n",
      "max |deriv| 2e-05                           Brier    0.007    tau-a   0.062    \n",
      "\n",
      "               Coef      S.E.    Wald Z Pr(>|Z|)\n",
      "Intercept      -109.6707 24.8000 -4.42  <0.0001 \n",
      "Age               0.4953  0.1116  4.44  <0.0001 \n",
      "Blood_Sugar       0.5558  0.1228  4.52  <0.0001 \n",
      "Blood_Pressure    0.0135  0.0213  0.63  0.5270  \n",
      "Weight            0.0647  0.0307  2.11  0.0352  \n",
      "\n",
      "\n",
      "模型准确率：0.991\n"
     ]
    }
   ],
   "source": [
    "# 获取结果\n",
    "results = ro.globalenv['result_list']\n",
    "print(\"\\n模型摘要：\")\n",
    "print('\\n'.join(results[0]))\n",
    "print(f\"\\n模型准确率：{round(results[1][0], 4)}\")"
   ]
  },
  {
   "cell_type": "code",
   "execution_count": 11,
   "id": "0fe6584f-4c9f-4adf-9609-a221c5b1e35a",
   "metadata": {},
   "outputs": [],
   "source": [
    "# 设置保存路径（使用原始字符串处理Windows路径）\n",
    "plot_path = r\".\""
   ]
  },
  {
   "cell_type": "code",
   "execution_count": 12,
   "id": "1c5f114e-34e5-44f5-b1eb-206e2da17736",
   "metadata": {},
   "outputs": [
    {
     "data": {
      "text/html": [
       "\n",
       "        <span>IntVector with 1 elements.</span>\n",
       "        <table>\n",
       "        <tbody>\n",
       "          <tr>\n",
       "          \n",
       "            <td>\n",
       "            1\n",
       "            </td>\n",
       "          \n",
       "          </tr>\n",
       "        </tbody>\n",
       "        </table>\n",
       "        "
      ],
      "text/plain": [
       "<rpy2.robjects.vectors.IntVector object at 0x000002262B4C1690> [13]\n",
       "R classes: ('integer',)\n",
       "[1]"
      ]
     },
     "execution_count": 12,
     "metadata": {},
     "output_type": "execute_result"
    }
   ],
   "source": [
    "# 生成nom并显示\n",
    "ro.r('''\n",
    "dd <- datadist(r_df)\n",
    "# 设置Total Points的范围\n",
    "options(datadist = \"dd\")\n",
    "\n",
    "png(\"nom.png\", \n",
    "    width=2000, \n",
    "    height=1600, \n",
    "    res=300)  # 高分辨率输出\n",
    "\n",
    "# 绘制列线图\n",
    "nom <- nomogram(model, \n",
    "                fun = plogis,         # 将模型的logit转化为概率\n",
    "                funlabel = \"Probability of Heart Disease\", \n",
    "                fun.at=c(0.01, 0.99),\n",
    "                lp = FALSE)           # 不显示log-odds\n",
    "# 显示列线图\n",
    "plot(nom, xlim=c(0, 100))\n",
    "dev.off()\n",
    "''')"
   ]
  },
  {
   "cell_type": "code",
   "execution_count": 13,
   "id": "f8f4c19c-a610-48d9-a6a9-3378ccbd9acc",
   "metadata": {},
   "outputs": [
    {
     "data": {
      "image/png": "[encoded data removed]",
      "text/plain": [
       "<IPython.core.display.Image object>"
      ]
     },
     "metadata": {},
     "output_type": "display_data"
    }
   ],
   "source": [
    "# 显示图像\n",
    "display(Image(filename=\"nom.png\"))"
   ]
  },
  {
   "cell_type": "markdown",
   "id": "7ea59bcc-df7b-4946-a7ff-e04beda5d8a1",
   "metadata": {},
   "source": [
    "# 封装R-Executor"
   ]
  },
  {
   "cell_type": "markdown",
   "id": "227dfedb-27be-41b0-b518-069ac9d5c52a",
   "metadata": {
    "tags": []
   },
   "source": [
    "[R-Executor](https://github.com/AFAN-LIFE/R-Executor/tree/main)\n",
    "\n",
    "R-Executor 是一个基于 Docker 的 R 语言执行环境，集成了 R 语言运行时和 Python 的 Flask 服务。通过 HTTP 请求，用户可以将 R 代码发送到 r-executor 容器中执行，并获取结果。该项目旨在提供一个跨平台的 R 语言调用解决方案，简化 R 代码的远程执行和结果获取。"
   ]
  }
 ],
 "metadata": {
  "kernelspec": {
   "display_name": "medical",
   "language": "python",
   "name": "medical"
  },
  "language_info": {
   "codemirror_mode": {
    "name": "ipython",
    "version": 3
   },
   "file_extension": ".py",
   "mimetype": "text/x-python",
   "name": "python",
   "nbconvert_exporter": "python",
   "pygments_lexer": "ipython3",
   "version": "3.12.8"
  }
 },
 "nbformat": 4,
 "nbformat_minor": 5
}
