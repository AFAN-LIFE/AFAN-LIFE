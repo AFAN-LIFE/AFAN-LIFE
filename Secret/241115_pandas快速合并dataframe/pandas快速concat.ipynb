{
 "cells": [
  {
   "cell_type": "markdown",
   "id": "230bba12-ab51-4c1d-95da-47d3a2b69674",
   "metadata": {},
   "source": [
    "# polars读取大csv文件"
   ]
  },
  {
   "cell_type": "markdown",
   "id": "9386b3a7-c804-4a93-bd6c-906eadd13c81",
   "metadata": {},
   "source": [
    "- @作者：AFAN\n",
    "- @时间：2024-11-16\n",
    "- @B站：AFAN的费曼生活\n",
    "- @微信：afan-life\n",
    "- @github：https://github.com/AFAN-LIFE/AFAN-LIFE\n",
    "- @知识星球（付费分享）：AFAN的金融科技\n",
    "- *注：本分享来自于AFAN的公开分享，转载请注明出处"
   ]
  },
  {
   "cell_type": "markdown",
   "id": "1c50e206-4022-4437-9ef5-e70eff53e88d",
   "metadata": {},
   "source": [
    "## 中型文件时间测试"
   ]
  },
  {
   "cell_type": "code",
   "execution_count": null,
   "id": "bbb232a9-670f-453b-8dba-d7593d626ef2",
   "metadata": {},
   "outputs": [],
   "source": [
    "import time\n",
    "import pandas as pd\n",
    "a = time.time()\n",
    "data = pd.read_csv('machine1.csv')\n",
    "b = time.time()\n",
    "print(b - a)"
   ]
  },
  {
   "cell_type": "code",
   "execution_count": null,
   "id": "c2024fff-801e-40e2-92b0-6f9b0c3e7b83",
   "metadata": {},
   "outputs": [],
   "source": [
    "import time\n",
    "import polars as pl\n",
    "a = time.time()\n",
    "data = pl.read_csv('machine1.csv')\n",
    "b = time.time()\n",
    "print(b - a)"
   ]
  },
  {
   "cell_type": "markdown",
   "id": "9c121520-4d36-47ef-820a-8e42a3179fb6",
   "metadata": {},
   "source": [
    "## 大型文件内存测试"
   ]
  },
  {
   "cell_type": "code",
   "execution_count": null,
   "id": "3f05c0ef-9307-4540-b157-615fccc31738",
   "metadata": {},
   "outputs": [],
   "source": [
    "import time\n",
    "import pandas as pd\n",
    "a = time.time()\n",
    "data = pd.read_csv('big_machine.csv')\n",
    "b = time.time()\n",
    "print(b - a)"
   ]
  },
  {
   "cell_type": "code",
   "execution_count": null,
   "id": "c13b5a99-8a9a-4dba-8c55-77dad1009795",
   "metadata": {},
   "outputs": [],
   "source": [
    "import time\n",
    "import polars as pl\n",
    "a = time.time()\n",
    "data = pl.read_csv('big_machine.csv')\n",
    "b = time.time()\n",
    "print(b - a)"
   ]
  },
  {
   "cell_type": "markdown",
   "id": "f77eca1b-ca46-406a-b17c-61919f43d057",
   "metadata": {},
   "source": [
    "## 筛选后转dataframe"
   ]
  },
  {
   "cell_type": "code",
   "execution_count": null,
   "id": "8351e552-92a9-4ba7-8b3e-6548c45eeeac",
   "metadata": {},
   "outputs": [],
   "source": [
    "import time\n",
    "import polars as pl\n",
    "a = time.time()\n",
    "data = pl.read_csv('big_machine.csv')\n",
    "b = time.time()\n",
    "print(b - a)\n",
    "data = data.with_columns(\n",
    "    pl.col(\"时间\").str.strptime(pl.Datetime, \"%Y-%m-%d %H:%M:%S\").alias(\"时间\")\n",
    ")\n",
    "# 定义筛选日期的范围\n",
    "start_date = pl.datetime(2023, 1, 1)\n",
    "end_date = pl.datetime(2023, 2, 10)\n",
    "# 筛选时间范围内的数据\n",
    "filtered_data = data.filter(\n",
    "    (pl.col(\"时间\") >= start_date) & (pl.col(\"时间\") <= end_date)\n",
    ")\n",
    "filtered_data.to_pandas()\n",
    "c = time.time()\n",
    "print(c - b)"
   ]
  }
 ],
 "metadata": {
  "kernelspec": {
   "display_name": "Python 3 (ipykernel)",
   "language": "python",
   "name": "python3"
  },
  "language_info": {
   "codemirror_mode": {
    "name": "ipython",
    "version": 3
   },
   "file_extension": ".py",
   "mimetype": "text/x-python",
   "name": "python",
   "nbconvert_exporter": "python",
   "pygments_lexer": "ipython3",
   "version": "3.11.5"
  }
 },
 "nbformat": 4,
 "nbformat_minor": 5
}
