{
 "cells": [
  {
   "cell_type": "markdown",
   "id": "f404272a-b65e-42d1-9160-e76c8fe7b6d3",
   "metadata": {
    "tags": []
   },
   "source": [
    "# function call调取"
   ]
  },
  {
   "cell_type": "markdown",
   "id": "a1f2d1cf-dbf6-43d1-8dc5-4e7d7407a6e2",
   "metadata": {},
   "source": [
    "- @作者：AFAN\n",
    "- @时间：2025-03-23\n",
    "- @B站：[AFAN的金融科技](https://space.bilibili.com/1020711810)\n",
    "- @公众号：[AFAN Fintech（点击通过文章关注）](https://mp.weixin.qq.com/s/f1Om7j9jndkqhlyfyqrgOw)\n",
    "- @微信：afan-life\n",
    "- @github：https://github.com/AFAN-LIFE/AFAN-LIFE\n",
    "- @知识星球（付费分享）：[AFAN的金融科技](https://wx.zsxq.com/group/88885818554422)\n",
    "- *注：本分享来自于AFAN的公开分享，转载请注明出处"
   ]
  },
  {
   "cell_type": "code",
   "execution_count": 53,
   "id": "9fb6fc05-afdf-4673-8287-68388d72e370",
   "metadata": {
    "tags": []
   },
   "outputs": [],
   "source": [
    "SK_CODE = '你的token'"
   ]
  },
  {
   "cell_type": "markdown",
   "id": "03b75b55-8b09-4f79-8a45-6172aba19b73",
   "metadata": {},
   "source": [
    "# 函数定义"
   ]
  },
  {
   "cell_type": "code",
   "execution_count": 54,
   "id": "123c11a4-02a4-4984-a399-60cb08759935",
   "metadata": {
    "tags": []
   },
   "outputs": [],
   "source": [
    "def get_current_weather(location: str, unit: str = \"摄氏度\"):\n",
    "    \"\"\"获取指定地点的当前天气信息\n",
    "    \n",
    "    参数:\n",
    "        地点 (str): 城市名称，例如：\"北京\"\n",
    "        温度单位 (str): 温度单位，可选\"摄氏度\"或\"华氏度\"\n",
    "    \n",
    "    返回:\n",
    "        dict: 包含天气信息的字典\n",
    "    \"\"\"\n",
    "    weather_data = {\n",
    "        \"location\": location,\n",
    "        \"temperature\": \"25\",\n",
    "        \"unit\": unit,\n",
    "        \"forecast\": \"sunny\",\n",
    "        \"humidity\": 65,\n",
    "    }\n",
    "    return weather_data"
   ]
  },
  {
   "cell_type": "markdown",
   "id": "13d44885-b781-4226-866f-fe4ef9ac9ecc",
   "metadata": {},
   "source": [
    "# 用户提问"
   ]
  },
  {
   "cell_type": "code",
   "execution_count": 55,
   "id": "a61f6e52-8123-46aa-aa0b-c009174aa1c8",
   "metadata": {
    "tags": []
   },
   "outputs": [],
   "source": [
    "messages = [\n",
    "        {\n",
    "            \"role\": \"user\",\n",
    "            \"content\": \"南京今天的天气如何？\"\n",
    "        }\n",
    "]"
   ]
  },
  {
   "cell_type": "markdown",
   "id": "c7d4e138-7620-42e3-bd92-c79273d07bd4",
   "metadata": {},
   "source": [
    "# 函数注册"
   ]
  },
  {
   "cell_type": "code",
   "execution_count": 56,
   "id": "ebddba20-d683-47eb-9576-95f09ff1ea01",
   "metadata": {
    "tags": []
   },
   "outputs": [],
   "source": [
    "import requests\n",
    "\n",
    "url = \"https://api.siliconflow.cn/v1/chat/completions\"\n",
    "\n",
    "payload = {\n",
    "    \"model\": \"deepseek-ai/DeepSeek-V3\",\n",
    "    \"messages\": messages,\n",
    "    \"tools\": [\n",
    "        {\n",
    "            'type': 'function',\n",
    "            'function': {\n",
    "                'name': 'get_current_weather',\n",
    "                'description': '获取指定城市的当前天气信息，包括温度、天气状况和湿度等',\n",
    "                'parameters': {\n",
    "                    'type': 'object',\n",
    "                    'properties': {\n",
    "                        'location': {\n",
    "                            'type': 'string',\n",
    "                            'description': '城市名称，例如：北京、上海',\n",
    "                        },\n",
    "                        'unit': {\n",
    "                            'type': 'string', \n",
    "                            'enum': ['摄氏度', '华氏度'],\n",
    "                            'description': '温度显示使用的单位'\n",
    "                        },\n",
    "                    },\n",
    "                    'required': ['location'],\n",
    "                },\n",
    "            }\n",
    "        }\n",
    "    ],\n",
    "    \"tool_choice\": \"auto\",  # 自动选择是否调用工具\n",
    "}"
   ]
  },
  {
   "cell_type": "code",
   "execution_count": 57,
   "id": "0167544c-0039-4da2-97b8-4cc34b01a6b4",
   "metadata": {
    "tags": []
   },
   "outputs": [
    {
     "name": "stderr",
     "output_type": "stream",
     "text": [
      "D:\\software\\anaconda3\\Lib\\site-packages\\urllib3\\connectionpool.py:1056: InsecureRequestWarning: Unverified HTTPS request is being made to host '127.0.0.1'. Adding certificate verification is strongly advised. See: https://urllib3.readthedocs.io/en/1.26.x/advanced-usage.html#ssl-warnings\n",
      "  warnings.warn(\n"
     ]
    }
   ],
   "source": [
    "headers = {\n",
    "    \"Authorization\": f\"Bearer {SK_CODE}\",\n",
    "    \"Content-Type\": \"application/json\"\n",
    "}\n",
    "\n",
    "# 忽略 SSL 验证\n",
    "response = requests.post(url, json=payload, headers=headers, verify=False)"
   ]
  },
  {
   "cell_type": "markdown",
   "id": "fe62c1e9-295d-42fa-8388-15e5a0bedaec",
   "metadata": {},
   "source": [
    "# 函数触发"
   ]
  },
  {
   "cell_type": "code",
   "execution_count": 58,
   "id": "8749caf9-527b-4ca4-a7b9-23fc31ecca4e",
   "metadata": {
    "tags": []
   },
   "outputs": [
    {
     "data": {
      "text/plain": [
       "'{\"id\":\"0195d76c475baca627514137a92acbc9\",\"object\":\"chat.completion\",\"created\":1743075953,\"model\":\"deepseek-ai/DeepSeek-V3\",\"choices\":[{\"index\":0,\"message\":{\"role\":\"assistant\",\"content\":\"\",\"tool_calls\":[{\"id\":\"0195d76c55607eadef10d16fa0550d64\",\"type\":\"function\",\"function\":{\"name\":\"get_current_weather\",\"arguments\":\"{\\\\\"location\\\\\":\\\\\"南京\\\\\",\\\\\"unit\\\\\":\\\\\"摄氏度\\\\\"}\"}}]},\"finish_reason\":\"tool_calls\"}],\"usage\":{\"prompt_tokens\":127,\"completion_tokens\":24,\"total_tokens\":151},\"system_fingerprint\":\"\"}'"
      ]
     },
     "execution_count": 58,
     "metadata": {},
     "output_type": "execute_result"
    }
   ],
   "source": [
    "response.text"
   ]
  },
  {
   "cell_type": "code",
   "execution_count": 59,
   "id": "7dddce88-6e43-4f55-bb7b-905a36bcc748",
   "metadata": {
    "tags": []
   },
   "outputs": [
    {
     "data": {
      "text/plain": [
       "{'role': 'assistant',\n",
       " 'content': '',\n",
       " 'tool_calls': [{'id': '0195d76c55607eadef10d16fa0550d64',\n",
       "   'type': 'function',\n",
       "   'function': {'name': 'get_current_weather',\n",
       "    'arguments': '{\"location\":\"南京\",\"unit\":\"摄氏度\"}'}}]}"
      ]
     },
     "execution_count": 59,
     "metadata": {},
     "output_type": "execute_result"
    }
   ],
   "source": [
    "import json\n",
    "content_res = json.loads(response.text)['choices'][0]['message']\n",
    "content_res"
   ]
  },
  {
   "cell_type": "markdown",
   "id": "38d6a478-5277-428a-9eeb-e4328812af36",
   "metadata": {},
   "source": [
    "# 函数调用"
   ]
  },
  {
   "cell_type": "code",
   "execution_count": 60,
   "id": "4ba6d939-0253-4dd1-9acd-53fcdf154178",
   "metadata": {
    "tags": []
   },
   "outputs": [
    {
     "data": {
      "text/plain": [
       "{'name': 'get_current_weather', 'arguments': '{\"location\":\"南京\",\"unit\":\"摄氏度\"}'}"
      ]
     },
     "execution_count": 60,
     "metadata": {},
     "output_type": "execute_result"
    }
   ],
   "source": [
    "function_res = json.loads(response.text)['choices'][0]['message']['tool_calls'][0]['function']\n",
    "function_res"
   ]
  },
  {
   "cell_type": "code",
   "execution_count": 61,
   "id": "ec7bfb69-0ec8-4a93-8a21-89e6630b668f",
   "metadata": {
    "tags": []
   },
   "outputs": [
    {
     "data": {
      "text/plain": [
       "{'location': '南京',\n",
       " 'temperature': '25',\n",
       " 'unit': '摄氏度',\n",
       " 'forecast': 'sunny',\n",
       " 'humidity': 65}"
      ]
     },
     "execution_count": 61,
     "metadata": {},
     "output_type": "execute_result"
    }
   ],
   "source": [
    "function_out = eval(f\"{function_res['name']}(**{function_res['arguments']})\")\n",
    "function_out"
   ]
  },
  {
   "cell_type": "markdown",
   "id": "bbf09919-3d48-4126-81d6-33fab9d7be1d",
   "metadata": {},
   "source": [
    "# 结果润色"
   ]
  },
  {
   "cell_type": "code",
   "execution_count": 62,
   "id": "afd3e678-ec1f-4230-b74f-2bcd2eaf5284",
   "metadata": {
    "tags": []
   },
   "outputs": [],
   "source": [
    "messages.append(content_res)\n",
    "messages.append({\n",
    "    'role': 'tool',\n",
    "    'content': f'{function_out}',\n",
    "    'tool_call_id': content_res['tool_calls'][0]['id']\n",
    "})"
   ]
  },
  {
   "cell_type": "code",
   "execution_count": 63,
   "id": "85fb9e90-31a6-4846-92d8-f505e14ac397",
   "metadata": {
    "tags": []
   },
   "outputs": [
    {
     "data": {
      "text/plain": [
       "[{'role': 'user', 'content': '南京今天的天气如何？'},\n",
       " {'role': 'assistant',\n",
       "  'content': '',\n",
       "  'tool_calls': [{'id': '0195d76c55607eadef10d16fa0550d64',\n",
       "    'type': 'function',\n",
       "    'function': {'name': 'get_current_weather',\n",
       "     'arguments': '{\"location\":\"南京\",\"unit\":\"摄氏度\"}'}}]},\n",
       " {'role': 'tool',\n",
       "  'content': \"{'location': '南京', 'temperature': '25', 'unit': '摄氏度', 'forecast': 'sunny', 'humidity': 65}\",\n",
       "  'tool_call_id': '0195d76c55607eadef10d16fa0550d64'}]"
      ]
     },
     "execution_count": 63,
     "metadata": {},
     "output_type": "execute_result"
    }
   ],
   "source": [
    "messages"
   ]
  },
  {
   "cell_type": "code",
   "execution_count": 64,
   "id": "97d1df7a-f387-4803-baf5-04547f3361b9",
   "metadata": {
    "tags": []
   },
   "outputs": [],
   "source": [
    "import requests\n",
    "\n",
    "url = \"https://api.siliconflow.cn/v1/chat/completions\"\n",
    "\n",
    "payload = {\n",
    "    \"model\": \"deepseek-ai/DeepSeek-V3\",\n",
    "    \"messages\": messages,\n",
    "    \"tools\": [\n",
    "        {\n",
    "            'type': 'function',\n",
    "            'function': {\n",
    "                'name': 'get_current_weather',\n",
    "                'description': '获取指定城市的当前天气信息，包括温度、天气状况和湿度等',\n",
    "                'parameters': {\n",
    "                    'type': 'object',\n",
    "                    'properties': {\n",
    "                        'location': {\n",
    "                            'type': 'string',\n",
    "                            'description': '城市名称，例如：北京、上海',\n",
    "                        },\n",
    "                        'unit': {\n",
    "                            'type': 'string', \n",
    "                            'enum': ['摄氏度', '华氏度'],\n",
    "                            'description': '温度显示使用的单位'\n",
    "                        },\n",
    "                    },\n",
    "                    'required': ['location'],\n",
    "                },\n",
    "            }\n",
    "        }\n",
    "    ],\n",
    "    \"tool_choice\": \"auto\",  # 自动选择是否调用工具\n",
    "}"
   ]
  },
  {
   "cell_type": "code",
   "execution_count": 65,
   "id": "f4ae75ea-fbf5-4a14-847c-5d4c215eb8e6",
   "metadata": {
    "tags": []
   },
   "outputs": [
    {
     "name": "stderr",
     "output_type": "stream",
     "text": [
      "D:\\software\\anaconda3\\Lib\\site-packages\\urllib3\\connectionpool.py:1056: InsecureRequestWarning: Unverified HTTPS request is being made to host '127.0.0.1'. Adding certificate verification is strongly advised. See: https://urllib3.readthedocs.io/en/1.26.x/advanced-usage.html#ssl-warnings\n",
      "  warnings.warn(\n"
     ]
    }
   ],
   "source": [
    "headers = {\n",
    "    \"Authorization\": f\"Bearer {SK_CODE}\",\n",
    "    \"Content-Type\": \"application/json\"\n",
    "}\n",
    "\n",
    "# 忽略 SSL 验证\n",
    "response = requests.post(url, json=payload, headers=headers, verify=False)"
   ]
  },
  {
   "cell_type": "code",
   "execution_count": 66,
   "id": "63417be4-c9ca-4ce4-b2aa-1704358b5c47",
   "metadata": {
    "tags": []
   },
   "outputs": [
    {
     "data": {
      "text/plain": [
       "{'id': '0195d76c57237349faa6c9b493e922bf',\n",
       " 'object': 'chat.completion',\n",
       " 'created': 1743075956,\n",
       " 'model': 'deepseek-ai/DeepSeek-V3',\n",
       " 'choices': [{'index': 0,\n",
       "   'message': {'role': 'assistant',\n",
       "    'content': '南京今天的天气晴朗，温度为25摄氏度，湿度为65%。天气较为舒适，适合外出活动。'},\n",
       "   'finish_reason': 'stop'}],\n",
       " 'usage': {'prompt_tokens': 189, 'completion_tokens': 21, 'total_tokens': 210},\n",
       " 'system_fingerprint': ''}"
      ]
     },
     "execution_count": 66,
     "metadata": {},
     "output_type": "execute_result"
    }
   ],
   "source": [
    "json.loads(response.text)"
   ]
  }
 ],
 "metadata": {
  "kernelspec": {
   "display_name": "Python 3 (ipykernel)",
   "language": "python",
   "name": "python3"
  },
  "language_info": {
   "codemirror_mode": {
    "name": "ipython",
    "version": 3
   },
   "file_extension": ".py",
   "mimetype": "text/x-python",
   "name": "python",
   "nbconvert_exporter": "python",
   "pygments_lexer": "ipython3",
   "version": "3.11.5"
  },
  "toc-autonumbering": true
 },
 "nbformat": 4,
 "nbformat_minor": 5
}
