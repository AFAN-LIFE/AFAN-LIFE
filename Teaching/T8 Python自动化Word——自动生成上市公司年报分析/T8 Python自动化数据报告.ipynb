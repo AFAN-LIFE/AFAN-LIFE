{
 "cells": [
  {
   "cell_type": "markdown",
   "id": "277137d1-e28d-4fad-b9cf-996f4fba5e6f",
   "metadata": {},
   "source": [
    "# 前置说明"
   ]
  },
  {
   "cell_type": "markdown",
   "id": "0fb031fd-2528-4fe4-9bbc-b77fb81f6f15",
   "metadata": {},
   "source": [
    "## 环境说明"
   ]
  },
  {
   "cell_type": "markdown",
   "id": "00b7fc0e-ee80-44e4-8306-3388af5b3394",
   "metadata": {},
   "source": [
    "conda版本：https://mirrors.tuna.tsinghua.edu.cn/anaconda/archive/Anaconda3-2021.11-Windows-x86_64.exe\n"
   ]
  },
  {
   "cell_type": "markdown",
   "id": "45cf17da-db34-4cab-ac8f-27fba32b1fe1",
   "metadata": {},
   "source": [
    "python核心包：\n",
    "- python-docx == 0.8.11"
   ]
  },
  {
   "cell_type": "markdown",
   "id": "0600cfd0-09aa-4aaf-9bcb-d0ee2e0aa1ef",
   "metadata": {},
   "source": [
    "## 模板说明"
   ]
  },
  {
   "cell_type": "markdown",
   "id": "f01a3c27-d8c7-46b2-b878-5cd757c2db6b",
   "metadata": {},
   "source": [
    "目的：学习模板，核对数据"
   ]
  },
  {
   "cell_type": "markdown",
   "id": "ac2ac85b-0e37-43fd-99cb-8840e0c259b2",
   "metadata": {},
   "source": [
    "[【国君食品 | 年报点评】贵州茅台：品质突出，价值突显—2021年年报点评](https://mp.weixin.qq.com/s?__biz=MzA3NTM1MTQyMg==&mid=2652905961&idx=1&sn=e81ea78e4dc9dc4138efc9216875392b&chksm=84a555f8b3d2dcee650f9f4887f115004f1f246abe26548db74cf28c1a016da7f1938cba6fb6#rd&cid=2663336533939694)"
   ]
  },
  {
   "cell_type": "markdown",
   "id": "d094bbf5-de0f-4274-b68c-650e75632318",
   "metadata": {},
   "source": [
    "# 数据获取"
   ]
  },
  {
   "cell_type": "markdown",
   "id": "44ce48f8-9668-4bb7-94ea-f2fad3a0fc87",
   "metadata": {},
   "source": [
    "## 爬取数据"
   ]
  },
  {
   "cell_type": "markdown",
   "id": "fa7b54b7-6728-4326-869d-ecfe429e95bf",
   "metadata": {},
   "source": [
    "- 参考B站T7视频，这里获取6年的数据\n",
    "- 强调爬虫可能失效，请大家根据实际情况修改代码，也欢迎热心网友弹幕更正：“202X-XX-XX 爬虫代码失效，我已将调整代码放至评论区”"
   ]
  },
  {
   "cell_type": "code",
   "execution_count": null,
   "id": "b757e2ab-21c3-41bd-80dc-f4fbc84b5721",
   "metadata": {},
   "outputs": [],
   "source": [
    "import json\n",
    "import requests\n",
    "import pandas as pd"
   ]
  },
  {
   "cell_type": "code",
   "execution_count": null,
   "id": "e00d1373-8397-439a-aee2-b1d739c4fe76",
   "metadata": {},
   "outputs": [],
   "source": [
    "# 结合网址去查看\n",
    "zcfz_name2code_dict = {\n",
    "    '股票代码': 'SECUCODE'\n",
    "    ,'股票简称': 'SECURITY_NAME_ABBR'\n",
    "    ,'行业名称': 'INDUSTRY_NAME'\n",
    "    ,'公告日期': 'REPORT_DATE'\n",
    "    ,'总资产': 'TOTAL_ASSETS'\n",
    "    ,'固定资产': 'FIXED_ASSET'\n",
    "    ,'货币资金': 'MONETARYFUNDS'\n",
    "    ,'应收账款': 'ACCOUNTS_RECE'\n",
    "    ,'存货': 'INVENTORY'\n",
    "    ,'总负债': 'TOTAL_LIABILITIES'\n",
    "    ,'应付账款': 'ACCOUNTS_PAYABLE'\n",
    "    ,'预收账款': 'ADVANCE_RECEIVABLES'\n",
    "    ,'所有者权益': 'TOTAL_EQUITY'\n",
    "}\n",
    "zcfz_code2name_dict = {v:k for k,v in zcfz_name2code_dict.items()}"
   ]
  },
  {
   "cell_type": "code",
   "execution_count": null,
   "id": "011907fd-9b45-40cc-a1f3-87f14b2757ba",
   "metadata": {},
   "outputs": [],
   "source": [
    "# 结合网址去查看\n",
    "lrb_name2code_dict = {\n",
    "    '股票代码': 'SECUCODE'\n",
    "    ,'股票简称': 'SECURITY_NAME_ABBR'\n",
    "    ,'行业名称': 'INDUSTRY_NAME'\n",
    "    ,'公告日期': 'REPORT_DATE'\n",
    "    ,'营业收入': 'TOTAL_OPERATE_INCOME'\n",
    "    ,'营业成本': 'OPERATE_COST'\n",
    "    ,'销售费用': 'SALE_EXPENSE'\n",
    "    ,'管理费用': 'MANAGE_EXPENSE'\n",
    "    ,'财务费用': 'FINANCE_EXPENSE'\n",
    "    ,'营业总支出': 'TOTAL_OPERATE_COST'\n",
    "    ,'营业利润': 'OPERATE_PROFIT'\n",
    "    ,'利润总额': 'TOTAL_PROFIT'\n",
    "    ,'所得税费用': 'INCOME_TAX'\n",
    "    ,'净利润': 'OPERATE_INCOME'\n",
    "}\n",
    "lrb_code2name_dict = {v:k for k,v in lrb_name2code_dict.items()}"
   ]
  },
  {
   "cell_type": "code",
   "execution_count": null,
   "id": "8b4001d3-5ab9-4960-978b-499e0bae328f",
   "metadata": {},
   "outputs": [],
   "source": [
    "report_date_list = ['2016-12-31', '2017-12-31', '2018-12-31', '2019-12-31', '2020-12-31', '2021-12-31']\n",
    "pageSize = 500\n",
    "pageNumber_list = range(20) # 不会超过20了"
   ]
  },
  {
   "cell_type": "code",
   "execution_count": null,
   "id": "8491494d-257b-4354-91a3-bf6ddc4d92b1",
   "metadata": {},
   "outputs": [],
   "source": [
    "def get_zcfz_df_v2(api, code2name_dict):\n",
    "    res = json.loads(requests.get(api).text)['result']\n",
    "    if res==None:  # 如果为空就不解析了\n",
    "        return pd.DataFrame([])\n",
    "    zcfz_df = pd.DataFrame(res['data'])\n",
    "    zcfz_df = zcfz_df.loc[:, code2name_dict]\n",
    "    zcfz_df = zcfz_df.rename(columns=code2name_dict)\n",
    "    return zcfz_df"
   ]
  },
  {
   "cell_type": "code",
   "execution_count": null,
   "id": "7368ff8c-6454-4cd9-811d-169752399cbe",
   "metadata": {},
   "outputs": [],
   "source": [
    "def get_lrb_df_v2(api, code2name_dict):\n",
    "    res = json.loads(requests.get(api).text)['result']\n",
    "    if res==None:  # 如果为空就不解析了\n",
    "        return pd.DataFrame([])        \n",
    "    lrb_df = pd.DataFrame(res['data'])\n",
    "    lrb_df = lrb_df.loc[:, code2name_dict]\n",
    "    lrb_df = lrb_df.rename(columns=code2name_dict)\n",
    "    return lrb_df"
   ]
  },
  {
   "cell_type": "code",
   "execution_count": null,
   "id": "6217594e-9575-4115-b840-5c18ebcd10d0",
   "metadata": {},
   "outputs": [],
   "source": [
    "total_zcfz_df = pd.DataFrame([])\n",
    "for REPORT_DATE in report_date_list:\n",
    "    print('开始获取', REPORT_DATE)\n",
    "    for pageNumber in pageNumber_list:\n",
    "            zcfz_api = f'https://datacenter-web.eastmoney.com/api/data/v1/get?&sortColumns=NOTICE_DATE%2CSECURITY_CODE&sortTypes=-1%2C-1&'\\\n",
    "    f'pageSize={pageSize}&pageNumber={pageNumber}&reportName=RPT_DMSK_FN_BALANCE&columns=ALL&filter=(SECURITY_TYPE_CODE+in+(\"058001001\"%2C\"058001008\"))(TRADE_MARKET_CODE!%3D\"069001017\")'\\\n",
    "    f'(REPORT_DATE%3D%27{REPORT_DATE}%27)'\n",
    "            tmp_zcfz_df = get_zcfz_df_v2(zcfz_api, code2name_dict=zcfz_code2name_dict)\n",
    "            if tmp_zcfz_df.shape[0] == 0:\n",
    "                break\n",
    "            else:\n",
    "                if total_zcfz_df.shape[0] == 0:\n",
    "                    total_zcfz_df = tmp_zcfz_df\n",
    "                else:\n",
    "                    total_zcfz_df = pd.concat([total_zcfz_df, tmp_zcfz_df], axis=0)"
   ]
  },
  {
   "cell_type": "code",
   "execution_count": null,
   "id": "4edd5ade-e122-4c66-a7a7-8d0fc9c511a2",
   "metadata": {},
   "outputs": [],
   "source": [
    "total_zcfz_df.shape"
   ]
  },
  {
   "cell_type": "code",
   "execution_count": null,
   "id": "894fafdf-7420-4c3b-9c73-526dc672faf9",
   "metadata": {},
   "outputs": [],
   "source": [
    "total_lrb_df = pd.DataFrame([])\n",
    "for REPORT_DATE in report_date_list:\n",
    "    print('开始获取', REPORT_DATE)\n",
    "    for pageNumber in pageNumber_list:\n",
    "            lrb_api = f'https://datacenter-web.eastmoney.com/api/data/v1/get?sortColumns=NOTICE_DATE%2CSECURITY_CODE&sortTypes=-1%2C-1&'\\\n",
    "f'pageSize={pageSize}&pageNumber={pageNumber}&reportName=RPT_DMSK_FN_INCOME&columns=ALL&filter=(SECURITY_TYPE_CODE+in+(%22058001001%22%2C%22058001008%22))(TRADE_MARKET_CODE!%3D%22069001017%22)'\\\n",
    "f'(REPORT_DATE%3D%27{REPORT_DATE}%27)'\n",
    "            tmp_lrb_df = get_lrb_df_v2(lrb_api, code2name_dict=lrb_code2name_dict)\n",
    "            if tmp_lrb_df.shape[0] == 0:\n",
    "                break\n",
    "            else:\n",
    "                if tmp_lrb_df.shape[0] == 0:\n",
    "                    total_lrb_df = tmp_lrb_df\n",
    "                else:\n",
    "                    total_lrb_df = pd.concat([total_lrb_df, tmp_lrb_df], axis=0)"
   ]
  },
  {
   "cell_type": "code",
   "execution_count": null,
   "id": "88624715-09bc-4153-85a0-b8de37e71fa4",
   "metadata": {},
   "outputs": [],
   "source": [
    "total_lrb_df.shape"
   ]
  },
  {
   "cell_type": "markdown",
   "id": "454f29c2-aa10-475a-8090-e8e140327f1b",
   "metadata": {},
   "source": [
    "## 优化数据"
   ]
  },
  {
   "cell_type": "markdown",
   "id": "3486ed07-0764-421c-af0b-433299d630ee",
   "metadata": {},
   "source": [
    "### 去重拼接"
   ]
  },
  {
   "cell_type": "code",
   "execution_count": null,
   "id": "8b3d2e6c-2e95-4d29-9fe6-c7041a5e7bee",
   "metadata": {},
   "outputs": [],
   "source": [
    "total_zcfz_dropdu_df = total_zcfz_df.drop_duplicates(subset=['公告日期', '股票代码'])\n",
    "total_lrb_dropdu_df = total_lrb_df.drop_duplicates(subset=['公告日期', '股票代码'])"
   ]
  },
  {
   "cell_type": "code",
   "execution_count": null,
   "id": "4a1863bf-9ece-4828-af6c-9d417a0bda2e",
   "metadata": {},
   "outputs": [],
   "source": [
    "total_zcfz_df_index = total_zcfz_dropdu_df.set_index(['公告日期', '股票代码'])\n",
    "total_lrb_df_index = total_lrb_dropdu_df.set_index(['公告日期', '股票代码'])"
   ]
  },
  {
   "cell_type": "code",
   "execution_count": null,
   "id": "71a2464f-3ab4-4d45-ab2c-2f7f1fe288bf",
   "metadata": {},
   "outputs": [],
   "source": [
    "total_df = pd.concat([total_zcfz_df_index, total_lrb_df_index.iloc[:, 2:]], axis=1)"
   ]
  },
  {
   "cell_type": "code",
   "execution_count": null,
   "id": "a6f4bbe2-ea93-4f32-9dbf-3837db009154",
   "metadata": {},
   "outputs": [],
   "source": [
    "total_df.iloc[:2].T"
   ]
  },
  {
   "cell_type": "markdown",
   "id": "eb1d4618-8f41-4ecc-9323-5e9741244fd7",
   "metadata": {},
   "source": [
    "### 修复字段"
   ]
  },
  {
   "cell_type": "code",
   "execution_count": null,
   "id": "336305fc-660c-459e-ab93-27f162ef8cf1",
   "metadata": {},
   "outputs": [],
   "source": [
    "total_df['净利润'] = total_df['利润总额'] - total_df['所得税费用']"
   ]
  },
  {
   "cell_type": "markdown",
   "id": "0165d67d-1be1-4b2d-b54f-69d75bee07a4",
   "metadata": {},
   "source": [
    "### 衍生字段"
   ]
  },
  {
   "cell_type": "markdown",
   "id": "cf609d5a-2049-484e-a070-343d0fa8f3bf",
   "metadata": {},
   "source": [
    "#### 杜邦分析"
   ]
  },
  {
   "cell_type": "code",
   "execution_count": 27,
   "id": "dfead46f-e685-41e4-93f3-86faac0f02ab",
   "metadata": {},
   "outputs": [],
   "source": [
    "total_df['同期资产'] = total_df['总资产'].unstack('股票代码').shift(1).stack('股票代码')\n",
    "total_df['同期权益'] = total_df['所有者权益'].unstack('股票代码').shift(1).stack('股票代码')"
   ]
  },
  {
   "cell_type": "code",
   "execution_count": 28,
   "id": "123fa110-9aac-4054-b5ef-ca14508b7e1f",
   "metadata": {},
   "outputs": [],
   "source": [
    "total_df['净资产收益率'] = total_df['净利润'] / (total_df['所有者权益'] + total_df['同期权益']) * 2\n",
    "total_df['利润率'] = total_df['净利润'] / total_df['营业收入']\n",
    "total_df['资产周转率'] = total_df['营业收入'] / (total_df['总资产'] + total_df['同期资产']) * 2\n",
    "total_df['权益乘数'] = total_df['总资产'] / total_df['所有者权益']\n",
    "\n",
    "total_df['资产负债率'] = total_df['总负债'] / total_df['总资产']"
   ]
  },
  {
   "cell_type": "markdown",
   "id": "3b46a1fb-940a-45a6-a8ca-de73db773c45",
   "metadata": {},
   "source": [
    "#### 毛利率和三费"
   ]
  },
  {
   "cell_type": "code",
   "execution_count": 90,
   "id": "d02eaac5-5a24-4dad-a3ce-c729146d3d13",
   "metadata": {},
   "outputs": [],
   "source": [
    "total_df['毛利率'] = 1 - total_df['营业成本'] / total_df['营业收入']"
   ]
  },
  {
   "cell_type": "code",
   "execution_count": 91,
   "id": "6b9e5cd9-de02-4620-98d8-8549cc32baf7",
   "metadata": {},
   "outputs": [],
   "source": [
    "total_df['销售费用率'] = total_df['销售费用'] / total_df['营业收入']\n",
    "total_df['管理费用率'] = total_df['管理费用'] / total_df['营业收入']\n",
    "total_df['财务费用率'] = total_df['财务费用'] / total_df['营业收入']"
   ]
  },
  {
   "cell_type": "markdown",
   "id": "8fc838fd-bb42-40a5-b620-acf2880b77e6",
   "metadata": {},
   "source": [
    "#### EBIT"
   ]
  },
  {
   "cell_type": "code",
   "execution_count": 201,
   "id": "59e747a1-de35-4a8f-932a-a9168b8caae5",
   "metadata": {},
   "outputs": [],
   "source": [
    "total_df['息税前利润'] = total_df['利润总额'] + total_df['财务费用']"
   ]
  },
  {
   "cell_type": "markdown",
   "id": "574c6b95-50a5-42a9-98e8-e47a2a03d4d5",
   "metadata": {},
   "source": [
    "## 数据导出"
   ]
  },
  {
   "cell_type": "code",
   "execution_count": 284,
   "id": "0c3ad44e-cc6c-487c-b567-be1f68038016",
   "metadata": {},
   "outputs": [],
   "source": [
    "total_df.to_csv('2023-01-08 加工导出.csv')"
   ]
  },
  {
   "cell_type": "markdown",
   "id": "070f2ed3-26b7-441d-b3eb-05797538ff29",
   "metadata": {
    "tags": []
   },
   "source": [
    "# 素材准备"
   ]
  },
  {
   "cell_type": "markdown",
   "id": "98784811-c27e-45b1-b2b5-7aa8ce17c1b2",
   "metadata": {},
   "source": [
    "## 文字准备"
   ]
  },
  {
   "cell_type": "raw",
   "id": "c05b22e2-38c9-491c-b92e-581539c93b94",
   "metadata": {},
   "source": [
    "pip install python-docx==0.8.11 -i https://pypi.douban.com/simple"
   ]
  },
  {
   "cell_type": "markdown",
   "id": "411454f3-0d9f-49da-8962-51d8525b14bf",
   "metadata": {},
   "source": [
    "官网参考：https://python-docx.readthedocs.io/en/latest/#contributor-guide"
   ]
  },
  {
   "cell_type": "markdown",
   "id": "baf3505d-d26c-4d6d-974e-f474c0ab8dea",
   "metadata": {},
   "source": [
    "### 官网demo"
   ]
  },
  {
   "cell_type": "code",
   "execution_count": 30,
   "id": "1a16e692-b353-4bfb-abc8-0cbc0ef215a1",
   "metadata": {},
   "outputs": [],
   "source": [
    "from docx import Document\n",
    "from docx.shared import Inches\n",
    "\n",
    "document = Document()\n",
    "\n",
    "document.add_heading('Document Title', 0)\n",
    "\n",
    "p = document.add_paragraph('A plain paragraph having some ')\n",
    "p.add_run('bold').bold = True\n",
    "p.add_run(' and some ')\n",
    "p.add_run('italic.').italic = True\n",
    "\n",
    "document.add_heading('Heading, level 1', level=1)\n",
    "document.add_paragraph('Intense quote', style='Intense Quote')\n",
    "\n",
    "document.add_paragraph(\n",
    "    'first item in unordered list', style='List Bullet'\n",
    ")\n",
    "document.add_paragraph(\n",
    "    'first item in ordered list', style='List Number'\n",
    ")\n",
    "\n",
    "# document.add_picture('monty-truth.png', width=Inches(1.25))\n",
    "\n",
    "records = (\n",
    "    (3, '101', 'Spam'),\n",
    "    (7, '422', 'Eggs'),\n",
    "    (4, '631', 'Spam, spam, eggs, and spam')\n",
    ")\n",
    "\n",
    "table = document.add_table(rows=1, cols=3)\n",
    "hdr_cells = table.rows[0].cells\n",
    "hdr_cells[0].text = 'Qty'\n",
    "hdr_cells[1].text = 'Id'\n",
    "hdr_cells[2].text = 'Desc'\n",
    "for qty, id, desc in records:\n",
    "    row_cells = table.add_row().cells\n",
    "    row_cells[0].text = str(qty)\n",
    "    row_cells[1].text = id\n",
    "    row_cells[2].text = desc\n",
    "\n",
    "document.add_page_break()\n",
    "\n",
    "document.save('demo.docx')"
   ]
  },
  {
   "cell_type": "markdown",
   "id": "6faff4ff-cdfb-4259-94e7-783cc30630ac",
   "metadata": {},
   "source": [
    "### 获取指定股票数据"
   ]
  },
  {
   "cell_type": "markdown",
   "id": "4b09f2d7-1e52-470d-8177-f95ffb71447e",
   "metadata": {},
   "source": [
    "#### 股票索引"
   ]
  },
  {
   "cell_type": "code",
   "execution_count": 70,
   "id": "5b391aa4-0422-4127-bc08-dbdbb8dcc5a3",
   "metadata": {},
   "outputs": [],
   "source": [
    "# 设定参数\n",
    "stock_id, report_year = '600519.SH', '2021'"
   ]
  },
  {
   "cell_type": "code",
   "execution_count": 92,
   "id": "a0b360b6-18bf-4c89-b687-e8c73a31cfd0",
   "metadata": {},
   "outputs": [],
   "source": [
    "stock_df = total_df.swaplevel().loc[stock_id].sort_index()"
   ]
  },
  {
   "cell_type": "code",
   "execution_count": 93,
   "id": "a0aeff92-0f86-4fb9-ad4c-fa3cfc8430a0",
   "metadata": {},
   "outputs": [
    {
     "data": {
      "text/html": [
       "<div>\n",
       "<style scoped>\n",
       "    .dataframe tbody tr th:only-of-type {\n",
       "        vertical-align: middle;\n",
       "    }\n",
       "\n",
       "    .dataframe tbody tr th {\n",
       "        vertical-align: top;\n",
       "    }\n",
       "\n",
       "    .dataframe thead th {\n",
       "        text-align: right;\n",
       "    }\n",
       "</style>\n",
       "<table border=\"1\" class=\"dataframe\">\n",
       "  <thead>\n",
       "    <tr style=\"text-align: right;\">\n",
       "      <th></th>\n",
       "      <th>股票简称</th>\n",
       "      <th>行业名称</th>\n",
       "      <th>总资产</th>\n",
       "      <th>固定资产</th>\n",
       "      <th>货币资金</th>\n",
       "      <th>应收账款</th>\n",
       "      <th>存货</th>\n",
       "      <th>总负债</th>\n",
       "      <th>应付账款</th>\n",
       "      <th>预收账款</th>\n",
       "      <th>...</th>\n",
       "      <th>同期权益</th>\n",
       "      <th>净资产收益率</th>\n",
       "      <th>利润率</th>\n",
       "      <th>资产周转率</th>\n",
       "      <th>权益乘数</th>\n",
       "      <th>资产负债率</th>\n",
       "      <th>毛利率</th>\n",
       "      <th>销售费用率</th>\n",
       "      <th>管理费用率</th>\n",
       "      <th>财务费用率</th>\n",
       "    </tr>\n",
       "    <tr>\n",
       "      <th>公告日期</th>\n",
       "      <th></th>\n",
       "      <th></th>\n",
       "      <th></th>\n",
       "      <th></th>\n",
       "      <th></th>\n",
       "      <th></th>\n",
       "      <th></th>\n",
       "      <th></th>\n",
       "      <th></th>\n",
       "      <th></th>\n",
       "      <th></th>\n",
       "      <th></th>\n",
       "      <th></th>\n",
       "      <th></th>\n",
       "      <th></th>\n",
       "      <th></th>\n",
       "      <th></th>\n",
       "      <th></th>\n",
       "      <th></th>\n",
       "      <th></th>\n",
       "      <th></th>\n",
       "    </tr>\n",
       "  </thead>\n",
       "  <tbody>\n",
       "    <tr>\n",
       "      <th>2016-12-31 00:00:00</th>\n",
       "      <td>贵州茅台</td>\n",
       "      <td>酿酒行业</td>\n",
       "      <td>1.129345e+11</td>\n",
       "      <td>1.445318e+10</td>\n",
       "      <td>6.685496e+10</td>\n",
       "      <td>NaN</td>\n",
       "      <td>2.062225e+10</td>\n",
       "      <td>3.703600e+10</td>\n",
       "      <td>1.040608e+09</td>\n",
       "      <td>1.754108e+10</td>\n",
       "      <td>...</td>\n",
       "      <td>NaN</td>\n",
       "      <td>NaN</td>\n",
       "      <td>0.446535</td>\n",
       "      <td>NaN</td>\n",
       "      <td>1.487967</td>\n",
       "      <td>0.327942</td>\n",
       "      <td>0.915077</td>\n",
       "      <td>0.041864</td>\n",
       "      <td>0.104275</td>\n",
       "      <td>-0.000826</td>\n",
       "    </tr>\n",
       "    <tr>\n",
       "      <th>2017-12-31 00:00:00</th>\n",
       "      <td>贵州茅台</td>\n",
       "      <td>酿酒行业</td>\n",
       "      <td>1.346101e+11</td>\n",
       "      <td>1.524410e+10</td>\n",
       "      <td>8.786887e+10</td>\n",
       "      <td>NaN</td>\n",
       "      <td>2.205748e+10</td>\n",
       "      <td>3.859049e+10</td>\n",
       "      <td>9.920559e+08</td>\n",
       "      <td>1.442911e+10</td>\n",
       "      <td>...</td>\n",
       "      <td>7.589854e+10</td>\n",
       "      <td>0.337445</td>\n",
       "      <td>0.475026</td>\n",
       "      <td>0.493347</td>\n",
       "      <td>1.401902</td>\n",
       "      <td>0.286683</td>\n",
       "      <td>0.902716</td>\n",
       "      <td>0.048902</td>\n",
       "      <td>0.076999</td>\n",
       "      <td>-0.000913</td>\n",
       "    </tr>\n",
       "    <tr>\n",
       "      <th>2018-12-31 00:00:00</th>\n",
       "      <td>贵州茅台</td>\n",
       "      <td>酿酒行业</td>\n",
       "      <td>1.598467e+11</td>\n",
       "      <td>1.524856e+10</td>\n",
       "      <td>1.120748e+11</td>\n",
       "      <td>NaN</td>\n",
       "      <td>2.350695e+10</td>\n",
       "      <td>4.243819e+10</td>\n",
       "      <td>1.178296e+09</td>\n",
       "      <td>1.357652e+10</td>\n",
       "      <td>...</td>\n",
       "      <td>9.601963e+10</td>\n",
       "      <td>0.354495</td>\n",
       "      <td>0.490025</td>\n",
       "      <td>0.524351</td>\n",
       "      <td>1.361458</td>\n",
       "      <td>0.265493</td>\n",
       "      <td>0.915506</td>\n",
       "      <td>0.033317</td>\n",
       "      <td>0.068989</td>\n",
       "      <td>-0.000046</td>\n",
       "    </tr>\n",
       "    <tr>\n",
       "      <th>2019-12-31 00:00:00</th>\n",
       "      <td>贵州茅台</td>\n",
       "      <td>酿酒行业</td>\n",
       "      <td>1.830424e+11</td>\n",
       "      <td>1.514418e+10</td>\n",
       "      <td>1.325182e+10</td>\n",
       "      <td>NaN</td>\n",
       "      <td>2.528492e+10</td>\n",
       "      <td>4.116599e+10</td>\n",
       "      <td>1.513677e+09</td>\n",
       "      <td>1.374033e+10</td>\n",
       "      <td>...</td>\n",
       "      <td>1.174085e+11</td>\n",
       "      <td>0.339164</td>\n",
       "      <td>0.494855</td>\n",
       "      <td>0.518269</td>\n",
       "      <td>1.290154</td>\n",
       "      <td>0.224899</td>\n",
       "      <td>0.916380</td>\n",
       "      <td>0.036903</td>\n",
       "      <td>0.069417</td>\n",
       "      <td>0.000084</td>\n",
       "    </tr>\n",
       "    <tr>\n",
       "      <th>2020-12-31 00:00:00</th>\n",
       "      <td>贵州茅台</td>\n",
       "      <td>酿酒行业</td>\n",
       "      <td>2.133958e+11</td>\n",
       "      <td>1.622508e+10</td>\n",
       "      <td>3.609109e+10</td>\n",
       "      <td>NaN</td>\n",
       "      <td>2.886909e+10</td>\n",
       "      <td>4.567513e+10</td>\n",
       "      <td>1.342268e+09</td>\n",
       "      <td>NaN</td>\n",
       "      <td>...</td>\n",
       "      <td>1.418764e+11</td>\n",
       "      <td>0.319921</td>\n",
       "      <td>0.505375</td>\n",
       "      <td>0.494368</td>\n",
       "      <td>1.272329</td>\n",
       "      <td>0.214039</td>\n",
       "      <td>0.916790</td>\n",
       "      <td>0.025999</td>\n",
       "      <td>0.069289</td>\n",
       "      <td>-0.002394</td>\n",
       "    </tr>\n",
       "    <tr>\n",
       "      <th>2021-12-31 00:00:00</th>\n",
       "      <td>贵州茅台</td>\n",
       "      <td>酿酒行业</td>\n",
       "      <td>2.551682e+11</td>\n",
       "      <td>1.747217e+10</td>\n",
       "      <td>5.181024e+10</td>\n",
       "      <td>NaN</td>\n",
       "      <td>3.339437e+10</td>\n",
       "      <td>5.821069e+10</td>\n",
       "      <td>2.009832e+09</td>\n",
       "      <td>NaN</td>\n",
       "      <td>...</td>\n",
       "      <td>1.677207e+11</td>\n",
       "      <td>0.305587</td>\n",
       "      <td>0.509029</td>\n",
       "      <td>0.467233</td>\n",
       "      <td>1.295549</td>\n",
       "      <td>0.228127</td>\n",
       "      <td>0.917933</td>\n",
       "      <td>0.025007</td>\n",
       "      <td>0.077197</td>\n",
       "      <td>-0.008537</td>\n",
       "    </tr>\n",
       "  </tbody>\n",
       "</table>\n",
       "<p>6 rows × 32 columns</p>\n",
       "</div>"
      ],
      "text/plain": [
       "                     股票简称  行业名称           总资产          固定资产          货币资金  \\\n",
       "公告日期                                                                        \n",
       "2016-12-31 00:00:00  贵州茅台  酿酒行业  1.129345e+11  1.445318e+10  6.685496e+10   \n",
       "2017-12-31 00:00:00  贵州茅台  酿酒行业  1.346101e+11  1.524410e+10  8.786887e+10   \n",
       "2018-12-31 00:00:00  贵州茅台  酿酒行业  1.598467e+11  1.524856e+10  1.120748e+11   \n",
       "2019-12-31 00:00:00  贵州茅台  酿酒行业  1.830424e+11  1.514418e+10  1.325182e+10   \n",
       "2020-12-31 00:00:00  贵州茅台  酿酒行业  2.133958e+11  1.622508e+10  3.609109e+10   \n",
       "2021-12-31 00:00:00  贵州茅台  酿酒行业  2.551682e+11  1.747217e+10  5.181024e+10   \n",
       "\n",
       "                     应收账款            存货           总负债          应付账款  \\\n",
       "公告日期                                                                  \n",
       "2016-12-31 00:00:00   NaN  2.062225e+10  3.703600e+10  1.040608e+09   \n",
       "2017-12-31 00:00:00   NaN  2.205748e+10  3.859049e+10  9.920559e+08   \n",
       "2018-12-31 00:00:00   NaN  2.350695e+10  4.243819e+10  1.178296e+09   \n",
       "2019-12-31 00:00:00   NaN  2.528492e+10  4.116599e+10  1.513677e+09   \n",
       "2020-12-31 00:00:00   NaN  2.886909e+10  4.567513e+10  1.342268e+09   \n",
       "2021-12-31 00:00:00   NaN  3.339437e+10  5.821069e+10  2.009832e+09   \n",
       "\n",
       "                             预收账款  ...          同期权益    净资产收益率       利润率  \\\n",
       "公告日期                               ...                                     \n",
       "2016-12-31 00:00:00  1.754108e+10  ...           NaN       NaN  0.446535   \n",
       "2017-12-31 00:00:00  1.442911e+10  ...  7.589854e+10  0.337445  0.475026   \n",
       "2018-12-31 00:00:00  1.357652e+10  ...  9.601963e+10  0.354495  0.490025   \n",
       "2019-12-31 00:00:00  1.374033e+10  ...  1.174085e+11  0.339164  0.494855   \n",
       "2020-12-31 00:00:00           NaN  ...  1.418764e+11  0.319921  0.505375   \n",
       "2021-12-31 00:00:00           NaN  ...  1.677207e+11  0.305587  0.509029   \n",
       "\n",
       "                        资产周转率      权益乘数     资产负债率       毛利率     销售费用率  \\\n",
       "公告日期                                                                    \n",
       "2016-12-31 00:00:00       NaN  1.487967  0.327942  0.915077  0.041864   \n",
       "2017-12-31 00:00:00  0.493347  1.401902  0.286683  0.902716  0.048902   \n",
       "2018-12-31 00:00:00  0.524351  1.361458  0.265493  0.915506  0.033317   \n",
       "2019-12-31 00:00:00  0.518269  1.290154  0.224899  0.916380  0.036903   \n",
       "2020-12-31 00:00:00  0.494368  1.272329  0.214039  0.916790  0.025999   \n",
       "2021-12-31 00:00:00  0.467233  1.295549  0.228127  0.917933  0.025007   \n",
       "\n",
       "                        管理费用率     财务费用率  \n",
       "公告日期                                     \n",
       "2016-12-31 00:00:00  0.104275 -0.000826  \n",
       "2017-12-31 00:00:00  0.076999 -0.000913  \n",
       "2018-12-31 00:00:00  0.068989 -0.000046  \n",
       "2019-12-31 00:00:00  0.069417  0.000084  \n",
       "2020-12-31 00:00:00  0.069289 -0.002394  \n",
       "2021-12-31 00:00:00  0.077197 -0.008537  \n",
       "\n",
       "[6 rows x 32 columns]"
      ]
     },
     "execution_count": 93,
     "metadata": {},
     "output_type": "execute_result"
    }
   ],
   "source": [
    "stock_df"
   ]
  },
  {
   "cell_type": "markdown",
   "id": "4236cefd-5016-44a3-a0d1-457031041b33",
   "metadata": {},
   "source": [
    "#### 股票元素"
   ]
  },
  {
   "cell_type": "markdown",
   "id": "af701c72-817a-4e7b-8995-e505635ef9c2",
   "metadata": {},
   "source": [
    "获取股票名称"
   ]
  },
  {
   "cell_type": "code",
   "execution_count": 73,
   "id": "a0356ffc-0011-4e16-8574-b52111478dd1",
   "metadata": {},
   "outputs": [
    {
     "data": {
      "text/plain": [
       "'贵州茅台'"
      ]
     },
     "execution_count": 73,
     "metadata": {},
     "output_type": "execute_result"
    }
   ],
   "source": [
    "stock_df['股票简称'][0]"
   ]
  },
  {
   "cell_type": "code",
   "execution_count": 74,
   "id": "7037f330-a788-4319-85da-5dec3957b527",
   "metadata": {},
   "outputs": [],
   "source": [
    "stock_data_row = stock_df.shape[0]\n",
    "if stock_data_row > 0:\n",
    "    stock_name = stock_df['股票简称'][0]\n",
    "else:  # raise是主动抛出异常\n",
    "    raise Exception('不存在该股票的数据')"
   ]
  },
  {
   "cell_type": "markdown",
   "id": "48f8e2b9-fb9c-4a83-b26a-07929d64e08f",
   "metadata": {},
   "source": [
    "获取时间索引"
   ]
  },
  {
   "cell_type": "code",
   "execution_count": 75,
   "id": "92628eee-02ee-44ee-958a-9c229c036312",
   "metadata": {},
   "outputs": [],
   "source": [
    "report_date = f'{report_year}-12-31 00:00:00'"
   ]
  },
  {
   "cell_type": "code",
   "execution_count": 76,
   "id": "be0f4c46-706c-459d-9357-34d45284cd07",
   "metadata": {},
   "outputs": [
    {
     "data": {
      "text/plain": [
       "'2021-12-31 00:00:00'"
      ]
     },
     "execution_count": 76,
     "metadata": {},
     "output_type": "execute_result"
    }
   ],
   "source": [
    "report_date"
   ]
  },
  {
   "cell_type": "code",
   "execution_count": 77,
   "id": "04497065-b65d-4e1f-8b2e-3b269de77840",
   "metadata": {},
   "outputs": [],
   "source": [
    "stock_df = stock_df.loc[:report_date, :]"
   ]
  },
  {
   "cell_type": "code",
   "execution_count": 52,
   "id": "5e79bfaf-2084-4cfd-a387-24e597ffe220",
   "metadata": {},
   "outputs": [
    {
     "data": {
      "text/plain": [
       "Index(['2016-12-31 00:00:00', '2017-12-31 00:00:00', '2018-12-31 00:00:00',\n",
       "       '2019-12-31 00:00:00', '2020-12-31 00:00:00', '2021-12-31 00:00:00'],\n",
       "      dtype='object', name='公告日期')"
      ]
     },
     "execution_count": 52,
     "metadata": {},
     "output_type": "execute_result"
    }
   ],
   "source": [
    "stock_df.index"
   ]
  },
  {
   "cell_type": "code",
   "execution_count": 53,
   "id": "6efb853b-e9c7-4a6b-9c86-573ea015d8b7",
   "metadata": {},
   "outputs": [
    {
     "data": {
      "text/plain": [
       "'2016-12-31 00:00:00'"
      ]
     },
     "execution_count": 53,
     "metadata": {},
     "output_type": "execute_result"
    }
   ],
   "source": [
    "# 一定要选到元素看看，防止是其他类型\n",
    "stock_df.index[0]"
   ]
  },
  {
   "cell_type": "code",
   "execution_count": 54,
   "id": "804a952e-c84a-4f41-886c-0dd59f4e4f39",
   "metadata": {},
   "outputs": [
    {
     "data": {
      "text/plain": [
       "Index(['股票简称', '行业名称', '总资产', '固定资产', '货币资金', '应收账款', '存货', '总负债', '应付账款',\n",
       "       '预收账款', '所有者权益', '营业收入', '营业成本', '销售费用', '管理费用', '财务费用', '营业总支出',\n",
       "       '营业利润', '利润总额', '所得税费用', '净利润', '同期资产', '同期权益', '净资产收益率', '利润率',\n",
       "       '资产周转率', '权益乘数', '资产负债率'],\n",
       "      dtype='object')"
      ]
     },
     "execution_count": 54,
     "metadata": {},
     "output_type": "execute_result"
    }
   ],
   "source": [
    "stock_df.columns"
   ]
  },
  {
   "cell_type": "code",
   "execution_count": 55,
   "id": "0544a18b-eb23-40f8-8e91-376a6af7cdd9",
   "metadata": {},
   "outputs": [
    {
     "data": {
      "text/plain": [
       "255168195159.9"
      ]
     },
     "execution_count": 55,
     "metadata": {},
     "output_type": "execute_result"
    }
   ],
   "source": [
    "# 这样就可以随便获取数据了\n",
    "stock_df.loc[report_date, '总资产']"
   ]
  },
  {
   "cell_type": "markdown",
   "id": "9f21d661-1cf7-4c25-8ab2-0b745fcf3b57",
   "metadata": {},
   "source": [
    "获取股票行业"
   ]
  },
  {
   "cell_type": "code",
   "execution_count": 56,
   "id": "c723e4b6-53e7-4743-a9f7-507441ef2d84",
   "metadata": {},
   "outputs": [
    {
     "data": {
      "text/plain": [
       "'酿酒行业'"
      ]
     },
     "execution_count": 56,
     "metadata": {},
     "output_type": "execute_result"
    }
   ],
   "source": [
    "stock_industry = stock_df['行业名称'][0]\n",
    "stock_industry"
   ]
  },
  {
   "cell_type": "markdown",
   "id": "209db539-292a-476d-b833-d9be0fc90305",
   "metadata": {},
   "source": [
    "### 文字规划"
   ]
  },
  {
   "cell_type": "markdown",
   "id": "34c589c0-fe9b-4304-9091-a55ce37148d7",
   "metadata": {},
   "source": [
    "- 1 公司收益很不错：营业收入、净利润（当前、同比）\n",
    "- 2 公司降本提效了：净利率、毛利率提升，三费下降（当前、同比）\n",
    "- 3 公司财务状况好：净资产收益率提升，净利率、资产周转率、权益乘数状况良好\n",
    "- 4 公司在行业表现好：从一些好的指标中循环，找到排名前3的指标，有就输出结果（报告都出来后才能分析）"
   ]
  },
  {
   "cell_type": "markdown",
   "id": "7a4bada1-07ff-4cf1-a469-7cabea1736d8",
   "metadata": {},
   "source": [
    "其他数据对比渠道：https://emweb.securities.eastmoney.com/PC_HSF10/FinanceAnalysis/Index?type=web&code=SH600519#dbfx-0"
   ]
  },
  {
   "cell_type": "markdown",
   "id": "d00be282-486d-4ef9-a7ea-2c87565b626f",
   "metadata": {
    "tags": []
   },
   "source": [
    "#### P1-公司收益很不错"
   ]
  },
  {
   "cell_type": "raw",
   "id": "654c1536-d761-4534-a2ed-e389c5f1aa20",
   "metadata": {},
   "source": [
    "2021年度实现营业总收入 1094.64亿元（含利息收入32.74亿元）、同比+11.71%，其中酒类收入1060.59亿元、同比+11.85%，归母净利524.6亿元、同比+12.34%，拟10派216.75元(含税)，分红率51.9%。Q4单季度营收315.48亿，同比+13.9%；归母净利151.94亿，同比+18.1%，Q4环比加速明显。"
   ]
  },
  {
   "cell_type": "markdown",
   "id": "2ced79ad-1ab5-4dcf-84a7-55e752fe303c",
   "metadata": {},
   "source": [
    "归母净利润=净利润-少数股东收益  \n",
    "这里原始数据没有，就先用净利润替代"
   ]
  },
  {
   "cell_type": "markdown",
   "id": "d4b45e18-c7fe-4d97-b037-c97bc05a370b",
   "metadata": {},
   "source": [
    "##### 计算指标"
   ]
  },
  {
   "cell_type": "code",
   "execution_count": 78,
   "id": "71765246-486d-4aca-9cd7-71d119393705",
   "metadata": {},
   "outputs": [
    {
     "data": {
      "text/plain": [
       "公告日期\n",
       "2016-12-31 00:00:00    4.015508e+10\n",
       "2017-12-31 00:00:00    6.106276e+10\n",
       "2018-12-31 00:00:00    7.719938e+10\n",
       "2019-12-31 00:00:00    8.885434e+10\n",
       "2020-12-31 00:00:00    9.799324e+10\n",
       "2021-12-31 00:00:00    1.094643e+11\n",
       "Name: 营业收入, dtype: float64"
      ]
     },
     "execution_count": 78,
     "metadata": {},
     "output_type": "execute_result"
    }
   ],
   "source": [
    "stock_df['营业收入']"
   ]
  },
  {
   "cell_type": "code",
   "execution_count": 79,
   "id": "9ad86b64-31b9-4f01-8724-c34d50144c2c",
   "metadata": {},
   "outputs": [],
   "source": [
    "revenue = stock_df['营业收入'][-1]\n",
    "last_revenue = stock_df['营业收入'][-2]\n",
    "net_income = stock_df['净利润'][-1]\n",
    "last_income = stock_df['净利润'][-2]"
   ]
  },
  {
   "cell_type": "code",
   "execution_count": 80,
   "id": "57076386-dd62-41fd-a4e5-65dfd9b7c869",
   "metadata": {},
   "outputs": [],
   "source": [
    "revenue_rate = revenue / last_revenue - 1\n",
    "net_income_rate = net_income / last_income - 1"
   ]
  },
  {
   "cell_type": "markdown",
   "id": "4c262f03-59e9-4aba-9c13-af054fa252ac",
   "metadata": {},
   "source": [
    "##### 拼接文字"
   ]
  },
  {
   "cell_type": "code",
   "execution_count": 81,
   "id": "afb8f376-45b4-4237-90c1-f46283141cee",
   "metadata": {},
   "outputs": [],
   "source": [
    "revenue_flag = '增长' if revenue_rate > 0 else '下降'\n",
    "net_income_flag = '增长' if net_income_rate > 0 else '下降'"
   ]
  },
  {
   "cell_type": "code",
   "execution_count": 84,
   "id": "63358d69-d7aa-430c-9515-79d83577a96a",
   "metadata": {},
   "outputs": [],
   "source": [
    "p1_text_1 = f'{stock_name}({stock_id})全年实现营业总收入{\"%.2f\" % (revenue/1e8)}亿元，同比{revenue_flag}{\"%.2f\" % (revenue_rate*100)}%；'"
   ]
  },
  {
   "cell_type": "code",
   "execution_count": 85,
   "id": "68a3cdf5-a623-4d97-acdf-fb9af172c1ae",
   "metadata": {},
   "outputs": [
    {
     "data": {
      "text/plain": [
       "'贵州茅台(600519.SH)全年实现营业总收入1094.64亿元，同比增长11.71%；'"
      ]
     },
     "execution_count": 85,
     "metadata": {},
     "output_type": "execute_result"
    }
   ],
   "source": [
    "p1_text_1"
   ]
  },
  {
   "cell_type": "code",
   "execution_count": 86,
   "id": "88928835-5c15-41a8-b607-5c4e90b728a7",
   "metadata": {},
   "outputs": [],
   "source": [
    "p1_text_2 = f'实现净利润{\"%.2f\" %(net_income/1e8)}亿元，同比{net_income_flag}{\"%.2f\" % (net_income_rate*100)}%。'"
   ]
  },
  {
   "cell_type": "code",
   "execution_count": 87,
   "id": "9d62fd2c-654d-4977-84f9-3faf456b6866",
   "metadata": {},
   "outputs": [
    {
     "data": {
      "text/plain": [
       "'实现净利润557.21亿元，同比增长12.51%。'"
      ]
     },
     "execution_count": 87,
     "metadata": {},
     "output_type": "execute_result"
    }
   ],
   "source": [
    "p1_text_2"
   ]
  },
  {
   "cell_type": "code",
   "execution_count": 88,
   "id": "2ecb48f4-7789-4962-855a-20a9f381bd58",
   "metadata": {},
   "outputs": [],
   "source": [
    "p1_text = p1_text_1 + p1_text_2"
   ]
  },
  {
   "cell_type": "code",
   "execution_count": 89,
   "id": "9f6533ea-4ca1-4406-a35d-62f438f5d887",
   "metadata": {},
   "outputs": [
    {
     "data": {
      "text/plain": [
       "'贵州茅台(600519.SH)全年实现营业总收入1094.64亿元，同比增长11.71%；实现净利润557.21亿元，同比增长12.51%。'"
      ]
     },
     "execution_count": 89,
     "metadata": {},
     "output_type": "execute_result"
    }
   ],
   "source": [
    "p1_text"
   ]
  },
  {
   "cell_type": "markdown",
   "id": "f2fe89dc-9b3c-4962-9630-c8d96f3015ef",
   "metadata": {
    "tags": []
   },
   "source": [
    "#### P2-公司降本提效了"
   ]
  },
  {
   "cell_type": "raw",
   "id": "c81be02a-5e58-451d-9c3e-d34ab5edab37",
   "metadata": {},
   "source": [
    "Q4毛利率、净利率提升，预收维持高位。Q4毛利率同比+0.75pct至92.4%，预计主要系渠道结构优化、直销占比提升拉动，税金及附加同比-1pct至15%，Q4销售费用率同比-0.2pct至2.5%，管理费用率同比+1.5pct至9.4%，预计主要系人工成本上升，最终Q4净利率同比+1.8pct至51.2%。Q4单季度销售收现398.9亿元、同比+11.8%，与收入增速匹配，2021年末预收款（合同负债+其他流动负债）142.54亿元，环比+39.9亿元。"
   ]
  },
  {
   "cell_type": "markdown",
   "id": "c6a6c8ce-61fc-428f-a6b6-b118251aac84",
   "metadata": {},
   "source": [
    "##### 计算指标"
   ]
  },
  {
   "cell_type": "code",
   "execution_count": 94,
   "id": "4e98b4a0-c647-4b76-a9cf-d1f69f17250c",
   "metadata": {},
   "outputs": [],
   "source": [
    "net_rate = stock_df['利润率'][-1]\n",
    "last_net_rate = stock_df['利润率'][-2]\n",
    "net_rate_inc = net_rate - last_net_rate\n",
    "\n",
    "gross_rate = stock_df['毛利率'][-1]\n",
    "last_gross_rate = stock_df['毛利率'][-2]\n",
    "gross_rate_inc = gross_rate - last_gross_rate\n",
    "\n",
    "sale_rate = stock_df['销售费用率'][-1]\n",
    "last_sale_rate = stock_df['销售费用率'][-2]\n",
    "sale_rate_inc = sale_rate - last_sale_rate\n",
    "\n",
    "admin_rate = stock_df['管理费用率'][-1]\n",
    "last_admin_rate = stock_df['管理费用率'][-2]\n",
    "admin_rate_inc = admin_rate - last_admin_rate\n",
    "\n",
    "finance_rate = stock_df['财务费用率'][-1]\n",
    "last_finance_rate = stock_df['财务费用率'][-2]\n",
    "finance_rate_inc = finance_rate - last_finance_rate"
   ]
  },
  {
   "cell_type": "markdown",
   "id": "ee25d675-004b-4fcd-aabb-bff2d60dba15",
   "metadata": {},
   "source": [
    "##### 拼接文字"
   ]
  },
  {
   "cell_type": "code",
   "execution_count": 100,
   "id": "3e9c6c5f-3b3b-4e71-bd03-8a8047b5a9e7",
   "metadata": {},
   "outputs": [],
   "source": [
    "net_rate_flag = '增长+' if net_rate_inc > 0 else '下降'\n",
    "gross_rate_flag = '增长+' if gross_rate_inc > 0 else '下降'\n",
    "sale_rate_flag = '增长+' if sale_rate_inc > 0 else '下降'\n",
    "admin_rate_flag = '增长+' if admin_rate_inc > 0 else '下降'\n",
    "finance_rate_flag = '增长+' if finance_rate_inc > 0 else '下降'"
   ]
  },
  {
   "cell_type": "code",
   "execution_count": 101,
   "id": "ae3419cf-1da0-4f6d-8ac4-ec384e43418a",
   "metadata": {},
   "outputs": [],
   "source": [
    "p2_text_1 = f'净利率同期{net_rate_flag}{\"%.2f\" % (net_rate_inc*100)}pct至{\"%.2f\" % (net_rate*100)}%，'\n",
    "p2_text_2 = f'毛利率同期{gross_rate_flag}{\"%.2f\" % (gross_rate_inc*100)}pct至{\"%.2f\" % (gross_rate*100)}%。'"
   ]
  },
  {
   "cell_type": "code",
   "execution_count": 102,
   "id": "52b561f9-d043-4d59-a11a-d487c62f77e9",
   "metadata": {},
   "outputs": [],
   "source": [
    "p2_text_3 = f'费用率方面，销售费用率同期{sale_rate_flag}{\"%.2f\" % (sale_rate_inc*100)}pct至{\"%.2f\" % (sale_rate*100)}%，'\n",
    "p2_text_4 = f'管理费用率同期{admin_rate_flag}{\"%.2f\" % (admin_rate_inc*100)}pct至{\"%.2f\" % (admin_rate*100)}%，'\n",
    "p2_text_5 = f'财务费用率同期{finance_rate_flag}{\"%.2f\" % (finance_rate_inc*100)}pct至{\"%.2f\" % (finance_rate*100)}%。'"
   ]
  },
  {
   "cell_type": "code",
   "execution_count": 103,
   "id": "f0fdb55c-ce41-4212-b549-7cab135a2722",
   "metadata": {},
   "outputs": [],
   "source": [
    "p2_text = p2_text_1 + p2_text_2 + p2_text_3 + p2_text_4 + p2_text_5"
   ]
  },
  {
   "cell_type": "code",
   "execution_count": 104,
   "id": "a9b7bbb5-6117-43a0-9f59-1e5e349956fe",
   "metadata": {},
   "outputs": [
    {
     "data": {
      "text/plain": [
       "'净利率同期增长+0.37pct至50.90%，毛利率同期增长+0.11pct至91.79%。费用率方面，销售费用率同期下降-0.10pct至2.50%，管理费用率同期增长+0.79pct至7.72%，财务费用率同期下降-0.61pct至-0.85%。'"
      ]
     },
     "execution_count": 104,
     "metadata": {},
     "output_type": "execute_result"
    }
   ],
   "source": [
    "p2_text"
   ]
  },
  {
   "cell_type": "markdown",
   "id": "b23f65f9-fabc-4634-a14e-e51674e46f75",
   "metadata": {
    "tags": []
   },
   "source": [
    "#### P3-公司财务状况好"
   ]
  },
  {
   "cell_type": "markdown",
   "id": "bb9b0443-414c-4fcf-840e-1d16c2ff5b5d",
   "metadata": {},
   "source": [
    "##### 计算指标"
   ]
  },
  {
   "cell_type": "code",
   "execution_count": 105,
   "id": "993fba0c-3b22-4dcd-b303-e218c25b2ae2",
   "metadata": {},
   "outputs": [],
   "source": [
    "roe = stock_df['净资产收益率'][-1]\n",
    "last_roe = stock_df['净资产收益率'][-2]\n",
    "roe_inc = roe - last_roe\n",
    "\n",
    "net_rate = stock_df['利润率'][-1]\n",
    "last_net_rate = stock_df['利润率'][-2]\n",
    "net_rate_inc = net_rate - last_net_rate\n",
    "\n",
    "asset_turnover_rate = stock_df['资产周转率'][-1]\n",
    "last_asset_turnover_rate = stock_df['资产周转率'][-2]\n",
    "asset_turnover_rate_inc = asset_turnover_rate - last_asset_turnover_rate\n",
    "\n",
    "debt_asset_rate = stock_df['资产负债率'][-1]\n",
    "last_debt_asset_rate = stock_df['资产负债率'][-2]\n",
    "debt_asset_rate_inc = debt_asset_rate - last_debt_asset_rate"
   ]
  },
  {
   "cell_type": "markdown",
   "id": "6651128c-29b6-4d68-9c34-1b29f6968b81",
   "metadata": {},
   "source": [
    "##### 拼接文字"
   ]
  },
  {
   "cell_type": "code",
   "execution_count": 106,
   "id": "e26a1f35-ee3d-4071-8b30-89e3f2d56b60",
   "metadata": {},
   "outputs": [],
   "source": [
    "roe_flag = '增长+' if roe_inc > 0 else '下降'\n",
    "net_rate_flag = '增长+' if net_rate_inc > 0 else '下降'\n",
    "asset_turnover_rate_flag = '增长+' if asset_turnover_rate_inc > 0 else '下降'\n",
    "debt_asset_rate_flag = '增长+' if debt_asset_rate_inc > 0 else '下降'"
   ]
  },
  {
   "cell_type": "code",
   "execution_count": 107,
   "id": "301250b0-90d5-4353-b28d-cbb4743bd2b3",
   "metadata": {},
   "outputs": [],
   "source": [
    "p3_text_1 = f'ROE同期{roe_flag}{\"%.2f\" % (roe_inc*100)}pct至{\"%.2f\" % (roe*100)}%，根据杜邦分析法拆解，'\n",
    "p3_text_2 = f'净利率同期{net_rate_flag}{\"%.2f\" % (net_rate_inc*100)}pct至{\"%.2f\" % (net_rate*100)}%。'\n",
    "p3_text_3 = f'资产周转率同期{sale_rate_flag}{\"%.2f\" % (asset_turnover_rate_inc*100)}pct至{\"%.2f\" % (asset_turnover_rate*100)}%，'\n",
    "p3_text_4 = f'资产负债率同期{debt_asset_rate_flag}{\"%.2f\" % (debt_asset_rate_inc*100)}pct至{\"%.2f\" % (debt_asset_rate*100)}%。'"
   ]
  },
  {
   "cell_type": "code",
   "execution_count": 108,
   "id": "d7340374-1116-4e17-93a1-1e4ca7c4b87d",
   "metadata": {},
   "outputs": [],
   "source": [
    "p3_text = p3_text_1 + p3_text_2 + p3_text_3 + p3_text_4"
   ]
  },
  {
   "cell_type": "code",
   "execution_count": 109,
   "id": "68f7051c-936e-4010-a2b5-9c8878be2930",
   "metadata": {},
   "outputs": [
    {
     "data": {
      "text/plain": [
       "'ROE同期下降-1.43pct至30.56%，根据杜邦分析法拆解，净利率同期增长+0.37pct至50.90%。资产周转率同期下降-2.71pct至46.72%，资产负债率同期增长+1.41pct至22.81%。'"
      ]
     },
     "execution_count": 109,
     "metadata": {},
     "output_type": "execute_result"
    }
   ],
   "source": [
    "p3_text"
   ]
  },
  {
   "cell_type": "markdown",
   "id": "81d33315-2824-4324-845c-93f72ccbc312",
   "metadata": {},
   "source": [
    "#### P4-公司在行业表现好"
   ]
  },
  {
   "cell_type": "markdown",
   "id": "cab73b11-ba33-477a-b538-373c96327f5b",
   "metadata": {},
   "source": [
    "先选出一些指标"
   ]
  },
  {
   "cell_type": "code",
   "execution_count": 110,
   "id": "54ab2de3-4b11-416e-aaaa-75e2665a207f",
   "metadata": {},
   "outputs": [],
   "source": [
    "# 设定重要性指标排序\n",
    "rank_index_list = ['净资产收益率', '利润率', '资产周转率', '资产负债率']\n",
    "# 1表示越大越好， 0表示越小越好\n",
    "index_direction_list = [1, 1, 1, 0]\n",
    "# 设定排名前几输出\n",
    "rank_threshold = 3"
   ]
  },
  {
   "cell_type": "code",
   "execution_count": 111,
   "id": "4892cbea-d357-43a3-a389-ff00ee33c430",
   "metadata": {},
   "outputs": [],
   "source": [
    "report_year_df = total_df.loc[report_date]"
   ]
  },
  {
   "cell_type": "code",
   "execution_count": 114,
   "id": "5af4dfb6-2fb9-40d6-9b52-851481281315",
   "metadata": {},
   "outputs": [],
   "source": [
    "industry_df = report_year_df[report_year_df['行业名称']==stock_industry]"
   ]
  },
  {
   "cell_type": "code",
   "execution_count": 115,
   "id": "2ebc190f-72fd-4558-bd6d-8990048d38ac",
   "metadata": {},
   "outputs": [
    {
     "data": {
      "text/plain": [
       "(38, 32)"
      ]
     },
     "execution_count": 115,
     "metadata": {},
     "output_type": "execute_result"
    }
   ],
   "source": [
    "industry_df.shape"
   ]
  },
  {
   "cell_type": "raw",
   "id": "e1eeffef-a5b9-43c1-b03d-bacc7eaafb94",
   "metadata": {},
   "source": [
    "industry_df.head(3)"
   ]
  },
  {
   "cell_type": "code",
   "execution_count": 117,
   "id": "b5696c98-cd09-4b3f-936a-eb18713b500c",
   "metadata": {},
   "outputs": [
    {
     "name": "stdout",
     "output_type": "stream",
     "text": [
      "净资产收益率 1\n",
      "利润率 1\n",
      "资产周转率 1\n",
      "资产负债率 0\n"
     ]
    }
   ],
   "source": [
    "for index_name, direction in zip(rank_index_list, index_direction_list):\n",
    "    print(index_name, direction)"
   ]
  },
  {
   "cell_type": "code",
   "execution_count": 118,
   "id": "f440553c-eec0-4543-99bc-832fadbc478a",
   "metadata": {},
   "outputs": [],
   "source": [
    "tmp_ascending = False if direction else True\n",
    "tmp_df = industry_df.sort_values(by=index_name, ascending=tmp_ascending)"
   ]
  },
  {
   "cell_type": "code",
   "execution_count": 121,
   "id": "3397d49a-2090-4a2c-a9c4-4d64cbb0063a",
   "metadata": {
    "tags": []
   },
   "outputs": [
    {
     "data": {
      "text/plain": [
       "10"
      ]
     },
     "execution_count": 121,
     "metadata": {},
     "output_type": "execute_result"
    }
   ],
   "source": [
    "tmp_df['股票简称'].tolist().index(stock_name)"
   ]
  },
  {
   "cell_type": "code",
   "execution_count": 122,
   "id": "ee81b864-0e9f-44fb-9200-d48056431db2",
   "metadata": {},
   "outputs": [],
   "source": [
    "# 先赋值，再更新\n",
    "p4_text = ''\n",
    "# TODO:拉链方法介绍\n",
    "for index_name, direction in zip(rank_index_list, index_direction_list):\n",
    "    # 注意这里方向是反过来的\n",
    "    tmp_ascending = False if direction else True\n",
    "    tmp_df = industry_df.sort_values(by=index_name, ascending=tmp_ascending)\n",
    "    tmp_rank = tmp_df['股票简称'].tolist().index(stock_name)\n",
    "    if tmp_rank + 1 <= rank_threshold:\n",
    "        tmp_value = tmp_df.loc[stock_id, index_name]\n",
    "        tmp_avg_value = tmp_df[index_name].mean()\n",
    "        direction_flag = '远超过' if direction else '远低于'\n",
    "        p4_text = f'公司的{index_name}表现良好，达到{\"%.2f\" % (tmp_value*100)}%，在行业内排名第{tmp_rank+1}，{direction_flag}行业平均的{\"%.2f\" % (tmp_avg_value*100)}%。'\n",
    "        break"
   ]
  },
  {
   "cell_type": "code",
   "execution_count": 123,
   "id": "a87e5805-4b6b-46af-bf12-26e085f0eb4d",
   "metadata": {},
   "outputs": [
    {
     "data": {
      "text/plain": [
       "'公司的利润率表现良好，达到50.90%，在行业内排名第1，远超过行业平均的10.16%。'"
      ]
     },
     "execution_count": 123,
     "metadata": {},
     "output_type": "execute_result"
    }
   ],
   "source": [
    "p4_text"
   ]
  },
  {
   "cell_type": "markdown",
   "id": "c8258c2b-2624-4f37-8f72-762fcd3008bd",
   "metadata": {},
   "source": [
    "### 函数封装"
   ]
  },
  {
   "cell_type": "markdown",
   "id": "ae72ad7b-98ee-431e-b7cc-c1d3d6c4a92b",
   "metadata": {},
   "source": [
    "#### 解耦封装"
   ]
  },
  {
   "cell_type": "code",
   "execution_count": 124,
   "id": "88ec6fa3-13b7-42d8-8150-afc0d53f06ed",
   "metadata": {},
   "outputs": [],
   "source": [
    "def stock_revenue_status(stock_name, stock_id, stock_df):\n",
    "    revenue = stock_df['营业收入'][-1]\n",
    "    last_revenue = stock_df['营业收入'][-2]\n",
    "    net_income = stock_df['净利润'][-1]\n",
    "    last_income = stock_df['净利润'][-2]\n",
    "    revenue_rate = revenue / last_revenue - 1\n",
    "    net_income_rate = net_income / last_income - 1\n",
    "    revenue_flag = '增长' if revenue_rate > 0 else '下降'\n",
    "    net_income_flag = '增长' if net_income_rate > 0 else '下降'\n",
    "    p1_text_1 = f'{stock_name}({stock_id})全年实现营业总收入{\"%.2f\" %(revenue/1e8)}亿元，同比{revenue_flag}{\"%.2f\" % (revenue_rate*100)}%；'\n",
    "    p1_text_2 = f'实现净利润{\"%.2f\" %(net_income/1e8)}亿元，同比{net_income_flag}{\"%.2f\" % (net_income_rate*100)}%。'\n",
    "    p1_text = p1_text_1 + p1_text_2\n",
    "    return p1_text"
   ]
  },
  {
   "cell_type": "code",
   "execution_count": 125,
   "id": "56cde9c8-ebd0-4dbb-9d5a-ec12d6a74357",
   "metadata": {},
   "outputs": [],
   "source": [
    "def stock_efficiency_status(stock_name, stock_id, stock_df):\n",
    "    net_rate = stock_df['利润率'][-1]\n",
    "    last_net_rate = stock_df['利润率'][-2]\n",
    "    net_rate_inc = net_rate - last_net_rate\n",
    "\n",
    "    gross_rate = stock_df['毛利率'][-1]\n",
    "    last_gross_rate = stock_df['毛利率'][-2]\n",
    "    gross_rate_inc = gross_rate - last_gross_rate\n",
    "\n",
    "    sale_rate = stock_df['销售费用率'][-1]\n",
    "    last_sale_rate = stock_df['销售费用率'][-2]\n",
    "    sale_rate_inc = sale_rate - last_sale_rate\n",
    "\n",
    "    admin_rate = stock_df['管理费用率'][-1]\n",
    "    last_admin_rate = stock_df['管理费用率'][-2]\n",
    "    admin_rate_inc = admin_rate - last_admin_rate\n",
    "\n",
    "    finance_rate = stock_df['财务费用率'][-1]\n",
    "    last_finance_rate = stock_df['财务费用率'][-2]\n",
    "    finance_rate_inc = finance_rate - last_finance_rate\n",
    "\n",
    "    net_rate_flag = '增长' if net_rate_inc > 0 else '下降'\n",
    "    gross_rate_flag = '增长' if gross_rate_inc > 0 else '下降'\n",
    "    sale_rate_flag = '增长' if sale_rate_inc > 0 else '下降'\n",
    "    admin_rate_flag = '增长' if admin_rate_inc > 0 else '下降'\n",
    "    finance_rate_flag = '增长' if finance_rate_inc > 0 else '下降'\n",
    "\n",
    "    p2_text_1 = f'净利率同期{net_rate_flag}{\"%.2f\" % (net_rate_inc*100)}pct至{\"%.2f\" % (net_rate*100)}%，'\n",
    "    p2_text_2 = f'毛利率同期{gross_rate_flag}{\"%.2f\" % (gross_rate_inc*100)}pct至{\"%.2f\" % (gross_rate*100)}%。'\n",
    "    p2_text_3 = f'费用率方面，销售费用率同期{sale_rate_flag}{\"%.2f\" % (sale_rate_inc*100)}pct至{\"%.2f\" % (sale_rate*100)}%，'\n",
    "    p2_text_4 = f'管理费用率同期{admin_rate_flag}{\"%.2f\" % (admin_rate_inc*100)}pct至{\"%.2f\" % (admin_rate*100)}%，'\n",
    "    p2_text_5 = f'财务费用率同期{finance_rate_flag}{\"%.2f\" % (finance_rate_inc*100)}pct至{\"%.2f\" % (finance_rate*100)}%。'\n",
    "    p2_text = p2_text_1 + p2_text_2 + p2_text_3 + p2_text_4 + p2_text_5\n",
    "    return p2_text"
   ]
  },
  {
   "cell_type": "code",
   "execution_count": 126,
   "id": "cdbf6b93-2e4d-4438-9881-95be0d95ac6f",
   "metadata": {},
   "outputs": [],
   "source": [
    "def stock_finance_status(stock_name, stock_id, stock_df):\n",
    "    roe = stock_df['净资产收益率'][-1]\n",
    "    last_roe = stock_df['净资产收益率'][-2]\n",
    "    roe_inc = roe - last_roe\n",
    "\n",
    "    net_rate = stock_df['利润率'][-1]\n",
    "    last_net_rate = stock_df['利润率'][-2]\n",
    "    net_rate_inc = net_rate - last_net_rate\n",
    "\n",
    "    asset_turnover_rate = stock_df['资产周转率'][-1]\n",
    "    last_asset_turnover_rate = stock_df['资产周转率'][-2]\n",
    "    asset_turnover_rate_inc = asset_turnover_rate - last_asset_turnover_rate\n",
    "\n",
    "    debt_asset_rate = stock_df['资产负债率'][-1]\n",
    "    last_debt_asset_rate = stock_df['资产负债率'][-2]\n",
    "    debt_asset_rate_inc = debt_asset_rate - last_debt_asset_rate\n",
    "\n",
    "    roe_flag = '增长' if roe_inc > 0 else '下降'\n",
    "    net_rate_flag = '增长' if net_rate_inc > 0 else '下降'\n",
    "    asset_turnover_rate_flag = '增长' if asset_turnover_rate_inc > 0 else '下降'\n",
    "    debt_asset_rate_flag = '增长' if debt_asset_rate_inc > 0 else '下降'\n",
    "\n",
    "    p3_text_1 = f'ROE同期{roe_flag}{\"%.2f\" % (roe_inc*100)}pct至{\"%.2f\" % (roe*100)}%，根据杜邦分析法拆解，'\n",
    "    p3_text_2 = f'净利率同期{net_rate_flag}{\"%.2f\" % (net_rate_inc*100)}pct至{\"%.2f\" % (net_rate*100)}%。'\n",
    "    p3_text_3 = f'资产周转率同期{sale_rate_flag}{\"%.2f\" % (asset_turnover_rate_inc*100)}pct至{\"%.2f\" % (asset_turnover_rate*100)}%，'\n",
    "    p3_text_4 = f'资产负债率同期{debt_asset_rate_flag}{\"%.2f\" % (debt_asset_rate_inc*100)}pct至{\"%.2f\" % (debt_asset_rate*100)}%。'\n",
    "\n",
    "    p3_text = p3_text_1 + p3_text_2 + p3_text_3 + p3_text_4\n",
    "    return p3_text"
   ]
  },
  {
   "cell_type": "code",
   "execution_count": 127,
   "id": "6755d055-87aa-4ca9-9c3a-311cdfd763f1",
   "metadata": {},
   "outputs": [],
   "source": [
    "# 这里传参要注意解耦\n",
    "def stock_industry_status(stock_name, stock_id, industry_df, rank_index_list, index_direction_list, rank_threshold):\n",
    "    # 先赋值，再更新\n",
    "    p4_text = ''\n",
    "    # TODO:拉链方法介绍\n",
    "    for index_name, direction in zip(rank_index_list, index_direction_list):\n",
    "        # 注意这里方向是反过来的\n",
    "        tmp_ascending = False if direction else True\n",
    "        tmp_df = industry_df.sort_values(by=index_name, ascending=tmp_ascending)\n",
    "        tmp_rank = tmp_df['股票简称'].tolist().index(stock_name)\n",
    "        if tmp_rank + 1 <= rank_threshold:\n",
    "            tmp_value = tmp_df.loc[stock_id, index_name]\n",
    "            tmp_avg_value = tmp_df[index_name].mean()\n",
    "            direction_flag = '远超过' if direction else '远低于'\n",
    "            p4_text = f'公司的{index_name}表现良好，达到{\"%.2f\" % (tmp_value*100)}%，在行业内排名第{tmp_rank+1}，{direction_flag}行业平均的{\"%.2f\" % (tmp_avg_value*100)}%。'\n",
    "            break\n",
    "    return p4_text"
   ]
  },
  {
   "cell_type": "markdown",
   "id": "18e2146c-9fef-4ca8-babe-36b236ab7186",
   "metadata": {},
   "source": [
    "#### 封装测试"
   ]
  },
  {
   "cell_type": "code",
   "execution_count": 158,
   "id": "43a68c87-b14f-404b-a355-065ee422249c",
   "metadata": {},
   "outputs": [],
   "source": [
    "# 设定参数\n",
    "stock_id, report_year = '300750.SZ', '2021'\n",
    "stock_id, report_year = '000820.SZ', '2021'  # 测试行业文字输出\n",
    "stock_id, report_year = '688388.SH', '2020'  # 测试行业文字输出\n",
    "\n",
    "report_date = f'{report_year}-12-31 00:00:00'\n",
    "stock_df = total_df.swaplevel().loc[stock_id].sort_index()\n",
    "stock_df = stock_df.loc[:report_date, :]\n",
    "stock_industry = stock_df['行业名称'][0]\n",
    "stock_data_row = stock_df.shape[0]\n",
    "# 如果只有1行不够！\n",
    "if stock_data_row > 1:\n",
    "    stock_name = stock_df['股票简称'][0]\n",
    "else:  # raise是主动抛出异常\n",
    "    raise Exception('不存在该股票的数据')\n",
    "\n",
    "# 设定重要性指标排序\n",
    "rank_index_list = ['净资产收益率', '利润率', '资产周转率', '资产负债率']\n",
    "# 1表示越大越好， 0表示越小越好\n",
    "index_direction_list = [1, 1, 1, 0]\n",
    "# 设定排名前几输出\n",
    "rank_threshold = 3\n",
    "\n",
    "report_year_df = total_df.loc[report_date]\n",
    "industry_df = report_year_df[report_year_df['行业名称']==stock_industry]"
   ]
  },
  {
   "cell_type": "code",
   "execution_count": 159,
   "id": "12549e83-b0d0-466d-b32e-601fbc93ee1a",
   "metadata": {},
   "outputs": [
    {
     "data": {
      "text/plain": [
       "'嘉元科技(688388.SH)全年实现营业总收入12.02亿元，同比下降-16.86%；实现净利润1.86亿元，同比下降-43.45%。'"
      ]
     },
     "execution_count": 159,
     "metadata": {},
     "output_type": "execute_result"
    }
   ],
   "source": [
    "stock_revenue_status(stock_name, stock_id, stock_df)"
   ]
  },
  {
   "cell_type": "code",
   "execution_count": 149,
   "id": "173834ae-c183-4bba-b71b-f903e9a691c7",
   "metadata": {},
   "outputs": [
    {
     "data": {
      "text/plain": [
       "'净利率同期增长4.12pct至19.63%，毛利率同期增长5.79pct至30.03%。费用率方面，销售费用率同期下降-0.07pct至0.28%，管理费用率同期下降-0.83pct至2.18%，财务费用率同期增长2.58pct至1.44%。'"
      ]
     },
     "execution_count": 149,
     "metadata": {},
     "output_type": "execute_result"
    }
   ],
   "source": [
    "stock_efficiency_status(stock_name, stock_id, stock_df)"
   ]
  },
  {
   "cell_type": "code",
   "execution_count": 150,
   "id": "8a6fa60f-e3a5-4a54-a95f-937c8fc052c0",
   "metadata": {},
   "outputs": [
    {
     "data": {
      "text/plain": [
       "'ROE同期增长10.44pct至17.65%，根据杜邦分析法拆解，净利率同期增长4.12pct至19.63%。资产周转率同期下降19.33pct至62.30%，资产负债率同期增长29.90pct至40.45%。'"
      ]
     },
     "execution_count": 150,
     "metadata": {},
     "output_type": "execute_result"
    }
   ],
   "source": [
    "stock_finance_status(stock_name, stock_id, stock_df)"
   ]
  },
  {
   "cell_type": "code",
   "execution_count": 175,
   "id": "028aa2b9-a33a-462b-a5e6-73bebba49712",
   "metadata": {},
   "outputs": [
    {
     "data": {
      "text/plain": [
       "'公司的利润率表现良好，达到19.63%，在行业内排名第3，远超过行业平均的6.89%。'"
      ]
     },
     "execution_count": 175,
     "metadata": {},
     "output_type": "execute_result"
    }
   ],
   "source": [
    "# 传参前少复制了一些代码，导致没有变换行业，所以测试很重要\n",
    "stock_industry_status(stock_name, stock_id, industry_df, rank_index_list, index_direction_list, rank_threshold)"
   ]
  },
  {
   "cell_type": "raw",
   "id": "59ee08f0-b6f7-4d2a-b7d4-79322180c27b",
   "metadata": {},
   "source": [
    "report_year_df.loc[:, ['股票简称', '利润率']].sort_values(by='利润率').dropna()"
   ]
  },
  {
   "cell_type": "code",
   "execution_count": null,
   "id": "bbfc324f-9279-4dc3-a7bf-7b10bfd83466",
   "metadata": {},
   "outputs": [],
   "source": [
    "# 这里试了几个股票没有出结果，但是测试的时候必须要努力让其有结果，所以多尝试\n",
    "stock_industry_status(stock_name, stock_id, industry_df, rank_index_list, index_direction_list, tmp_rank)"
   ]
  },
  {
   "cell_type": "markdown",
   "id": "7a1139ce-fcf7-488d-b13e-9e8230ddb396",
   "metadata": {},
   "source": [
    "### 文字输出"
   ]
  },
  {
   "cell_type": "code",
   "execution_count": 203,
   "id": "da2cac23-e5f4-4000-b6e6-43a4902c6f4c",
   "metadata": {},
   "outputs": [],
   "source": [
    "# 设定参数\n",
    "stock_id, report_year = '300750.SZ', '2021'\n",
    "stock_id, report_year = '000820.SZ', '2021'  # 测试行业文字输出\n",
    "stock_id, report_year = '688388.SH', '2021'  # 测试行业文字输出\n",
    "\n",
    "report_date = f'{report_year}-12-31 00:00:00'\n",
    "stock_df = total_df.swaplevel().loc[stock_id].sort_index()\n",
    "stock_df = stock_df.loc[:report_date, :]\n",
    "stock_industry = stock_df['行业名称'][0]\n",
    "stock_data_row = stock_df.shape[0]\n",
    "# 如果只有1行不够！\n",
    "if stock_data_row > 1:\n",
    "    stock_name = stock_df['股票简称'][0]\n",
    "else:  # raise是主动抛出异常\n",
    "    raise Exception('不存在该股票的数据')\n",
    "\n",
    "# 设定重要性指标排序\n",
    "rank_index_list = ['净资产收益率', '利润率', '资产周转率', '资产负债率']\n",
    "# 1表示越大越好， 0表示越小越好\n",
    "index_direction_list = [1, 1, 1, 0]\n",
    "# 设定排名前几输出\n",
    "rank_threshold = 3\n",
    "\n",
    "report_year_df = total_df.loc[report_date]\n",
    "industry_df = report_year_df[report_year_df['行业名称']==stock_industry]"
   ]
  },
  {
   "cell_type": "code",
   "execution_count": 182,
   "id": "b51d73e4-14e2-4d18-9c24-45a8e91b36a1",
   "metadata": {},
   "outputs": [],
   "source": [
    "from docx import Document\n",
    "from docx.shared import Inches\n",
    "\n",
    "document = Document()\n",
    "\n",
    "from docx.oxml.ns import qn\n",
    "from docx.shared import Pt \n",
    "# 文字是西文时的字体\n",
    "document.styles['Normal'].font.name = 'Times New Roman'\n",
    "# 文字是中文时的字体\n",
    "document.styles['Normal']._element.rPr.rFonts.set(qn('w:eastAsia'), u'微软雅黑')"
   ]
  },
  {
   "cell_type": "code",
   "execution_count": 183,
   "id": "2e67355d-43ed-4ee1-8a44-deee735c079a",
   "metadata": {},
   "outputs": [],
   "source": [
    "# 标题部分\n",
    "document.add_heading(f'{stock_name}({stock_id}){report_year}年报分析', 0)\n",
    "# 第一段文字\n",
    "document.add_heading('营收利润情况', level=1)\n",
    "p1_text = stock_revenue_status(stock_name, stock_id, stock_df)\n",
    "document.add_paragraph(p1_text)\n",
    "# 第二段文字\n",
    "document.add_heading('运营效率情况', level=1)\n",
    "p2_text = stock_efficiency_status(stock_name, stock_id, stock_df)\n",
    "document.add_paragraph(p2_text)\n",
    "# 第三段文字\n",
    "document.add_heading('杜邦分析', level=1)\n",
    "p3_text = stock_finance_status(stock_name, stock_id, stock_df)\n",
    "document.add_paragraph(p3_text)\n",
    "# 第四段文字\n",
    "p4_text = stock_industry_status(stock_name, stock_id, industry_df, rank_index_list, index_direction_list, rank_threshold)\n",
    "if p4_text:  # 字符串不为''就是True\n",
    "    document.add_heading('行业情况', level=1)\n",
    "    document.add_paragraph(p4_text)\n",
    "# 保存\n",
    "document.save(f'{stock_name}-{stock_id}-{report_year}年报分析.docx')"
   ]
  },
  {
   "cell_type": "markdown",
   "id": "04e30832-3be0-4da4-bf38-c3c7847b21ef",
   "metadata": {
    "tags": []
   },
   "source": [
    "#### 设置字体"
   ]
  },
  {
   "cell_type": "markdown",
   "id": "6fdff15f-2573-457b-89be-1f55d334bd9c",
   "metadata": {},
   "source": [
    "##### 普通字体"
   ]
  },
  {
   "cell_type": "code",
   "execution_count": 180,
   "id": "6ecccee4-5afa-4dc6-8061-89a60a8ea787",
   "metadata": {},
   "outputs": [],
   "source": [
    "from docx.oxml.ns import qn\n",
    "from docx.shared import Pt \n",
    "# 文字是西文时的字体\n",
    "document.styles['Normal'].font.name = 'Times New Roman'\n",
    "# 文字是中文时的字体\n",
    "document.styles['Normal']._element.rPr.rFonts.set(qn('w:eastAsia'), u'微软雅黑')"
   ]
  },
  {
   "cell_type": "markdown",
   "id": "53919854-9b29-4483-924a-9a2dbe1348bc",
   "metadata": {},
   "source": [
    "##### 标题问题研究"
   ]
  },
  {
   "cell_type": "markdown",
   "id": "b120450c-0589-49b5-861d-04b47b807454",
   "metadata": {},
   "source": [
    "问题：无法设置标题字体"
   ]
  },
  {
   "cell_type": "markdown",
   "id": "167eccf0-7d4a-4ba1-8601-de67b28449ea",
   "metadata": {},
   "source": [
    "参考：https://github.com/python-openxml/python-docx/issues/805"
   ]
  },
  {
   "cell_type": "code",
   "execution_count": 184,
   "id": "f21e7afb-d118-499c-bdd4-bd46e7717068",
   "metadata": {
    "tags": []
   },
   "outputs": [
    {
     "data": {
      "text/plain": [
       "'<w:style xmlns:w=\"http://schemas.openxmlformats.org/wordprocessingml/2006/main\" xmlns:mc=\"http://schemas.openxmlformats.org/markup-compatibility/2006\" xmlns:r=\"http://schemas.openxmlformats.org/officeDocument/2006/relationships\" xmlns:w14=\"http://schemas.microsoft.com/office/word/2010/wordml\" w:type=\"paragraph\" w:styleId=\"Title\">\\n  <w:name w:val=\"Title\"/>\\n  <w:basedOn w:val=\"Normal\"/>\\n  <w:next w:val=\"Normal\"/>\\n  <w:link w:val=\"TitleChar\"/>\\n  <w:uiPriority w:val=\"10\"/>\\n  <w:qFormat/>\\n  <w:rsid w:val=\"00FC693F\"/>\\n  <w:pPr>\\n    <w:pBdr>\\n      <w:bottom w:val=\"single\" w:sz=\"8\" w:space=\"4\" w:color=\"4F81BD\" w:themeColor=\"accent1\"/>\\n    </w:pBdr>\\n    <w:spacing w:after=\"300\" w:line=\"240\" w:lineRule=\"auto\"/>\\n    <w:contextualSpacing/>\\n  </w:pPr>\\n  <w:rPr>\\n    <w:rFonts w:asciiTheme=\"majorHAnsi\" w:eastAsiaTheme=\"majorEastAsia\" w:hAnsiTheme=\"majorHAnsi\" w:cstheme=\"majorBidi\" w:ascii=\"微软雅黑\" w:hAnsi=\"微软雅黑\"/>\\n    <w:color w:val=\"17365D\" w:themeColor=\"text2\" w:themeShade=\"BF\"/>\\n    <w:spacing w:val'"
      ]
     },
     "execution_count": 184,
     "metadata": {},
     "output_type": "execute_result"
    }
   ],
   "source": [
    ">>> document = Document()\n",
    ">>> heading = document.add_heading(\"Title\", 0)\n",
    ">>> title_style = heading.style\n",
    ">>> title_style.font.name = u\"微软雅黑\"\n",
    ">>> title_style.element.xml[:1000]"
   ]
  },
  {
   "cell_type": "markdown",
   "id": "73259cf3-72a6-40dc-9c3e-db0d6971313a",
   "metadata": {},
   "source": [
    "注意：改的是eastAsiaTheme，不要照搬答案，变通点"
   ]
  },
  {
   "cell_type": "code",
   "execution_count": 185,
   "id": "fe54a945-eeb1-47d7-8f36-85738c66684c",
   "metadata": {
    "tags": []
   },
   "outputs": [],
   "source": [
    ">>> from docx.oxml.ns import qn\n",
    ">>> rFonts = title_style.element.rPr.rFonts\n",
    ">>> rFonts.set(qn(\"w:eastAsiaTheme\"), u\"微软雅黑\")"
   ]
  },
  {
   "cell_type": "code",
   "execution_count": 186,
   "id": "00839134-95d8-49d4-b21a-7b8805210487",
   "metadata": {},
   "outputs": [
    {
     "data": {
      "text/plain": [
       "'<w:style xmlns:w=\"http://schemas.openxmlformats.org/wordprocessingml/2006/main\" xmlns:mc=\"http://schemas.openxmlformats.org/markup-compatibility/2006\" xmlns:r=\"http://schemas.openxmlformats.org/officeDocument/2006/relationships\" xmlns:w14=\"http://schemas.microsoft.com/office/word/2010/wordml\" w:type=\"paragraph\" w:styleId=\"Title\">\\n  <w:name w:val=\"Title\"/>\\n  <w:basedOn w:val=\"Normal\"/>\\n  <w:next w:val=\"Normal\"/>\\n  <w:link w:val=\"TitleChar\"/>\\n  <w:uiPriority w:val=\"10\"/>\\n  <w:qFormat/>\\n  <w:rsid w:val=\"00FC693F\"/>\\n  <w:pPr>\\n    <w:pBdr>\\n      <w:bottom w:val=\"single\" w:sz=\"8\" w:space=\"4\" w:color=\"4F81BD\" w:themeColor=\"accent1\"/>\\n    </w:pBdr>\\n    <w:spacing w:after=\"300\" w:line=\"240\" w:lineRule=\"auto\"/>\\n    <w:contextualSpacing/>\\n  </w:pPr>\\n  <w:rPr>\\n    <w:rFonts w:asciiTheme=\"majorHAnsi\" w:eastAsiaTheme=\"微软雅黑\" w:hAnsiTheme=\"majorHAnsi\" w:cstheme=\"majorBidi\" w:ascii=\"微软雅黑\" w:hAnsi=\"微软雅黑\"/>\\n    <w:color w:val=\"17365D\" w:themeColor=\"text2\" w:themeShade=\"BF\"/>\\n    <w:spacing w:val=\"5\"/>\\n  '"
      ]
     },
     "execution_count": 186,
     "metadata": {},
     "output_type": "execute_result"
    }
   ],
   "source": [
    ">>> title_style.element.xml[:1000]"
   ]
  },
  {
   "cell_type": "markdown",
   "id": "fefcc28b-e95a-44e0-9ba3-2ada82d6a7c2",
   "metadata": {},
   "source": [
    "一行尝试"
   ]
  },
  {
   "cell_type": "code",
   "execution_count": 187,
   "id": "a6571b03-a26b-4095-8a86-1a0a28696d6e",
   "metadata": {},
   "outputs": [
    {
     "data": {
      "text/plain": [
       "'<w:style xmlns:w=\"http://schemas.openxmlformats.org/wordprocessingml/2006/main\" xmlns:mc=\"http://schemas.openxmlformats.org/markup-compatibility/2006\" xmlns:r=\"http://schemas.openxmlformats.org/officeDocument/2006/relationships\" xmlns:w14=\"http://schemas.microsoft.com/office/word/2010/wordml\" w:type=\"paragraph\" w:styleId=\"Title\">\\n  <w:name w:val=\"Title\"/>\\n  <w:basedOn w:val=\"Normal\"/>\\n  <w:next w:val=\"Normal\"/>\\n  <w:link w:val=\"TitleChar\"/>\\n  <w:uiPriority w:val=\"10\"/>\\n  <w:qFormat/>\\n  <w:rsid w:val=\"00FC693F\"/>\\n  <w:pPr>\\n    <w:pBdr>\\n      <w:bottom w:val=\"single\" w:sz=\"8\" w:space=\"4\" w:color=\"4F81BD\" w:themeColor=\"accent1\"/>\\n    </w:pBdr>\\n    <w:spacing w:after=\"300\" w:line=\"240\" w:lineRule=\"auto\"/>\\n    <w:contextualSpacing/>\\n  </w:pPr>\\n  <w:rPr>\\n    <w:rFonts w:asciiTheme=\"majorHAnsi\" w:eastAsiaTheme=\"宋体\" w:hAnsiTheme=\"majorHAnsi\" w:cstheme=\"majorBidi\" w:ascii=\"宋体\" w:hAnsi=\"宋体\"/>\\n    <w:color w:val=\"17365D\" w:themeColor=\"text2\" w:themeShade=\"BF\"/>\\n    <w:spacing w:val=\"5\"/>\\n    <w:k'"
      ]
     },
     "execution_count": 187,
     "metadata": {},
     "output_type": "execute_result"
    }
   ],
   "source": [
    "heading.style.font.name = u\"宋体\"\n",
    "heading.style.element.rPr.rFonts.set(qn(\"w:eastAsiaTheme\"), u\"宋体\")\n",
    "heading.style.element.xml[:1000]"
   ]
  },
  {
   "cell_type": "markdown",
   "id": "0d736594-a006-430c-bf45-d4712b59873c",
   "metadata": {},
   "source": [
    "##### 测试标题"
   ]
  },
  {
   "cell_type": "code",
   "execution_count": 194,
   "id": "69e91e11-b3bc-41bf-bd56-af2c16f1cf81",
   "metadata": {},
   "outputs": [],
   "source": [
    "from docx import Document\n",
    "from docx.shared import Inches\n",
    "\n",
    "document = Document()\n",
    "\n",
    "# 标题部分\n",
    "heading = document.add_heading(f'测试中文字体情况123abc', 0)\n",
    "heading.style.element.rPr.rFonts.set(qn(\"w:eastAsiaTheme\"), u\"宋体\")\n",
    "# 经过多重测试，发现eastAsia也要同时存在！\n",
    "heading.style.element.rPr.rFonts.set(qn(\"w:eastAsia\"), u\"宋体\")\n",
    "\n",
    "document.save(f'中文字体测试.docx')"
   ]
  },
  {
   "cell_type": "code",
   "execution_count": 195,
   "id": "d7c2561b-a874-4fd3-b6be-482941adbe37",
   "metadata": {},
   "outputs": [
    {
     "data": {
      "text/plain": [
       "'<w:style xmlns:w=\"http://schemas.openxmlformats.org/wordprocessingml/2006/main\" xmlns:mc=\"http://schemas.openxmlformats.org/markup-compatibility/2006\" xmlns:r=\"http://schemas.openxmlformats.org/officeDocument/2006/relationships\" xmlns:w14=\"http://schemas.microsoft.com/office/word/2010/wordml\" w:type=\"paragraph\" w:styleId=\"Title\">\\n  <w:name w:val=\"Title\"/>\\n  <w:basedOn w:val=\"Normal\"/>\\n  <w:next w:val=\"Normal\"/>\\n  <w:link w:val=\"TitleChar\"/>\\n  <w:uiPriority w:val=\"10\"/>\\n  <w:qFormat/>\\n  <w:rsid w:val=\"00FC693F\"/>\\n  <w:pPr>\\n    <w:pBdr>\\n      <w:bottom w:val=\"single\" w:sz=\"8\" w:space=\"4\" w:color=\"4F81BD\" w:themeColor=\"accent1\"/>\\n    </w:pBdr>\\n    <w:spacing w:after=\"300\" w:line=\"240\" w:lineRule=\"auto\"/>\\n    <w:contextualSpacing/>\\n  </w:pPr>\\n  <w:rPr>\\n    <w:rFonts w:asciiTheme=\"majorHAnsi\" w:eastAsiaTheme=\"宋体\" w:hAnsiTheme=\"majorHAnsi\" w:cstheme=\"majorBidi\" w:eastAsia=\"宋体\"/>\\n    <w:color w:val=\"17365D\" w:themeColor=\"text2\" w:themeShade=\"BF\"/>\\n    <w:spacing w:val=\"5\"/>\\n    <w:kern w:val='"
      ]
     },
     "execution_count": 195,
     "metadata": {},
     "output_type": "execute_result"
    }
   ],
   "source": [
    "heading.style.element.xml[:1000]"
   ]
  },
  {
   "cell_type": "markdown",
   "id": "f2110c2a-3f84-4e3e-8dfd-77693e34addb",
   "metadata": {},
   "source": [
    "#### 设置表格"
   ]
  },
  {
   "cell_type": "markdown",
   "id": "5636a717-ad6e-4df0-bfec-8304df99a42c",
   "metadata": {},
   "source": [
    "##### 财务摘要"
   ]
  },
  {
   "cell_type": "code",
   "execution_count": 196,
   "id": "91c06c91-6e0b-4419-9b84-77ed533a6c1e",
   "metadata": {},
   "outputs": [
    {
     "data": {
      "text/plain": [
       "公告日期\n",
       "2017-12-31 00:00:00    5.662286e+08\n",
       "2018-12-31 00:00:00    1.153306e+09\n",
       "2019-12-31 00:00:00    1.446050e+09\n",
       "2020-12-31 00:00:00    1.202179e+09\n",
       "2021-12-31 00:00:00    2.804179e+09\n",
       "Name: 营业收入, dtype: float64"
      ]
     },
     "execution_count": 196,
     "metadata": {},
     "output_type": "execute_result"
    }
   ],
   "source": [
    "stock_df['营业收入'][1:]"
   ]
  },
  {
   "cell_type": "raw",
   "id": "d822be77-4997-4225-b37e-b26ed2211f21",
   "metadata": {},
   "source": [
    "stock_df['营业收入'] / stock_df['营业收入'].shift(1) - 1 "
   ]
  },
  {
   "cell_type": "raw",
   "id": "34ae8ec1-a379-43a6-a072-c6d1a94e68a7",
   "metadata": {},
   "source": [
    "stock_df['营业收入'].pct_change(1)"
   ]
  },
  {
   "cell_type": "code",
   "execution_count": 200,
   "id": "4d3938bb-7018-40bc-a393-5e991d29effb",
   "metadata": {},
   "outputs": [],
   "source": [
    "revenue_value = stock_df['营业收入'][1:]\n",
    "revenue_rate = stock_df['营业收入'].pct_change(1)[1:]"
   ]
  },
  {
   "cell_type": "markdown",
   "id": "c35e15e1-9aa3-4cf9-a027-7f51e852952a",
   "metadata": {},
   "source": [
    "EBIT = Earnings Before Interest and Tax  = operation income - I - T  \n",
    "Tax Shield 税盾 = I x tax rate  \n",
    "所得税和税金的区别：https://lvlin.baidu.com/question/401033506612291445.html"
   ]
  },
  {
   "cell_type": "code",
   "execution_count": 205,
   "id": "d31f747b-c109-48b8-ac42-8657c09990b6",
   "metadata": {},
   "outputs": [],
   "source": [
    "EBIT_value = stock_df['息税前利润'][1:]\n",
    "EBIT_rate = stock_df['息税前利润'].pct_change(1)[1:]"
   ]
  },
  {
   "cell_type": "code",
   "execution_count": 206,
   "id": "a2621021-66a7-4210-8589-3ec7bbf5055b",
   "metadata": {},
   "outputs": [],
   "source": [
    "net_income_value = stock_df['净利润'][1:]\n",
    "net_income_rate = stock_df['净利润'].pct_change(1)[1:]"
   ]
  },
  {
   "cell_type": "code",
   "execution_count": 207,
   "id": "3d644d6e-559e-4838-944a-bf1ec49e72ae",
   "metadata": {},
   "outputs": [],
   "source": [
    "finance_table = pd.concat([revenue_value, revenue_rate, EBIT_value, EBIT_rate, net_income_value, net_income_value], axis=1).T"
   ]
  },
  {
   "cell_type": "code",
   "execution_count": 208,
   "id": "d9c96c77-3dc4-4e4b-b34b-80089245ac9e",
   "metadata": {},
   "outputs": [
    {
     "data": {
      "text/html": [
       "<div>\n",
       "<style scoped>\n",
       "    .dataframe tbody tr th:only-of-type {\n",
       "        vertical-align: middle;\n",
       "    }\n",
       "\n",
       "    .dataframe tbody tr th {\n",
       "        vertical-align: top;\n",
       "    }\n",
       "\n",
       "    .dataframe thead th {\n",
       "        text-align: right;\n",
       "    }\n",
       "</style>\n",
       "<table border=\"1\" class=\"dataframe\">\n",
       "  <thead>\n",
       "    <tr style=\"text-align: right;\">\n",
       "      <th>公告日期</th>\n",
       "      <th>2017-12-31 00:00:00</th>\n",
       "      <th>2018-12-31 00:00:00</th>\n",
       "      <th>2019-12-31 00:00:00</th>\n",
       "      <th>2020-12-31 00:00:00</th>\n",
       "      <th>2021-12-31 00:00:00</th>\n",
       "    </tr>\n",
       "  </thead>\n",
       "  <tbody>\n",
       "    <tr>\n",
       "      <th>营业收入</th>\n",
       "      <td>5.662286e+08</td>\n",
       "      <td>1.153306e+09</td>\n",
       "      <td>1.446050e+09</td>\n",
       "      <td>1.202179e+09</td>\n",
       "      <td>2.804179e+09</td>\n",
       "    </tr>\n",
       "    <tr>\n",
       "      <th>营业收入</th>\n",
       "      <td>3.521099e-01</td>\n",
       "      <td>1.036820e+00</td>\n",
       "      <td>2.538305e-01</td>\n",
       "      <td>-1.686462e-01</td>\n",
       "      <td>1.332581e+00</td>\n",
       "    </tr>\n",
       "    <tr>\n",
       "      <th>息税前利润</th>\n",
       "      <td>1.070986e+08</td>\n",
       "      <td>2.288438e+08</td>\n",
       "      <td>4.004262e+08</td>\n",
       "      <td>1.976127e+08</td>\n",
       "      <td>6.718586e+08</td>\n",
       "    </tr>\n",
       "    <tr>\n",
       "      <th>息税前利润</th>\n",
       "      <td>3.833239e-01</td>\n",
       "      <td>1.136758e+00</td>\n",
       "      <td>7.497796e-01</td>\n",
       "      <td>-5.064941e-01</td>\n",
       "      <td>2.399876e+00</td>\n",
       "    </tr>\n",
       "    <tr>\n",
       "      <th>净利润</th>\n",
       "      <td>8.519251e+07</td>\n",
       "      <td>1.764311e+08</td>\n",
       "      <td>3.297248e+08</td>\n",
       "      <td>1.864722e+08</td>\n",
       "      <td>5.505694e+08</td>\n",
       "    </tr>\n",
       "    <tr>\n",
       "      <th>净利润</th>\n",
       "      <td>8.519251e+07</td>\n",
       "      <td>1.764311e+08</td>\n",
       "      <td>3.297248e+08</td>\n",
       "      <td>1.864722e+08</td>\n",
       "      <td>5.505694e+08</td>\n",
       "    </tr>\n",
       "  </tbody>\n",
       "</table>\n",
       "</div>"
      ],
      "text/plain": [
       "公告日期   2017-12-31 00:00:00  2018-12-31 00:00:00  2019-12-31 00:00:00  \\\n",
       "营业收入          5.662286e+08         1.153306e+09         1.446050e+09   \n",
       "营业收入          3.521099e-01         1.036820e+00         2.538305e-01   \n",
       "息税前利润         1.070986e+08         2.288438e+08         4.004262e+08   \n",
       "息税前利润         3.833239e-01         1.136758e+00         7.497796e-01   \n",
       "净利润           8.519251e+07         1.764311e+08         3.297248e+08   \n",
       "净利润           8.519251e+07         1.764311e+08         3.297248e+08   \n",
       "\n",
       "公告日期   2020-12-31 00:00:00  2021-12-31 00:00:00  \n",
       "营业收入          1.202179e+09         2.804179e+09  \n",
       "营业收入         -1.686462e-01         1.332581e+00  \n",
       "息税前利润         1.976127e+08         6.718586e+08  \n",
       "息税前利润        -5.064941e-01         2.399876e+00  \n",
       "净利润           1.864722e+08         5.505694e+08  \n",
       "净利润           1.864722e+08         5.505694e+08  "
      ]
     },
     "execution_count": 208,
     "metadata": {},
     "output_type": "execute_result"
    }
   ],
   "source": [
    "finance_table"
   ]
  },
  {
   "cell_type": "code",
   "execution_count": 211,
   "id": "4b36b4ed-ce2b-4014-9964-c00a418b5270",
   "metadata": {},
   "outputs": [],
   "source": [
    "finance_table.columns = [i[:4]+'A' for i in finance_table.columns]\n",
    "finance_table.index = ['营业收入', '(+/-)%', '经营利润(EBIT)', '(+/-)%', '净利润', '(+/-)%']"
   ]
  },
  {
   "cell_type": "code",
   "execution_count": 212,
   "id": "8a578f6f-9c1c-4dd6-ae20-0f19db123eb0",
   "metadata": {},
   "outputs": [
    {
     "data": {
      "text/html": [
       "<div>\n",
       "<style scoped>\n",
       "    .dataframe tbody tr th:only-of-type {\n",
       "        vertical-align: middle;\n",
       "    }\n",
       "\n",
       "    .dataframe tbody tr th {\n",
       "        vertical-align: top;\n",
       "    }\n",
       "\n",
       "    .dataframe thead th {\n",
       "        text-align: right;\n",
       "    }\n",
       "</style>\n",
       "<table border=\"1\" class=\"dataframe\">\n",
       "  <thead>\n",
       "    <tr style=\"text-align: right;\">\n",
       "      <th></th>\n",
       "      <th>2017A</th>\n",
       "      <th>2018A</th>\n",
       "      <th>2019A</th>\n",
       "      <th>2020A</th>\n",
       "      <th>2021A</th>\n",
       "    </tr>\n",
       "  </thead>\n",
       "  <tbody>\n",
       "    <tr>\n",
       "      <th>营业收入</th>\n",
       "      <td>5.662286e+08</td>\n",
       "      <td>1.153306e+09</td>\n",
       "      <td>1.446050e+09</td>\n",
       "      <td>1.202179e+09</td>\n",
       "      <td>2.804179e+09</td>\n",
       "    </tr>\n",
       "    <tr>\n",
       "      <th>(+/-)%</th>\n",
       "      <td>3.521099e-01</td>\n",
       "      <td>1.036820e+00</td>\n",
       "      <td>2.538305e-01</td>\n",
       "      <td>-1.686462e-01</td>\n",
       "      <td>1.332581e+00</td>\n",
       "    </tr>\n",
       "    <tr>\n",
       "      <th>经营利润(EBIT)</th>\n",
       "      <td>1.070986e+08</td>\n",
       "      <td>2.288438e+08</td>\n",
       "      <td>4.004262e+08</td>\n",
       "      <td>1.976127e+08</td>\n",
       "      <td>6.718586e+08</td>\n",
       "    </tr>\n",
       "    <tr>\n",
       "      <th>(+/-)%</th>\n",
       "      <td>3.833239e-01</td>\n",
       "      <td>1.136758e+00</td>\n",
       "      <td>7.497796e-01</td>\n",
       "      <td>-5.064941e-01</td>\n",
       "      <td>2.399876e+00</td>\n",
       "    </tr>\n",
       "    <tr>\n",
       "      <th>净利润</th>\n",
       "      <td>8.519251e+07</td>\n",
       "      <td>1.764311e+08</td>\n",
       "      <td>3.297248e+08</td>\n",
       "      <td>1.864722e+08</td>\n",
       "      <td>5.505694e+08</td>\n",
       "    </tr>\n",
       "    <tr>\n",
       "      <th>(+/-)%</th>\n",
       "      <td>8.519251e+07</td>\n",
       "      <td>1.764311e+08</td>\n",
       "      <td>3.297248e+08</td>\n",
       "      <td>1.864722e+08</td>\n",
       "      <td>5.505694e+08</td>\n",
       "    </tr>\n",
       "  </tbody>\n",
       "</table>\n",
       "</div>"
      ],
      "text/plain": [
       "                   2017A         2018A         2019A         2020A  \\\n",
       "营业收入        5.662286e+08  1.153306e+09  1.446050e+09  1.202179e+09   \n",
       "(+/-)%      3.521099e-01  1.036820e+00  2.538305e-01 -1.686462e-01   \n",
       "经营利润(EBIT)  1.070986e+08  2.288438e+08  4.004262e+08  1.976127e+08   \n",
       "(+/-)%      3.833239e-01  1.136758e+00  7.497796e-01 -5.064941e-01   \n",
       "净利润         8.519251e+07  1.764311e+08  3.297248e+08  1.864722e+08   \n",
       "(+/-)%      8.519251e+07  1.764311e+08  3.297248e+08  1.864722e+08   \n",
       "\n",
       "                   2021A  \n",
       "营业收入        2.804179e+09  \n",
       "(+/-)%      1.332581e+00  \n",
       "经营利润(EBIT)  6.718586e+08  \n",
       "(+/-)%      2.399876e+00  \n",
       "净利润         5.505694e+08  \n",
       "(+/-)%      5.505694e+08  "
      ]
     },
     "execution_count": 212,
     "metadata": {},
     "output_type": "execute_result"
    }
   ],
   "source": [
    "finance_table"
   ]
  },
  {
   "cell_type": "code",
   "execution_count": 213,
   "id": "7a5d8949-ec5a-4d68-831b-8f0305535679",
   "metadata": {},
   "outputs": [],
   "source": [
    "def get_finance_table(stock_df):\n",
    "    revenue_value = stock_df['营业收入'][1:]\n",
    "    revenue_rate = stock_df['营业收入'].pct_change(1)[1:]\n",
    "    EBIT_value = stock_df['息税前利润'][1:]\n",
    "    EBIT_rate = stock_df['息税前利润'].pct_change(1)[1:]\n",
    "    net_income_value = stock_df['净利润'][1:]\n",
    "    net_income_rate = stock_df['净利润'].pct_change(1)[1:]\n",
    "    finance_table = pd.concat([revenue_value, revenue_rate, EBIT_value, EBIT_rate, net_income_value, net_income_rate], axis=1).T\n",
    "    finance_table.columns = finance_table.columns.str.slice(0, 4) + 'A'\n",
    "    finance_table.index = ['营业收入', '(+/-)%', '经营利润(EBIT)', '(+/-)%', '净利润', '(+/-)%']\n",
    "    return finance_table"
   ]
  },
  {
   "cell_type": "markdown",
   "id": "98b49742-569e-4a4a-83f0-19a4f4f4921f",
   "metadata": {},
   "source": [
    "##### 估值指标"
   ]
  },
  {
   "cell_type": "markdown",
   "id": "080471a7-00c4-43cb-8f04-6423bdabd853",
   "metadata": {},
   "source": [
    "业绩快报包含每股盈利：https://data.eastmoney.com/bbsj/201806/yjkb.html"
   ]
  },
  {
   "cell_type": "markdown",
   "id": "d7988a12-9aeb-4c31-93ef-778da04cd333",
   "metadata": {},
   "source": [
    "这里没有获取股票当前价格、股票数量，所以就先用杜邦分析的结果简单替代，也不显示增减了"
   ]
  },
  {
   "cell_type": "code",
   "execution_count": 214,
   "id": "6239cc06-44f2-49d3-8b7f-2afcb341e5a8",
   "metadata": {},
   "outputs": [],
   "source": [
    "# 尽管不用算增速可以多1条数据，但是也要和其他数据对齐\n",
    "roe = stock_df['净资产收益率'][1:]\n",
    "net_rate = stock_df['利润率'][1:]\n",
    "asset_turnover_rate = stock_df['资产周转率'][1:]\n",
    "debt_asset_rate = stock_df['资产负债率'][1:]"
   ]
  },
  {
   "cell_type": "code",
   "execution_count": 216,
   "id": "61882d16-27a4-43e8-badf-d13ea13ca8a7",
   "metadata": {},
   "outputs": [],
   "source": [
    "dupont_table = pd.concat([roe, net_rate ,asset_turnover_rate, debt_asset_rate], axis=1).T\n",
    "dupont_table.columns = dupont_table.columns.str.slice(0, 4) + 'A'\n",
    "dupont_table.index = ['净资产收益率(ROE)', '利润率', '资产周转率', '资产负债率']"
   ]
  },
  {
   "cell_type": "code",
   "execution_count": 217,
   "id": "af82bfc0-3e34-4cb4-918a-c11c9c72fe6d",
   "metadata": {},
   "outputs": [
    {
     "data": {
      "text/html": [
       "<div>\n",
       "<style scoped>\n",
       "    .dataframe tbody tr th:only-of-type {\n",
       "        vertical-align: middle;\n",
       "    }\n",
       "\n",
       "    .dataframe tbody tr th {\n",
       "        vertical-align: top;\n",
       "    }\n",
       "\n",
       "    .dataframe thead th {\n",
       "        text-align: right;\n",
       "    }\n",
       "</style>\n",
       "<table border=\"1\" class=\"dataframe\">\n",
       "  <thead>\n",
       "    <tr style=\"text-align: right;\">\n",
       "      <th>公告日期</th>\n",
       "      <th>2017A</th>\n",
       "      <th>2018A</th>\n",
       "      <th>2019A</th>\n",
       "      <th>2020A</th>\n",
       "      <th>2021A</th>\n",
       "    </tr>\n",
       "  </thead>\n",
       "  <tbody>\n",
       "    <tr>\n",
       "      <th>净资产收益率(ROE)</th>\n",
       "      <td>0.175465</td>\n",
       "      <td>0.286824</td>\n",
       "      <td>0.203100</td>\n",
       "      <td>0.072075</td>\n",
       "      <td>0.176477</td>\n",
       "    </tr>\n",
       "    <tr>\n",
       "      <th>利润率</th>\n",
       "      <td>0.150456</td>\n",
       "      <td>0.152979</td>\n",
       "      <td>0.228018</td>\n",
       "      <td>0.155112</td>\n",
       "      <td>0.196339</td>\n",
       "    </tr>\n",
       "    <tr>\n",
       "      <th>资产周转率</th>\n",
       "      <td>0.828743</td>\n",
       "      <td>1.272895</td>\n",
       "      <td>0.788657</td>\n",
       "      <td>0.429725</td>\n",
       "      <td>0.623027</td>\n",
       "    </tr>\n",
       "    <tr>\n",
       "      <th>资产负债率</th>\n",
       "      <td>0.340333</td>\n",
       "      <td>0.305935</td>\n",
       "      <td>0.041515</td>\n",
       "      <td>0.105585</td>\n",
       "      <td>0.404538</td>\n",
       "    </tr>\n",
       "  </tbody>\n",
       "</table>\n",
       "</div>"
      ],
      "text/plain": [
       "公告日期            2017A     2018A     2019A     2020A     2021A\n",
       "净资产收益率(ROE)  0.175465  0.286824  0.203100  0.072075  0.176477\n",
       "利润率          0.150456  0.152979  0.228018  0.155112  0.196339\n",
       "资产周转率        0.828743  1.272895  0.788657  0.429725  0.623027\n",
       "资产负债率        0.340333  0.305935  0.041515  0.105585  0.404538"
      ]
     },
     "execution_count": 217,
     "metadata": {},
     "output_type": "execute_result"
    }
   ],
   "source": [
    "dupont_table"
   ]
  },
  {
   "cell_type": "code",
   "execution_count": 224,
   "id": "b072c6ef-98b4-45e8-b461-a37b71a0e196",
   "metadata": {},
   "outputs": [],
   "source": [
    "def get_dupont_table(stock_df):\n",
    "    # 尽管不用算增速可以多1条数据，但是也要和其他数据对齐\n",
    "    roe = stock_df['净资产收益率'][1:]\n",
    "    net_rate = stock_df['利润率'][1:]\n",
    "    asset_turnover_rate = stock_df['资产周转率'][1:]\n",
    "    debt_asset_rate = stock_df['资产负债率'][1:]\n",
    "    dupont_table = pd.concat([roe, net_rate ,asset_turnover_rate, debt_asset_rate], axis=1).T\n",
    "    dupont_table.columns = dupont_table.columns.str.slice(0, 4) + 'A'\n",
    "    dupont_table.index = ['净资产收益率(ROE)', '利润率', '资产周转率', '资产负债率']\n",
    "    return dupont_table"
   ]
  },
  {
   "cell_type": "markdown",
   "id": "7f503daf-846a-4ba9-bd48-21471e7a4b86",
   "metadata": {},
   "source": [
    "#### 文字部分合并"
   ]
  },
  {
   "cell_type": "code",
   "execution_count": 219,
   "id": "97cf8e6c-36ac-4d0f-a91f-1ee2910a1ad0",
   "metadata": {},
   "outputs": [],
   "source": [
    "# 将改变字体的函数进行封装\n",
    "def change_font(h, font_name=u'微软雅黑'):\n",
    "    h.style.element.rPr.rFonts.set(qn(\"w:eastAsia\"), font_name)\n",
    "    h.style.element.rPr.rFonts.set(qn(\"w:eastAsiaTheme\"), font_name)"
   ]
  },
  {
   "cell_type": "raw",
   "id": "637d2741-e6e4-4e9c-9432-288706d76ff1",
   "metadata": {},
   "source": [
    "table = document.add_table(rows=1, cols=3)\n",
    "hdr_cells = table.rows[0].cells\n",
    "hdr_cells[0].text = 'Qty'\n",
    "hdr_cells[1].text = 'Id'\n",
    "hdr_cells[2].text = 'Desc'\n",
    "for qty, id, desc in records:\n",
    "    row_cells = table.add_row().cells\n",
    "    row_cells[0].text = str(qty)\n",
    "    row_cells[1].text = id\n",
    "    row_cells[2].text = desc"
   ]
  },
  {
   "cell_type": "code",
   "execution_count": 222,
   "id": "b19cb91e-cb93-4d1e-a40b-8097a7baf5e1",
   "metadata": {},
   "outputs": [],
   "source": [
    "# 将表格保存的函数进行封装\n",
    "def add_df_document(df, doc, table_name):\n",
    "    table = doc.add_table(rows=df.shape[0]+1, cols=df.shape[1]+1, style='Light Shading Accent 1')\n",
    "    # 增加表头\n",
    "    hdr_cells = table.rows[0].cells\n",
    "    # 第一行的第一个格子填充表名\n",
    "    hdr_cells[0].text = table_name\n",
    "    for col_idx, col_name in enumerate(df.columns):\n",
    "        hdr_cells[col_idx+1].text = col_name\n",
    "    # 增加内容，先按行循环\n",
    "    for idx_idx, idx_name in enumerate(df.index):\n",
    "        # 增加一行\n",
    "        row_cells = table.rows[idx_idx+1].cells\n",
    "        # 给这行填充列的值，先填充这行的指标名称\n",
    "        row_cells[0].text = idx_name\n",
    "        for col_idx, col_name in enumerate(df.columns):\n",
    "            tmp_value = df.iloc[idx_idx, col_idx]\n",
    "            # 如果指标名称有比率的情况\n",
    "            if ('%' in idx_name) or ('率' in idx_name):\n",
    "                row_cells[col_idx+1].text = \"%.2f\" % (tmp_value*100)\n",
    "            else:  # 否则就简单按百万计算\n",
    "                row_cells[col_idx+1].text = str(int(tmp_value / 1e6))\n",
    "    return doc"
   ]
  },
  {
   "cell_type": "code",
   "execution_count": 225,
   "id": "0f51ec8f-f077-47fc-9d87-86fbe2a92d30",
   "metadata": {},
   "outputs": [],
   "source": [
    "from docx import Document\n",
    "from docx.shared import Inches\n",
    "from docx.oxml.ns import qn\n",
    "from docx.shared import Pt \n",
    "\n",
    "document = Document()\n",
    "\n",
    "# 修改字体\n",
    "document.styles['Normal'].font.name = 'Times New Roman'\n",
    "document.styles['Normal']._element.rPr.rFonts.set(qn('w:eastAsia'), u'微软雅黑')\n",
    "\n",
    "# 标题部分\n",
    "heading = document.add_heading(f'{stock_name}({stock_id}){report_year}年报分析', 0)\n",
    "change_font(heading)\n",
    "\n",
    "# 第一段文字\n",
    "heading1 = document.add_heading('营收利润情况', level=1)\n",
    "change_font(heading1)\n",
    "p1_text = stock_revenue_status(stock_name, stock_id, stock_df)\n",
    "document.add_paragraph(p1_text)\n",
    "# 第二段文字\n",
    "heading2 = document.add_heading('运营效率情况', level=1)\n",
    "change_font(heading2)\n",
    "p2_text = stock_efficiency_status(stock_name, stock_id, stock_df)\n",
    "document.add_paragraph(p2_text)\n",
    "# 第三段文字\n",
    "heading3 = document.add_heading('杜邦分析', level=1)\n",
    "change_font(heading3)\n",
    "p3_text = stock_finance_status(stock_name, stock_id, stock_df)\n",
    "document.add_paragraph(p3_text)\n",
    "# 第四段文字\n",
    "p4_text = stock_industry_status(stock_name, stock_id, industry_df, rank_index_list, index_direction_list, rank_threshold)\n",
    "if p4_text:  # 字符串不为''就是True\n",
    "    heading4 = document.add_heading('行业情况', level=1)\n",
    "    change_font(heading4)\n",
    "    document.add_paragraph(p4_text)\n",
    "\n",
    "# 翻页获取表格\n",
    "document.add_page_break()\n",
    "finance_table = get_finance_table(stock_df)\n",
    "dupont_table = get_dupont_table(stock_df)\n",
    "document = add_df_document(finance_table, document, '财务摘要（百万元）')\n",
    "document.add_paragraph('\\n')\n",
    "document = add_df_document(dupont_table, document, '杜邦分析指标')\n",
    "\n",
    "# 保存\n",
    "document.save(f'{stock_name}-{stock_id}-{report_year}年报分析.docx')"
   ]
  },
  {
   "cell_type": "markdown",
   "id": "08470bdc-5836-4389-b681-5fd40317de3b",
   "metadata": {},
   "source": [
    "## 图表准备"
   ]
  },
  {
   "cell_type": "code",
   "execution_count": 226,
   "id": "bcac14f5-8b38-40fa-94d3-67cd6cd56854",
   "metadata": {},
   "outputs": [],
   "source": [
    "import matplotlib.pyplot as plt"
   ]
  },
  {
   "cell_type": "markdown",
   "id": "5b60c027-64d6-4080-947b-c6604b6bff25",
   "metadata": {},
   "source": [
    "### 营收净利双轴"
   ]
  },
  {
   "cell_type": "markdown",
   "id": "b0bf51ea-eac9-477a-a188-d4be43aa763a",
   "metadata": {},
   "source": [
    "#### 参考代码"
   ]
  },
  {
   "cell_type": "markdown",
   "id": "b9ad7a86-238e-4ceb-8b9d-d86f8f3a958e",
   "metadata": {},
   "source": [
    "https://blog.csdn.net/lanhezhong/article/details/108061483"
   ]
  },
  {
   "cell_type": "code",
   "execution_count": 231,
   "id": "748a55d3-7601-49bc-b9c8-663ea02fa797",
   "metadata": {},
   "outputs": [
    {
     "data": {
      "image/png": "[encoded data removed]",
      "text/plain": [
       "<Figure size 432x288 with 2 Axes>"
      ]
     },
     "metadata": {
      "needs_background": "light"
     },
     "output_type": "display_data"
    }
   ],
   "source": [
    "import matplotlib.pyplot as plt\n",
    "import numpy as np\n",
    " \n",
    "plt.rcParams['font.sans-serif']=['SimHei']#用来正常显示中文标签\n",
    "plt.rcParams['axes.unicode_minus']=False#用来正常显示负号\n",
    " \n",
    "if __name__ == '__main__':\n",
    "    X=[\"2019-01\", \"2019-02\", \"2019-03\", \"2019-04\", \"2019-05\", \"2019-06\", \"2019-07\", \"2019-08\", \"2019-09\", \"2019-10\", \"2019-11\", \"2019-12\"]\n",
    "    Y1=np.random.randint(500,1000,12)\n",
    "    Y2=[None]\n",
    "    for i in range(1,len(Y1)):\n",
    "        Y2.append((Y1[i]-Y1[i-1])/Y1[i-1])\n",
    " \n",
    "    fig, ax1 = plt.subplots()\n",
    "    plt.xticks(rotation=45)\n",
    " \n",
    "    ax1.bar(X, Y1, color=\"blue\", alpha=0.5, label=\"出货量\")\n",
    "    ax1.set_xlabel(\"月份\")\n",
    "    ax1.set_ylabel(\"出货量(吨)\")\n",
    " \n",
    "    ax2 = ax1.twinx()\n",
    "    ax2.plot(X, Y2, color=\"red\", label=\"环比增长\")\n",
    "    ax2.set_ylabel(\"环比增长\")\n",
    " \n",
    "    fig.legend(loc=\"upper right\", bbox_to_anchor=(0.5, 1), bbox_transform=ax1.transAxes)\n",
    "    plt.show()"
   ]
  },
  {
   "cell_type": "markdown",
   "id": "7afe1cbe-b16b-49c2-ae65-1b6a40c6b09e",
   "metadata": {},
   "source": [
    "官方案例：https://matplotlib.org/stable/gallery/axisartist/demo_parasite_axes2.html#sphx-glr-gallery-axisartist-demo-parasite-axes2-py"
   ]
  },
  {
   "cell_type": "code",
   "execution_count": 232,
   "id": "b572c726-d25d-4b96-82d6-a421c6960b90",
   "metadata": {},
   "outputs": [
    {
     "data": {
      "image/png": "[encoded data removed]",
      "text/plain": [
       "<Figure size 432x288 with 1 Axes>"
      ]
     },
     "metadata": {
      "needs_background": "light"
     },
     "output_type": "display_data"
    }
   ],
   "source": [
    "from mpl_toolkits.axes_grid1 import host_subplot\n",
    "from mpl_toolkits import axisartist\n",
    "import matplotlib.pyplot as plt\n",
    "\n",
    "host = host_subplot(111)\n",
    "\n",
    "par1 = host.twinx()\n",
    "\n",
    "p1, = host.plot([0, 1, 2], [0, 1, 2], label=\"Density\")\n",
    "p2, = par1.plot([0, 1, 2], [0, 3, 2], label=\"Temperature\")\n",
    "\n",
    "host.legend()\n",
    "\n",
    "plt.show()"
   ]
  },
  {
   "cell_type": "markdown",
   "id": "e88c5e78-a277-468c-b4f3-53e4b4e0b85d",
   "metadata": {},
   "source": [
    "Matplotlib 的默认颜色 以及 使用调色盘调整颜色"
   ]
  },
  {
   "cell_type": "markdown",
   "id": "6a0a0b1a-0db1-4e49-aee4-d9d19f5ff9f5",
   "metadata": {},
   "source": [
    "https://www.cnblogs.com/Gelthin2017/p/14177100.html  \n",
    "https://matplotlib.org/3.1.1/users/dflt_style_changes.html"
   ]
  },
  {
   "cell_type": "markdown",
   "id": "39e75cec-9d24-4ba8-a143-711f0c172104",
   "metadata": {},
   "source": [
    "#### 实现代码"
   ]
  },
  {
   "cell_type": "markdown",
   "id": "b8b23d79-fc65-4be4-a7e1-fd95cc4d5d39",
   "metadata": {},
   "source": [
    "图像的内容尽量清晰简洁、不要有歧义"
   ]
  },
  {
   "cell_type": "code",
   "execution_count": 233,
   "id": "398a96dc-5d35-4d4c-9bed-ddaca6758cc9",
   "metadata": {},
   "outputs": [],
   "source": [
    "revenue_value = stock_df['营业收入'][1:]\n",
    "revenue_rate = stock_df['营业收入'].pct_change(1)[1:]"
   ]
  },
  {
   "cell_type": "code",
   "execution_count": 235,
   "id": "034def63-acfe-4176-bb0c-33879a05d712",
   "metadata": {},
   "outputs": [
    {
     "data": {
      "text/plain": [
       "<matplotlib.legend.Legend at 0x21466886eb0>"
      ]
     },
     "execution_count": 235,
     "metadata": {},
     "output_type": "execute_result"
    },
    {
     "data": {
      "image/png": "[encoded data removed]",
      "text/plain": [
       "<Figure size 432x288 with 1 Axes>"
      ]
     },
     "metadata": {
      "needs_background": "light"
     },
     "output_type": "display_data"
    }
   ],
   "source": [
    "import matplotlib.pyplot as plt\n",
    "from mpl_toolkits.axes_grid1 import host_subplot\n",
    "\n",
    "x = revenue_value.index.str.slice(0, 4)\n",
    "y1 = revenue_value.values / 1e8\n",
    "y2 = revenue_rate.values * 100\n",
    "\n",
    "host = host_subplot(111)\n",
    "par1 = host.twinx()\n",
    "host.bar(x,y1,color='C0', label='营业收入(亿元)')\n",
    "par1.plot(x,y2, color='C1', label='营业收入yoy（%）', linewidth=3)\n",
    "host.legend(loc=\"upper left\")"
   ]
  },
  {
   "cell_type": "code",
   "execution_count": 236,
   "id": "96a017ed-3269-4435-8fee-c36e3e4689bf",
   "metadata": {},
   "outputs": [],
   "source": [
    "net_income_value = stock_df['净利润'][1:]\n",
    "net_income_rate = stock_df['净利润'].pct_change(1)[1:]"
   ]
  },
  {
   "cell_type": "code",
   "execution_count": 237,
   "id": "8a67fb2d-435a-44db-8aab-642983c92fed",
   "metadata": {},
   "outputs": [
    {
     "data": {
      "text/plain": [
       "<matplotlib.legend.Legend at 0x21466a57d00>"
      ]
     },
     "execution_count": 237,
     "metadata": {},
     "output_type": "execute_result"
    },
    {
     "data": {
      "image/png": "[encoded data removed]",
      "text/plain": [
       "<Figure size 432x288 with 1 Axes>"
      ]
     },
     "metadata": {
      "needs_background": "light"
     },
     "output_type": "display_data"
    }
   ],
   "source": [
    "import matplotlib.pyplot as plt\n",
    "from mpl_toolkits.axes_grid1 import host_subplot\n",
    "\n",
    "x = net_income_value.index.str.slice(0, 4)\n",
    "y1 = net_income_value.values / 1e8\n",
    "y2 = net_income_rate.values * 100\n",
    "\n",
    "host = host_subplot(111)\n",
    "par1 = host.twinx()\n",
    "host.bar(x,y1,color='C0', label='净利润(亿元)')\n",
    "par1.plot(x,y2, color='C1', label='净利润yoy（%）', linewidth=3)\n",
    "host.legend()"
   ]
  },
  {
   "cell_type": "markdown",
   "id": "a4cf39b2-1598-4d14-b2cd-95524584e26f",
   "metadata": {
    "tags": []
   },
   "source": [
    "### 降本提效"
   ]
  },
  {
   "cell_type": "code",
   "execution_count": 242,
   "id": "2261e820-f53e-4ca5-acf2-748ae481dd44",
   "metadata": {},
   "outputs": [],
   "source": [
    "# 尽管不用算增速可以多1条数据，但是也要和其他数据对齐\n",
    "net_rate = stock_df['利润率'][1:]\n",
    "gross_rate = stock_df['毛利率'][1:]\n",
    "sale_rate = stock_df['销售费用率'][1:]\n",
    "admin_rate = stock_df['管理费用率'][1:]\n",
    "finance_rate = stock_df['财务费用率'][1:]"
   ]
  },
  {
   "cell_type": "code",
   "execution_count": 245,
   "id": "02113e84-1315-4544-95b1-920d175c7a7c",
   "metadata": {},
   "outputs": [
    {
     "data": {
      "text/plain": [
       "<matplotlib.legend.Legend at 0x21466cb7a60>"
      ]
     },
     "execution_count": 245,
     "metadata": {},
     "output_type": "execute_result"
    },
    {
     "data": {
      "image/png": "[encoded data removed]",
      "text/plain": [
       "<Figure size 432x288 with 1 Axes>"
      ]
     },
     "metadata": {
      "needs_background": "light"
     },
     "output_type": "display_data"
    }
   ],
   "source": [
    "import matplotlib.pyplot as plt\n",
    "x = revenue_value.index.str.slice(0, 4)\n",
    "y0 = net_rate.values * 100\n",
    "y1 = gross_rate.values * 100\n",
    "fig = plt.figure()\n",
    "plt.plot(x, y0, label='净利率（%）')\n",
    "plt.plot(x, y1, label='毛利率（%）')\n",
    "plt.legend(loc=\"upper left\")"
   ]
  },
  {
   "cell_type": "code",
   "execution_count": 247,
   "id": "f32673f4-eff5-441a-8031-c1f5265a003e",
   "metadata": {},
   "outputs": [
    {
     "data": {
      "text/plain": [
       "<matplotlib.legend.Legend at 0x21466d7d1f0>"
      ]
     },
     "execution_count": 247,
     "metadata": {},
     "output_type": "execute_result"
    },
    {
     "data": {
      "image/png": "[encoded data removed]",
      "text/plain": [
       "<Figure size 432x288 with 1 Axes>"
      ]
     },
     "metadata": {
      "needs_background": "light"
     },
     "output_type": "display_data"
    }
   ],
   "source": [
    "import matplotlib.pyplot as plt\n",
    "x = sale_rate.index.str.slice(0, 4)\n",
    "y2 = sale_rate.values * 100\n",
    "y3 = admin_rate.values * 100\n",
    "y4 = finance_rate.values * 100\n",
    "fig = plt.figure()\n",
    "plt.plot(x, y2, label='销售费用率（%）')\n",
    "plt.plot(x, y3, label='管理费用率（%）')\n",
    "plt.plot(x, y4, label='财务费用率（%）')\n",
    "plt.legend(loc=\"upper left\")"
   ]
  },
  {
   "cell_type": "markdown",
   "id": "05a3cdf1-52b2-4a2d-9137-e82ec90df32b",
   "metadata": {},
   "source": [
    "### 杜邦分析"
   ]
  },
  {
   "cell_type": "markdown",
   "id": "7fbd56f3-d4d9-47fa-891e-eacdd6e3da76",
   "metadata": {},
   "source": [
    "方向不同的不要放在一个图，比如上面的利润一起费用一起，这里是ROE和周转率一起，然后负债率单独"
   ]
  },
  {
   "cell_type": "code",
   "execution_count": 248,
   "id": "9b9fbcca-03ea-4ce7-a817-3d00142dc07e",
   "metadata": {},
   "outputs": [],
   "source": [
    "# 尽管不用算增速可以多1条数据，但是也要和其他数据对齐\n",
    "roe = stock_df['净资产收益率'][1:]\n",
    "asset_turnover_rate = stock_df['资产周转率'][1:]\n",
    "net_rate = stock_df['利润率'][1:]\n",
    "debt_asset_rate = stock_df['资产负债率'][1:]"
   ]
  },
  {
   "cell_type": "code",
   "execution_count": 250,
   "id": "a450d162-add9-4753-b65f-45c2d8e4a016",
   "metadata": {},
   "outputs": [
    {
     "data": {
      "text/plain": [
       "<matplotlib.legend.Legend at 0x21469e57640>"
      ]
     },
     "execution_count": 250,
     "metadata": {},
     "output_type": "execute_result"
    },
    {
     "data": {
      "image/png": "[encoded data removed]",
      "text/plain": [
       "<Figure size 432x288 with 1 Axes>"
      ]
     },
     "metadata": {
      "needs_background": "light"
     },
     "output_type": "display_data"
    }
   ],
   "source": [
    "import matplotlib.pyplot as plt\n",
    "x = revenue_value.index.str.slice(0, 4)\n",
    "y0 = roe.values * 100\n",
    "y1 = asset_turnover_rate.values * 100\n",
    "y2 = net_rate.values * 100\n",
    "fig = plt.figure()\n",
    "plt.plot(x, y0, label='ROE（%）')\n",
    "plt.plot(x, y1, label='资产周转率（%）')\n",
    "plt.plot(x, y2, label='净利率（%）')\n",
    "plt.legend(loc=\"upper left\")"
   ]
  },
  {
   "cell_type": "code",
   "execution_count": 251,
   "id": "9863a0b1-219e-4e91-b556-568cf8019fee",
   "metadata": {},
   "outputs": [
    {
     "data": {
      "text/plain": [
       "<matplotlib.legend.Legend at 0x21469eccd30>"
      ]
     },
     "execution_count": 251,
     "metadata": {},
     "output_type": "execute_result"
    },
    {
     "data": {
      "image/png": "[encoded data removed]",
      "text/plain": [
       "<Figure size 432x288 with 1 Axes>"
      ]
     },
     "metadata": {
      "needs_background": "light"
     },
     "output_type": "display_data"
    }
   ],
   "source": [
    "import matplotlib.pyplot as plt\n",
    "x = revenue_value.index.str.slice(0, 4)\n",
    "y2 = debt_asset_rate.values * 100\n",
    "fig = plt.figure()\n",
    "plt.plot(x, y2, label='资产负债率（%）')\n",
    "plt.legend(loc=\"upper left\")"
   ]
  },
  {
   "cell_type": "markdown",
   "id": "4b5d367d-e128-4166-9af5-0f98ac83fc4f",
   "metadata": {},
   "source": [
    "### 图表保存"
   ]
  },
  {
   "cell_type": "code",
   "execution_count": 255,
   "id": "f6aae88f-6cb3-4b25-b3ff-35d463b9cc6c",
   "metadata": {},
   "outputs": [
    {
     "data": {
      "image/png": "[encoded data removed]",
      "text/plain": [
       "<Figure size 432x288 with 1 Axes>"
      ]
     },
     "metadata": {
      "needs_background": "light"
     },
     "output_type": "display_data"
    }
   ],
   "source": [
    "import matplotlib.pyplot as plt\n",
    "x = revenue_value.index.str.slice(0, 4)\n",
    "y2 = debt_asset_rate.values * 100\n",
    "fig = plt.figure()\n",
    "plt.plot(x, y2, label='资产负债率（%）')\n",
    "plt.legend(loc=\"upper left\")\n",
    "plt.savefig('测试图片保存.jpg')"
   ]
  },
  {
   "cell_type": "markdown",
   "id": "72dd5ebc-e3bd-45ec-9cae-3f99f6224ea7",
   "metadata": {},
   "source": [
    "### 函数封装"
   ]
  },
  {
   "cell_type": "code",
   "execution_count": 270,
   "id": "39edfcac-6cf8-4353-8544-6ba53ecb59d6",
   "metadata": {},
   "outputs": [],
   "source": [
    "def save_revenue_pic(stock_df, pic_name):\n",
    "    # 导包\n",
    "    import matplotlib.pyplot as plt\n",
    "    from mpl_toolkits.axes_grid1 import host_subplot\n",
    "    # 计算\n",
    "    revenue_value = stock_df['营业收入'][1:]\n",
    "    revenue_rate = stock_df['营业收入'].pct_change(1)[1:]\n",
    "    x = revenue_value.index.str.slice(0, 4)\n",
    "    y1 = revenue_value.values / 1e8\n",
    "    y2 = revenue_rate.values * 100\n",
    "    # 画图\n",
    "    host = host_subplot(111)\n",
    "    par1 = host.twinx()\n",
    "    host.bar(x,y1,color='C0', label='营业收入(亿元)')\n",
    "    par1.plot(x,y2, color='C1', label='营业收入yoy（%）', linewidth=3)\n",
    "    host.legend(loc=\"upper left\")\n",
    "    plt.savefig(pic_name)\n",
    "    # 清空画布\n",
    "    plt.show()"
   ]
  },
  {
   "cell_type": "code",
   "execution_count": 271,
   "id": "cf353497-215e-4ae9-8466-2d22acce8d1d",
   "metadata": {},
   "outputs": [],
   "source": [
    "def save_net_income_pic(stock_df, pic_name):\n",
    "    # 导包\n",
    "    import matplotlib.pyplot as plt\n",
    "    from mpl_toolkits.axes_grid1 import host_subplot\n",
    "    # 计算\n",
    "    net_income_value = stock_df['净利润'][1:]\n",
    "    net_income_rate = stock_df['净利润'].pct_change(1)[1:]\n",
    "    x = net_income_value.index.str.slice(0, 4)\n",
    "    y1 = net_income_value.values / 1e8\n",
    "    y2 = net_income_rate.values * 100\n",
    "    # 画图\n",
    "    host = host_subplot(111)\n",
    "    par1 = host.twinx()\n",
    "    host.bar(x,y1,color='C0', label='净利润(亿元)')\n",
    "    par1.plot(x,y2, color='C1', label='净利润yoy（%）', linewidth=3)\n",
    "    host.legend(loc=\"upper left\")\n",
    "    plt.savefig(pic_name)\n",
    "    # 清空画布\n",
    "    plt.show()"
   ]
  },
  {
   "cell_type": "code",
   "execution_count": 272,
   "id": "5ae10dcb-0d8f-4f7d-a7ca-2a3c1580ab09",
   "metadata": {},
   "outputs": [],
   "source": [
    "def save_profit_rate_pic(stock_df, pic_name):\n",
    "    # 导包\n",
    "    import matplotlib.pyplot as plt\n",
    "    # 计算\n",
    "    net_rate = stock_df['利润率'][1:]\n",
    "    gross_rate = stock_df['毛利率'][1:]\n",
    "    # 画图\n",
    "    x = net_rate.index.str.slice(0, 4)\n",
    "    y0 = net_rate.values * 100\n",
    "    y1 = gross_rate.values * 100\n",
    "    fig = plt.figure()\n",
    "    plt.plot(x, y0, label='利润率（%）')\n",
    "    plt.plot(x, y1, label='毛利率（%）')\n",
    "    plt.legend(loc=\"upper left\")\n",
    "    plt.savefig(pic_name)\n",
    "    # 清空画布\n",
    "    plt.show()"
   ]
  },
  {
   "cell_type": "code",
   "execution_count": 273,
   "id": "bb872ea7-f1ce-4476-9141-909da2842529",
   "metadata": {},
   "outputs": [],
   "source": [
    "def save_cost_rate_pic(stock_df, pic_name):\n",
    "    # 导包\n",
    "    import matplotlib.pyplot as plt\n",
    "    # 计算\n",
    "    sale_rate = stock_df['销售费用率'][1:]\n",
    "    admin_rate = stock_df['管理费用率'][1:]\n",
    "    finance_rate = stock_df['财务费用率'][1:]\n",
    "    # 画图\n",
    "    x = sale_rate.index.str.slice(0, 4)\n",
    "    y2 = sale_rate.values * 100\n",
    "    y3 = admin_rate.values * 100\n",
    "    y4 = finance_rate.values * 100\n",
    "    fig = plt.figure()\n",
    "    plt.plot(x, y2, label='销售费用率（%）')\n",
    "    plt.plot(x, y3, label='管理费用率（%）')\n",
    "    plt.plot(x, y4, label='财务费用率（%）')\n",
    "    plt.legend(loc=\"upper left\")\n",
    "    plt.savefig(pic_name)\n",
    "    # 清空画布\n",
    "    plt.show()"
   ]
  },
  {
   "cell_type": "code",
   "execution_count": 274,
   "id": "822a77f0-cd6e-4762-877a-4a84491ae16b",
   "metadata": {},
   "outputs": [],
   "source": [
    "def save_dupont1_pic(stock_df, pic_name):\n",
    "    # 导包\n",
    "    import matplotlib.pyplot as plt\n",
    "    # 计算\n",
    "    roe = stock_df['净资产收益率'][1:]\n",
    "    asset_turnover_rate = stock_df['资产周转率'][1:]\n",
    "    net_rate = stock_df['利润率'][1:]\n",
    "    debt_asset_rate = stock_df['资产负债率'][1:]\n",
    "    # 画图\n",
    "    x = roe.index.str.slice(0, 4)\n",
    "    y0 = roe.values * 100\n",
    "    y1 = asset_turnover_rate.values * 100\n",
    "    y2 = net_rate.values * 100\n",
    "    fig = plt.figure()\n",
    "    plt.plot(x, y0, label='ROE（%）')\n",
    "    plt.plot(x, y1, label='资产周转率（%）')\n",
    "    plt.plot(x, y2, label='利润率（%）')\n",
    "    plt.legend(loc=\"upper left\")\n",
    "    plt.savefig(pic_name)\n",
    "    # 清空画布\n",
    "    plt.show()"
   ]
  },
  {
   "cell_type": "code",
   "execution_count": 275,
   "id": "c86ced77-9d48-4aeb-ba05-7f8a8bdd935b",
   "metadata": {},
   "outputs": [],
   "source": [
    "def save_dupont2_pic(stock_df, pic_name):\n",
    "    # 导包\n",
    "    import matplotlib.pyplot as plt\n",
    "    # 计算\n",
    "    roe = stock_df['净资产收益率'][1:]\n",
    "    asset_turnover_rate = stock_df['资产周转率'][1:]\n",
    "    net_rate = stock_df['利润率'][1:]\n",
    "    debt_asset_rate = stock_df['资产负债率'][1:]\n",
    "    # 画图\n",
    "    x = roe.index.str.slice(0, 4)\n",
    "    y2 = debt_asset_rate.values * 100\n",
    "    fig = plt.figure()\n",
    "    plt.plot(x, y2, label='资产负债率（%）')\n",
    "    plt.legend(loc=\"upper left\")\n",
    "    plt.savefig(pic_name)\n",
    "    # 清空画布\n",
    "    plt.show()"
   ]
  },
  {
   "cell_type": "code",
   "execution_count": 262,
   "id": "dac23227-4d11-4bfc-9195-1e60ab806663",
   "metadata": {},
   "outputs": [
    {
     "data": {
      "image/png": "[encoded data removed]",
      "text/plain": [
       "<Figure size 432x288 with 2 Axes>"
      ]
     },
     "metadata": {
      "needs_background": "light"
     },
     "output_type": "display_data"
    },
    {
     "data": {
      "image/png": "[encoded data removed]",
      "text/plain": [
       "<Figure size 432x288 with 1 Axes>"
      ]
     },
     "metadata": {
      "needs_background": "light"
     },
     "output_type": "display_data"
    },
    {
     "data": {
      "image/png": "[encoded data removed]",
      "text/plain": [
       "<Figure size 432x288 with 1 Axes>"
      ]
     },
     "metadata": {
      "needs_background": "light"
     },
     "output_type": "display_data"
    },
    {
     "data": {
      "image/png": "[encoded data removed]",
      "text/plain": [
       "<Figure size 432x288 with 1 Axes>"
      ]
     },
     "metadata": {
      "needs_background": "light"
     },
     "output_type": "display_data"
    },
    {
     "data": {
      "image/png": "[encoded data removed]",
      "text/plain": [
       "<Figure size 432x288 with 1 Axes>"
      ]
     },
     "metadata": {
      "needs_background": "light"
     },
     "output_type": "display_data"
    }
   ],
   "source": [
    "save_revenue_pic(stock_df, '图表保存测试/1.jpg')\n",
    "save_net_income_pic(stock_df, '图表保存测试/2.jpg')\n",
    "save_profit_rate_pic(stock_df, '图表保存测试/3.jpg')\n",
    "save_cost_rate_pic(stock_df, '图表保存测试/4.jpg')\n",
    "save_dupont1_pic(stock_df, '图表保存测试/5.jpg')\n",
    "save_dupont2_pic(stock_df, '图表保存测试/6.jpg')"
   ]
  },
  {
   "cell_type": "markdown",
   "id": "c68ba5e2-b931-4626-afae-4ec71b6cfa7a",
   "metadata": {},
   "source": [
    "## 文字图表合并"
   ]
  },
  {
   "cell_type": "markdown",
   "id": "1f18a8ef-a16d-46da-ac6a-37c493ca6c6d",
   "metadata": {},
   "source": [
    "### 先保存好图片"
   ]
  },
  {
   "cell_type": "code",
   "execution_count": 276,
   "id": "21508bc4-6080-4bdf-b577-c50f065546b7",
   "metadata": {},
   "outputs": [],
   "source": [
    "import os\n",
    "root_path = '年报图表'"
   ]
  },
  {
   "cell_type": "code",
   "execution_count": 277,
   "id": "78799872-8820-4dde-946f-81730026e50c",
   "metadata": {
    "tags": []
   },
   "outputs": [],
   "source": [
    "stock_doc_path = f'{stock_name}-{stock_id}-{report_year}'\n",
    "pic_path = os.path.join(root_path, stock_doc_path)"
   ]
  },
  {
   "cell_type": "code",
   "execution_count": 279,
   "id": "44307b56-1333-4c62-af11-be340d8fcba4",
   "metadata": {
    "tags": []
   },
   "outputs": [],
   "source": [
    "if not os.path.exists(pic_path):\n",
    "    os.makedirs(pic_path)"
   ]
  },
  {
   "cell_type": "code",
   "execution_count": 280,
   "id": "6d62e418-757d-488d-8847-d8b0f44a8703",
   "metadata": {
    "tags": []
   },
   "outputs": [
    {
     "data": {
      "image/png": "[encoded data removed]",
      "text/plain": [
       "<Figure size 432x288 with 1 Axes>"
      ]
     },
     "metadata": {
      "needs_background": "light"
     },
     "output_type": "display_data"
    },
    {
     "data": {
      "image/png": "[encoded data removed]",
      "text/plain": [
       "<Figure size 432x288 with 1 Axes>"
      ]
     },
     "metadata": {
      "needs_background": "light"
     },
     "output_type": "display_data"
    },
    {
     "data": {
      "image/png": "[encoded data removed]",
      "text/plain": [
       "<Figure size 432x288 with 1 Axes>"
      ]
     },
     "metadata": {
      "needs_background": "light"
     },
     "output_type": "display_data"
    },
    {
     "data": {
      "image/png": "[encoded data removed]",
      "text/plain": [
       "<Figure size 432x288 with 1 Axes>"
      ]
     },
     "metadata": {
      "needs_background": "light"
     },
     "output_type": "display_data"
    },
    {
     "data": {
      "image/png": "[encoded data removed]",
      "text/plain": [
       "<Figure size 432x288 with 1 Axes>"
      ]
     },
     "metadata": {
      "needs_background": "light"
     },
     "output_type": "display_data"
    },
    {
     "data": {
      "image/png": "[encoded data removed]",
      "text/plain": [
       "<Figure size 432x288 with 1 Axes>"
      ]
     },
     "metadata": {
      "needs_background": "light"
     },
     "output_type": "display_data"
    }
   ],
   "source": [
    "save_revenue_pic(stock_df, os.path.join(pic_path, '1.jpg'))\n",
    "save_net_income_pic(stock_df, os.path.join(pic_path, '2.jpg'))\n",
    "save_profit_rate_pic(stock_df, os.path.join(pic_path, '3.jpg'))\n",
    "save_cost_rate_pic(stock_df, os.path.join(pic_path, '4.jpg'))\n",
    "save_dupont1_pic(stock_df, os.path.join(pic_path, '5.jpg'))\n",
    "save_dupont2_pic(stock_df, os.path.join(pic_path, '6.jpg'))"
   ]
  },
  {
   "cell_type": "markdown",
   "id": "482bdc84-1477-40b8-aab7-6a459de9a7b8",
   "metadata": {},
   "source": [
    "问题：同时添加2个图片到1行怎么办？\n",
    "https://stackoverflow.com/questions/57361943/add-two-images-in-same-line-in-python-docx"
   ]
  },
  {
   "cell_type": "markdown",
   "id": "60cec3be-d525-40c5-a89c-a182659c513d",
   "metadata": {},
   "source": [
    "自己用word尝试了下，发现7.5cm宽度正合适，厘米英寸转换麻烦，自然想到导包中有厘米单位，from docx.shared import Cm"
   ]
  },
  {
   "cell_type": "markdown",
   "id": "9b31890e-4604-4de1-a0f9-50fd38d43f86",
   "metadata": {},
   "source": [
    "### 再导出结果"
   ]
  },
  {
   "cell_type": "code",
   "execution_count": 282,
   "id": "1c60500d-a3fb-4296-8e09-cfae2a809096",
   "metadata": {},
   "outputs": [],
   "source": [
    "from docx import Document\n",
    "from docx.shared import Cm\n",
    "from docx.oxml.ns import qn\n",
    "from docx.shared import Pt \n",
    "\n",
    "document = Document()\n",
    "\n",
    "# 修改字体\n",
    "document.styles['Normal'].font.name = 'Times New Roman'\n",
    "document.styles['Normal']._element.rPr.rFonts.set(qn('w:eastAsia'), u'微软雅黑')\n",
    "\n",
    "# 标题部分\n",
    "heading = document.add_heading(f'{stock_name}({stock_id}){report_year}年报分析', 0)\n",
    "change_font(heading)\n",
    "\n",
    "# 第一段文字\n",
    "heading1 = document.add_heading('营收利润情况', level=1)\n",
    "change_font(heading1)\n",
    "p1_text = stock_revenue_status(stock_name, stock_id, stock_df)\n",
    "document.add_paragraph(p1_text)\n",
    "# 第一组图片\n",
    "para_pic1 = document.add_paragraph()\n",
    "para_pic1.add_run().add_picture(os.path.join(pic_path, '1.jpg'), width=Cm(7.5))\n",
    "para_pic1.add_run().add_picture(os.path.join(pic_path, '2.jpg'), width=Cm(7.5))\n",
    "\n",
    "# 第二段文字\n",
    "heading2 = document.add_heading('运营效率情况', level=1)\n",
    "change_font(heading2)\n",
    "p2_text = stock_efficiency_status(stock_name, stock_id, stock_df)\n",
    "document.add_paragraph(p2_text)\n",
    "# 第二组图片\n",
    "para_pic1 = document.add_paragraph()\n",
    "para_pic1.add_run().add_picture(os.path.join(pic_path, '3.jpg'), width=Cm(7.5))\n",
    "para_pic1.add_run().add_picture(os.path.join(pic_path, '4.jpg'), width=Cm(7.5))\n",
    "\n",
    "# 第三段文字\n",
    "heading3 = document.add_heading('杜邦分析', level=1)\n",
    "change_font(heading3)\n",
    "p3_text = stock_finance_status(stock_name, stock_id, stock_df)\n",
    "document.add_paragraph(p3_text)\n",
    "# 第三组图片\n",
    "para_pic1 = document.add_paragraph()\n",
    "para_pic1.add_run().add_picture(os.path.join(pic_path, '5.jpg'), width=Cm(7.5))\n",
    "para_pic1.add_run().add_picture(os.path.join(pic_path, '6.jpg'), width=Cm(7.5))\n",
    "\n",
    "# 第四段文字\n",
    "p4_text = stock_industry_status(stock_name, stock_id, industry_df, rank_index_list, index_direction_list, tmp_rank)\n",
    "if p4_text:  # 字符串不为''就是True\n",
    "    heading4 = document.add_heading('行业情况', level=1)\n",
    "    change_font(heading4)\n",
    "    document.add_paragraph(p4_text)\n",
    "\n",
    "# 翻页获取表格\n",
    "# document.add_page_break()\n",
    "finance_table = get_finance_table(stock_df)\n",
    "dupont_table = get_dupont_table(stock_df)\n",
    "document = add_df_document(finance_table, document, '财务摘要（百万元）')\n",
    "document.add_paragraph('\\n')\n",
    "document = add_df_document(dupont_table, document, '杜邦分析指标')\n",
    "\n",
    "# 保存\n",
    "document.save(stock_doc_path+ '年报分析.docx')"
   ]
  },
  {
   "cell_type": "markdown",
   "id": "0c848fa8-6f3b-4288-a990-4bfb24b98f35",
   "metadata": {},
   "source": [
    "# 最终函数封装"
   ]
  },
  {
   "cell_type": "markdown",
   "id": "0e5fe3bc-bf91-4217-9011-05f96611ec1b",
   "metadata": {},
   "source": [
    "## 测试函数参数"
   ]
  },
  {
   "cell_type": "markdown",
   "id": "1cbc637e-6be7-4893-ac0f-f2cd36aa2d56",
   "metadata": {},
   "source": [
    "【国君化妆品】上海家化2021年报点评：护肤品类驱动增长，毛利提升优化盈利：https://mp.weixin.qq.com/s/cmcj2vIZ9iI8dvwl855pyQ  \n",
    "【国君食品|年报点评】海天味业：短期承压，长期乐观：  \n",
    "https://mp.weixin.qq.com/s/xHlJyIoyDaNgY_zZF1THcw"
   ]
  },
  {
   "cell_type": "markdown",
   "id": "573971ec-cd17-40a2-a1d6-3d1a67e57282",
   "metadata": {},
   "source": [
    "上海家化[600315]  海天味业[603288]"
   ]
  },
  {
   "cell_type": "markdown",
   "id": "89a21631-9972-4b68-a3a1-81931465072d",
   "metadata": {},
   "source": [
    "## 重启内核重试"
   ]
  },
  {
   "cell_type": "markdown",
   "id": "fcb368aa-e7a5-4a07-a613-5a4c596757bc",
   "metadata": {},
   "source": [
    "这样才能真正的清除缓存的干扰，从0到1测试好结果"
   ]
  },
  {
   "cell_type": "code",
   "execution_count": 286,
   "id": "e1db96cf-2bd5-4502-8e97-81c12496c0e2",
   "metadata": {},
   "outputs": [],
   "source": [
    "import pandas as pd\n",
    "total_df = pd.read_csv('2023-01-08 加工导出.csv', index_col=['公告日期', '股票代码'])"
   ]
  },
  {
   "cell_type": "raw",
   "id": "8b79a275-4ddf-4d83-9b3a-92990b5e4e43",
   "metadata": {},
   "source": [
    "# EBIT没对上，不过也就这样吧\n",
    "total_df.swaplevel().loc['600315.SH'].T"
   ]
  },
  {
   "cell_type": "markdown",
   "id": "8bcb6fe6-3326-4d5b-896e-c97822f4643f",
   "metadata": {},
   "source": [
    "- 漏复制代码：中文乱码代码，industry_df，tmp_rank\n",
    "- 函数内变量错误：sale_rate_flag/sale_rate未替换，表格转文字的pd没导入"
   ]
  },
  {
   "cell_type": "code",
   "execution_count": 283,
   "id": "54d9b2b3-7638-4a94-8498-8851d8499856",
   "metadata": {},
   "outputs": [],
   "source": [
    "from afan_docx import output_report"
   ]
  },
  {
   "cell_type": "code",
   "execution_count": 288,
   "id": "2bf9fecc-a91f-4608-a049-9e3e22dc3635",
   "metadata": {
    "tags": []
   },
   "outputs": [
    {
     "data": {
      "image/png": "[encoded data removed]",
      "text/plain": [
       "<Figure size 432x288 with 1 Axes>"
      ]
     },
     "metadata": {
      "needs_background": "light"
     },
     "output_type": "display_data"
    },
    {
     "data": {
      "image/png": "[encoded data removed]",
      "text/plain": [
       "<Figure size 432x288 with 1 Axes>"
      ]
     },
     "metadata": {
      "needs_background": "light"
     },
     "output_type": "display_data"
    },
    {
     "data": {
      "image/png": "[encoded data removed]",
      "text/plain": [
       "<Figure size 432x288 with 1 Axes>"
      ]
     },
     "metadata": {
      "needs_background": "light"
     },
     "output_type": "display_data"
    },
    {
     "data": {
      "image/png": "[encoded data removed]",
      "text/plain": [
       "<Figure size 432x288 with 1 Axes>"
      ]
     },
     "metadata": {
      "needs_background": "light"
     },
     "output_type": "display_data"
    },
    {
     "data": {
      "image/png": "[encoded data removed]",
      "text/plain": [
       "<Figure size 432x288 with 1 Axes>"
      ]
     },
     "metadata": {
      "needs_background": "light"
     },
     "output_type": "display_data"
    },
    {
     "data": {
      "image/png": "[encoded data removed]",
      "text/plain": [
       "<Figure size 432x288 with 1 Axes>"
      ]
     },
     "metadata": {
      "needs_background": "light"
     },
     "output_type": "display_data"
    }
   ],
   "source": [
    "output_report('603288.SH', '2021', total_df)"
   ]
  },
  {
   "cell_type": "raw",
   "id": "99ad7a89-fa95-4aa5-9989-ee174a9df787",
   "metadata": {},
   "source": [
    "# 图都没画\n",
    "from afan_docx import output_report\n",
    "output_report('603288.SH', 2021, total_df)"
   ]
  },
  {
   "cell_type": "markdown",
   "id": "5235992a-d2d9-409b-8719-fb92e6c472a1",
   "metadata": {
    "tags": []
   },
   "source": [
    "# 后续计划"
   ]
  },
  {
   "cell_type": "markdown",
   "id": "60fc2c41-312c-4c85-a951-cece960ac630",
   "metadata": {},
   "source": [
    "- 1 报告文字更加精细，如接近下输出“持平”、金额单位根据实际情况输出“万”、“亿”\n",
    "- 2 报告分析语句更加丰富，考虑近几年的趋势和历史高点，以及子项贡献\n",
    "- 3 标题太平淡了，但这个得借助NLP了\n",
    "- 4 部分指标如EBIT还是没算对"
   ]
  },
  {
   "cell_type": "markdown",
   "id": "e6866ce6-7020-47b5-a9e2-2c5bb3c4a3d2",
   "metadata": {},
   "source": [
    "强调：\n",
    "- 1 AFAN写的时候也在不断调试格式，所以大家感觉自己写的不好不要灰心，我这花了很长时间\n",
    "- 2 想做好一个自动化报告系统其实很复杂\n",
    "- 3 指标的确认也很重要，不然是无用功"
   ]
  }
 ],
 "metadata": {
  "kernelspec": {
   "display_name": "Python 3 (ipykernel)",
   "language": "python",
   "name": "python3"
  },
  "language_info": {
   "codemirror_mode": {
    "name": "ipython",
    "version": 3
   },
   "file_extension": ".py",
   "mimetype": "text/x-python",
   "name": "python",
   "nbconvert_exporter": "python",
   "pygments_lexer": "ipython3",
   "version": "3.9.7"
  },
  "toc-autonumbering": true
 },
 "nbformat": 4,
 "nbformat_minor": 5
}
