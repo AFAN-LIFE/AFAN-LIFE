{
 "cells": [
  {
   "cell_type": "markdown",
   "metadata": {},
   "source": [
    "# 简单了解Jupyter Lab"
   ]
  },
  {
   "cell_type": "markdown",
   "metadata": {
    "tags": []
   },
   "source": [
    "## 1 快捷键"
   ]
  },
  {
   "cell_type": "markdown",
   "metadata": {},
   "source": [
    "### 1.1 界面  \n",
    "- Ctrl+B 左侧栏隐藏  \n",
    "- Ctrl+(+/-)或Ctrl+滚轮：\n",
    "- F11：全屏模式，jupyter下需要先在其他网页F11打开，再Ctrl+Tab 或 Ctrl+PgUP/PgDown切换"
   ]
  },
  {
   "cell_type": "markdown",
   "metadata": {},
   "source": [
    "### 1.2 单元格模式\n",
    "- 编辑模式 Enter，非编辑模式 Esc  \n",
    "- 输入框蓝色下编辑模式，有Markdown(M)、Code(Y)、Raw(R)三种模式  "
   ]
  },
  {
   "cell_type": "markdown",
   "metadata": {},
   "source": [
    "### 1.3 单元格操作\n",
    "- 非编辑模式下，C-复制，X-剪切，V-粘贴，Z-回退，Shif+Z前进，创建新代码块A B，"
   ]
  },
  {
   "cell_type": "markdown",
   "metadata": {},
   "source": [
    "### 1.4 单元格执行  \n",
    "- 执行代码：Ctrl+Enter Shift+Enter\n",
    "- 执行状态：执行一次会+1，执行等待会有*"
   ]
  },
  {
   "cell_type": "markdown",
   "metadata": {},
   "source": [
    "### 1.5 其他  \n",
    "- 误删除-输入history  \n",
    "- Jupyter的文件后缀是ipynb，所以保存了执行过程中的所有记录，重新执行会覆盖这些记录  \n"
   ]
  },
  {
   "cell_type": "markdown",
   "metadata": {},
   "source": [
    "### 1.6 内核  \n",
    "- 重启、切换按钮"
   ]
  },
  {
   "cell_type": "markdown",
   "metadata": {},
   "source": [
    "## 2 Markdown安利：公式输入"
   ]
  },
  {
   "cell_type": "markdown",
   "metadata": {},
   "source": [
    "$\\int_a^bf(x)dx=\\int_a^b\\frac{1}{\\sqrt{2\\pi}}e^{-\\frac{x^2}{2}}dx \\tag{1.1}$"
   ]
  },
  {
   "cell_type": "markdown",
   "metadata": {},
   "source": [
    "## 3 Python易用性"
   ]
  },
  {
   "cell_type": "markdown",
   "metadata": {},
   "source": [
    "##### Python的Hello World"
   ]
  },
  {
   "cell_type": "code",
   "execution_count": 8,
   "metadata": {},
   "outputs": [
    {
     "name": "stdout",
     "output_type": "stream",
     "text": [
      "Hello World\n"
     ]
    }
   ],
   "source": [
    "print('Hello World')"
   ]
  },
  {
   "cell_type": "code",
   "execution_count": 10,
   "metadata": {},
   "outputs": [
    {
     "name": "stdout",
     "output_type": "stream",
     "text": [
      "bilibili\n"
     ]
    }
   ],
   "source": [
    "print('bilibili')"
   ]
  },
  {
   "cell_type": "markdown",
   "metadata": {},
   "source": [
    "##### Java的Hello World"
   ]
  },
  {
   "cell_type": "raw",
   "metadata": {},
   "source": [
    "public class HelloWorld {  \n",
    "    public static void main(String[] args) {  \n",
    "        System.out.println(\"Hello World\");  \n",
    "    }  \n",
    "}  "
   ]
  },
  {
   "cell_type": "markdown",
   "metadata": {},
   "source": [
    "___"
   ]
  },
  {
   "cell_type": "markdown",
   "metadata": {},
   "source": [
    "markdown学习：https://www.runoob.com/markdown/md-tutorial.html  \n",
    "markdown公式：https://www.jianshu.com/p/e74eb43960a1  "
   ]
  }
 ],
 "metadata": {
  "kernelspec": {
   "display_name": "Python 3 (ipykernel)",
   "language": "python",
   "name": "python3"
  },
  "language_info": {
   "codemirror_mode": {
    "name": "ipython",
    "version": 3
   },
   "file_extension": ".py",
   "mimetype": "text/x-python",
   "name": "python",
   "nbconvert_exporter": "python",
   "pygments_lexer": "ipython3",
   "version": "3.9.7"
  },
  "toc-autonumbering": false,
  "toc-showcode": false,
  "toc-showmarkdowntxt": false
 },
 "nbformat": 4,
 "nbformat_minor": 4
}
