{
 "cells": [
  {
   "cell_type": "markdown",
   "id": "adcd2c27-b9f9-43cd-bc9e-65373e55fcb4",
   "metadata": {},
   "source": [
    "# 前言"
   ]
  },
  {
   "cell_type": "markdown",
   "id": "55ede715-6263-44b4-97d4-826d1dff551d",
   "metadata": {},
   "source": [
    "文件系统中有文件和文件夹两大类型  \n",
    "文件系统中的权限在windows中不好体现，也不是本次案例的重点  \n",
    "文件夹的名字过长(上百)，可能对文件读取创建操作会有问题"
   ]
  },
  {
   "cell_type": "markdown",
   "id": "463cbdba-a649-4ce7-a1f5-e3e24f08b4db",
   "metadata": {},
   "source": [
    "# 文件夹操作"
   ]
  },
  {
   "cell_type": "markdown",
   "id": "15678dd0-a56f-4feb-a416-70c376efef41",
   "metadata": {},
   "source": [
    "## os和os.path"
   ]
  },
  {
   "cell_type": "markdown",
   "id": "f49d1989-f92a-46cf-870b-6060b97dc622",
   "metadata": {},
   "source": [
    "os：https://www.runoob.com/python3/python3-os-file-methods.html  \n",
    "os.path：https://www.runoob.com/python3/python3-os-path.html"
   ]
  },
  {
   "cell_type": "markdown",
   "id": "5f358676-a7de-4479-97ca-d958c9bce6b5",
   "metadata": {},
   "source": [
    "对象学习4个点：增、删、改、查"
   ]
  },
  {
   "cell_type": "markdown",
   "id": "bddee1c2-ced6-4d97-873a-86e212fe141d",
   "metadata": {
    "tags": []
   },
   "source": [
    "## 文件夹获取(查)-listdir"
   ]
  },
  {
   "cell_type": "code",
   "execution_count": 1,
   "id": "5217e964-501c-438a-881b-11a4157bca0e",
   "metadata": {},
   "outputs": [],
   "source": [
    "import os"
   ]
  },
  {
   "cell_type": "code",
   "execution_count": 2,
   "id": "9338cf89-24a7-4c4a-9cc8-8c53a729f464",
   "metadata": {},
   "outputs": [],
   "source": [
    "path = '投行申报'"
   ]
  },
  {
   "cell_type": "markdown",
   "id": "4f4f6ad9-0759-4854-9813-a205e964c650",
   "metadata": {},
   "source": [
    "### 获取1级目录"
   ]
  },
  {
   "cell_type": "code",
   "execution_count": 3,
   "id": "99661174-9c99-48a1-a060-9e3ebbb66ae0",
   "metadata": {},
   "outputs": [
    {
     "data": {
      "text/plain": [
       "['1 发行人基本情况调查',\n",
       " '10 建议书与备忘录',\n",
       " '2 业务与技术调查',\n",
       " '3 公司治理与独立性调查',\n",
       " '4 财务与会计调查',\n",
       " '5 募集资金运用情况和业务发展目标调查',\n",
       " '6 投资者保护调查',\n",
       " '7 风险因素及其他重要事项调查',\n",
       " '8 与其他证券服务机构的协作',\n",
       " '9 工作执行记录']"
      ]
     },
     "execution_count": 3,
     "metadata": {},
     "output_type": "execute_result"
    }
   ],
   "source": [
    "os.listdir(path)"
   ]
  },
  {
   "cell_type": "markdown",
   "id": "08d604b4-c1d8-40f7-909b-ca45a6770938",
   "metadata": {},
   "source": [
    "### 获取2级目录"
   ]
  },
  {
   "cell_type": "code",
   "execution_count": 4,
   "id": "049e0ef0-861f-4c47-a662-b58ef8237fe9",
   "metadata": {},
   "outputs": [],
   "source": [
    "subpath1_list = os.listdir(path)"
   ]
  },
  {
   "cell_type": "code",
   "execution_count": 5,
   "id": "6bc03599-038b-4ef5-a56e-2b8b0e2b4a1e",
   "metadata": {},
   "outputs": [
    {
     "data": {
      "text/plain": [
       "'1 发行人基本情况调查'"
      ]
     },
     "execution_count": 5,
     "metadata": {},
     "output_type": "execute_result"
    }
   ],
   "source": [
    "subpath1_list[0]"
   ]
  },
  {
   "cell_type": "code",
   "execution_count": 6,
   "id": "959ca818-b639-4e46-8002-f93c5085eab8",
   "metadata": {},
   "outputs": [
    {
     "ename": "FileNotFoundError",
     "evalue": "[WinError 3] 系统找不到指定的路径。: '1 发行人基本情况调查'",
     "output_type": "error",
     "traceback": [
      "\u001b[1;31m---------------------------------------------------------------------------\u001b[0m",
      "\u001b[1;31mFileNotFoundError\u001b[0m                         Traceback (most recent call last)",
      "\u001b[1;32mC:\\Users\\ADMINI~1\\AppData\\Local\\Temp/ipykernel_14124/223161341.py\u001b[0m in \u001b[0;36m<module>\u001b[1;34m\u001b[0m\n\u001b[1;32m----> 1\u001b[1;33m \u001b[0mos\u001b[0m\u001b[1;33m.\u001b[0m\u001b[0mlistdir\u001b[0m\u001b[1;33m(\u001b[0m\u001b[0msubpath1_list\u001b[0m\u001b[1;33m[\u001b[0m\u001b[1;36m0\u001b[0m\u001b[1;33m]\u001b[0m\u001b[1;33m)\u001b[0m\u001b[1;33m\u001b[0m\u001b[1;33m\u001b[0m\u001b[0m\n\u001b[0m",
      "\u001b[1;31mFileNotFoundError\u001b[0m: [WinError 3] 系统找不到指定的路径。: '1 发行人基本情况调查'"
     ]
    }
   ],
   "source": [
    "os.listdir(subpath1_list[0])"
   ]
  },
  {
   "cell_type": "markdown",
   "id": "45e097e5-9253-4b28-abe8-a32310c58ffa",
   "metadata": {},
   "source": [
    "## 文件系统路径(通用)"
   ]
  },
  {
   "cell_type": "markdown",
   "id": "891c0d86-7bda-4ce2-8e0d-9478698cc2e2",
   "metadata": {},
   "source": [
    "### 相对路径-基于当前代码文件位置"
   ]
  },
  {
   "cell_type": "code",
   "execution_count": 7,
   "id": "ec6f8350-79f5-431d-a06a-656d849b9231",
   "metadata": {},
   "outputs": [
    {
     "data": {
      "text/plain": [
       "['1 发行人基本情况调查',\n",
       " '10 建议书与备忘录',\n",
       " '2 业务与技术调查',\n",
       " '3 公司治理与独立性调查',\n",
       " '4 财务与会计调查',\n",
       " '5 募集资金运用情况和业务发展目标调查',\n",
       " '6 投资者保护调查',\n",
       " '7 风险因素及其他重要事项调查',\n",
       " '8 与其他证券服务机构的协作',\n",
       " '9 工作执行记录']"
      ]
     },
     "execution_count": 7,
     "metadata": {},
     "output_type": "execute_result"
    }
   ],
   "source": [
    "os.listdir(path)"
   ]
  },
  {
   "cell_type": "code",
   "execution_count": 9,
   "id": "f3c2999f-5cec-4039-b2b6-cfe4c1e1960a",
   "metadata": {},
   "outputs": [
    {
     "data": {
      "text/plain": [
       "'投行申报'"
      ]
     },
     "execution_count": 9,
     "metadata": {},
     "output_type": "execute_result"
    }
   ],
   "source": [
    "path"
   ]
  },
  {
   "cell_type": "code",
   "execution_count": 10,
   "id": "c36d4e84-c2cd-4d1c-8005-4c36f5718768",
   "metadata": {},
   "outputs": [
    {
     "data": {
      "text/plain": [
       "'1 发行人基本情况调查'"
      ]
     },
     "execution_count": 10,
     "metadata": {},
     "output_type": "execute_result"
    }
   ],
   "source": [
    "subpath1_list[0]"
   ]
  },
  {
   "cell_type": "code",
   "execution_count": 8,
   "id": "2b226062-36c8-4ad2-a07c-3a319a4777ef",
   "metadata": {},
   "outputs": [
    {
     "data": {
      "text/plain": [
       "'投行申报/1 发行人基本情况调查'"
      ]
     },
     "execution_count": 8,
     "metadata": {},
     "output_type": "execute_result"
    }
   ],
   "source": [
    "path + '/' + subpath1_list[0]"
   ]
  },
  {
   "cell_type": "code",
   "execution_count": 11,
   "id": "5e3a8993-510d-4154-bd45-29873c0c9805",
   "metadata": {},
   "outputs": [
    {
     "data": {
      "text/plain": [
       "['1-1 历史沿革情况',\n",
       " '1-10 董事、监事、高级管理人员及其他核心人员薪酬及兼职情况',\n",
       " '1-11 报告期内董事、监事、高级管理人员及其他核心人员变动',\n",
       " '1-12 董事、监事、高级管理人员及其他核心人员持股及其他对外投资等情况',\n",
       " '1-13 员工情况',\n",
       " '1-2 企业改制与设立情况（国有企业、集体企业改制而来的或历史上存在挂靠集体组织经营的企业）',\n",
       " '1-3 内部职工股（如适用）',\n",
       " '1-4 重大重组情况',\n",
       " '1-5 发行人控股子公司和重要参股公司情况',\n",
       " '1-6 控股股东及实际控制人、发起人及股东情况',\n",
       " '1-7 董事、监事和高级管理人员任职情况和任职资格',\n",
       " '1-8 董事、监事和高级管理人员的经历及行为操守',\n",
       " '1-9 董事、监事和高级管理人员胜任能力和勤勉尽责']"
      ]
     },
     "execution_count": 11,
     "metadata": {},
     "output_type": "execute_result"
    }
   ],
   "source": [
    "os.listdir(path + '/' + subpath1_list[0])"
   ]
  },
  {
   "cell_type": "markdown",
   "id": "e609f61d-42e4-4d22-a750-56a3f1ae113c",
   "metadata": {},
   "source": [
    "#### 相对路径的 . 和 .."
   ]
  },
  {
   "cell_type": "code",
   "execution_count": 12,
   "id": "32687cbe-1641-45fe-ba62-b7117d800649",
   "metadata": {},
   "outputs": [
    {
     "data": {
      "text/plain": [
       "['.ipynb_checkpoints',\n",
       " 'T4 Python文件系统(完).ipynb',\n",
       " 'T4 Python文件系统.ipynb',\n",
       " '投行申报',\n",
       " '投行申报.zip']"
      ]
     },
     "execution_count": 12,
     "metadata": {},
     "output_type": "execute_result"
    }
   ],
   "source": [
    "os.listdir('.')"
   ]
  },
  {
   "cell_type": "code",
   "execution_count": 13,
   "id": "42e5023a-4c6a-43fe-997c-dfddd0cda6cb",
   "metadata": {},
   "outputs": [
    {
     "data": {
      "text/plain": [
       "['.ipynb_checkpoints',\n",
       " 'T4 Python文件系统(完).ipynb',\n",
       " 'T4 Python文件系统.ipynb',\n",
       " '投行申报',\n",
       " '投行申报.zip']"
      ]
     },
     "execution_count": 13,
     "metadata": {},
     "output_type": "execute_result"
    }
   ],
   "source": [
    "os.listdir('./')"
   ]
  },
  {
   "cell_type": "code",
   "execution_count": 14,
   "id": "194776ec-bf9b-4645-a319-8ccfe40989fd",
   "metadata": {},
   "outputs": [
    {
     "data": {
      "text/plain": [
       "['1 发行人基本情况调查',\n",
       " '10 建议书与备忘录',\n",
       " '2 业务与技术调查',\n",
       " '3 公司治理与独立性调查',\n",
       " '4 财务与会计调查',\n",
       " '5 募集资金运用情况和业务发展目标调查',\n",
       " '6 投资者保护调查',\n",
       " '7 风险因素及其他重要事项调查',\n",
       " '8 与其他证券服务机构的协作',\n",
       " '9 工作执行记录']"
      ]
     },
     "execution_count": 14,
     "metadata": {},
     "output_type": "execute_result"
    }
   ],
   "source": [
    "os.listdir('./' + path)"
   ]
  },
  {
   "cell_type": "code",
   "execution_count": 15,
   "id": "04431584-b707-47ec-94d4-956f8da01321",
   "metadata": {},
   "outputs": [
    {
     "data": {
      "text/plain": [
       "['.ipynb_checkpoints',\n",
       " 'T1 Python安装和Jupyter使用',\n",
       " 'T2 用Pandas分析Tushare上市公司信息',\n",
       " 'T3 Python语法基础学习',\n",
       " 'T4 Python文件系统']"
      ]
     },
     "execution_count": 15,
     "metadata": {},
     "output_type": "execute_result"
    }
   ],
   "source": [
    "os.listdir('..')"
   ]
  },
  {
   "cell_type": "code",
   "execution_count": 16,
   "id": "a6b27a8a-ffe4-4f36-bcb2-86d46130792b",
   "metadata": {},
   "outputs": [
    {
     "data": {
      "text/plain": [
       "['.ipynb_checkpoints',\n",
       " 'T1 Python安装和Jupyter使用',\n",
       " 'T2 用Pandas分析Tushare上市公司信息',\n",
       " 'T3 Python语法基础学习',\n",
       " 'T4 Python文件系统']"
      ]
     },
     "execution_count": 16,
     "metadata": {},
     "output_type": "execute_result"
    }
   ],
   "source": [
    "os.listdir('../')"
   ]
  },
  {
   "cell_type": "code",
   "execution_count": 17,
   "id": "33d5283b-42aa-4340-b3b9-11f7c9c6c230",
   "metadata": {},
   "outputs": [
    {
     "ename": "FileNotFoundError",
     "evalue": "[WinError 3] 系统找不到指定的路径。: '../投行申报'",
     "output_type": "error",
     "traceback": [
      "\u001b[1;31m---------------------------------------------------------------------------\u001b[0m",
      "\u001b[1;31mFileNotFoundError\u001b[0m                         Traceback (most recent call last)",
      "\u001b[1;32mC:\\Users\\ADMINI~1\\AppData\\Local\\Temp/ipykernel_14124/377242897.py\u001b[0m in \u001b[0;36m<module>\u001b[1;34m\u001b[0m\n\u001b[1;32m----> 1\u001b[1;33m \u001b[0mos\u001b[0m\u001b[1;33m.\u001b[0m\u001b[0mlistdir\u001b[0m\u001b[1;33m(\u001b[0m\u001b[1;34m'../'\u001b[0m \u001b[1;33m+\u001b[0m \u001b[0mpath\u001b[0m\u001b[1;33m)\u001b[0m\u001b[1;33m\u001b[0m\u001b[1;33m\u001b[0m\u001b[0m\n\u001b[0m",
      "\u001b[1;31mFileNotFoundError\u001b[0m: [WinError 3] 系统找不到指定的路径。: '../投行申报'"
     ]
    }
   ],
   "source": [
    "os.listdir('../' + path)"
   ]
  },
  {
   "cell_type": "markdown",
   "id": "cb19d2bf-e09f-4594-b72d-0982020b56f6",
   "metadata": {},
   "source": [
    "#### 当前路径查看-os.getcwd"
   ]
  },
  {
   "cell_type": "code",
   "execution_count": 18,
   "id": "52f71c4f-fc9c-460c-8bf8-026cc72057ec",
   "metadata": {},
   "outputs": [
    {
     "data": {
      "text/plain": [
       "'G:\\\\jupyter\\\\T4 Python文件系统'"
      ]
     },
     "execution_count": 18,
     "metadata": {},
     "output_type": "execute_result"
    }
   ],
   "source": [
    "os.getcwd()"
   ]
  },
  {
   "cell_type": "markdown",
   "id": "3a9343a0-8a80-4274-8de2-720013fc71d3",
   "metadata": {},
   "source": [
    "### 绝对路径-基于盘符"
   ]
  },
  {
   "cell_type": "code",
   "execution_count": 19,
   "id": "b89f0f8a-7c57-4315-9f95-72bd90111db0",
   "metadata": {},
   "outputs": [
    {
     "ename": "OSError",
     "evalue": "[WinError 123] 文件名、目录名或卷标语法不正确。: 'G:\\\\jupyter\\\\T4 Python文件系统\\\\投行申报\\x01 发行人基本情况调查'",
     "output_type": "error",
     "traceback": [
      "\u001b[1;31m---------------------------------------------------------------------------\u001b[0m",
      "\u001b[1;31mOSError\u001b[0m                                   Traceback (most recent call last)",
      "\u001b[1;32mC:\\Users\\ADMINI~1\\AppData\\Local\\Temp/ipykernel_14124/1773881756.py\u001b[0m in \u001b[0;36m<module>\u001b[1;34m\u001b[0m\n\u001b[1;32m----> 1\u001b[1;33m \u001b[0mos\u001b[0m\u001b[1;33m.\u001b[0m\u001b[0mlistdir\u001b[0m\u001b[1;33m(\u001b[0m\u001b[1;34m'G:\\jupyter\\T4 Python文件系统\\投行申报\\1 发行人基本情况调查'\u001b[0m\u001b[1;33m)\u001b[0m\u001b[1;33m\u001b[0m\u001b[1;33m\u001b[0m\u001b[0m\n\u001b[0m",
      "\u001b[1;31mOSError\u001b[0m: [WinError 123] 文件名、目录名或卷标语法不正确。: 'G:\\\\jupyter\\\\T4 Python文件系统\\\\投行申报\\x01 发行人基本情况调查'"
     ]
    }
   ],
   "source": [
    "os.listdir('G:\\jupyter\\T4 Python文件系统\\投行申报\\1 发行人基本情况调查')"
   ]
  },
  {
   "cell_type": "markdown",
   "id": "d4e2506a-6d8b-4e10-9551-d76eb7b05d93",
   "metadata": {},
   "source": [
    "#### 文件系统的分隔符-os.sep"
   ]
  },
  {
   "cell_type": "code",
   "execution_count": 20,
   "id": "1e86526d-29c2-46ae-abef-fc303877f8c8",
   "metadata": {},
   "outputs": [
    {
     "data": {
      "text/plain": [
       "'\\\\'"
      ]
     },
     "execution_count": 20,
     "metadata": {},
     "output_type": "execute_result"
    }
   ],
   "source": [
    "os.sep"
   ]
  },
  {
   "cell_type": "markdown",
   "id": "7c51c2f0-fdea-4c83-a204-59cc43e56187",
   "metadata": {},
   "source": [
    "#### 字符串转义"
   ]
  },
  {
   "cell_type": "markdown",
   "id": "a36e0bab-dab9-41a7-8135-fe06b942c94a",
   "metadata": {},
   "source": [
    "https://www.runoob.com/python3/python3-string.html"
   ]
  },
  {
   "cell_type": "markdown",
   "id": "350edb3e-e9d0-4fda-be2e-5a2ca97bcc52",
   "metadata": {},
   "source": [
    "换行符-Enter"
   ]
  },
  {
   "cell_type": "code",
   "execution_count": 21,
   "id": "810df30b-576f-4a4d-8840-7bbbeb90beef",
   "metadata": {},
   "outputs": [
    {
     "data": {
      "text/plain": [
       "'\\n你好'"
      ]
     },
     "execution_count": 21,
     "metadata": {},
     "output_type": "execute_result"
    }
   ],
   "source": [
    "'\\n你好'"
   ]
  },
  {
   "cell_type": "code",
   "execution_count": 22,
   "id": "adca1d22-0e4a-4170-98b5-c963f9f57682",
   "metadata": {},
   "outputs": [
    {
     "name": "stdout",
     "output_type": "stream",
     "text": [
      "\n",
      "你好\n"
     ]
    }
   ],
   "source": [
    "print('\\n你好')"
   ]
  },
  {
   "cell_type": "code",
   "execution_count": 23,
   "id": "b7242845-500b-46fd-8a04-dc56112aed6a",
   "metadata": {},
   "outputs": [
    {
     "name": "stdout",
     "output_type": "stream",
     "text": [
      "\\n你好\n"
     ]
    }
   ],
   "source": [
    "print('\\\\n你好')"
   ]
  },
  {
   "cell_type": "code",
   "execution_count": 24,
   "id": "279bba07-5dfd-465d-8e83-840352836d2f",
   "metadata": {},
   "outputs": [
    {
     "ename": "SyntaxError",
     "evalue": "EOL while scanning string literal (Temp/ipykernel_14124/4138952293.py, line 1)",
     "output_type": "error",
     "traceback": [
      "\u001b[1;36m  File \u001b[1;32m\"C:\\Users\\ADMINI~1\\AppData\\Local\\Temp/ipykernel_14124/4138952293.py\"\u001b[1;36m, line \u001b[1;32m1\u001b[0m\n\u001b[1;33m    print('\\')\u001b[0m\n\u001b[1;37m              ^\u001b[0m\n\u001b[1;31mSyntaxError\u001b[0m\u001b[1;31m:\u001b[0m EOL while scanning string literal\n"
     ]
    }
   ],
   "source": [
    "print('\\')"
   ]
  },
  {
   "cell_type": "code",
   "execution_count": 25,
   "id": "9b3a8da4-0847-4cd2-85c4-e816e7819bf0",
   "metadata": {},
   "outputs": [
    {
     "name": "stdout",
     "output_type": "stream",
     "text": [
      "'\n"
     ]
    }
   ],
   "source": [
    "print(\"'\")"
   ]
  },
  {
   "cell_type": "code",
   "execution_count": 26,
   "id": "b6edbd75-6c41-424c-b667-b34f36d61955",
   "metadata": {},
   "outputs": [
    {
     "name": "stdout",
     "output_type": "stream",
     "text": [
      "'\n"
     ]
    }
   ],
   "source": [
    "print('\\'')"
   ]
  },
  {
   "cell_type": "code",
   "execution_count": 27,
   "id": "442a1654-f3d7-4511-a325-d70e3570ccb4",
   "metadata": {},
   "outputs": [
    {
     "name": "stdout",
     "output_type": "stream",
     "text": [
      "\\\n"
     ]
    }
   ],
   "source": [
    "print('\\\\')"
   ]
  },
  {
   "cell_type": "markdown",
   "id": "ee3efaf0-139f-4612-9197-6bc2519fd635",
   "metadata": {},
   "source": [
    "#### 4种绝对路径读取方法"
   ]
  },
  {
   "cell_type": "markdown",
   "id": "db9c5b6b-2128-49b6-b51d-a4c17b02eaae",
   "metadata": {},
   "source": [
    "- 全部用 \\\\\\\\\n",
    "- 用\\\\但前面加r\n",
    "- 全部用 /\n",
    "- 混用"
   ]
  },
  {
   "cell_type": "code",
   "execution_count": 28,
   "id": "9aff6743-f008-42e9-8598-eb26d78c4918",
   "metadata": {},
   "outputs": [
    {
     "data": {
      "text/plain": [
       "['1-1 历史沿革情况',\n",
       " '1-10 董事、监事、高级管理人员及其他核心人员薪酬及兼职情况',\n",
       " '1-11 报告期内董事、监事、高级管理人员及其他核心人员变动',\n",
       " '1-12 董事、监事、高级管理人员及其他核心人员持股及其他对外投资等情况',\n",
       " '1-13 员工情况',\n",
       " '1-2 企业改制与设立情况（国有企业、集体企业改制而来的或历史上存在挂靠集体组织经营的企业）',\n",
       " '1-3 内部职工股（如适用）',\n",
       " '1-4 重大重组情况',\n",
       " '1-5 发行人控股子公司和重要参股公司情况',\n",
       " '1-6 控股股东及实际控制人、发起人及股东情况',\n",
       " '1-7 董事、监事和高级管理人员任职情况和任职资格',\n",
       " '1-8 董事、监事和高级管理人员的经历及行为操守',\n",
       " '1-9 董事、监事和高级管理人员胜任能力和勤勉尽责']"
      ]
     },
     "execution_count": 28,
     "metadata": {},
     "output_type": "execute_result"
    }
   ],
   "source": [
    "os.listdir('G:\\\\jupyter\\\\T4 Python文件系统\\\\投行申报\\\\1 发行人基本情况调查')"
   ]
  },
  {
   "cell_type": "code",
   "execution_count": 29,
   "id": "68d75942-9306-4a10-9d7e-95bd260a92c3",
   "metadata": {},
   "outputs": [
    {
     "data": {
      "text/plain": [
       "['1-1 历史沿革情况',\n",
       " '1-10 董事、监事、高级管理人员及其他核心人员薪酬及兼职情况',\n",
       " '1-11 报告期内董事、监事、高级管理人员及其他核心人员变动',\n",
       " '1-12 董事、监事、高级管理人员及其他核心人员持股及其他对外投资等情况',\n",
       " '1-13 员工情况',\n",
       " '1-2 企业改制与设立情况（国有企业、集体企业改制而来的或历史上存在挂靠集体组织经营的企业）',\n",
       " '1-3 内部职工股（如适用）',\n",
       " '1-4 重大重组情况',\n",
       " '1-5 发行人控股子公司和重要参股公司情况',\n",
       " '1-6 控股股东及实际控制人、发起人及股东情况',\n",
       " '1-7 董事、监事和高级管理人员任职情况和任职资格',\n",
       " '1-8 董事、监事和高级管理人员的经历及行为操守',\n",
       " '1-9 董事、监事和高级管理人员胜任能力和勤勉尽责']"
      ]
     },
     "execution_count": 29,
     "metadata": {},
     "output_type": "execute_result"
    }
   ],
   "source": [
    "os.listdir(r'G:\\jupyter\\T4 Python文件系统\\投行申报\\1 发行人基本情况调查')"
   ]
  },
  {
   "cell_type": "code",
   "execution_count": 30,
   "id": "ea4f7dc6-c298-4de7-937c-6e5e64a21faf",
   "metadata": {},
   "outputs": [
    {
     "data": {
      "text/plain": [
       "['1-1 历史沿革情况',\n",
       " '1-10 董事、监事、高级管理人员及其他核心人员薪酬及兼职情况',\n",
       " '1-11 报告期内董事、监事、高级管理人员及其他核心人员变动',\n",
       " '1-12 董事、监事、高级管理人员及其他核心人员持股及其他对外投资等情况',\n",
       " '1-13 员工情况',\n",
       " '1-2 企业改制与设立情况（国有企业、集体企业改制而来的或历史上存在挂靠集体组织经营的企业）',\n",
       " '1-3 内部职工股（如适用）',\n",
       " '1-4 重大重组情况',\n",
       " '1-5 发行人控股子公司和重要参股公司情况',\n",
       " '1-6 控股股东及实际控制人、发起人及股东情况',\n",
       " '1-7 董事、监事和高级管理人员任职情况和任职资格',\n",
       " '1-8 董事、监事和高级管理人员的经历及行为操守',\n",
       " '1-9 董事、监事和高级管理人员胜任能力和勤勉尽责']"
      ]
     },
     "execution_count": 30,
     "metadata": {},
     "output_type": "execute_result"
    }
   ],
   "source": [
    "os.listdir('G:/jupyter/T4 Python文件系统/投行申报/1 发行人基本情况调查')"
   ]
  },
  {
   "cell_type": "code",
   "execution_count": 31,
   "id": "058eecfd-804f-4179-a8cc-a2e00a8b0e7d",
   "metadata": {},
   "outputs": [
    {
     "data": {
      "text/plain": [
       "['1-1 历史沿革情况',\n",
       " '1-10 董事、监事、高级管理人员及其他核心人员薪酬及兼职情况',\n",
       " '1-11 报告期内董事、监事、高级管理人员及其他核心人员变动',\n",
       " '1-12 董事、监事、高级管理人员及其他核心人员持股及其他对外投资等情况',\n",
       " '1-13 员工情况',\n",
       " '1-2 企业改制与设立情况（国有企业、集体企业改制而来的或历史上存在挂靠集体组织经营的企业）',\n",
       " '1-3 内部职工股（如适用）',\n",
       " '1-4 重大重组情况',\n",
       " '1-5 发行人控股子公司和重要参股公司情况',\n",
       " '1-6 控股股东及实际控制人、发起人及股东情况',\n",
       " '1-7 董事、监事和高级管理人员任职情况和任职资格',\n",
       " '1-8 董事、监事和高级管理人员的经历及行为操守',\n",
       " '1-9 董事、监事和高级管理人员胜任能力和勤勉尽责']"
      ]
     },
     "execution_count": 31,
     "metadata": {},
     "output_type": "execute_result"
    }
   ],
   "source": [
    "os.listdir('G:\\\\jupyter\\\\T4 Python文件系统/投行申报/1 发行人基本情况调查')"
   ]
  },
  {
   "cell_type": "markdown",
   "id": "0e5bdb63-ec83-4129-8627-bfe851d09dfb",
   "metadata": {},
   "source": [
    "### 推荐的路径拼接-os.path.join"
   ]
  },
  {
   "cell_type": "code",
   "execution_count": 32,
   "id": "e3c9932e-6a5a-4e17-81ed-c06807866f1c",
   "metadata": {},
   "outputs": [],
   "source": [
    "subpath1_list = os.listdir(path)"
   ]
  },
  {
   "cell_type": "code",
   "execution_count": 33,
   "id": "4244d7a0-cfd9-40cc-83f9-3d6096db220f",
   "metadata": {},
   "outputs": [
    {
     "data": {
      "text/plain": [
       "['1-1 历史沿革情况',\n",
       " '1-10 董事、监事、高级管理人员及其他核心人员薪酬及兼职情况',\n",
       " '1-11 报告期内董事、监事、高级管理人员及其他核心人员变动',\n",
       " '1-12 董事、监事、高级管理人员及其他核心人员持股及其他对外投资等情况',\n",
       " '1-13 员工情况',\n",
       " '1-2 企业改制与设立情况（国有企业、集体企业改制而来的或历史上存在挂靠集体组织经营的企业）',\n",
       " '1-3 内部职工股（如适用）',\n",
       " '1-4 重大重组情况',\n",
       " '1-5 发行人控股子公司和重要参股公司情况',\n",
       " '1-6 控股股东及实际控制人、发起人及股东情况',\n",
       " '1-7 董事、监事和高级管理人员任职情况和任职资格',\n",
       " '1-8 董事、监事和高级管理人员的经历及行为操守',\n",
       " '1-9 董事、监事和高级管理人员胜任能力和勤勉尽责']"
      ]
     },
     "execution_count": 33,
     "metadata": {},
     "output_type": "execute_result"
    }
   ],
   "source": [
    "os.listdir(path + '/' + subpath1_list[0])"
   ]
  },
  {
   "cell_type": "code",
   "execution_count": 34,
   "id": "4bab3ec0-9a83-43d5-b5f5-516e4a7fa12c",
   "metadata": {},
   "outputs": [
    {
     "data": {
      "text/plain": [
       "'a\\\\b\\\\c'"
      ]
     },
     "execution_count": 34,
     "metadata": {},
     "output_type": "execute_result"
    }
   ],
   "source": [
    "os.path.join('a', 'b', 'c')"
   ]
  },
  {
   "cell_type": "code",
   "execution_count": 35,
   "id": "96b6b621-1752-4674-985e-d1d7f3390eee",
   "metadata": {},
   "outputs": [
    {
     "data": {
      "text/plain": [
       "'\\\\b\\\\c'"
      ]
     },
     "execution_count": 35,
     "metadata": {},
     "output_type": "execute_result"
    }
   ],
   "source": [
    "os.path.join('a', '\\\\b', 'c')"
   ]
  },
  {
   "cell_type": "markdown",
   "id": "e37c2e48-8106-4536-82ea-3269257cab74",
   "metadata": {},
   "source": [
    "- 能够识别当前文件系统的分隔符来拼接，本场景无体现\n",
    "- 若中间存在绝对路径，会舍弃掉前面所有的路径\n",
    "- 更加统一规范，也告诉别人这里在拼接文件夹"
   ]
  },
  {
   "cell_type": "code",
   "execution_count": 36,
   "id": "88451c59-2537-4338-acb2-defe13a228e3",
   "metadata": {},
   "outputs": [
    {
     "data": {
      "text/plain": [
       "'G:b\\\\c.txt'"
      ]
     },
     "execution_count": 36,
     "metadata": {},
     "output_type": "execute_result"
    }
   ],
   "source": [
    "os.path.join('G:', 'b', 'c.txt')"
   ]
  },
  {
   "cell_type": "markdown",
   "id": "cd9c7adc-aa06-4634-a207-3f119d1a3d4a",
   "metadata": {},
   "source": [
    "\\\\和/此刻不区分"
   ]
  },
  {
   "cell_type": "code",
   "execution_count": 37,
   "id": "1ce8e1ec-69e7-4ba6-b4ce-21c898ce177e",
   "metadata": {},
   "outputs": [
    {
     "data": {
      "text/plain": [
       "['.ipynb_checkpoints',\n",
       " 'T4 Python文件系统(完).ipynb',\n",
       " 'T4 Python文件系统.ipynb',\n",
       " '投行申报',\n",
       " '投行申报.zip']"
      ]
     },
     "execution_count": 37,
     "metadata": {},
     "output_type": "execute_result"
    }
   ],
   "source": [
    "os.listdir(os.path.join('G:\\\\', 'jupyter', 'T4 Python文件系统'))"
   ]
  },
  {
   "cell_type": "code",
   "execution_count": 38,
   "id": "4ddde3bd-5629-4476-b8e5-3717e3b2dde2",
   "metadata": {},
   "outputs": [
    {
     "data": {
      "text/plain": [
       "['.ipynb_checkpoints',\n",
       " 'T4 Python文件系统(完).ipynb',\n",
       " 'T4 Python文件系统.ipynb',\n",
       " '投行申报',\n",
       " '投行申报.zip']"
      ]
     },
     "execution_count": 38,
     "metadata": {},
     "output_type": "execute_result"
    }
   ],
   "source": [
    "os.listdir(os.path.join('G:/', 'jupyter', 'T4 Python文件系统'))"
   ]
  },
  {
   "cell_type": "code",
   "execution_count": 39,
   "id": "cc638e74-59c2-44a8-afb7-d38355b38d12",
   "metadata": {},
   "outputs": [
    {
     "data": {
      "text/plain": [
       "['1-1 历史沿革情况',\n",
       " '1-10 董事、监事、高级管理人员及其他核心人员薪酬及兼职情况',\n",
       " '1-11 报告期内董事、监事、高级管理人员及其他核心人员变动',\n",
       " '1-12 董事、监事、高级管理人员及其他核心人员持股及其他对外投资等情况',\n",
       " '1-13 员工情况',\n",
       " '1-2 企业改制与设立情况（国有企业、集体企业改制而来的或历史上存在挂靠集体组织经营的企业）',\n",
       " '1-3 内部职工股（如适用）',\n",
       " '1-4 重大重组情况',\n",
       " '1-5 发行人控股子公司和重要参股公司情况',\n",
       " '1-6 控股股东及实际控制人、发起人及股东情况',\n",
       " '1-7 董事、监事和高级管理人员任职情况和任职资格',\n",
       " '1-8 董事、监事和高级管理人员的经历及行为操守',\n",
       " '1-9 董事、监事和高级管理人员胜任能力和勤勉尽责']"
      ]
     },
     "execution_count": 39,
     "metadata": {},
     "output_type": "execute_result"
    }
   ],
   "source": [
    "os.listdir(os.path.join('投行申报', '1 发行人基本情况调查'))"
   ]
  },
  {
   "cell_type": "code",
   "execution_count": 40,
   "id": "e5abe29d-9471-42b1-8fa4-d22189831b82",
   "metadata": {},
   "outputs": [
    {
     "data": {
      "text/plain": [
       "['1 发行人基本情况调查',\n",
       " '10 建议书与备忘录',\n",
       " '2 业务与技术调查',\n",
       " '3 公司治理与独立性调查',\n",
       " '4 财务与会计调查',\n",
       " '5 募集资金运用情况和业务发展目标调查',\n",
       " '6 投资者保护调查',\n",
       " '7 风险因素及其他重要事项调查',\n",
       " '8 与其他证券服务机构的协作',\n",
       " '9 工作执行记录']"
      ]
     },
     "execution_count": 40,
     "metadata": {},
     "output_type": "execute_result"
    }
   ],
   "source": [
    "os.listdir(os.path.join('.', '投行申报'))"
   ]
  },
  {
   "cell_type": "code",
   "execution_count": 41,
   "id": "2913a78d-64a1-479b-a62f-2af38b7379d8",
   "metadata": {},
   "outputs": [
    {
     "data": {
      "text/plain": [
       "['.ipynb_checkpoints',\n",
       " 'T4 Python文件系统(完).ipynb',\n",
       " 'T4 Python文件系统.ipynb',\n",
       " '投行申报',\n",
       " '投行申报.zip']"
      ]
     },
     "execution_count": 41,
     "metadata": {},
     "output_type": "execute_result"
    }
   ],
   "source": [
    "os.listdir(os.path.join('..', 'T4 Python文件系统'))"
   ]
  },
  {
   "cell_type": "markdown",
   "id": "2dabb048-afe0-4091-a6c1-e37dd569d2e3",
   "metadata": {},
   "source": [
    "## 文件夹增删改"
   ]
  },
  {
   "cell_type": "markdown",
   "id": "482fb624-83f9-47be-ba01-f5e91162f068",
   "metadata": {},
   "source": [
    "### 增"
   ]
  },
  {
   "cell_type": "markdown",
   "id": "5d9801e7-cc1f-4834-ba5e-7897f2cb643e",
   "metadata": {
    "tags": []
   },
   "source": [
    "#### 增一个-mkdir"
   ]
  },
  {
   "cell_type": "code",
   "execution_count": 44,
   "id": "20120df9-19a0-4e14-b9c3-702fae9d114a",
   "metadata": {},
   "outputs": [],
   "source": [
    "os.mkdir('afan')"
   ]
  },
  {
   "cell_type": "markdown",
   "id": "6172a4eb-f70e-4ac2-8ede-2aa825e01a4f",
   "metadata": {},
   "source": [
    "#### 重复增加"
   ]
  },
  {
   "cell_type": "code",
   "execution_count": 45,
   "id": "7539e4da-1608-4ca2-9611-9e63f9e77b79",
   "metadata": {},
   "outputs": [
    {
     "ename": "FileExistsError",
     "evalue": "[WinError 183] 当文件已存在时，无法创建该文件。: 'afan'",
     "output_type": "error",
     "traceback": [
      "\u001b[1;31m---------------------------------------------------------------------------\u001b[0m",
      "\u001b[1;31mFileExistsError\u001b[0m                           Traceback (most recent call last)",
      "\u001b[1;32mC:\\Users\\ADMINI~1\\AppData\\Local\\Temp/ipykernel_14124/2309339919.py\u001b[0m in \u001b[0;36m<module>\u001b[1;34m\u001b[0m\n\u001b[1;32m----> 1\u001b[1;33m \u001b[0mos\u001b[0m\u001b[1;33m.\u001b[0m\u001b[0mmkdir\u001b[0m\u001b[1;33m(\u001b[0m\u001b[1;34m'afan'\u001b[0m\u001b[1;33m)\u001b[0m\u001b[1;33m\u001b[0m\u001b[1;33m\u001b[0m\u001b[0m\n\u001b[0m",
      "\u001b[1;31mFileExistsError\u001b[0m: [WinError 183] 当文件已存在时，无法创建该文件。: 'afan'"
     ]
    }
   ],
   "source": [
    "os.mkdir('afan')"
   ]
  },
  {
   "cell_type": "markdown",
   "id": "babe7a43-72ed-42b8-9111-b9e549f3b582",
   "metadata": {},
   "source": [
    "#### 不存在则创建-os.path.exists"
   ]
  },
  {
   "cell_type": "code",
   "execution_count": 46,
   "id": "49ae74f4-eef6-4929-979c-e94a48434bc2",
   "metadata": {},
   "outputs": [
    {
     "data": {
      "text/plain": [
       "True"
      ]
     },
     "execution_count": 46,
     "metadata": {},
     "output_type": "execute_result"
    }
   ],
   "source": [
    "os.path.exists('afan')"
   ]
  },
  {
   "cell_type": "code",
   "execution_count": 48,
   "id": "10e1ec56-9d7a-4d4a-b3b8-fd8b974b8462",
   "metadata": {},
   "outputs": [
    {
     "data": {
      "text/plain": [
       "False"
      ]
     },
     "execution_count": 48,
     "metadata": {},
     "output_type": "execute_result"
    }
   ],
   "source": [
    "not os.path.exists('afan')"
   ]
  },
  {
   "cell_type": "code",
   "execution_count": 50,
   "id": "0bf9b1e8-30c2-4a50-b36c-af2ee6c9e292",
   "metadata": {},
   "outputs": [],
   "source": [
    "if not os.path.exists('afan'):\n",
    "    os.mkdir('afan')"
   ]
  },
  {
   "cell_type": "markdown",
   "id": "3e824a0c-ba7b-4c1b-86ef-69ef329f0a38",
   "metadata": {},
   "source": [
    "#### 创建多层-makedirs"
   ]
  },
  {
   "cell_type": "code",
   "execution_count": 52,
   "id": "0d33e671-fbd6-4a26-be69-7059af0a4d1d",
   "metadata": {},
   "outputs": [
    {
     "ename": "FileNotFoundError",
     "evalue": "[WinError 3] 系统找不到指定的路径。: 'afan/1'",
     "output_type": "error",
     "traceback": [
      "\u001b[1;31m---------------------------------------------------------------------------\u001b[0m",
      "\u001b[1;31mFileNotFoundError\u001b[0m                         Traceback (most recent call last)",
      "\u001b[1;32mC:\\Users\\ADMINI~1\\AppData\\Local\\Temp/ipykernel_14124/3254667666.py\u001b[0m in \u001b[0;36m<module>\u001b[1;34m\u001b[0m\n\u001b[1;32m----> 1\u001b[1;33m \u001b[0mos\u001b[0m\u001b[1;33m.\u001b[0m\u001b[0mmkdir\u001b[0m\u001b[1;33m(\u001b[0m\u001b[1;34m'afan/1'\u001b[0m\u001b[1;33m)\u001b[0m\u001b[1;33m\u001b[0m\u001b[1;33m\u001b[0m\u001b[0m\n\u001b[0m",
      "\u001b[1;31mFileNotFoundError\u001b[0m: [WinError 3] 系统找不到指定的路径。: 'afan/1'"
     ]
    }
   ],
   "source": [
    "os.mkdir('afan/1')"
   ]
  },
  {
   "cell_type": "code",
   "execution_count": 53,
   "id": "32538979-7306-4cea-af0f-f27e87ac1f81",
   "metadata": {},
   "outputs": [],
   "source": [
    "os.makedirs('afan/1')"
   ]
  },
  {
   "cell_type": "markdown",
   "id": "70d3b181-9b88-4698-849e-56bc63091ec5",
   "metadata": {},
   "source": [
    "不推荐一次创建多层，需要在逻辑清楚后再操作"
   ]
  },
  {
   "cell_type": "code",
   "execution_count": 56,
   "id": "bb9b9a64-6ed1-46d6-a7c5-b87b16df1074",
   "metadata": {},
   "outputs": [
    {
     "ename": "FileExistsError",
     "evalue": "[WinError 183] 当文件已存在时，无法创建该文件。: 'afan/1/1/1'",
     "output_type": "error",
     "traceback": [
      "\u001b[1;31m---------------------------------------------------------------------------\u001b[0m",
      "\u001b[1;31mFileExistsError\u001b[0m                           Traceback (most recent call last)",
      "\u001b[1;32mC:\\Users\\ADMINI~1\\AppData\\Local\\Temp/ipykernel_14124/3483643542.py\u001b[0m in \u001b[0;36m<module>\u001b[1;34m\u001b[0m\n\u001b[1;32m----> 1\u001b[1;33m \u001b[0mos\u001b[0m\u001b[1;33m.\u001b[0m\u001b[0mmakedirs\u001b[0m\u001b[1;33m(\u001b[0m\u001b[1;34m'afan/1/1/1'\u001b[0m\u001b[1;33m)\u001b[0m\u001b[1;33m\u001b[0m\u001b[1;33m\u001b[0m\u001b[0m\n\u001b[0m",
      "\u001b[1;32mF:\\conda\\lib\\os.py\u001b[0m in \u001b[0;36mmakedirs\u001b[1;34m(name, mode, exist_ok)\u001b[0m\n\u001b[0;32m    223\u001b[0m             \u001b[1;32mreturn\u001b[0m\u001b[1;33m\u001b[0m\u001b[1;33m\u001b[0m\u001b[0m\n\u001b[0;32m    224\u001b[0m     \u001b[1;32mtry\u001b[0m\u001b[1;33m:\u001b[0m\u001b[1;33m\u001b[0m\u001b[1;33m\u001b[0m\u001b[0m\n\u001b[1;32m--> 225\u001b[1;33m         \u001b[0mmkdir\u001b[0m\u001b[1;33m(\u001b[0m\u001b[0mname\u001b[0m\u001b[1;33m,\u001b[0m \u001b[0mmode\u001b[0m\u001b[1;33m)\u001b[0m\u001b[1;33m\u001b[0m\u001b[1;33m\u001b[0m\u001b[0m\n\u001b[0m\u001b[0;32m    226\u001b[0m     \u001b[1;32mexcept\u001b[0m \u001b[0mOSError\u001b[0m\u001b[1;33m:\u001b[0m\u001b[1;33m\u001b[0m\u001b[1;33m\u001b[0m\u001b[0m\n\u001b[0;32m    227\u001b[0m         \u001b[1;31m# Cannot rely on checking for EEXIST, since the operating system\u001b[0m\u001b[1;33m\u001b[0m\u001b[1;33m\u001b[0m\u001b[0m\n",
      "\u001b[1;31mFileExistsError\u001b[0m: [WinError 183] 当文件已存在时，无法创建该文件。: 'afan/1/1/1'"
     ]
    }
   ],
   "source": [
    "os.makedirs('afan/1/1/1')"
   ]
  },
  {
   "cell_type": "markdown",
   "id": "38ec52ec-1303-4b8d-81a8-55911c05b354",
   "metadata": {},
   "source": [
    "### 删"
   ]
  },
  {
   "cell_type": "markdown",
   "id": "aced4a7a-54f2-4663-8484-955cd8296fb4",
   "metadata": {},
   "source": [
    "#### 删除一层-rmdir"
   ]
  },
  {
   "cell_type": "code",
   "execution_count": 51,
   "id": "9abc0ffe-6f93-4f29-a76e-046cac96cf20",
   "metadata": {},
   "outputs": [],
   "source": [
    "os.rmdir('afan')"
   ]
  },
  {
   "cell_type": "markdown",
   "id": "00be83ab-6360-4ff5-919d-dc390d6b12c0",
   "metadata": {},
   "source": [
    "#### 删除多层-removedirs"
   ]
  },
  {
   "cell_type": "code",
   "execution_count": 57,
   "id": "b7fbfa1d-8710-4abb-a9fc-a8cf47193e15",
   "metadata": {},
   "outputs": [],
   "source": [
    "os.removedirs('afan/1/1/1')"
   ]
  },
  {
   "cell_type": "markdown",
   "id": "8bcaee1f-5595-4fff-add8-a35b1e515496",
   "metadata": {},
   "source": [
    "#### 删除整个目录树"
   ]
  },
  {
   "cell_type": "markdown",
   "id": "de4cc76b-243f-444c-8f3a-65d383dc0a65",
   "metadata": {},
   "source": [
    "- 自己编写逻辑函数\n",
    "- 使用shutil库：https://www.jb51.net/article/226504.htm"
   ]
  },
  {
   "cell_type": "markdown",
   "id": "5fed7d15-9695-48f0-bd1b-4ec46a550a52",
   "metadata": {},
   "source": [
    "### 改-rename、renames"
   ]
  },
  {
   "cell_type": "code",
   "execution_count": 58,
   "id": "3f0d0921-3acc-40a2-9c36-191349a51d38",
   "metadata": {},
   "outputs": [],
   "source": [
    "if not os.path.exists('afan'):\n",
    "    os.mkdir('afan')"
   ]
  },
  {
   "cell_type": "code",
   "execution_count": 59,
   "id": "21ec6d2e-e5e1-4838-89b2-8f09c3b4866f",
   "metadata": {},
   "outputs": [],
   "source": [
    "os.rename(\"afan\", \"afan1\")"
   ]
  },
  {
   "cell_type": "raw",
   "id": "2da27f40-b443-452a-8c47-b349367385a0",
   "metadata": {},
   "source": [
    "os.renames()"
   ]
  },
  {
   "cell_type": "markdown",
   "id": "968b3e4f-9da6-46b7-bfba-3cf2d197ad97",
   "metadata": {
    "tags": []
   },
   "source": [
    "# 目录树操作"
   ]
  },
  {
   "cell_type": "markdown",
   "id": "b322af60-8fe1-460c-bea3-46cebe6c694b",
   "metadata": {},
   "source": [
    "## Pandas表格读取导出(I/O)"
   ]
  },
  {
   "cell_type": "markdown",
   "id": "f5df4fda-8278-4399-83f6-78816873092f",
   "metadata": {},
   "source": [
    "目录树读取后需要最终落地成一个Excel文件，所以我们需要利用Pandas生成"
   ]
  },
  {
   "cell_type": "markdown",
   "id": "03c9613f-54c6-43cb-ae91-ced39b68745b",
   "metadata": {},
   "source": [
    "### Pandas的数据生成"
   ]
  },
  {
   "cell_type": "code",
   "execution_count": 60,
   "id": "2eaf4970-6117-4b81-907f-6b8b00c934eb",
   "metadata": {},
   "outputs": [],
   "source": [
    "import pandas as pd"
   ]
  },
  {
   "cell_type": "markdown",
   "id": "94a3647a-6e5b-4c9e-9b72-c75fc0d50ff9",
   "metadata": {},
   "source": [
    "#### 二维列表+行列索引"
   ]
  },
  {
   "cell_type": "code",
   "execution_count": 61,
   "id": "14eee682-ee49-4f7b-9eef-bd19e37cfdf9",
   "metadata": {},
   "outputs": [],
   "source": [
    "data_list = [['1', '目录1'],['2', '目录2']]"
   ]
  },
  {
   "cell_type": "code",
   "execution_count": 65,
   "id": "1fa4b762-3dbd-4ade-9d84-0ab698a98ae7",
   "metadata": {},
   "outputs": [
    {
     "data": {
      "text/html": [
       "<div>\n",
       "<style scoped>\n",
       "    .dataframe tbody tr th:only-of-type {\n",
       "        vertical-align: middle;\n",
       "    }\n",
       "\n",
       "    .dataframe tbody tr th {\n",
       "        vertical-align: top;\n",
       "    }\n",
       "\n",
       "    .dataframe thead th {\n",
       "        text-align: right;\n",
       "    }\n",
       "</style>\n",
       "<table border=\"1\" class=\"dataframe\">\n",
       "  <thead>\n",
       "    <tr style=\"text-align: right;\">\n",
       "      <th></th>\n",
       "      <th>0</th>\n",
       "      <th>1</th>\n",
       "    </tr>\n",
       "  </thead>\n",
       "  <tbody>\n",
       "    <tr>\n",
       "      <th>0</th>\n",
       "      <td>1</td>\n",
       "      <td>目录1</td>\n",
       "    </tr>\n",
       "    <tr>\n",
       "      <th>1</th>\n",
       "      <td>2</td>\n",
       "      <td>目录2</td>\n",
       "    </tr>\n",
       "  </tbody>\n",
       "</table>\n",
       "</div>"
      ],
      "text/plain": [
       "   0    1\n",
       "0  1  目录1\n",
       "1  2  目录2"
      ]
     },
     "execution_count": 65,
     "metadata": {},
     "output_type": "execute_result"
    }
   ],
   "source": [
    "pd.DataFrame(data=data_list)"
   ]
  },
  {
   "cell_type": "code",
   "execution_count": 64,
   "id": "08ba4816-a9e3-4ac0-ab15-5ce0d12bfe1a",
   "metadata": {},
   "outputs": [
    {
     "data": {
      "text/html": [
       "<div>\n",
       "<style scoped>\n",
       "    .dataframe tbody tr th:only-of-type {\n",
       "        vertical-align: middle;\n",
       "    }\n",
       "\n",
       "    .dataframe tbody tr th {\n",
       "        vertical-align: top;\n",
       "    }\n",
       "\n",
       "    .dataframe thead th {\n",
       "        text-align: right;\n",
       "    }\n",
       "</style>\n",
       "<table border=\"1\" class=\"dataframe\">\n",
       "  <thead>\n",
       "    <tr style=\"text-align: right;\">\n",
       "      <th></th>\n",
       "      <th>章节</th>\n",
       "      <th>目录</th>\n",
       "    </tr>\n",
       "  </thead>\n",
       "  <tbody>\n",
       "    <tr>\n",
       "      <th>100</th>\n",
       "      <td>1</td>\n",
       "      <td>目录1</td>\n",
       "    </tr>\n",
       "    <tr>\n",
       "      <th>101</th>\n",
       "      <td>2</td>\n",
       "      <td>目录2</td>\n",
       "    </tr>\n",
       "  </tbody>\n",
       "</table>\n",
       "</div>"
      ],
      "text/plain": [
       "    章节   目录\n",
       "100  1  目录1\n",
       "101  2  目录2"
      ]
     },
     "execution_count": 64,
     "metadata": {},
     "output_type": "execute_result"
    }
   ],
   "source": [
    "pd.DataFrame(data=data_list, index=[100, 101], columns=['章节', '目录'])"
   ]
  },
  {
   "cell_type": "markdown",
   "id": "1861d728-1f1a-4fdf-859f-bc119d590e8e",
   "metadata": {},
   "source": [
    "#### 字典列表+列索引"
   ]
  },
  {
   "cell_type": "code",
   "execution_count": 66,
   "id": "ab916dda-d64a-4a2b-82ae-540687815411",
   "metadata": {},
   "outputs": [],
   "source": [
    "data_dict = {'章节': ['1', '2'], '目录': ['目录1', '目录2']}"
   ]
  },
  {
   "cell_type": "code",
   "execution_count": 67,
   "id": "81c8567e-67f1-4015-af6e-2bb2104810e8",
   "metadata": {},
   "outputs": [
    {
     "data": {
      "text/html": [
       "<div>\n",
       "<style scoped>\n",
       "    .dataframe tbody tr th:only-of-type {\n",
       "        vertical-align: middle;\n",
       "    }\n",
       "\n",
       "    .dataframe tbody tr th {\n",
       "        vertical-align: top;\n",
       "    }\n",
       "\n",
       "    .dataframe thead th {\n",
       "        text-align: right;\n",
       "    }\n",
       "</style>\n",
       "<table border=\"1\" class=\"dataframe\">\n",
       "  <thead>\n",
       "    <tr style=\"text-align: right;\">\n",
       "      <th></th>\n",
       "      <th>章节</th>\n",
       "      <th>目录</th>\n",
       "    </tr>\n",
       "  </thead>\n",
       "  <tbody>\n",
       "    <tr>\n",
       "      <th>100</th>\n",
       "      <td>1</td>\n",
       "      <td>目录1</td>\n",
       "    </tr>\n",
       "    <tr>\n",
       "      <th>101</th>\n",
       "      <td>2</td>\n",
       "      <td>目录2</td>\n",
       "    </tr>\n",
       "  </tbody>\n",
       "</table>\n",
       "</div>"
      ],
      "text/plain": [
       "    章节   目录\n",
       "100  1  目录1\n",
       "101  2  目录2"
      ]
     },
     "execution_count": 67,
     "metadata": {},
     "output_type": "execute_result"
    }
   ],
   "source": [
    "pd.DataFrame(data=data_dict, index=[100, 101])"
   ]
  },
  {
   "cell_type": "code",
   "execution_count": 68,
   "id": "6f9735b6-dc63-4e65-8e92-a682bdf3f454",
   "metadata": {},
   "outputs": [
    {
     "data": {
      "text/html": [
       "<div>\n",
       "<style scoped>\n",
       "    .dataframe tbody tr th:only-of-type {\n",
       "        vertical-align: middle;\n",
       "    }\n",
       "\n",
       "    .dataframe tbody tr th {\n",
       "        vertical-align: top;\n",
       "    }\n",
       "\n",
       "    .dataframe thead th {\n",
       "        text-align: right;\n",
       "    }\n",
       "</style>\n",
       "<table border=\"1\" class=\"dataframe\">\n",
       "  <thead>\n",
       "    <tr style=\"text-align: right;\">\n",
       "      <th></th>\n",
       "      <th>a</th>\n",
       "      <th>目录</th>\n",
       "    </tr>\n",
       "  </thead>\n",
       "  <tbody>\n",
       "    <tr>\n",
       "      <th>100</th>\n",
       "      <td>NaN</td>\n",
       "      <td>目录1</td>\n",
       "    </tr>\n",
       "    <tr>\n",
       "      <th>101</th>\n",
       "      <td>NaN</td>\n",
       "      <td>目录2</td>\n",
       "    </tr>\n",
       "  </tbody>\n",
       "</table>\n",
       "</div>"
      ],
      "text/plain": [
       "       a   目录\n",
       "100  NaN  目录1\n",
       "101  NaN  目录2"
      ]
     },
     "execution_count": 68,
     "metadata": {},
     "output_type": "execute_result"
    }
   ],
   "source": [
    "pd.DataFrame(data=data_dict, index=[100, 101], columns=['a', '目录'])"
   ]
  },
  {
   "cell_type": "code",
   "execution_count": 69,
   "id": "aa835a0c-67e1-472c-bb2e-24743e360fea",
   "metadata": {},
   "outputs": [
    {
     "data": {
      "text/html": [
       "<div>\n",
       "<style scoped>\n",
       "    .dataframe tbody tr th:only-of-type {\n",
       "        vertical-align: middle;\n",
       "    }\n",
       "\n",
       "    .dataframe tbody tr th {\n",
       "        vertical-align: top;\n",
       "    }\n",
       "\n",
       "    .dataframe thead th {\n",
       "        text-align: right;\n",
       "    }\n",
       "</style>\n",
       "<table border=\"1\" class=\"dataframe\">\n",
       "  <thead>\n",
       "    <tr style=\"text-align: right;\">\n",
       "      <th></th>\n",
       "      <th>章节</th>\n",
       "      <th>目录</th>\n",
       "    </tr>\n",
       "  </thead>\n",
       "  <tbody>\n",
       "    <tr>\n",
       "      <th>0</th>\n",
       "      <td>1</td>\n",
       "      <td>目录1</td>\n",
       "    </tr>\n",
       "    <tr>\n",
       "      <th>1</th>\n",
       "      <td>2</td>\n",
       "      <td>目录2</td>\n",
       "    </tr>\n",
       "  </tbody>\n",
       "</table>\n",
       "</div>"
      ],
      "text/plain": [
       "  章节   目录\n",
       "0  1  目录1\n",
       "1  2  目录2"
      ]
     },
     "execution_count": 69,
     "metadata": {},
     "output_type": "execute_result"
    }
   ],
   "source": [
    "pd.DataFrame(data=data_dict)"
   ]
  },
  {
   "cell_type": "markdown",
   "id": "df407ba4-2da1-4a82-9003-e30eacf4d214",
   "metadata": {
    "tags": []
   },
   "source": [
    "#### 列表字典+列索引"
   ]
  },
  {
   "cell_type": "code",
   "execution_count": 158,
   "id": "e1a9edad-dab1-4b0d-a9d5-2a4b5ecc8b04",
   "metadata": {},
   "outputs": [],
   "source": [
    "data_dict = [{'章节': '1', '目录': '目录1'}, {'章节': '2', '目录': '目录2'}]"
   ]
  },
  {
   "cell_type": "code",
   "execution_count": 159,
   "id": "f0fb50a0-c2be-4e09-9018-94b1cb55676d",
   "metadata": {},
   "outputs": [
    {
     "data": {
      "text/html": [
       "<div>\n",
       "<style scoped>\n",
       "    .dataframe tbody tr th:only-of-type {\n",
       "        vertical-align: middle;\n",
       "    }\n",
       "\n",
       "    .dataframe tbody tr th {\n",
       "        vertical-align: top;\n",
       "    }\n",
       "\n",
       "    .dataframe thead th {\n",
       "        text-align: right;\n",
       "    }\n",
       "</style>\n",
       "<table border=\"1\" class=\"dataframe\">\n",
       "  <thead>\n",
       "    <tr style=\"text-align: right;\">\n",
       "      <th></th>\n",
       "      <th>章节</th>\n",
       "      <th>目录</th>\n",
       "    </tr>\n",
       "  </thead>\n",
       "  <tbody>\n",
       "    <tr>\n",
       "      <th>0</th>\n",
       "      <td>1</td>\n",
       "      <td>目录1</td>\n",
       "    </tr>\n",
       "    <tr>\n",
       "      <th>1</th>\n",
       "      <td>2</td>\n",
       "      <td>目录2</td>\n",
       "    </tr>\n",
       "  </tbody>\n",
       "</table>\n",
       "</div>"
      ],
      "text/plain": [
       "  章节   目录\n",
       "0  1  目录1\n",
       "1  2  目录2"
      ]
     },
     "execution_count": 159,
     "metadata": {},
     "output_type": "execute_result"
    }
   ],
   "source": [
    "pd.DataFrame(data=data_dict)"
   ]
  },
  {
   "cell_type": "code",
   "execution_count": 160,
   "id": "a2bb7fd9-6f00-4b48-90d6-ede64b3691d9",
   "metadata": {},
   "outputs": [
    {
     "data": {
      "text/html": [
       "<div>\n",
       "<style scoped>\n",
       "    .dataframe tbody tr th:only-of-type {\n",
       "        vertical-align: middle;\n",
       "    }\n",
       "\n",
       "    .dataframe tbody tr th {\n",
       "        vertical-align: top;\n",
       "    }\n",
       "\n",
       "    .dataframe thead th {\n",
       "        text-align: right;\n",
       "    }\n",
       "</style>\n",
       "<table border=\"1\" class=\"dataframe\">\n",
       "  <thead>\n",
       "    <tr style=\"text-align: right;\">\n",
       "      <th></th>\n",
       "      <th>章节</th>\n",
       "      <th>目录</th>\n",
       "    </tr>\n",
       "  </thead>\n",
       "  <tbody>\n",
       "    <tr>\n",
       "      <th>100</th>\n",
       "      <td>1</td>\n",
       "      <td>目录1</td>\n",
       "    </tr>\n",
       "    <tr>\n",
       "      <th>101</th>\n",
       "      <td>2</td>\n",
       "      <td>目录2</td>\n",
       "    </tr>\n",
       "  </tbody>\n",
       "</table>\n",
       "</div>"
      ],
      "text/plain": [
       "    章节   目录\n",
       "100  1  目录1\n",
       "101  2  目录2"
      ]
     },
     "execution_count": 160,
     "metadata": {},
     "output_type": "execute_result"
    }
   ],
   "source": [
    "pd.DataFrame(data=data_dict, index=[100, 101])"
   ]
  },
  {
   "cell_type": "markdown",
   "id": "42a563c9-0b65-4454-8d09-19040cfba052",
   "metadata": {},
   "source": [
    "### 数据导出(Output)"
   ]
  },
  {
   "cell_type": "code",
   "execution_count": 70,
   "id": "a7aad99b-d35e-4187-b103-f42c4cc2a6c4",
   "metadata": {},
   "outputs": [
    {
     "data": {
      "text/html": [
       "<div>\n",
       "<style scoped>\n",
       "    .dataframe tbody tr th:only-of-type {\n",
       "        vertical-align: middle;\n",
       "    }\n",
       "\n",
       "    .dataframe tbody tr th {\n",
       "        vertical-align: top;\n",
       "    }\n",
       "\n",
       "    .dataframe thead th {\n",
       "        text-align: right;\n",
       "    }\n",
       "</style>\n",
       "<table border=\"1\" class=\"dataframe\">\n",
       "  <thead>\n",
       "    <tr style=\"text-align: right;\">\n",
       "      <th></th>\n",
       "      <th>章节</th>\n",
       "      <th>目录</th>\n",
       "    </tr>\n",
       "  </thead>\n",
       "  <tbody>\n",
       "    <tr>\n",
       "      <th>100</th>\n",
       "      <td>1</td>\n",
       "      <td>目录1</td>\n",
       "    </tr>\n",
       "    <tr>\n",
       "      <th>101</th>\n",
       "      <td>2</td>\n",
       "      <td>目录2</td>\n",
       "    </tr>\n",
       "  </tbody>\n",
       "</table>\n",
       "</div>"
      ],
      "text/plain": [
       "    章节   目录\n",
       "100  1  目录1\n",
       "101  2  目录2"
      ]
     },
     "execution_count": 70,
     "metadata": {},
     "output_type": "execute_result"
    }
   ],
   "source": [
    "data_dict = {'章节': ['1', '2'], '目录': ['目录1', '目录2']}\n",
    "demo_pandas = pd.DataFrame(data=data_dict, index=[100, 101])\n",
    "demo_pandas"
   ]
  },
  {
   "cell_type": "markdown",
   "id": "a1ae0084-3a51-4b21-b5d0-eef7156521e5",
   "metadata": {},
   "source": [
    "#### csv导出"
   ]
  },
  {
   "cell_type": "markdown",
   "id": "f555d32a-62c9-482d-a841-369abfb39a69",
   "metadata": {},
   "source": [
    "csv全称“Comma-Separated Values”，是一种逗号分隔值格式的文件，是一种用来存储数据的纯文本格式文件。  \n",
    "csv文件由任意数目的记录组成，记录间以某种换行符分隔；每条记录由字段组成,字段间的分隔符是其它字符或字符串"
   ]
  },
  {
   "cell_type": "code",
   "execution_count": 72,
   "id": "6cfe5c9f-3d28-4282-8a49-fa41d71ae2b9",
   "metadata": {},
   "outputs": [],
   "source": [
    "demo_pandas.to_csv('demo.csv')"
   ]
  },
  {
   "cell_type": "markdown",
   "id": "7912c674-a3ca-4d4e-9ee9-384435e98691",
   "metadata": {},
   "source": [
    "#### Excel导出"
   ]
  },
  {
   "cell_type": "code",
   "execution_count": 73,
   "id": "1d7891f4-77c7-471c-b4f5-3156da2cc5c4",
   "metadata": {},
   "outputs": [],
   "source": [
    "demo_pandas.to_excel('demo.xlsx')"
   ]
  },
  {
   "cell_type": "markdown",
   "id": "576e909f-d7ad-4d40-8b71-b86a4976b9f0",
   "metadata": {
    "tags": []
   },
   "source": [
    "#### 剪切板导出"
   ]
  },
  {
   "cell_type": "code",
   "execution_count": 74,
   "id": "13d018e3-35eb-4edb-b34c-18a951d7b596",
   "metadata": {},
   "outputs": [],
   "source": [
    "demo_pandas.to_clipboard()"
   ]
  },
  {
   "cell_type": "markdown",
   "id": "1145d44a-330e-4719-b7cf-013b974fb1ee",
   "metadata": {},
   "source": [
    "### 数据导入(Input)"
   ]
  },
  {
   "cell_type": "markdown",
   "id": "fca78585-8389-4b05-ad90-ecc1e153f4ee",
   "metadata": {},
   "source": [
    "#### csv导入"
   ]
  },
  {
   "cell_type": "code",
   "execution_count": 75,
   "id": "035cd709-f29b-4693-8871-93337d99a4d3",
   "metadata": {},
   "outputs": [],
   "source": [
    "demo1_pandas = pd.read_csv('demo.csv')"
   ]
  },
  {
   "cell_type": "code",
   "execution_count": 76,
   "id": "6f58a3a1-3c0b-4793-885d-6ec14a0d5292",
   "metadata": {},
   "outputs": [
    {
     "data": {
      "text/html": [
       "<div>\n",
       "<style scoped>\n",
       "    .dataframe tbody tr th:only-of-type {\n",
       "        vertical-align: middle;\n",
       "    }\n",
       "\n",
       "    .dataframe tbody tr th {\n",
       "        vertical-align: top;\n",
       "    }\n",
       "\n",
       "    .dataframe thead th {\n",
       "        text-align: right;\n",
       "    }\n",
       "</style>\n",
       "<table border=\"1\" class=\"dataframe\">\n",
       "  <thead>\n",
       "    <tr style=\"text-align: right;\">\n",
       "      <th></th>\n",
       "      <th>Unnamed: 0</th>\n",
       "      <th>章节</th>\n",
       "      <th>目录</th>\n",
       "    </tr>\n",
       "  </thead>\n",
       "  <tbody>\n",
       "    <tr>\n",
       "      <th>0</th>\n",
       "      <td>100</td>\n",
       "      <td>1</td>\n",
       "      <td>目录1</td>\n",
       "    </tr>\n",
       "    <tr>\n",
       "      <th>1</th>\n",
       "      <td>101</td>\n",
       "      <td>2</td>\n",
       "      <td>目录2</td>\n",
       "    </tr>\n",
       "  </tbody>\n",
       "</table>\n",
       "</div>"
      ],
      "text/plain": [
       "   Unnamed: 0  章节   目录\n",
       "0         100   1  目录1\n",
       "1         101   2  目录2"
      ]
     },
     "execution_count": 76,
     "metadata": {},
     "output_type": "execute_result"
    }
   ],
   "source": [
    "demo1_pandas"
   ]
  },
  {
   "cell_type": "code",
   "execution_count": 77,
   "id": "4c55b098-9d7e-4412-9c1f-0863399ff831",
   "metadata": {},
   "outputs": [
    {
     "data": {
      "text/html": [
       "<div>\n",
       "<style scoped>\n",
       "    .dataframe tbody tr th:only-of-type {\n",
       "        vertical-align: middle;\n",
       "    }\n",
       "\n",
       "    .dataframe tbody tr th {\n",
       "        vertical-align: top;\n",
       "    }\n",
       "\n",
       "    .dataframe thead th {\n",
       "        text-align: right;\n",
       "    }\n",
       "</style>\n",
       "<table border=\"1\" class=\"dataframe\">\n",
       "  <thead>\n",
       "    <tr style=\"text-align: right;\">\n",
       "      <th></th>\n",
       "      <th>|章节|目录</th>\n",
       "    </tr>\n",
       "  </thead>\n",
       "  <tbody>\n",
       "    <tr>\n",
       "      <th>0</th>\n",
       "      <td>100|1|目录1</td>\n",
       "    </tr>\n",
       "    <tr>\n",
       "      <th>1</th>\n",
       "      <td>101|2|目录2</td>\n",
       "    </tr>\n",
       "  </tbody>\n",
       "</table>\n",
       "</div>"
      ],
      "text/plain": [
       "      |章节|目录\n",
       "0  100|1|目录1\n",
       "1  101|2|目录2"
      ]
     },
     "execution_count": 77,
     "metadata": {},
     "output_type": "execute_result"
    }
   ],
   "source": [
    "pd.read_csv('demo.txt')"
   ]
  },
  {
   "cell_type": "code",
   "execution_count": 78,
   "id": "b624c4e2-b436-4e3b-b323-91de60486b63",
   "metadata": {},
   "outputs": [
    {
     "data": {
      "text/html": [
       "<div>\n",
       "<style scoped>\n",
       "    .dataframe tbody tr th:only-of-type {\n",
       "        vertical-align: middle;\n",
       "    }\n",
       "\n",
       "    .dataframe tbody tr th {\n",
       "        vertical-align: top;\n",
       "    }\n",
       "\n",
       "    .dataframe thead th {\n",
       "        text-align: right;\n",
       "    }\n",
       "</style>\n",
       "<table border=\"1\" class=\"dataframe\">\n",
       "  <thead>\n",
       "    <tr style=\"text-align: right;\">\n",
       "      <th></th>\n",
       "      <th>Unnamed: 0</th>\n",
       "      <th>章节</th>\n",
       "      <th>目录</th>\n",
       "    </tr>\n",
       "  </thead>\n",
       "  <tbody>\n",
       "    <tr>\n",
       "      <th>0</th>\n",
       "      <td>100</td>\n",
       "      <td>1</td>\n",
       "      <td>目录1</td>\n",
       "    </tr>\n",
       "    <tr>\n",
       "      <th>1</th>\n",
       "      <td>101</td>\n",
       "      <td>2</td>\n",
       "      <td>目录2</td>\n",
       "    </tr>\n",
       "  </tbody>\n",
       "</table>\n",
       "</div>"
      ],
      "text/plain": [
       "   Unnamed: 0  章节   目录\n",
       "0         100   1  目录1\n",
       "1         101   2  目录2"
      ]
     },
     "execution_count": 78,
     "metadata": {},
     "output_type": "execute_result"
    }
   ],
   "source": [
    "pd.read_csv('demo.txt', sep='|')"
   ]
  },
  {
   "cell_type": "markdown",
   "id": "12bce0b6-f030-4c3a-8d69-28dbc3d781bc",
   "metadata": {},
   "source": [
    "#### Excel导入"
   ]
  },
  {
   "cell_type": "code",
   "execution_count": 79,
   "id": "f806ac97-ae4a-486e-b99d-108fa7bf550e",
   "metadata": {},
   "outputs": [],
   "source": [
    "demo1_pandas = pd.read_excel('demo.xlsx')"
   ]
  },
  {
   "cell_type": "code",
   "execution_count": 80,
   "id": "36b1ea96-656f-4988-b845-85cb3fa3204e",
   "metadata": {},
   "outputs": [
    {
     "data": {
      "text/html": [
       "<div>\n",
       "<style scoped>\n",
       "    .dataframe tbody tr th:only-of-type {\n",
       "        vertical-align: middle;\n",
       "    }\n",
       "\n",
       "    .dataframe tbody tr th {\n",
       "        vertical-align: top;\n",
       "    }\n",
       "\n",
       "    .dataframe thead th {\n",
       "        text-align: right;\n",
       "    }\n",
       "</style>\n",
       "<table border=\"1\" class=\"dataframe\">\n",
       "  <thead>\n",
       "    <tr style=\"text-align: right;\">\n",
       "      <th></th>\n",
       "      <th>Unnamed: 0</th>\n",
       "      <th>章节</th>\n",
       "      <th>目录</th>\n",
       "    </tr>\n",
       "  </thead>\n",
       "  <tbody>\n",
       "    <tr>\n",
       "      <th>0</th>\n",
       "      <td>100</td>\n",
       "      <td>1</td>\n",
       "      <td>目录1</td>\n",
       "    </tr>\n",
       "    <tr>\n",
       "      <th>1</th>\n",
       "      <td>101</td>\n",
       "      <td>2</td>\n",
       "      <td>目录2</td>\n",
       "    </tr>\n",
       "  </tbody>\n",
       "</table>\n",
       "</div>"
      ],
      "text/plain": [
       "   Unnamed: 0  章节   目录\n",
       "0         100   1  目录1\n",
       "1         101   2  目录2"
      ]
     },
     "execution_count": 80,
     "metadata": {},
     "output_type": "execute_result"
    }
   ],
   "source": [
    "demo1_pandas"
   ]
  },
  {
   "cell_type": "markdown",
   "id": "35ecb2a4-1a40-4898-9414-4151876cceea",
   "metadata": {
    "tags": []
   },
   "source": [
    "#### 剪切板导入"
   ]
  },
  {
   "cell_type": "code",
   "execution_count": 82,
   "id": "f79deafc-a1b8-4314-839b-1d230c7a778d",
   "metadata": {},
   "outputs": [],
   "source": [
    "demo1_pandas = pd.read_clipboard()"
   ]
  },
  {
   "cell_type": "code",
   "execution_count": 83,
   "id": "f29090d6-c6f1-43ea-87ff-ccae338241fa",
   "metadata": {},
   "outputs": [
    {
     "data": {
      "text/html": [
       "<div>\n",
       "<style scoped>\n",
       "    .dataframe tbody tr th:only-of-type {\n",
       "        vertical-align: middle;\n",
       "    }\n",
       "\n",
       "    .dataframe tbody tr th {\n",
       "        vertical-align: top;\n",
       "    }\n",
       "\n",
       "    .dataframe thead th {\n",
       "        text-align: right;\n",
       "    }\n",
       "</style>\n",
       "<table border=\"1\" class=\"dataframe\">\n",
       "  <thead>\n",
       "    <tr style=\"text-align: right;\">\n",
       "      <th></th>\n",
       "      <th>章节</th>\n",
       "      <th>目录</th>\n",
       "    </tr>\n",
       "  </thead>\n",
       "  <tbody>\n",
       "    <tr>\n",
       "      <th>100</th>\n",
       "      <td>1</td>\n",
       "      <td>目录1</td>\n",
       "    </tr>\n",
       "    <tr>\n",
       "      <th>101</th>\n",
       "      <td>2</td>\n",
       "      <td>目录2</td>\n",
       "    </tr>\n",
       "  </tbody>\n",
       "</table>\n",
       "</div>"
      ],
      "text/plain": [
       "     章节   目录\n",
       "100   1  目录1\n",
       "101   2  目录2"
      ]
     },
     "execution_count": 83,
     "metadata": {},
     "output_type": "execute_result"
    }
   ],
   "source": [
    "demo1_pandas"
   ]
  },
  {
   "cell_type": "markdown",
   "id": "633edc3d-bf4e-4d1a-8628-f7c6ca711069",
   "metadata": {},
   "source": [
    "### 导入导出的常用参数"
   ]
  },
  {
   "cell_type": "markdown",
   "id": "850523c7-c48d-447a-9896-ac43889ea544",
   "metadata": {},
   "source": [
    "https://www.pypandas.cn/docs/user_guide/io.html#csv-%E6%96%87%E6%9C%AC%E6%96%87%E4%BB%B6"
   ]
  },
  {
   "cell_type": "markdown",
   "id": "ff29b79a-36fb-45e1-ab71-45566f457e03",
   "metadata": {},
   "source": [
    "#### 导入表头的问题"
   ]
  },
  {
   "cell_type": "code",
   "execution_count": 84,
   "id": "6d24e1b7-5a6f-44d0-9d8b-99ced213c431",
   "metadata": {},
   "outputs": [
    {
     "data": {
      "text/html": [
       "<div>\n",
       "<style scoped>\n",
       "    .dataframe tbody tr th:only-of-type {\n",
       "        vertical-align: middle;\n",
       "    }\n",
       "\n",
       "    .dataframe tbody tr th {\n",
       "        vertical-align: top;\n",
       "    }\n",
       "\n",
       "    .dataframe thead th {\n",
       "        text-align: right;\n",
       "    }\n",
       "</style>\n",
       "<table border=\"1\" class=\"dataframe\">\n",
       "  <thead>\n",
       "    <tr style=\"text-align: right;\">\n",
       "      <th></th>\n",
       "      <th>0</th>\n",
       "      <th>1</th>\n",
       "      <th>2</th>\n",
       "    </tr>\n",
       "  </thead>\n",
       "  <tbody>\n",
       "    <tr>\n",
       "      <th>0</th>\n",
       "      <td>NaN</td>\n",
       "      <td>章节</td>\n",
       "      <td>目录</td>\n",
       "    </tr>\n",
       "    <tr>\n",
       "      <th>1</th>\n",
       "      <td>100.0</td>\n",
       "      <td>1</td>\n",
       "      <td>目录1</td>\n",
       "    </tr>\n",
       "    <tr>\n",
       "      <th>2</th>\n",
       "      <td>101.0</td>\n",
       "      <td>2</td>\n",
       "      <td>目录2</td>\n",
       "    </tr>\n",
       "  </tbody>\n",
       "</table>\n",
       "</div>"
      ],
      "text/plain": [
       "       0   1    2\n",
       "0    NaN  章节   目录\n",
       "1  100.0   1  目录1\n",
       "2  101.0   2  目录2"
      ]
     },
     "execution_count": 84,
     "metadata": {},
     "output_type": "execute_result"
    }
   ],
   "source": [
    "pd.read_csv('demo.csv', header=None)"
   ]
  },
  {
   "cell_type": "code",
   "execution_count": 85,
   "id": "7f8fed0c-29c7-4f64-a07a-7c243756f1be",
   "metadata": {},
   "outputs": [
    {
     "data": {
      "text/html": [
       "<div>\n",
       "<style scoped>\n",
       "    .dataframe tbody tr th:only-of-type {\n",
       "        vertical-align: middle;\n",
       "    }\n",
       "\n",
       "    .dataframe tbody tr th {\n",
       "        vertical-align: top;\n",
       "    }\n",
       "\n",
       "    .dataframe thead th {\n",
       "        text-align: right;\n",
       "    }\n",
       "</style>\n",
       "<table border=\"1\" class=\"dataframe\">\n",
       "  <thead>\n",
       "    <tr style=\"text-align: right;\">\n",
       "      <th></th>\n",
       "      <th>Unnamed: 0</th>\n",
       "      <th>章节</th>\n",
       "      <th>目录</th>\n",
       "    </tr>\n",
       "  </thead>\n",
       "  <tbody>\n",
       "    <tr>\n",
       "      <th>0</th>\n",
       "      <td>100</td>\n",
       "      <td>1</td>\n",
       "      <td>目录1</td>\n",
       "    </tr>\n",
       "    <tr>\n",
       "      <th>1</th>\n",
       "      <td>101</td>\n",
       "      <td>2</td>\n",
       "      <td>目录2</td>\n",
       "    </tr>\n",
       "  </tbody>\n",
       "</table>\n",
       "</div>"
      ],
      "text/plain": [
       "   Unnamed: 0  章节   目录\n",
       "0         100   1  目录1\n",
       "1         101   2  目录2"
      ]
     },
     "execution_count": 85,
     "metadata": {},
     "output_type": "execute_result"
    }
   ],
   "source": [
    "pd.read_csv('demo.csv', header=0)"
   ]
  },
  {
   "cell_type": "code",
   "execution_count": 86,
   "id": "3c2b4eb2-0000-49d3-a2dd-544736b079c4",
   "metadata": {},
   "outputs": [
    {
     "data": {
      "text/html": [
       "<div>\n",
       "<style scoped>\n",
       "    .dataframe tbody tr th:only-of-type {\n",
       "        vertical-align: middle;\n",
       "    }\n",
       "\n",
       "    .dataframe tbody tr th {\n",
       "        vertical-align: top;\n",
       "    }\n",
       "\n",
       "    .dataframe thead th {\n",
       "        text-align: right;\n",
       "    }\n",
       "</style>\n",
       "<table border=\"1\" class=\"dataframe\">\n",
       "  <thead>\n",
       "    <tr style=\"text-align: right;\">\n",
       "      <th></th>\n",
       "      <th>100</th>\n",
       "      <th>1</th>\n",
       "      <th>目录1</th>\n",
       "    </tr>\n",
       "  </thead>\n",
       "  <tbody>\n",
       "    <tr>\n",
       "      <th>0</th>\n",
       "      <td>101</td>\n",
       "      <td>2</td>\n",
       "      <td>目录2</td>\n",
       "    </tr>\n",
       "  </tbody>\n",
       "</table>\n",
       "</div>"
      ],
      "text/plain": [
       "   100  1  目录1\n",
       "0  101  2  目录2"
      ]
     },
     "execution_count": 86,
     "metadata": {},
     "output_type": "execute_result"
    }
   ],
   "source": [
    "pd.read_csv('demo.csv', header=1)"
   ]
  },
  {
   "cell_type": "markdown",
   "id": "b8d22fbf-39f7-4c34-adb2-b840b9be2caa",
   "metadata": {},
   "source": [
    "#### 导出列索引的问题"
   ]
  },
  {
   "cell_type": "code",
   "execution_count": 87,
   "id": "2cbd9172-698f-4c75-b2e2-93bb4eda5d60",
   "metadata": {},
   "outputs": [],
   "source": [
    "demo_pandas.to_csv('demo.csv', index=False)"
   ]
  },
  {
   "cell_type": "markdown",
   "id": "ee5337aa-b442-4382-a84a-333a5ccd7d04",
   "metadata": {},
   "source": [
    "#### 导入导出的编码问题"
   ]
  },
  {
   "cell_type": "markdown",
   "id": "b60eb8ad-4b1d-49fc-8bfa-0189e3b3de1a",
   "metadata": {},
   "source": [
    "windows - gbk  \n",
    "linux - utf-8"
   ]
  },
  {
   "cell_type": "markdown",
   "id": "462dd241-5b36-46b9-9603-a4911e98d1cc",
   "metadata": {},
   "source": [
    "默认是按utf-8导出的"
   ]
  },
  {
   "cell_type": "code",
   "execution_count": 88,
   "id": "5930bf9c-aee6-4fef-8fd0-99ae5ca17874",
   "metadata": {},
   "outputs": [
    {
     "data": {
      "text/html": [
       "<div>\n",
       "<style scoped>\n",
       "    .dataframe tbody tr th:only-of-type {\n",
       "        vertical-align: middle;\n",
       "    }\n",
       "\n",
       "    .dataframe tbody tr th {\n",
       "        vertical-align: top;\n",
       "    }\n",
       "\n",
       "    .dataframe thead th {\n",
       "        text-align: right;\n",
       "    }\n",
       "</style>\n",
       "<table border=\"1\" class=\"dataframe\">\n",
       "  <thead>\n",
       "    <tr style=\"text-align: right;\">\n",
       "      <th></th>\n",
       "      <th>章节</th>\n",
       "      <th>目录</th>\n",
       "    </tr>\n",
       "  </thead>\n",
       "  <tbody>\n",
       "    <tr>\n",
       "      <th>100</th>\n",
       "      <td>1</td>\n",
       "      <td>目录1</td>\n",
       "    </tr>\n",
       "    <tr>\n",
       "      <th>101</th>\n",
       "      <td>2</td>\n",
       "      <td>目录2</td>\n",
       "    </tr>\n",
       "  </tbody>\n",
       "</table>\n",
       "</div>"
      ],
      "text/plain": [
       "    章节   目录\n",
       "100  1  目录1\n",
       "101  2  目录2"
      ]
     },
     "execution_count": 88,
     "metadata": {},
     "output_type": "execute_result"
    }
   ],
   "source": [
    "demo_pandas"
   ]
  },
  {
   "cell_type": "code",
   "execution_count": 89,
   "id": "607370de-6b74-4251-a4f4-afab91ae3a61",
   "metadata": {},
   "outputs": [],
   "source": [
    "demo_pandas.to_csv('demo_default.csv', index=False)"
   ]
  },
  {
   "cell_type": "code",
   "execution_count": 90,
   "id": "003d5770-678c-45ee-9990-1d8d83fcbad1",
   "metadata": {},
   "outputs": [],
   "source": [
    "demo_pandas.to_csv('demo_gbk.csv', index=False, encoding='gbk')"
   ]
  },
  {
   "cell_type": "raw",
   "id": "9a8185d0-4560-492a-98e9-80995659ed92",
   "metadata": {},
   "source": [
    "pd.read_csv('demo_default.csv', encoding='gbk')"
   ]
  },
  {
   "cell_type": "code",
   "execution_count": 91,
   "id": "b65a96de-acc5-419b-ba02-9a346ea8dda0",
   "metadata": {},
   "outputs": [
    {
     "data": {
      "text/html": [
       "<div>\n",
       "<style scoped>\n",
       "    .dataframe tbody tr th:only-of-type {\n",
       "        vertical-align: middle;\n",
       "    }\n",
       "\n",
       "    .dataframe tbody tr th {\n",
       "        vertical-align: top;\n",
       "    }\n",
       "\n",
       "    .dataframe thead th {\n",
       "        text-align: right;\n",
       "    }\n",
       "</style>\n",
       "<table border=\"1\" class=\"dataframe\">\n",
       "  <thead>\n",
       "    <tr style=\"text-align: right;\">\n",
       "      <th></th>\n",
       "      <th>章节</th>\n",
       "      <th>目录</th>\n",
       "    </tr>\n",
       "  </thead>\n",
       "  <tbody>\n",
       "    <tr>\n",
       "      <th>0</th>\n",
       "      <td>1</td>\n",
       "      <td>目录1</td>\n",
       "    </tr>\n",
       "    <tr>\n",
       "      <th>1</th>\n",
       "      <td>2</td>\n",
       "      <td>目录2</td>\n",
       "    </tr>\n",
       "  </tbody>\n",
       "</table>\n",
       "</div>"
      ],
      "text/plain": [
       "   章节   目录\n",
       "0   1  目录1\n",
       "1   2  目录2"
      ]
     },
     "execution_count": 91,
     "metadata": {},
     "output_type": "execute_result"
    }
   ],
   "source": [
    "pd.read_csv('demo_default.csv', encoding='utf-8')"
   ]
  },
  {
   "cell_type": "raw",
   "id": "c16e30a9-5a6c-4ad4-8832-5b8aefbd6d6a",
   "metadata": {},
   "source": [
    "pd.read_csv('demo_gbk.csv', encoding='utf-8')"
   ]
  },
  {
   "cell_type": "code",
   "execution_count": 93,
   "id": "83057bde-64de-42ad-b0a0-69bf6df0ee4b",
   "metadata": {},
   "outputs": [
    {
     "data": {
      "text/html": [
       "<div>\n",
       "<style scoped>\n",
       "    .dataframe tbody tr th:only-of-type {\n",
       "        vertical-align: middle;\n",
       "    }\n",
       "\n",
       "    .dataframe tbody tr th {\n",
       "        vertical-align: top;\n",
       "    }\n",
       "\n",
       "    .dataframe thead th {\n",
       "        text-align: right;\n",
       "    }\n",
       "</style>\n",
       "<table border=\"1\" class=\"dataframe\">\n",
       "  <thead>\n",
       "    <tr style=\"text-align: right;\">\n",
       "      <th></th>\n",
       "      <th>章节</th>\n",
       "      <th>目录</th>\n",
       "    </tr>\n",
       "  </thead>\n",
       "  <tbody>\n",
       "    <tr>\n",
       "      <th>0</th>\n",
       "      <td>1</td>\n",
       "      <td>目录1</td>\n",
       "    </tr>\n",
       "    <tr>\n",
       "      <th>1</th>\n",
       "      <td>2</td>\n",
       "      <td>目录2</td>\n",
       "    </tr>\n",
       "  </tbody>\n",
       "</table>\n",
       "</div>"
      ],
      "text/plain": [
       "   章节   目录\n",
       "0   1  目录1\n",
       "1   2  目录2"
      ]
     },
     "execution_count": 93,
     "metadata": {},
     "output_type": "execute_result"
    }
   ],
   "source": [
    "pd.read_csv('demo_gbk.csv', encoding='gbk')"
   ]
  },
  {
   "cell_type": "markdown",
   "id": "af0a57a5-fd79-4115-91e6-5b69993c05dd",
   "metadata": {},
   "source": [
    "## 文件操作"
   ]
  },
  {
   "cell_type": "markdown",
   "id": "393baf12-f9b9-4716-a2cb-2110d527f77d",
   "metadata": {},
   "source": [
    "### 写文件"
   ]
  },
  {
   "cell_type": "markdown",
   "id": "b3c1d2d1-406d-425c-8a05-d126d0158c22",
   "metadata": {},
   "source": [
    "#### 手动关闭"
   ]
  },
  {
   "cell_type": "code",
   "execution_count": 95,
   "id": "b8542eed-45d0-49a8-8c58-d45e0a25d5ee",
   "metadata": {},
   "outputs": [],
   "source": [
    "file = open('./test_runoob.txt', 'w')"
   ]
  },
  {
   "cell_type": "code",
   "execution_count": 97,
   "id": "3347465d-56f1-4fa7-815c-040701e2089a",
   "metadata": {},
   "outputs": [
    {
     "data": {
      "text/plain": [
       "13"
      ]
     },
     "execution_count": 97,
     "metadata": {},
     "output_type": "execute_result"
    }
   ],
   "source": [
    "file.write('hello world !')"
   ]
  },
  {
   "cell_type": "code",
   "execution_count": 98,
   "id": "8040b706-e9eb-4dcf-9328-e98ff644bafa",
   "metadata": {},
   "outputs": [],
   "source": [
    "file.close()"
   ]
  },
  {
   "cell_type": "markdown",
   "id": "9c5e159c-32ca-421e-a716-ee553acaa6ce",
   "metadata": {},
   "source": [
    "#### with关键字关闭"
   ]
  },
  {
   "cell_type": "markdown",
   "id": "a247c352-5150-4a3b-8eeb-6940ba181f10",
   "metadata": {},
   "source": [
    "https://www.runoob.com/python3/python-with.html"
   ]
  },
  {
   "cell_type": "code",
   "execution_count": null,
   "id": "dfb9914b-5ab4-4cc5-94e5-0520f4d040f4",
   "metadata": {},
   "outputs": [],
   "source": [
    "with open('./test_runoob.txt', 'w') as file:\n",
    "    file.write('hello world !')"
   ]
  },
  {
   "cell_type": "markdown",
   "id": "0ea1f4db-b38b-4bb5-b1f3-539995b9310b",
   "metadata": {},
   "source": [
    "### 读文件"
   ]
  },
  {
   "cell_type": "code",
   "execution_count": 99,
   "id": "a7397991-4f68-412c-a746-455b09c8eb6b",
   "metadata": {},
   "outputs": [
    {
     "data": {
      "text/plain": [
       "'章节,目录\\n1,目录1\\n2,目录2\\n'"
      ]
     },
     "execution_count": 99,
     "metadata": {},
     "output_type": "execute_result"
    }
   ],
   "source": [
    "with open('demo.csv', 'r', encoding='utf-8') as f: \n",
    "    content = f.read()\n",
    "content"
   ]
  },
  {
   "cell_type": "markdown",
   "id": "8b6dade5-1adc-4667-85fa-35544c82164b",
   "metadata": {},
   "source": [
    "### 自己构建pandas的csv读取逻辑"
   ]
  },
  {
   "cell_type": "markdown",
   "id": "4dfa4a7a-45cf-499c-bc7d-921df816ef69",
   "metadata": {},
   "source": [
    "Python字符串：https://www.runoob.com/python3/python3-string.html"
   ]
  },
  {
   "cell_type": "code",
   "execution_count": 101,
   "id": "2e24b313-153d-4e29-9267-a7aa63eaca30",
   "metadata": {},
   "outputs": [
    {
     "data": {
      "text/plain": [
       "['章节,目录', '1,目录1', '2,目录2', '']"
      ]
     },
     "execution_count": 101,
     "metadata": {},
     "output_type": "execute_result"
    }
   ],
   "source": [
    "content.split('\\n')"
   ]
  },
  {
   "cell_type": "code",
   "execution_count": 104,
   "id": "31d055f7-6e0e-41e9-8b4b-ec515b44ba73",
   "metadata": {},
   "outputs": [
    {
     "data": {
      "text/plain": [
       "[['章节', '目录'], ['1', '目录1'], ['2', '目录2'], ['']]"
      ]
     },
     "execution_count": 104,
     "metadata": {},
     "output_type": "execute_result"
    }
   ],
   "source": [
    "pandas_list = []\n",
    "for row in content.split('\\n'):\n",
    "    pandas_list.append(row.split(','))\n",
    "pandas_list"
   ]
  },
  {
   "cell_type": "code",
   "execution_count": 105,
   "id": "9585293d-9267-4682-a50a-77e9e8f9b81d",
   "metadata": {},
   "outputs": [],
   "source": [
    "def get_csv2pandas(file_path):\n",
    "    with open(file_path, 'r', encoding='utf-8') as f: \n",
    "        content = f.read()\n",
    "    pandas_list = []\n",
    "    for row in content.split('\\n')[:-1]:\n",
    "        pandas_list.append(row.split(','))\n",
    "    pandas_data = pd.DataFrame(data=pandas_list)\n",
    "    return pandas_data"
   ]
  },
  {
   "cell_type": "code",
   "execution_count": 106,
   "id": "3523d2f8-6a5d-4787-a025-ea06acd31a27",
   "metadata": {},
   "outputs": [
    {
     "data": {
      "text/html": [
       "<div>\n",
       "<style scoped>\n",
       "    .dataframe tbody tr th:only-of-type {\n",
       "        vertical-align: middle;\n",
       "    }\n",
       "\n",
       "    .dataframe tbody tr th {\n",
       "        vertical-align: top;\n",
       "    }\n",
       "\n",
       "    .dataframe thead th {\n",
       "        text-align: right;\n",
       "    }\n",
       "</style>\n",
       "<table border=\"1\" class=\"dataframe\">\n",
       "  <thead>\n",
       "    <tr style=\"text-align: right;\">\n",
       "      <th></th>\n",
       "      <th>0</th>\n",
       "      <th>1</th>\n",
       "    </tr>\n",
       "  </thead>\n",
       "  <tbody>\n",
       "    <tr>\n",
       "      <th>0</th>\n",
       "      <td>章节</td>\n",
       "      <td>目录</td>\n",
       "    </tr>\n",
       "    <tr>\n",
       "      <th>1</th>\n",
       "      <td>1</td>\n",
       "      <td>目录1</td>\n",
       "    </tr>\n",
       "    <tr>\n",
       "      <th>2</th>\n",
       "      <td>2</td>\n",
       "      <td>目录2</td>\n",
       "    </tr>\n",
       "  </tbody>\n",
       "</table>\n",
       "</div>"
      ],
      "text/plain": [
       "    0    1\n",
       "0  章节   目录\n",
       "1   1  目录1\n",
       "2   2  目录2"
      ]
     },
     "execution_count": 106,
     "metadata": {},
     "output_type": "execute_result"
    }
   ],
   "source": [
    "get_csv2pandas('demo.csv')"
   ]
  },
  {
   "cell_type": "markdown",
   "id": "a2074dcf-d154-4656-a1d1-6f03ac395fae",
   "metadata": {},
   "source": [
    "## 目录树构建"
   ]
  },
  {
   "cell_type": "markdown",
   "id": "9c65946f-8602-4c01-bb76-4b51e2261856",
   "metadata": {},
   "source": [
    "### 分开获取研究"
   ]
  },
  {
   "cell_type": "markdown",
   "id": "1e068a0d-ec6e-41ac-aada-8ce49918e614",
   "metadata": {},
   "source": [
    "1级目录"
   ]
  },
  {
   "cell_type": "code",
   "execution_count": 107,
   "id": "51a5398b-b840-4f21-835f-c1e15016db17",
   "metadata": {},
   "outputs": [
    {
     "data": {
      "text/plain": [
       "['1 发行人基本情况调查',\n",
       " '10 建议书与备忘录',\n",
       " '2 业务与技术调查',\n",
       " '3 公司治理与独立性调查',\n",
       " '4 财务与会计调查',\n",
       " '5 募集资金运用情况和业务发展目标调查',\n",
       " '6 投资者保护调查',\n",
       " '7 风险因素及其他重要事项调查',\n",
       " '8 与其他证券服务机构的协作',\n",
       " '9 工作执行记录']"
      ]
     },
     "execution_count": 107,
     "metadata": {},
     "output_type": "execute_result"
    }
   ],
   "source": [
    "import os\n",
    "path = '投行申报'\n",
    "os.listdir(path)"
   ]
  },
  {
   "cell_type": "markdown",
   "id": "65721cbb-e414-4c2d-8f74-984b70e2139e",
   "metadata": {},
   "source": [
    "2级目录"
   ]
  },
  {
   "cell_type": "code",
   "execution_count": 108,
   "id": "98b92a64-a204-4998-ad5b-e0f16c9cd67c",
   "metadata": {},
   "outputs": [
    {
     "data": {
      "text/plain": [
       "['1-1 历史沿革情况',\n",
       " '1-10 董事、监事、高级管理人员及其他核心人员薪酬及兼职情况',\n",
       " '1-11 报告期内董事、监事、高级管理人员及其他核心人员变动',\n",
       " '1-12 董事、监事、高级管理人员及其他核心人员持股及其他对外投资等情况',\n",
       " '1-13 员工情况',\n",
       " '1-2 企业改制与设立情况（国有企业、集体企业改制而来的或历史上存在挂靠集体组织经营的企业）',\n",
       " '1-3 内部职工股（如适用）',\n",
       " '1-4 重大重组情况',\n",
       " '1-5 发行人控股子公司和重要参股公司情况',\n",
       " '1-6 控股股东及实际控制人、发起人及股东情况',\n",
       " '1-7 董事、监事和高级管理人员任职情况和任职资格',\n",
       " '1-8 董事、监事和高级管理人员的经历及行为操守',\n",
       " '1-9 董事、监事和高级管理人员胜任能力和勤勉尽责']"
      ]
     },
     "execution_count": 108,
     "metadata": {},
     "output_type": "execute_result"
    }
   ],
   "source": [
    "subpath1_list = os.listdir(path)\n",
    "os.listdir(os.path.join(path, subpath1_list[0]))"
   ]
  },
  {
   "cell_type": "markdown",
   "id": "d350f310-8698-4863-8972-6a9e360fef3a",
   "metadata": {},
   "source": [
    "3级目录"
   ]
  },
  {
   "cell_type": "code",
   "execution_count": 109,
   "id": "6edb3c23-8a05-41f7-890a-32080924a678",
   "metadata": {},
   "outputs": [],
   "source": [
    "subpath_1_1_list = os.listdir(os.path.join(path, subpath1_list[0]))"
   ]
  },
  {
   "cell_type": "code",
   "execution_count": 110,
   "id": "9a7f82cd-6719-4df2-a190-ef178d775976",
   "metadata": {},
   "outputs": [
    {
     "data": {
      "text/plain": [
       "'投行申报\\\\1 发行人基本情况调查\\\\1-1 历史沿革情况'"
      ]
     },
     "execution_count": 110,
     "metadata": {},
     "output_type": "execute_result"
    }
   ],
   "source": [
    "os.path.join(path, subpath1_list[0], subpath_1_1_list[0])"
   ]
  },
  {
   "cell_type": "code",
   "execution_count": 111,
   "id": "1569c64e-6df2-4f18-ac2d-944e94bc7fc6",
   "metadata": {},
   "outputs": [
    {
     "data": {
      "text/plain": [
       "['1-1-1 发行人设立及历次工商变更登记文件，历次股权变动涉及的三会决议、股权转让协议或增减资协议、验资报告或出资证明、审计报告、评估报告、国有资产评估核准或备案文件、政府批准文件、股权转让或增资的作价依据、股权转让价款支付情况说明或支付凭证、缴税凭证、债权人同意文件、其他股东放弃优先购买权的承诺函等',\n",
       " '1-1-10 发行人境外控制架构设置的相关资料，涉及红筹架构形成及拆除的相关资料（如有）',\n",
       " '1-1-11 发行人成立时拥有的主要资产和业务情况的说明',\n",
       " '1-1-12 在其他证券市场的上市',\n",
       " '1-1-2 发起人、股东以非货币财产出资时，涉及的资产产权变更登记资料文件',\n",
       " '1-1-3 发行人是否存在出资瑕疵（出资不实、虚假出资、抽逃出资等）的情况说明及相关资料',\n",
       " '1-1-4 发行人历史上委托持股、信托持股、股权代持形成、演变和清理的相关资料',\n",
       " '1-1-5 发行人间接股东的相关核查资料',\n",
       " '1-1-6 发行人对其董事、监事、高级管理人员、其他核心人员、员工实行的股权激励（如员工持股计划、限制性股票、股票期权）及其他制度安排和执行情况（如有）',\n",
       " '1-1-7 发行人（包括下属公司）及其前身或红筹架构上的境内外实体（如有）在其他证券市场的上市',\n",
       " '1-1-8 发行人在其他证券市场挂牌',\n",
       " '1-1-9 发行人涉及境外私有化退市的相关资料（如有）']"
      ]
     },
     "execution_count": 111,
     "metadata": {},
     "output_type": "execute_result"
    }
   ],
   "source": [
    "os.listdir(os.path.join(path, subpath1_list[0], subpath_1_1_list[0]))"
   ]
  },
  {
   "cell_type": "markdown",
   "id": "258f04e3-62a7-472f-9c93-f3c735cde133",
   "metadata": {},
   "source": [
    "### for循环构建"
   ]
  },
  {
   "cell_type": "markdown",
   "id": "f6923744-c61b-47df-add1-85a6c2f07272",
   "metadata": {},
   "source": [
    "#### for循环获取数据"
   ]
  },
  {
   "cell_type": "code",
   "execution_count": 112,
   "id": "5d728fb0-5ab3-494c-b07c-810acd42d7a7",
   "metadata": {},
   "outputs": [],
   "source": [
    "import os\n",
    "path = '投行申报'"
   ]
  },
  {
   "cell_type": "raw",
   "id": "aae26d07-5d48-476e-bbfb-19df58132b1b",
   "metadata": {},
   "source": [
    "for path1 in os.listdir(path):\n",
    "    for path2 in os.listdir(os.path.join(path, path1)):\n",
    "        print(path2)"
   ]
  },
  {
   "cell_type": "code",
   "execution_count": 115,
   "id": "ce277740-7327-4e60-bb1f-70141fac232d",
   "metadata": {
    "tags": []
   },
   "outputs": [],
   "source": [
    "total_name = []\n",
    "for path1 in os.listdir(path):\n",
    "    total_name.append(path1)\n",
    "    for path2 in os.listdir(os.path.join(path, path1)):\n",
    "        total_name.append(path2)\n",
    "        for path3 in os.listdir(os.path.join(path, path1, path2)):\n",
    "            total_name.append(path3)"
   ]
  },
  {
   "cell_type": "code",
   "execution_count": 117,
   "id": "2422f7a2-3208-4889-a121-f76bf52710a8",
   "metadata": {
    "tags": []
   },
   "outputs": [
    {
     "data": {
      "text/plain": [
       "543"
      ]
     },
     "execution_count": 117,
     "metadata": {},
     "output_type": "execute_result"
    }
   ],
   "source": [
    "len(total_name)"
   ]
  },
  {
   "cell_type": "markdown",
   "id": "c080987d-c2f7-4c1e-b48e-0af3e2ee8e87",
   "metadata": {},
   "source": [
    "#### Pandas整合数据"
   ]
  },
  {
   "cell_type": "markdown",
   "id": "f537a2b1-a611-4f0f-a715-8ad25aa238a4",
   "metadata": {},
   "source": [
    "Python字符串：https://www.runoob.com/python3/python3-string.html"
   ]
  },
  {
   "cell_type": "code",
   "execution_count": 118,
   "id": "36221a50-0020-481b-bdb8-e3987031f829",
   "metadata": {},
   "outputs": [],
   "source": [
    "tree_pandas = pd.DataFrame(total_name)"
   ]
  },
  {
   "cell_type": "code",
   "execution_count": 119,
   "id": "52c88457-0ac0-45f3-97f6-bbe2e447e852",
   "metadata": {},
   "outputs": [
    {
     "data": {
      "text/html": [
       "<div>\n",
       "<style scoped>\n",
       "    .dataframe tbody tr th:only-of-type {\n",
       "        vertical-align: middle;\n",
       "    }\n",
       "\n",
       "    .dataframe tbody tr th {\n",
       "        vertical-align: top;\n",
       "    }\n",
       "\n",
       "    .dataframe thead th {\n",
       "        text-align: right;\n",
       "    }\n",
       "</style>\n",
       "<table border=\"1\" class=\"dataframe\">\n",
       "  <thead>\n",
       "    <tr style=\"text-align: right;\">\n",
       "      <th></th>\n",
       "      <th>0</th>\n",
       "    </tr>\n",
       "  </thead>\n",
       "  <tbody>\n",
       "    <tr>\n",
       "      <th>0</th>\n",
       "      <td>1 发行人基本情况调查</td>\n",
       "    </tr>\n",
       "    <tr>\n",
       "      <th>1</th>\n",
       "      <td>1-1 历史沿革情况</td>\n",
       "    </tr>\n",
       "    <tr>\n",
       "      <th>2</th>\n",
       "      <td>1-1-1 发行人设立及历次工商变更登记文件，历次股权变动涉及的三会决议、股权转让协议或增减...</td>\n",
       "    </tr>\n",
       "    <tr>\n",
       "      <th>3</th>\n",
       "      <td>1-1-10 发行人境外控制架构设置的相关资料，涉及红筹架构形成及拆除的相关资料（如有）</td>\n",
       "    </tr>\n",
       "    <tr>\n",
       "      <th>4</th>\n",
       "      <td>1-1-11 发行人成立时拥有的主要资产和业务情况的说明</td>\n",
       "    </tr>\n",
       "    <tr>\n",
       "      <th>...</th>\n",
       "      <td>...</td>\n",
       "    </tr>\n",
       "    <tr>\n",
       "      <th>538</th>\n",
       "      <td>9 工作执行记录</td>\n",
       "    </tr>\n",
       "    <tr>\n",
       "      <th>539</th>\n",
       "      <td>9-1 保荐机构项目人员配置情况，各人员从事的具体工作，以及相关人员在项目中发挥的作用的相关记录</td>\n",
       "    </tr>\n",
       "    <tr>\n",
       "      <th>540</th>\n",
       "      <td>9-2 定期会议的会议资料以及会议记录</td>\n",
       "    </tr>\n",
       "    <tr>\n",
       "      <th>541</th>\n",
       "      <td>9-3 重大事项的专题讨论会的会议资料及会议纪要</td>\n",
       "    </tr>\n",
       "    <tr>\n",
       "      <th>542</th>\n",
       "      <td>9-4 按照证监会保荐业务管理相关规定制作的工作日志（请使用模板“项目工作日志.docx”）</td>\n",
       "    </tr>\n",
       "  </tbody>\n",
       "</table>\n",
       "<p>543 rows × 1 columns</p>\n",
       "</div>"
      ],
      "text/plain": [
       "                                                     0\n",
       "0                                          1 发行人基本情况调查\n",
       "1                                           1-1 历史沿革情况\n",
       "2    1-1-1 发行人设立及历次工商变更登记文件，历次股权变动涉及的三会决议、股权转让协议或增减...\n",
       "3         1-1-10 发行人境外控制架构设置的相关资料，涉及红筹架构形成及拆除的相关资料（如有）\n",
       "4                         1-1-11 发行人成立时拥有的主要资产和业务情况的说明\n",
       "..                                                 ...\n",
       "538                                           9 工作执行记录\n",
       "539   9-1 保荐机构项目人员配置情况，各人员从事的具体工作，以及相关人员在项目中发挥的作用的相关记录\n",
       "540                                9-2 定期会议的会议资料以及会议记录\n",
       "541                           9-3 重大事项的专题讨论会的会议资料及会议纪要\n",
       "542     9-4 按照证监会保荐业务管理相关规定制作的工作日志（请使用模板“项目工作日志.docx”）\n",
       "\n",
       "[543 rows x 1 columns]"
      ]
     },
     "execution_count": 119,
     "metadata": {},
     "output_type": "execute_result"
    }
   ],
   "source": [
    "tree_pandas"
   ]
  },
  {
   "cell_type": "markdown",
   "id": "d5864018-3212-40be-b657-c396abc6eaf4",
   "metadata": {},
   "source": [
    "#### 生成新的列"
   ]
  },
  {
   "cell_type": "code",
   "execution_count": 121,
   "id": "bfeabe4d-ece6-4f1f-96bf-ef37f7e1962f",
   "metadata": {},
   "outputs": [
    {
     "data": {
      "text/plain": [
       "'1'"
      ]
     },
     "execution_count": 121,
     "metadata": {},
     "output_type": "execute_result"
    }
   ],
   "source": [
    "'1 发行人基本情况调查'.split(' ')[0]"
   ]
  },
  {
   "cell_type": "code",
   "execution_count": 123,
   "id": "21cd17b1-357a-4f7e-a6d6-e78963c9d032",
   "metadata": {},
   "outputs": [
    {
     "data": {
      "text/plain": [
       "0           1\n",
       "1         1-1\n",
       "2       1-1-1\n",
       "3      1-1-10\n",
       "4      1-1-11\n",
       "        ...  \n",
       "538         9\n",
       "539       9-1\n",
       "540       9-2\n",
       "541       9-3\n",
       "542       9-4\n",
       "Name: 0, Length: 543, dtype: object"
      ]
     },
     "execution_count": 123,
     "metadata": {},
     "output_type": "execute_result"
    }
   ],
   "source": [
    "tree_pandas[0].apply(lambda x : x.split(' ')[0])"
   ]
  },
  {
   "cell_type": "code",
   "execution_count": 124,
   "id": "105730e1-7dcc-4bbf-87cc-aaab4ad46d61",
   "metadata": {},
   "outputs": [],
   "source": [
    "tree_pandas[1] = tree_pandas[0].apply(lambda x : x.split(' ')[0])"
   ]
  },
  {
   "cell_type": "code",
   "execution_count": 125,
   "id": "f1df0c0d-30ae-4ce2-9a8b-6dd3e3bad0d0",
   "metadata": {},
   "outputs": [
    {
     "data": {
      "text/html": [
       "<div>\n",
       "<style scoped>\n",
       "    .dataframe tbody tr th:only-of-type {\n",
       "        vertical-align: middle;\n",
       "    }\n",
       "\n",
       "    .dataframe tbody tr th {\n",
       "        vertical-align: top;\n",
       "    }\n",
       "\n",
       "    .dataframe thead th {\n",
       "        text-align: right;\n",
       "    }\n",
       "</style>\n",
       "<table border=\"1\" class=\"dataframe\">\n",
       "  <thead>\n",
       "    <tr style=\"text-align: right;\">\n",
       "      <th></th>\n",
       "      <th>0</th>\n",
       "      <th>1</th>\n",
       "    </tr>\n",
       "  </thead>\n",
       "  <tbody>\n",
       "    <tr>\n",
       "      <th>0</th>\n",
       "      <td>1 发行人基本情况调查</td>\n",
       "      <td>1</td>\n",
       "    </tr>\n",
       "    <tr>\n",
       "      <th>1</th>\n",
       "      <td>1-1 历史沿革情况</td>\n",
       "      <td>1-1</td>\n",
       "    </tr>\n",
       "    <tr>\n",
       "      <th>2</th>\n",
       "      <td>1-1-1 发行人设立及历次工商变更登记文件，历次股权变动涉及的三会决议、股权转让协议或增减...</td>\n",
       "      <td>1-1-1</td>\n",
       "    </tr>\n",
       "    <tr>\n",
       "      <th>3</th>\n",
       "      <td>1-1-10 发行人境外控制架构设置的相关资料，涉及红筹架构形成及拆除的相关资料（如有）</td>\n",
       "      <td>1-1-10</td>\n",
       "    </tr>\n",
       "    <tr>\n",
       "      <th>4</th>\n",
       "      <td>1-1-11 发行人成立时拥有的主要资产和业务情况的说明</td>\n",
       "      <td>1-1-11</td>\n",
       "    </tr>\n",
       "    <tr>\n",
       "      <th>...</th>\n",
       "      <td>...</td>\n",
       "      <td>...</td>\n",
       "    </tr>\n",
       "    <tr>\n",
       "      <th>538</th>\n",
       "      <td>9 工作执行记录</td>\n",
       "      <td>9</td>\n",
       "    </tr>\n",
       "    <tr>\n",
       "      <th>539</th>\n",
       "      <td>9-1 保荐机构项目人员配置情况，各人员从事的具体工作，以及相关人员在项目中发挥的作用的相关记录</td>\n",
       "      <td>9-1</td>\n",
       "    </tr>\n",
       "    <tr>\n",
       "      <th>540</th>\n",
       "      <td>9-2 定期会议的会议资料以及会议记录</td>\n",
       "      <td>9-2</td>\n",
       "    </tr>\n",
       "    <tr>\n",
       "      <th>541</th>\n",
       "      <td>9-3 重大事项的专题讨论会的会议资料及会议纪要</td>\n",
       "      <td>9-3</td>\n",
       "    </tr>\n",
       "    <tr>\n",
       "      <th>542</th>\n",
       "      <td>9-4 按照证监会保荐业务管理相关规定制作的工作日志（请使用模板“项目工作日志.docx”）</td>\n",
       "      <td>9-4</td>\n",
       "    </tr>\n",
       "  </tbody>\n",
       "</table>\n",
       "<p>543 rows × 2 columns</p>\n",
       "</div>"
      ],
      "text/plain": [
       "                                                     0       1\n",
       "0                                          1 发行人基本情况调查       1\n",
       "1                                           1-1 历史沿革情况     1-1\n",
       "2    1-1-1 发行人设立及历次工商变更登记文件，历次股权变动涉及的三会决议、股权转让协议或增减...   1-1-1\n",
       "3         1-1-10 发行人境外控制架构设置的相关资料，涉及红筹架构形成及拆除的相关资料（如有）  1-1-10\n",
       "4                         1-1-11 发行人成立时拥有的主要资产和业务情况的说明  1-1-11\n",
       "..                                                 ...     ...\n",
       "538                                           9 工作执行记录       9\n",
       "539   9-1 保荐机构项目人员配置情况，各人员从事的具体工作，以及相关人员在项目中发挥的作用的相关记录     9-1\n",
       "540                                9-2 定期会议的会议资料以及会议记录     9-2\n",
       "541                           9-3 重大事项的专题讨论会的会议资料及会议纪要     9-3\n",
       "542     9-4 按照证监会保荐业务管理相关规定制作的工作日志（请使用模板“项目工作日志.docx”）     9-4\n",
       "\n",
       "[543 rows x 2 columns]"
      ]
     },
     "execution_count": 125,
     "metadata": {},
     "output_type": "execute_result"
    }
   ],
   "source": [
    "tree_pandas"
   ]
  },
  {
   "cell_type": "code",
   "execution_count": 127,
   "id": "e3d273b3-9106-457b-ad8c-0ef3b3cf4146",
   "metadata": {},
   "outputs": [
    {
     "data": {
      "text/html": [
       "<div>\n",
       "<style scoped>\n",
       "    .dataframe tbody tr th:only-of-type {\n",
       "        vertical-align: middle;\n",
       "    }\n",
       "\n",
       "    .dataframe tbody tr th {\n",
       "        vertical-align: top;\n",
       "    }\n",
       "\n",
       "    .dataframe thead th {\n",
       "        text-align: right;\n",
       "    }\n",
       "</style>\n",
       "<table border=\"1\" class=\"dataframe\">\n",
       "  <thead>\n",
       "    <tr style=\"text-align: right;\">\n",
       "      <th></th>\n",
       "      <th>目录</th>\n",
       "      <th>章节</th>\n",
       "    </tr>\n",
       "  </thead>\n",
       "  <tbody>\n",
       "    <tr>\n",
       "      <th>0</th>\n",
       "      <td>1 发行人基本情况调查</td>\n",
       "      <td>1</td>\n",
       "    </tr>\n",
       "    <tr>\n",
       "      <th>1</th>\n",
       "      <td>1-1 历史沿革情况</td>\n",
       "      <td>1-1</td>\n",
       "    </tr>\n",
       "    <tr>\n",
       "      <th>2</th>\n",
       "      <td>1-1-1 发行人设立及历次工商变更登记文件，历次股权变动涉及的三会决议、股权转让协议或增减...</td>\n",
       "      <td>1-1-1</td>\n",
       "    </tr>\n",
       "    <tr>\n",
       "      <th>3</th>\n",
       "      <td>1-1-10 发行人境外控制架构设置的相关资料，涉及红筹架构形成及拆除的相关资料（如有）</td>\n",
       "      <td>1-1-10</td>\n",
       "    </tr>\n",
       "    <tr>\n",
       "      <th>4</th>\n",
       "      <td>1-1-11 发行人成立时拥有的主要资产和业务情况的说明</td>\n",
       "      <td>1-1-11</td>\n",
       "    </tr>\n",
       "    <tr>\n",
       "      <th>...</th>\n",
       "      <td>...</td>\n",
       "      <td>...</td>\n",
       "    </tr>\n",
       "    <tr>\n",
       "      <th>538</th>\n",
       "      <td>9 工作执行记录</td>\n",
       "      <td>9</td>\n",
       "    </tr>\n",
       "    <tr>\n",
       "      <th>539</th>\n",
       "      <td>9-1 保荐机构项目人员配置情况，各人员从事的具体工作，以及相关人员在项目中发挥的作用的相关记录</td>\n",
       "      <td>9-1</td>\n",
       "    </tr>\n",
       "    <tr>\n",
       "      <th>540</th>\n",
       "      <td>9-2 定期会议的会议资料以及会议记录</td>\n",
       "      <td>9-2</td>\n",
       "    </tr>\n",
       "    <tr>\n",
       "      <th>541</th>\n",
       "      <td>9-3 重大事项的专题讨论会的会议资料及会议纪要</td>\n",
       "      <td>9-3</td>\n",
       "    </tr>\n",
       "    <tr>\n",
       "      <th>542</th>\n",
       "      <td>9-4 按照证监会保荐业务管理相关规定制作的工作日志（请使用模板“项目工作日志.docx”）</td>\n",
       "      <td>9-4</td>\n",
       "    </tr>\n",
       "  </tbody>\n",
       "</table>\n",
       "<p>543 rows × 2 columns</p>\n",
       "</div>"
      ],
      "text/plain": [
       "                                                    目录      章节\n",
       "0                                          1 发行人基本情况调查       1\n",
       "1                                           1-1 历史沿革情况     1-1\n",
       "2    1-1-1 发行人设立及历次工商变更登记文件，历次股权变动涉及的三会决议、股权转让协议或增减...   1-1-1\n",
       "3         1-1-10 发行人境外控制架构设置的相关资料，涉及红筹架构形成及拆除的相关资料（如有）  1-1-10\n",
       "4                         1-1-11 发行人成立时拥有的主要资产和业务情况的说明  1-1-11\n",
       "..                                                 ...     ...\n",
       "538                                           9 工作执行记录       9\n",
       "539   9-1 保荐机构项目人员配置情况，各人员从事的具体工作，以及相关人员在项目中发挥的作用的相关记录     9-1\n",
       "540                                9-2 定期会议的会议资料以及会议记录     9-2\n",
       "541                           9-3 重大事项的专题讨论会的会议资料及会议纪要     9-3\n",
       "542     9-4 按照证监会保荐业务管理相关规定制作的工作日志（请使用模板“项目工作日志.docx”）     9-4\n",
       "\n",
       "[543 rows x 2 columns]"
      ]
     },
     "execution_count": 127,
     "metadata": {},
     "output_type": "execute_result"
    }
   ],
   "source": [
    "tree_pandas.columns = ['目录', '章节']\n",
    "tree_pandas"
   ]
  },
  {
   "cell_type": "code",
   "execution_count": 128,
   "id": "bc547947-417f-4dee-b212-b1c755f4b103",
   "metadata": {},
   "outputs": [],
   "source": [
    "tree_pandas.to_excel('for循环导出目录树.xlsx')"
   ]
  },
  {
   "cell_type": "markdown",
   "id": "1e93b1ba-4ff5-4ec8-8ff7-aed94d8f19db",
   "metadata": {},
   "source": [
    "### 3个问题"
   ]
  },
  {
   "cell_type": "markdown",
   "id": "9a2c4972-77c8-4776-af5e-71e3017c61a2",
   "metadata": {},
   "source": [
    "- 1 若文件夹的层级数是未知的，该如何获取？\n",
    "- 2 若文件夹中存在文件，该如何识别处理？\n",
    "- 3 如何将这个Pandas的表格内容反过来批量生成文件夹？"
   ]
  },
  {
   "cell_type": "markdown",
   "id": "ee6e9928-dc61-4eba-91f4-6668a1dd492c",
   "metadata": {},
   "source": [
    "### 递归函数"
   ]
  },
  {
   "cell_type": "markdown",
   "id": "9570e8da-6233-4b28-9c25-753a28b97dc1",
   "metadata": {},
   "source": [
    "#### 经典递归问题"
   ]
  },
  {
   "cell_type": "markdown",
   "id": "c02ad861-f176-4c68-9410-1392baec3412",
   "metadata": {},
   "source": [
    "- 爬楼梯，每次只能爬1阶或2阶，问台阶有n阶时，一共有多少种爬法？"
   ]
  },
  {
   "cell_type": "code",
   "execution_count": 134,
   "id": "ab5a8755-2e0d-4072-9a73-b1319a6c7028",
   "metadata": {},
   "outputs": [],
   "source": [
    "def step(n):\n",
    "    if n == 1:\n",
    "        return 1\n",
    "    elif n == 2:\n",
    "        return 2\n",
    "    else:\n",
    "        return step(n-1) + step(n-2)"
   ]
  },
  {
   "cell_type": "code",
   "execution_count": 143,
   "id": "17930537-a943-485c-a3e0-501ad3465637",
   "metadata": {},
   "outputs": [
    {
     "data": {
      "text/plain": [
       "165580141"
      ]
     },
     "execution_count": 143,
     "metadata": {},
     "output_type": "execute_result"
    }
   ],
   "source": [
    "step(40)"
   ]
  },
  {
   "cell_type": "markdown",
   "id": "68999686-064c-43a5-b76e-64dc7760ab80",
   "metadata": {},
   "source": [
    "#### 递归查看目录"
   ]
  },
  {
   "cell_type": "code",
   "execution_count": 150,
   "id": "702f599d-784e-41b3-8744-6badca5ed528",
   "metadata": {},
   "outputs": [],
   "source": [
    "path = '投行申报'"
   ]
  },
  {
   "cell_type": "code",
   "execution_count": 151,
   "id": "1f44d6e2-156e-4338-b0dd-0ec9b37f9a01",
   "metadata": {},
   "outputs": [],
   "source": [
    "def tree(file_path):\n",
    "    node_list = os.listdir(file_path)\n",
    "    if node_list != []: # 如果有子文件夹\n",
    "        for node in node_list:\n",
    "            node_path = os.path.join(file_path, node) # 拼接新目录\n",
    "            print(node_path) # 打印看看\n",
    "            tree(node_path) # 递归调用"
   ]
  },
  {
   "cell_type": "code",
   "execution_count": 152,
   "id": "bd97fc62-a48c-42da-aad9-53c14eb3dc3c",
   "metadata": {
    "collapsed": true,
    "jupyter": {
     "outputs_hidden": true
    },
    "tags": []
   },
   "outputs": [
    {
     "name": "stdout",
     "output_type": "stream",
     "text": [
      "投行申报\\1 发行人基本情况调查\n",
      "投行申报\\1 发行人基本情况调查\\1-1 历史沿革情况\n",
      "投行申报\\1 发行人基本情况调查\\1-1 历史沿革情况\\1-1-1 发行人设立及历次工商变更登记文件，历次股权变动涉及的三会决议、股权转让协议或增减资协议、验资报告或出资证明、审计报告、评估报告、国有资产评估核准或备案文件、政府批准文件、股权转让或增资的作价依据、股权转让价款支付情况说明或支付凭证、缴税凭证、债权人同意文件、其他股东放弃优先购买权的承诺函等\n",
      "投行申报\\1 发行人基本情况调查\\1-1 历史沿革情况\\1-1-10 发行人境外控制架构设置的相关资料，涉及红筹架构形成及拆除的相关资料（如有）\n",
      "投行申报\\1 发行人基本情况调查\\1-1 历史沿革情况\\1-1-11 发行人成立时拥有的主要资产和业务情况的说明\n",
      "投行申报\\1 发行人基本情况调查\\1-1 历史沿革情况\\1-1-12 在其他证券市场的上市\n",
      "投行申报\\1 发行人基本情况调查\\1-1 历史沿革情况\\1-1-2 发起人、股东以非货币财产出资时，涉及的资产产权变更登记资料文件\n",
      "投行申报\\1 发行人基本情况调查\\1-1 历史沿革情况\\1-1-3 发行人是否存在出资瑕疵（出资不实、虚假出资、抽逃出资等）的情况说明及相关资料\n",
      "投行申报\\1 发行人基本情况调查\\1-1 历史沿革情况\\1-1-4 发行人历史上委托持股、信托持股、股权代持形成、演变和清理的相关资料\n",
      "投行申报\\1 发行人基本情况调查\\1-1 历史沿革情况\\1-1-5 发行人间接股东的相关核查资料\n",
      "投行申报\\1 发行人基本情况调查\\1-1 历史沿革情况\\1-1-6 发行人对其董事、监事、高级管理人员、其他核心人员、员工实行的股权激励（如员工持股计划、限制性股票、股票期权）及其他制度安排和执行情况（如有）\n",
      "投行申报\\1 发行人基本情况调查\\1-1 历史沿革情况\\1-1-7 发行人（包括下属公司）及其前身或红筹架构上的境内外实体（如有）在其他证券市场的上市\n",
      "投行申报\\1 发行人基本情况调查\\1-1 历史沿革情况\\1-1-8 发行人在其他证券市场挂牌\n",
      "投行申报\\1 发行人基本情况调查\\1-1 历史沿革情况\\1-1-9 发行人涉及境外私有化退市的相关资料（如有）\n",
      "投行申报\\1 发行人基本情况调查\\1-10 董事、监事、高级管理人员及其他核心人员薪酬及兼职情况\n",
      "投行申报\\1 发行人基本情况调查\\1-10 董事、监事、高级管理人员及其他核心人员薪酬及兼职情况\\1-10-1 与薪酬情况相关的三会文件\n",
      "投行申报\\1 发行人基本情况调查\\1-10 董事、监事、高级管理人员及其他核心人员薪酬及兼职情况\\1-10-2 关于是否存在兼职情况的说明\n",
      "投行申报\\1 发行人基本情况调查\\1-10 董事、监事、高级管理人员及其他核心人员薪酬及兼职情况\\1-10-3 从关联方领取报酬以及享受其他待遇情况的说明\n",
      "投行申报\\1 发行人基本情况调查\\1-11 报告期内董事、监事、高级管理人员及其他核心人员变动\n",
      "投行申报\\1 发行人基本情况调查\\1-11 报告期内董事、监事、高级管理人员及其他核心人员变动\\1-11-1 与报告期内上述人员变动相关的三会文件\n",
      "投行申报\\1 发行人基本情况调查\\1-11 报告期内董事、监事、高级管理人员及其他核心人员变动\\1-11-2 报告期内董事、监事、高级管理人员及其他核心人员变动情况的说明\n",
      "投行申报\\1 发行人基本情况调查\\1-12 董事、监事、高级管理人员及其他核心人员持股及其他对外投资等情况\n",
      "投行申报\\1 发行人基本情况调查\\1-12 董事、监事、高级管理人员及其他核心人员持股及其他对外投资等情况\\1-12-1 董事、监事、高级管理人员及其他核心人员就持股及其他对外投资情况发出的声明文件\n",
      "投行申报\\1 发行人基本情况调查\\1-12 董事、监事、高级管理人员及其他核心人员持股及其他对外投资等情况\\1-12-2 董事、监事、高级管理人员及其他核心人员及其直系亲属是否存在自营或为他人经营与发行人同类业务的情况及声明文件\n",
      "投行申报\\1 发行人基本情况调查\\1-12 董事、监事、高级管理人员及其他核心人员持股及其他对外投资等情况\\1-12-3 董事、监事、高级管理人员及其他核心人员及其直系亲属是否存在与公司利益发生冲突的对外投资，是否存在重大债务负担及声明文件\n",
      "投行申报\\1 发行人基本情况调查\\1-12 董事、监事、高级管理人员及其他核心人员持股及其他对外投资等情况\\1-12-4 董事、监事、高级管理人员及其他核心人员是否涉及诉讼、是否有到期未偿还债务等情况的声明及相关资料\n",
      "投行申报\\1 发行人基本情况调查\\1-13 员工情况\n",
      "投行申报\\1 发行人基本情况调查\\1-13 员工情况\\1-13-1 关于员工人数及其变化、专业结构、受教育程度、年龄分布的说明\n",
      "投行申报\\1 发行人基本情况调查\\1-13 员工情况\\1-13-10 劳务派遣\n",
      "投行申报\\1 发行人基本情况调查\\1-13 员工情况\\1-13-11 发行人社会保险缴纳情况证明\n",
      "投行申报\\1 发行人基本情况调查\\1-13 员工情况\\1-13-12 发行人主要参控股公司养老保险、医疗保险、住房公积金、失业保险、工伤保险、生育保险的费用缴纳凭证\n",
      "投行申报\\1 发行人基本情况调查\\1-13 员工情况\\1-13-13 员工薪酬及奖励制度\n",
      "投行申报\\1 发行人基本情况调查\\1-13 员工情况\\1-13-2 执行社会保障制度、住房制度改革、医疗制度改革情况的说明\n",
      "投行申报\\1 发行人基本情况调查\\1-13 员工情况\\1-13-3 劳动合同样本、竞业禁止协议及保密协议样本（如有）\n",
      "投行申报\\1 发行人基本情况调查\\1-13 员工情况\\1-13-4 社保相关费用缴纳凭证（抽查）\n",
      "投行申报\\1 发行人基本情况调查\\1-13 员工情况\\1-13-5 公积金相关费用缴纳凭证（抽查）\n",
      "投行申报\\1 发行人基本情况调查\\1-13 员工情况\\1-13-6 员工名单（请使用模板“员工花名册【表格】.xlsx”）、工资明细表\n",
      "投行申报\\1 发行人基本情况调查\\1-13 员工情况\\1-13-7 发行人员工工资水平与所在地区平均水平或同行业上市公司平均水平之间是否存在显著差异及差异合理性的说明\n",
      "投行申报\\1 发行人基本情况调查\\1-13 员工情况\\1-13-8 员工总数、工资总额、人均工资、人员结构、工资占成本、费用比例的波动分析，公司员工数量与薪资的匹配关系说明\n",
      "投行申报\\1 发行人基本情况调查\\1-13 员工情况\\1-13-9 员工访谈记录\n",
      "投行申报\\1 发行人基本情况调查\\1-2 企业改制与设立情况（国有企业、集体企业改制而来的或历史上存在挂靠集体组织经营的企业）\n",
      "投行申报\\1 发行人基本情况调查\\1-2 企业改制与设立情况（国有企业、集体企业改制而来的或历史上存在挂靠集体组织经营的企业）\\1-2-1 上级主管部门同意改制的批复文件\n",
      "投行申报\\1 发行人基本情况调查\\1-2 企业改制与设立情况（国有企业、集体企业改制而来的或历史上存在挂靠集体组织经营的企业）\\1-2-2 改制前原企业（或主要发起人）的审计报告及相关财务资料，资产清单以及对业务构成情况的说明\n",
      "投行申报\\1 发行人基本情况调查\\1-2 企业改制与设立情况（国有企业、集体企业改制而来的或历史上存在挂靠集体组织经营的企业）\\1-2-3 发行人的改制重组方案，包括业务、资产、债务、人员等的重组安排\n",
      "投行申报\\1 发行人基本情况调查\\1-2 企业改制与设立情况（国有企业、集体企业改制而来的或历史上存在挂靠集体组织经营的企业）\\1-2-4 改制时所做的专项审计报告、评估报告、验资报告等（1-1-1未包含部分）\n",
      "投行申报\\1 发行人基本情况调查\\1-2 企业改制与设立情况（国有企业、集体企业改制而来的或历史上存在挂靠集体组织经营的企业）\\1-2-5 国企改制的相关人员安置方案的职代会审议文件\n",
      "投行申报\\1 发行人基本情况调查\\1-2 企业改制与设立情况（国有企业、集体企业改制而来的或历史上存在挂靠集体组织经营的企业）\\1-2-6 国有资产评估的核准或备案文件、国有股权管理文件\n",
      "投行申报\\1 发行人基本情况调查\\1-2 企业改制与设立情况（国有企业、集体企业改制而来的或历史上存在挂靠集体组织经营的企业）\\1-2-7 改制前原企业业务流程、改制后发行人业务流程，以及原企业和发行人业务流程间联系的说明\n",
      "投行申报\\1 发行人基本情况调查\\1-3 内部职工股（如适用）\n",
      "投行申报\\1 发行人基本情况调查\\1-3 内部职工股（如适用）\\1-3-1 审批文件、募股文件、缴款证明及验资报告\n",
      "投行申报\\1 发行人基本情况调查\\1-3 内部职工股（如适用）\\1-3-2 历次转让文件、历年托管证明文件\n",
      "投行申报\\1 发行人基本情况调查\\1-3 内部职工股（如适用）\\1-3-3 内部职工股发行中的违法违规情况，包括超范围、超比例，变相增加内部职工股数量、违规转让和交易、法人股个人化等相关资料\n",
      "投行申报\\1 发行人基本情况调查\\1-3 内部职工股（如适用）\\1-3-4 内部职工股潜在问题、风险隐患及相关资料\n",
      "投行申报\\1 发行人基本情况调查\\1-3 内部职工股（如适用）\\1-3-5 股份形成及演变的法律文件，包括相关的工商登记资料、三会文件（1-1-1未包含部分）\n",
      "投行申报\\1 发行人基本情况调查\\1-3 内部职工股（如适用）\\1-3-6 内部职工股清理的决策文件、相关协议、价款支付凭证\n",
      "投行申报\\1 发行人基本情况调查\\1-3 内部职工股（如适用）\\1-3-7 有权部门对发行人内部职工股托管情况及真实性的确认文件\n",
      "投行申报\\1 发行人基本情况调查\\1-3 内部职工股（如适用）\\1-3-8 发行人成立以来历次内部职工股发行、转让前后的内部职工股持股人数及持股数量\n",
      "投行申报\\1 发行人基本情况调查\\1-4 重大重组情况\n",
      "投行申报\\1 发行人基本情况调查\\1-4 重大重组情况\\1-4-1 重大重组涉及的股东会\n",
      "投行申报\\1 发行人基本情况调查\\1-4 重大重组情况\\1-4-2 重组协议\n",
      "投行申报\\1 发行人基本情况调查\\1-4 重大重组情况\\1-4-3 政府批准文件\n",
      "投行申报\\1 发行人基本情况调查\\1-4 重大重组情况\\1-4-4 重大重组涉及的审计报告、评估报告、中介机构专业意见、国有资产评估核准或备案文件\n",
      "投行申报\\1 发行人基本情况调查\\1-4 重大重组情况\\1-4-5 重大重组涉及国有资产转让的，国有资产进场交易的文件\n",
      "投行申报\\1 发行人基本情况调查\\1-4 重大重组情况\\1-4-6 债权人同意债务转移的相关文件、重组相关的对价支付凭证、税收缴纳凭证和资产过户文件\n",
      "投行申报\\1 发行人基本情况调查\\1-4 重大重组情况\\1-4-7 重大重组对发行人业务、经营业绩、财务状况和管理层影响情况的说明\n",
      "投行申报\\1 发行人基本情况调查\\1-5 发行人控股子公司和重要参股公司情况\n",
      "投行申报\\1 发行人基本情况调查\\1-5 发行人控股子公司和重要参股公司情况\\1-5-1 发行人报告期内控股子公司、重要参股公司的营业执照、公司章程、主营业务情况\n",
      "投行申报\\1 发行人基本情况调查\\1-5 发行人控股子公司和重要参股公司情况\\1-5-2 发行人报告期内控股子公司、重要参股公司的全部工商登记文件\n",
      "投行申报\\1 发行人基本情况调查\\1-5 发行人控股子公司和重要参股公司情况\\1-5-3 报告期内转让或受让控股子公司、对发行人有重大影响的参股公司股权的，相关决策性文件、审计报告、评估报告、股权转让协议及支付凭证（1-5-2未包含部分）\n",
      "投行申报\\1 发行人基本情况调查\\1-5 发行人控股子公司和重要参股公司情况\\1-5-4 发行人重要控股子公司、对发行人有重大影响的参股公司的主要其他合作方情况和相关资料\n",
      "投行申报\\1 发行人基本情况调查\\1-5 发行人控股子公司和重要参股公司情况\\1-5-5 发行人控股子公司、重要参股合营\n",
      "投行申报\\1 发行人基本情况调查\\1-6 控股股东及实际控制人、发起人及股东情况\n",
      "投行申报\\1 发行人基本情况调查\\1-6 控股股东及实际控制人、发起人及股东情况\\1-6-1 发行人控股股东或实际控制人的组织结构（参控股子公司、职能部门设置）\n",
      "投行申报\\1 发行人基本情况调查\\1-6 控股股东及实际控制人、发起人及股东情况\\1-6-10 发行人股东中存在的契约型基金、信托计划、资产管理计划等“三类股东”相关资料\n",
      "投行申报\\1 发行人基本情况调查\\1-6 控股股东及实际控制人、发起人及股东情况\\1-6-11 股东是否存在违规入股、入股交易价格异常情形的说明\n",
      "投行申报\\1 发行人基本情况调查\\1-6 控股股东及实际控制人、发起人及股东情况\\1-6-12 发行人成立后主要发起人拥有的主要资产和实际从事业务情况的说明\n",
      "投行申报\\1 发行人基本情况调查\\1-6 控股股东及实际控制人、发起人及股东情况\\1-6-13 自然人发起人直接持股和间接持股的有关情况，及其在发行人的任职情况\n",
      "投行申报\\1 发行人基本情况调查\\1-6 控股股东及实际控制人、发起人及股东情况\\1-6-14 控股股东及实际控制人、发起人、主要股东及作为股东的董事、监事、高管人员做出的重要承诺及其履行情况的说明\n",
      "投行申报\\1 发行人基本情况调查\\1-6 控股股东及实际控制人、发起人及股东情况\\1-6-15 发行人关于全部股东名称、持股数量及比例、股份性质的说明\n",
      "投行申报\\1 发行人基本情况调查\\1-6 控股股东及实际控制人、发起人及股东情况\\1-6-2 控股股东及实际控制人、发起人及主要股东的基本情况调查表、营业执照、公司章程或合伙协议、工商登记资料、最近一年及一期的财务报表或审计报告\n",
      "投行申报\\1 发行人基本情况调查\\1-6 控股股东及实际控制人、发起人及股东情况\\1-6-3 控股股东及实际控制人、发起人及主要股东如为自然人的，应提供关于国籍、永久境外居留权、身份证号码、住所及简历的说明\n",
      "投行申报\\1 发行人基本情况调查\\1-6 控股股东及实际控制人、发起人及股东情况\\1-6-4 控股股东及实际控制人控制的其他企业的营业执照、公司章程、工商登记资料、最近一年及一期的财务报表或审计报告\n",
      "投行申报\\1 发行人基本情况调查\\1-6 控股股东及实际控制人、发起人及股东情况\\1-6-5 控股股东、实际控制人及主要股东持有发行人股份是否存在质押、冻结、其他权利限制或权属争议情况的说明及相关文件\n",
      "投行申报\\1 发行人基本情况调查\\1-6 控股股东及实际控制人、发起人及股东情况\\1-6-6 控股股东、实际控制人合法合规情况\n",
      "投行申报\\1 发行人基本情况调查\\1-6 控股股东及实际控制人、发起人及股东情况\\1-6-7 股东之间是否存在关联关系或一致行动关系的说明及相关协议，股东与发行人的董事、监事、高级管理人员之间以及股东与本次发行的中介机构及其负责人、高级管理人员、经办人员之间是否存在关联关系或其他利益关系情况的说明\n",
      "投行申报\\1 发行人基本情况调查\\1-6 控股股东及实际控制人、发起人及股东情况\\1-6-8 私募股权基金备案及管理人登记资料\n",
      "投行申报\\1 发行人基本情况调查\\1-6 控股股东及实际控制人、发起人及股东情况\\1-6-9 对赌协议及解除的相关资料\n",
      "投行申报\\1 发行人基本情况调查\\1-7 董事、监事和高级管理人员任职情况和任职资格\n",
      "投行申报\\1 发行人基本情况调查\\1-7 董事、监事和高级管理人员任职情况和任职资格\\1-7-1 董事会、监事会、高级管理人员及其他核心人员的构成情况及职责\n",
      "投行申报\\1 发行人基本情况调查\\1-7 董事、监事和高级管理人员任职情况和任职资格\\1-7-2 董事、监事、高级管理人员及其他核心人员相互之间是否存在亲属关系的说明\n",
      "投行申报\\1 发行人基本情况调查\\1-7 董事、监事和高级管理人员任职情况和任职资格\\1-7-3 监管部门对于上述人员任职资格的批准或备案文件\n",
      "投行申报\\1 发行人基本情况调查\\1-8 董事、监事和高级管理人员的经历及行为操守\n",
      "投行申报\\1 发行人基本情况调查\\1-8 董事、监事和高级管理人员的经历及行为操守\\1-8-1 董事、监事、高级管理人员及其他核心人员简历、基本情况、关联关系调查表\n",
      "投行申报\\1 发行人基本情况调查\\1-8 董事、监事和高级管理人员的经历及行为操守\\1-8-2 发行人关于董事、监事、高级管理人员及其他核心人员是否存在违规行为的说明，是否受到相关部门处罚或立案侦查、立案调查的情况\n",
      "投行申报\\1 发行人基本情况调查\\1-8 董事、监事和高级管理人员的经历及行为操守\\1-8-4 发行人与董事、监事、高级管理人员及其他核心人员所签订的协议（包括劳动合同、保密协议、竞业禁止协议及其他对投资者做出价值判断和投资决策有重大影响的协议）以及履行情况\n",
      "投行申报\\1 发行人基本情况调查\\1-9 董事、监事和高级管理人员胜任能力和勤勉尽责\n",
      "投行申报\\1 发行人基本情况调查\\1-9 董事、监事和高级管理人员胜任能力和勤勉尽责\\1-9-1 董事、监事、高级管理人员及其他核心人员最近三年曾担任高级管理人员的其他公司的规范运作情况以及该公司经营情况的说明文件\n",
      "投行申报\\1 发行人基本情况调查\\1-9 董事、监事和高级管理人员胜任能力和勤勉尽责\\1-9-2 董事、监事、高级管理人员及其他核心人员在发行人投入时间的说明以及相关的三会及总经理办公会纪要或记录\n",
      "投行申报\\1 发行人基本情况调查\\1-9 董事、监事和高级管理人员胜任能力和勤勉尽责\\1-9-3 董事、监事、高管人员及核心技术人员合规证明\n",
      "投行申报\\10 建议书与备忘录\n",
      "投行申报\\10 建议书与备忘录\\10-1 为发行人出具的项目建议书、改制方案及其他规范方案\n",
      "投行申报\\10 建议书与备忘录\\10-2 保荐机构就重大或专题事项出具的备忘录\n",
      "投行申报\\10 建议书与备忘录\\10-3 发行人律师就重大或专题事项出具的备忘录\n",
      "投行申报\\10 建议书与备忘录\\10-4 会计师就重大或专题事项出具的备忘录\n",
      "投行申报\\10 建议书与备忘录\\10-5 评估师就重大或专题事项出具的备忘录\n",
      "投行申报\\10 建议书与备忘录\\10-6 承销商律师就重大或专题事项出具的备忘录\n",
      "投行申报\\10 建议书与备忘录\\10-7 其他中介机构就重大或专题事项出具的备忘录\n",
      "投行申报\\10 建议书与备忘录\\10-8 本次发行的保荐机构及证券服务机构等作出的重要承诺\n",
      "投行申报\\2 业务与技术调查\n",
      "投行申报\\2 业务与技术调查\\2-1 行业情况及竞争状况\n",
      "投行申报\\2 业务与技术调查\\2-1 行业情况及竞争状况\\2-1-1 行业主管部门制定的发展规划、行业管理方面的法律法规及规范性文件\n",
      "投行申报\\2 业务与技术调查\\2-1 行业情况及竞争状况\\2-1-2 行业研究资料、行业杂志、行业分析报告\n",
      "投行申报\\2 业务与技术调查\\2-1 行业情况及竞争状况\\2-1-3 行业专家意见、行业协会意见\n",
      "投行申报\\2 业务与技术调查\\2-1 行业情况及竞争状况\\2-1-4 国家有关产业政策及发展纲要\n",
      "投行申报\\2 业务与技术调查\\2-1 行业情况及竞争状况\\2-1-5 通过公开渠道获得的主要竞争对手资料\n",
      "投行申报\\2 业务与技术调查\\2-1 行业情况及竞争状况\\2-1-6 披露引用第三方数据的相关资料\n",
      "投行申报\\2 业务与技术调查\\2-1 行业情况及竞争状况\\2-1-7 发行人的主要商业模式、销售模式和盈利模式情况介绍\n",
      "投行申报\\2 业务与技术调查\\2-1 行业情况及竞争状况\\2-1-8 同行业比较情况\n",
      "投行申报\\2 业务与技术调查\\2-2 销售情况\n",
      "投行申报\\2 业务与技术调查\\2-2 销售情况\\2-2-1 行业和发行人销售模式的说明文件、发行人的销售定价原则\n",
      "投行申报\\2 业务与技术调查\\2-2 销售情况\\2-2-10 董事、监事、高级管理人员和其他核心人员、主要关联方或持有发行人5%以上股份的股东在主要客户中所占权益的说明\n",
      "投行申报\\2 业务与技术调查\\2-2 销售情况\\2-2-11 异常客户核查\n",
      "投行申报\\2 业务与技术调查\\2-2 销售情况\\2-2-12 经销商、加盟商及终端客户核查情况（如有）\n",
      "投行申报\\2 业务与技术调查\\2-2 销售情况\\2-2-13 销售业务执行情况\n",
      "投行申报\\2 业务与技术调查\\2-2 销售情况\\2-2-2 发行人销售管理\n",
      "投行申报\\2 业务与技术调查\\2-2 销售情况\\2-2-3 权威市场调研机构关于销售情况的报告\n",
      "投行申报\\2 业务与技术调查\\2-2 销售情况\\2-2-4 主要产品的市场占有率的资料\n",
      "投行申报\\2 业务与技术调查\\2-2 销售情况\\2-2-5 报告期按区域分布的销售记录\n",
      "投行申报\\2 业务与技术调查\\2-2 销售情况\\2-2-6 主要客户核查情况\n",
      "投行申报\\2 业务与技术调查\\2-2 销售情况\\2-2-7 发行人销售业务的抽查情况（单笔业务的销售订单、销售合同、发货通知、出库单、运输单据、签收\n",
      "投行申报\\2 业务与技术调查\\2-2 销售情况\\2-2-8 报告期内销售退回的核查资料\n",
      "投行申报\\2 业务与技术调查\\2-2 销售情况\\2-2-9 报告期产品返修率、客户诉讼和产品质量纠纷等方面的资料\n",
      "投行申报\\2 业务与技术调查\\2-3 采购情况\n",
      "投行申报\\2 业务与技术调查\\2-3 采购情况\\2-3-1 行业和发行人采购模式的说明文件\n",
      "投行申报\\2 业务与技术调查\\2-3 采购情况\\2-3-10 发行人出具的关于采购来源以及价格稳定性的说明，及对主要供应商的行业地位和情况的介绍\n",
      "投行申报\\2 业务与技术调查\\2-3 采购情况\\2-3-11 发行人供应商选择流程及相关文件样本；采购订单的生成和审批、执行流程及相关文件样本；库存管理制度及入库、出库相关流程、手续及相关文件样本\n",
      "投行申报\\2 业务与技术调查\\2-3 采购情况\\2-3-12 采购付款测试（包含填列的模板“采购付款测试表.xlsx”及相应原始凭证）\n",
      "投行申报\\2 业务与技术调查\\2-3 采购情况\\2-3-2 发行人采购管理\n",
      "投行申报\\2 业务与技术调查\\2-3 采购情况\\2-3-3 与原材料、辅助材料以及能源动力供求相关的研究报告和统计资料\n",
      "投行申报\\2 业务与技术调查\\2-3 采购情况\\2-3-4 主要供应商核查情况\n",
      "投行申报\\2 业务与技术调查\\2-3 采购情况\\2-3-5 发行人采购业务的抽查情况（大额采购申请、采购合同、验收证明、入库凭证、采购发票、款项支付、审批程序及相应账务处理记录）\n",
      "投行申报\\2 业务与技术调查\\2-3 采购情况\\2-3-6 董事、监事、高级管理人员和其他核心人员、主要关联方或持有发行人5%以上股份的股东在主要供应商中所占权益的说明\n",
      "投行申报\\2 业务与技术调查\\2-3 采购情况\\2-3-7 异常供应商核查\n",
      "投行申报\\2 业务与技术调查\\2-3 采购情况\\2-3-8 发行人报告期内采取外协、外包的情况\n",
      "投行申报\\2 业务与技术调查\\2-3 采购情况\\2-3-9 发行人过往三年的采购情况以及成本变动分析\n",
      "投行申报\\2 业务与技术调查\\2-4 生产情况\n",
      "投行申报\\2 业务与技术调查\\2-4 生产情况\\2-4-1 行业和发行人生产模式的说明文件\n",
      "投行申报\\2 业务与技术调查\\2-4 生产情况\\2-4-10 商标、专利、非专利技术、水面养殖权、探矿权、采矿权、版权、特许经营权等无形资产的清单及权属证明\n",
      "投行申报\\2 业务与技术调查\\2-4 生产情况\\2-4-11 专利、非专利技术的用途介绍，形成核心技术和主营业务收入的专利情况相关资料\n",
      "投行申报\\2 业务与技术调查\\2-4 生产情况\\2-4-12 业务许可资格或资质情况（包括但不限于生产经营许可证、高新技术企业证书、安全生产许可证、卫生许可证、排污许可证等）\n",
      "投行申报\\2 业务与技术调查\\2-4 生产情况\\2-4-13 发行人资产抵押、质押或权利存在限制的情况及相关合同、证明文件、还款情况\n",
      "投行申报\\2 业务与技术调查\\2-4 生产情况\\2-4-14 发行人关于是否存在和第三方共有资产情况的说明，及共有资产权属证明文件、协议等底稿（如有）\n",
      "投行申报\\2 业务与技术调查\\2-4 生产情况\\2-4-15 关键设备、厂房等重要资产的保险合同或其他保障协定\n",
      "投行申报\\2 业务与技术调查\\2-4 生产情况\\2-4-16 境外拥有资产的情况说明及重要境外资产的权属证明，境外律师出具的关于境外资产完整性的法律意见书（如有）\n",
      "投行申报\\2 业务与技术调查\\2-4 生产情况\\2-4-17 产品质量和技术标准\n",
      "投行申报\\2 业务与技术调查\\2-4 生产情况\\2-4-18 安全生产\n",
      "投行申报\\2 业务与技术调查\\2-4 生产情况\\2-4-19 环境保护\n",
      "投行申报\\2 业务与技术调查\\2-4 生产情况\\2-4-2 发行人主要产品及其功能、服务的用途介绍资料\n",
      "投行申报\\2 业务与技术调查\\2-4 生产情况\\2-4-3 主要产品的工艺流程图或服务的流程图\n",
      "投行申报\\2 业务与技术调查\\2-4 生产情况\\2-4-4 发行人关于生产工艺、技术在行业中领先程度的说明\n",
      "投行申报\\2 业务与技术调查\\2-4 生产情况\\2-4-5 发行人生产工艺变动的相关资料及毛利率波动与工艺改进匹配关系说明\n",
      "投行申报\\2 业务与技术调查\\2-4 生产情况\\2-4-6 主要产品的设计生产能力和报告期内历年产量有关资料\n",
      "投行申报\\2 业务与技术调查\\2-4 生产情况\\2-4-7 房产、主要设备等资产的占有与使用情况\n",
      "投行申报\\2 业务与技术调查\\2-4 生产情况\\2-4-8 发行人许可或被许可使用资产的情况\n",
      "投行申报\\2 业务与技术调查\\2-4 生产情况\\2-4-9 正在建造或拟建造固定资产的相关审批、许可文件\n",
      "投行申报\\2 业务与技术调查\\2-5 核心技术人员、技术与研发情况\n",
      "投行申报\\2 业务与技术调查\\2-5 核心技术人员、技术与研发情况\\2-5-1 公司技术研发成果、在研项目、研发进展以及研发目标等相关资料\n",
      "投行申报\\2 业务与技术调查\\2-5 核心技术人员、技术与研发情况\\2-5-10 公司技术先进性及其表征\n",
      "投行申报\\2 业务与技术调查\\2-5 核心技术人员、技术与研发情况\\2-5-11 发行人的核心技术与专利权的对应关系，专利权属证明\n",
      "投行申报\\2 业务与技术调查\\2-5 核心技术人员、技术与研发情况\\2-5-12 发行人的核心技术在主营业务及产品或服务中的应用和贡献情况相关底稿\n",
      "投行申报\\2 业务与技术调查\\2-5 核心技术人员、技术与研发情况\\2-5-13 发行人正在从事的研发项目核查\n",
      "投行申报\\2 业务与技术调查\\2-5 核心技术人员、技术与研发情况\\2-5-14 报告期内核心技术人员的主要变动情况及对发行人的影响，离职流程、入职申请等\n",
      "投行申报\\2 业务与技术调查\\2-5 核心技术人员、技术与研发情况\\2-5-15 研发费用与对应研发项目的整体预算、费用支出金额、实施进度等情况\n",
      "投行申报\\2 业务与技术调查\\2-5 核心技术人员、技术与研发情况\\2-5-2 技术许可协议、技术合作协议\n",
      "投行申报\\2 业务与技术调查\\2-5 核心技术人员、技术与研发情况\\2-5-3 核心技术产品（服务）收入的主要内容、核算方法及合理性分析资料\n",
      "投行申报\\2 业务与技术调查\\2-5 核心技术人员、技术与研发情况\\2-5-4 核心技术人员的认定依据及相关资料\n",
      "投行申报\\2 业务与技术调查\\2-5 核心技术人员、技术与研发情况\\2-5-5 核心技术人员的学历、专业资质及重要科研成果和获得奖项等资料\n",
      "投行申报\\2 业务与技术调查\\2-5 核心技术人员、技术与研发情况\\2-5-6 发行人对核心技术人员实施的约束激励措施，报告期内核心技术人员对公司研发的具体贡献、主要变动情况及对发行人的影响的说明\n",
      "投行申报\\2 业务与技术调查\\2-5 核心技术人员、技术与研发情况\\2-5-7 公司研发部门组织架构及职能说明，研发体制及激励制度等资料\n",
      "投行申报\\2 业务与技术调查\\2-5 核心技术人员、技术与研发情况\\2-5-8 与非专利技术相关的保密制度及其与核心技术人员签订的保密协议\n",
      "投行申报\\2 业务与技术调查\\2-5 核心技术人员、技术与研发情况\\2-5-9 核心技术的取得及使用是否存在纠纷或潜在纠纷及侵犯他人知识产权的情形的说明（包括但不限于访谈、互联网搜索等）\n",
      "投行申报\\3 公司治理与独立性调查\n",
      "投行申报\\3 公司治理与独立性调查\\3-1 公司章程及其规范运行情况\n",
      "投行申报\\3 公司治理与独立性调查\\3-1 公司章程及其规范运行情况\\3-1-1 与公司章程历次修改相关的三会文件、公司章程进行工商变更登记或备案的资料\n",
      "投行申报\\3 公司治理与独立性调查\\3-1 公司章程及其规范运行情况\\3-1-2 发行人就其三年内是否存在违法违规行为的书面声明\n",
      "投行申报\\3 公司治理与独立性调查\\3-1 公司章程及其规范运行情况\\3-1-3 发行人特别表决权股份或类似安排的相关资料\n",
      "投行申报\\3 公司治理与独立性调查\\3-10 独立情况\n",
      "投行申报\\3 公司治理与独立性调查\\3-10 独立情况\\3-10-1 发行人关于资产完整情况的说明\n",
      "投行申报\\3 公司治理与独立性调查\\3-10 独立情况\\3-10-10 发行人部分资产来自于上市公司的独立性核查\n",
      "投行申报\\3 公司治理与独立性调查\\3-10 独立情况\\3-10-2 资产是否存在被控股股东、其他关联方控制或占用情况的说明（资金占用见3-12-7）\n",
      "投行申报\\3 公司治理与独立性调查\\3-10 独立情况\\3-10-3 控股股东、实际控制人与发行人从事的主要业务与拥有的资产情况\n",
      "投行申报\\3 公司治理与独立性调查\\3-10 独立情况\\3-10-4 如存在业务交叉，相互占用资产、资源的情况，要特别说明解决措施和效果\n",
      "投行申报\\3 公司治理与独立性调查\\3-10 独立情况\\3-10-5 控股股东、实际控制人与发行人的财务部门的设置以及独立运作情况\n",
      "投行申报\\3 公司治理与独立性调查\\3-10 独立情况\\3-10-6 控股股东、实际控制人与发行人的采购、销售部门的设置及各自运作情况\n",
      "投行申报\\3 公司治理与独立性调查\\3-10 独立情况\\3-10-7 控股股东、实际控制人与发行人的银行账户开设及独立运作情况\n",
      "投行申报\\3 公司治理与独立性调查\\3-10 独立情况\\3-10-8 发行人关于人员独立情况的说明\n",
      "投行申报\\3 公司治理与独立性调查\\3-10 独立情况\\3-10-9 发行人控股股东、实际控制人关于保持发行人资产、人员、财务、机构和业务独立的承诺\n",
      "投行申报\\3 公司治理与独立性调查\\3-11 同业竞争情况\n",
      "投行申报\\3 公司治理与独立性调查\\3-11 同业竞争情况\\3-11-1 发行人、控股股东或实际控制人（如控股股东、实际控制人为自然人，应包含亲属）及其控制的企业主营业务情况的说明\n",
      "投行申报\\3 公司治理与独立性调查\\3-11 同业竞争情况\\3-11-2 解除同业竞争的相关资料（如有）\n",
      "投行申报\\3 公司治理与独立性调查\\3-11 同业竞争情况\\3-11-3 控股股东或实际控制人关于避免同业竞争的承诺函\n",
      "投行申报\\3 公司治理与独立性调查\\3-11 同业竞争情况\\3-11-4 关于不属于重大不利影响同业竞争的说明（如有）\n",
      "投行申报\\3 公司治理与独立性调查\\3-12 关联方及关联交易情况\n",
      "投行申报\\3 公司治理与独立性调查\\3-12 关联方及关联交易情况\\3-12-1 关联方资料\n",
      "投行申报\\3 公司治理与独立性调查\\3-12 关联方及关联交易情况\\3-12-10 经常性和偶发性关联交易及其对发行人长期持续运营的影响\n",
      "投行申报\\3 公司治理与独立性调查\\3-12 关联方及关联交易情况\\3-12-11 与关联交易相关的同类交易的市场价格数据，以及交易价格比较分析\n",
      "投行申报\\3 公司治理与独立性调查\\3-12 关联方及关联交易情况\\3-12-12 发行人关于减少和规范关联交易的措施说明\n",
      "投行申报\\3 公司治理与独立性调查\\3-12 关联方及关联交易情况\\3-12-13 发行人报告期内关联方注销及非关联化情况\n",
      "投行申报\\3 公司治理与独立性调查\\3-12 关联方及关联交易情况\\3-12-14 关于是否存在尚未识别的关联方及其交易的核查情况\n",
      "投行申报\\3 公司治理与独立性调查\\3-12 关联方及关联交易情况\\3-12-2 关联交易管理制度\n",
      "投行申报\\3 公司治理与独立性调查\\3-12 关联方及关联交易情况\\3-12-3 与关联交易相关的会议资料\n",
      "投行申报\\3 公司治理与独立性调查\\3-12 关联方及关联交易情况\\3-12-4 发行人高级管理人员及其他核心人员是否在关联方单位任职、领取薪酬的情况说明\n",
      "投行申报\\3 公司治理与独立性调查\\3-12 关联方及关联交易情况\\3-12-5 与关联交易相关的独立董事意见\n",
      "投行申报\\3 公司治理与独立性调查\\3-12 关联方及关联交易情况\\3-12-6 发行人与关联方发生的关联交易情况\n",
      "投行申报\\3 公司治理与独立性调查\\3-12 关联方及关联交易情况\\3-12-7 关联方资金占用情况\n",
      "投行申报\\3 公司治理与独立性调查\\3-12 关联方及关联交易情况\\3-12-8 关联交易相关的应收、应付款项占发行人应收、应付款项的比例\n",
      "投行申报\\3 公司治理与独立性调查\\3-12 关联方及关联交易情况\\3-12-9 关联交易必要性、持续性、真实性的说明，发行人是否利用与关联方或其他利益相关方的交易实现报告期收入的增长\n",
      "投行申报\\3 公司治理与独立性调查\\3-2 组织结构和三会运作情况\n",
      "投行申报\\3 公司治理与独立性调查\\3-2 组织结构和三会运作情况\\3-2-1 组织结构（含参、控股子公司）及关于部门职能描述的文件\n",
      "投行申报\\3 公司治理与独立性调查\\3-2 组织结构和三会运作情况\\3-2-2 公司治理制度规定，包括三会议事规则、董事会专门委员会议事规则、董事会秘书制度、总经理工作制度、内部审计制度等文件资料\n",
      "投行申报\\3 公司治理与独立性调查\\3-2 组织结构和三会运作情况\\3-2-3 报告期内历次三会的会议文件，包括书面通知、会议记录、会议决议等\n",
      "投行申报\\3 公司治理与独立性调查\\3-2 组织结构和三会运作情况\\3-2-4 审计委员会的运行情况\n",
      "投行申报\\3 公司治理与独立性调查\\3-2 组织结构和三会运作情况\\3-2-5 发行人协议控制架构的具体情况，包括协议控制架构涉及的各方法律主体的基本情况、主要合同等（如有）\n",
      "投行申报\\3 公司治理与独立性调查\\3-2 组织结构和三会运作情况\\3-2-6 结合对上述文件的审阅，对发行人组织机构及三会运作情况调查了解工作的有关记录和评价结论\n",
      "投行申报\\3 公司治理与独立性调查\\3-3 独立董事制度及其执行情况\n",
      "投行申报\\3 公司治理与独立性调查\\3-3 独立董事制度及其执行情况\\3-3-1 独立董事简历及任职资格说明\n",
      "投行申报\\3 公司治理与独立性调查\\3-3 独立董事制度及其执行情况\\3-3-2 独立董事制度\n",
      "投行申报\\3 公司治理与独立性调查\\3-3 独立董事制度及其执行情况\\3-3-3 独立董事发表的意见\n",
      "投行申报\\3 公司治理与独立性调查\\3-3 独立董事制度及其执行情况\\3-3-4 结合对上述文件的审阅，对发行人独立董事制度调查了解工作的有关记录和评价结论\n",
      "投行申报\\3 公司治理与独立性调查\\3-4 内部控制环境\n",
      "投行申报\\3 公司治理与独立性调查\\3-4 内部控制环境\\3-4-1 有助分析发行人内部控制环境的董事会、总经理办公会等会议记录\n",
      "投行申报\\3 公司治理与独立性调查\\3-4 内部控制环境\\3-4-2 各项业务及管理规章制度及汇总表（包括但不限于对外投资、对外担保、关联交易、委托理财、重大投资等，如有）\n",
      "投行申报\\3 公司治理与独立性调查\\3-4 内部控制环境\\3-4-3 公司管理层对内部控制完整性、合理性及有效性的自我评估\n",
      "投行申报\\3 公司治理与独立性调查\\3-4 内部控制环境\\3-4-4 注册会计师对内部控制的鉴证意见\n",
      "投行申报\\3 公司治理与独立性调查\\3-4 内部控制环境\\3-4-5 注册会计师关于内部控制的整改建议及企业的整改措施\n",
      "投行申报\\3 公司治理与独立性调查\\3-4 内部控制环境\\3-4-6 结合对上述文件的审阅，对发行人内部控制环境了解工作的有关记录和评价结论\n",
      "投行申报\\3 公司治理与独立性调查\\3-5 业务控制\n",
      "投行申报\\3 公司治理与独立性调查\\3-5 业务控制\\3-5-1 发行人关于各类业务的控制标准、控制措施的相关制度规定\n",
      "投行申报\\3 公司治理与独立性调查\\3-5 业务控制\\3-5-2 发行人因违反工商、税务、审计、环保、劳动保护等部门的相关规定而受到处罚的情况\n",
      "投行申报\\3 公司治理与独立性调查\\3-5 业务控制\\3-5-3 发行人已发现的由于风险控制不力导致的损失事件的情况说明\n",
      "投行申报\\3 公司治理与独立性调查\\3-6 信息系统控制\n",
      "投行申报\\3 公司治理与独立性调查\\3-6 信息系统控制\\3-6-1 信息系统控制相关的业务规章制度\n",
      "投行申报\\3 公司治理与独立性调查\\3-6 信息系统控制\\3-6-2 发行人信息管理系统用户权限设置情况表\n",
      "投行申报\\3 公司治理与独立性调查\\3-6 信息系统控制\\3-6-3 信息系统管理内部控制调查中发现的问题、整改建议及发行人整改请况\n",
      "投行申报\\3 公司治理与独立性调查\\3-6 信息系统控制\\3-6-4 对发行人信息系统管理内部控制的有效性评价及其依据\n",
      "投行申报\\3 公司治理与独立性调查\\3-7 会计管理控制\n",
      "投行申报\\3 公司治理与独立性调查\\3-7 会计管理控制\\3-7-1 会计管理制度、会计报告制度及其他相关会计制度\n",
      "投行申报\\3 公司治理与独立性调查\\3-7 会计管理控制\\3-7-2 发行人财务部岗位设置和人员配备\n",
      "投行申报\\3 公司治理与独立性调查\\3-7 会计管理控制\\3-7-3 关于会计档案管理的说明及相关资料\n",
      "投行申报\\3 公司治理与独立性调查\\3-7 会计管理控制\\3-7-4 关于报告期内未采用财务管理电算化系统的情况说明\n",
      "投行申报\\3 公司治理与独立性调查\\3-7 会计管理控制\\3-7-5 关于报告期内财务总监或会计负责人离职及上述人员任职期间对财务数据提出异议的情况说明及资料\n",
      "投行申报\\3 公司治理与独立性调查\\3-7 会计管理控制\\3-7-6 各级财务会计人员简历及专业资质\n",
      "投行申报\\3 公司治理与独立性调查\\3-7 会计管理控制\\3-7-7 财务会计管理内部控制流程调查中发现的问题、整改建议及发行人整改状况\n",
      "投行申报\\3 公司治理与独立性调查\\3-7 会计管理控制\\3-7-8 对发行人财务会计管理内部控制的有效性评价及其依据\n",
      "投行申报\\3 公司治理与独立性调查\\3-8 内部控制的监督\n",
      "投行申报\\3 公司治理与独立性调查\\3-8 内部控制的监督\\3-8-1 内部审计报告、监事会报告\n",
      "投行申报\\3 公司治理与独立性调查\\3-8 内部控制的监督\\3-8-2 发行人内部审计稽核部门设置情况及相关内部审计制度\n",
      "投行申报\\3 公司治理与独立性调查\\3-9 商业信用情况\n",
      "投行申报\\3 公司治理与独立性调查\\3-9 商业信用情况\\3-9-1 市场监督管理、税务、海关、土地管理、环保、应急管理、人社、司法、银行等机构的调查反馈文件（如需要），境外律师出具的关于境外子公司合法合规性的法律意见书（如需要）\n",
      "投行申报\\3 公司治理与独立性调查\\3-9 商业信用情况\\3-9-2 行业监管机构的监管记录和处罚文件\n",
      "投行申报\\3 公司治理与独立性调查\\3-9 商业信用情况\\3-9-3 针对发行人进行的网络搜索情况，包括登录相关网站（如各类政府机关网站，包括市场监督管理、税务、海关、土地管理、环保、应急管理、人社、司法等机构）或其他搜索网站（如中国人民银行征信系统、国家企业信用信息公示系统、中国执行信息公开网、中国裁判文书网等公共信息系统等）查询发行人是否存在违法违规情况，或因其他不诚信行为被媒体报道的情况\n",
      "投行申报\\3 公司治理与独立性调查\\3-9 商业信用情况\\3-9-4 主要银行给予发行人的授信额度\n",
      "投行申报\\3 公司治理与独立性调查\\3-9 商业信用情况\\3-9-5 发行人获得的主要荣誉和奖励\n",
      "投行申报\\4 财务与会计调查\n",
      "投行申报\\4 财务与会计调查\\4-1 财务报告及相关财务资料\n",
      "投行申报\\4 财务与会计调查\\4-1 财务报告及相关财务资料\\4-1-1 最近三年及一期经审计的财务报告及原始财务报表\n",
      "投行申报\\4 财务与会计调查\\4-1 财务报告及相关财务资料\\4-1-2 最近三年及一期原始财务报表与申报财务报表差异比较表及差异原因分析说明\n",
      "投行申报\\4 财务与会计调查\\4-1 财务报告及相关财务资料\\4-1-3 下属子公司最近三年及一期经审计的财务报告或原始财务报表\n",
      "投行申报\\4 财务与会计调查\\4-1 财务报告及相关财务资料\\4-1-4 披露的参股公司最近一年及一期的财务报告及审计报告\n",
      "投行申报\\4 财务与会计调查\\4-1 财务报告及相关财务资料\\4-1-5 如发行人最近一年及一期内收购兼并其他企业资产（或股权），且被收购企业资产总额或营业收入或净利润超过收购前发行人相应项目20%（含20%），需要被收购企业收购前一年的财务报表并核查其财务状况\n",
      "投行申报\\4 财务与会计调查\\4-1 财务报告及相关财务资料\\4-1-6 董事会和监事会对非标准审计报告涉及事项处理情况的说明\n",
      "投行申报\\4 财务与会计调查\\4-1 财务报告及相关财务资料\\4-1-7 境内外报表差异调节表（如有）\n",
      "投行申报\\4 财务与会计调查\\4-1 财务报告及相关财务资料\\4-1-8 与财务会计信息相关的重大事项或重要性水平的判断标准证明文件\n",
      "投行申报\\4 财务与会计调查\\4-10 存货\n",
      "投行申报\\4 财务与会计调查\\4-10 存货\\4-10-1 存货明细表、货龄分析表、存货构成相关资料及产量、销量与存货数量匹配关系说明（包含填列的模板“存货库龄分析表.xlsx”）\n",
      "投行申报\\4 财务与会计调查\\4-10 存货\\4-10-2 发行人存货管理制度执行情况的抽查记录，发行人存货盘点制度的建立和报告期实际执行情况\n",
      "投行申报\\4 财务与会计调查\\4-10 存货\\4-10-3 会计师关于发行人的存货监盘计划以及存货监盘情况\n",
      "投行申报\\4 财务与会计调查\\4-10 存货\\4-10-4 保荐机构随同会计师参与存货监盘或复核会计师存货监盘的工作记录（如存在需要倒扎的情况，应包含填列的模板“存货抽盘倒轧表.xlsx”）\n",
      "投行申报\\4 财务与会计调查\\4-10 存货\\4-10-5 存货跌价准备计提政策和存货跌价准备计提表（如发行人期末存货余额较大，周转率较低，应结合其业务模式、市场竞争情况和行业发展趋势等因素披露原因，同时分析并披露发行人的存货减值风险）（包含填列的模板“存货跌价准备计提复核表.xlsx”）\n",
      "投行申报\\4 财务与会计调查\\4-10 存货\\4-10-6 发行人关于存货期末余额较大的原因以及是否充分计提存货跌价准备的说明、报告期各期末发出商品是否存在异常变动及其原因分析\n",
      "投行申报\\4 财务与会计调查\\4-10 存货\\4-10-7 发行人存货的真实性，是否存在将本应计入当期成本费用的支出混入存货项目以达到少计当期成本费用的情况说明\n",
      "投行申报\\4 财务与会计调查\\4-10 存货\\4-10-8 异地存放、盘点过程存在特殊困难或由第三方保管或控制的存货的盘存方法以及履行的替代盘点程序\n",
      "投行申报\\4 财务与会计调查\\4-10 存货\\4-10-9 存货周转率明显异于同行业水平的原因分析及合理性说明\n",
      "投行申报\\4 财务与会计调查\\4-11 重要的对外投资（合并范围内的子公司除外）\n",
      "投行申报\\4 财务与会计调查\\4-11 重要的对外投资（合并范围内的子公司除外）\\4-11-1 被投资公司的营业执照\n",
      "投行申报\\4 财务与会计调查\\4-11 重要的对外投资（合并范围内的子公司除外）\\4-11-10 期末金额较大的交易性金融资产、可供出售金融资产、借与他人款项、委托理财等财务投资的核查资料（4-10-1至4-10-9未包含部分）\n",
      "投行申报\\4 财务与会计调查\\4-11 重要的对外投资（合并范围内的子公司除外）\\4-11-11 发行人各报告期对外投资的明细清单，包括投资项目、投资类型（债权投资\n",
      "投行申报\\4 财务与会计调查\\4-11 重要的对外投资（合并范围内的子公司除外）\\4-11-2 被投资公司报告期的财务报告\n",
      "投行申报\\4 财务与会计调查\\4-11 重要的对外投资（合并范围内的子公司除外）\\4-11-3 投资协议\n",
      "投行申报\\4 财务与会计调查\\4-11 重要的对外投资（合并范围内的子公司除外）\\4-11-4 报告期发行人购买或出售被投资公司股权时的财务报告、审计报告及评估报告\n",
      "投行申报\\4 财务与会计调查\\4-11 重要的对外投资（合并范围内的子公司除外）\\4-11-5 重大委托理财的相关合同\n",
      "投行申报\\4 财务与会计调查\\4-11 重要的对外投资（合并范围内的子公司除外）\\4-11-6 购买衍生产品的明细表及合同，持有衍生产品的品种、规模是否与发行人正常的生产经营需求相匹配的说明\n",
      "投行申报\\4 财务与会计调查\\4-11 重要的对外投资（合并范围内的子公司除外）\\4-11-7 重大项目的投资合同\n",
      "投行申报\\4 财务与会计调查\\4-11 重要的对外投资（合并范围内的子公司除外）\\4-11-8 发行人内部关于对外投资的批准文件\n",
      "投行申报\\4 财务与会计调查\\4-11 重要的对外投资（合并范围内的子公司除外）\\4-11-9 长期股权投资减值准备计提的相关资料，及关于合理性和充分性的相关资料\n",
      "投行申报\\4 财务与会计调查\\4-12 固定资产、在建工程\n",
      "投行申报\\4 财务与会计调查\\4-12 固定资产、在建工程\\4-12-1 固定资产明细表、固定资产折旧明细表和减值准备明细表\n",
      "投行申报\\4 财务与会计调查\\4-12 固定资产、在建工程\\4-12-10 在建工程施工合同或预算资料\n",
      "投行申报\\4 财务与会计调查\\4-12 固定资产、在建工程\\4-12-11 购建在建工程履行的审批程序\n",
      "投行申报\\4 财务与会计调查\\4-12 固定资产、在建工程\\4-12-12 结合固定资产成本规模、残值率和折旧年限对报告期固定资产折旧费用的合理性分析，并核查其与同期生产成本和期间费用中折旧项目金额的一致性\n",
      "投行申报\\4 财务与会计调查\\4-12 固定资产、在建工程\\4-12-13 报告期如存在大额在建工程转入固定资产的，应说明其内容、依据及影响，尚未完工交付项目预计未来转入固定资产的时间与条件；固定资产与在建工程是否存在重大减值因素；需要提供具体的明细台账\n",
      "投行申报\\4 财务与会计调查\\4-12 固定资产、在建工程\\4-12-2 固定资产的计价政策、折旧政策、使用年限和残值率\n",
      "投行申报\\4 财务与会计调查\\4-12 固定资产、在建工程\\4-12-3 固定资产实地查看记录\n",
      "投行申报\\4 财务与会计调查\\4-12 固定资产、在建工程\\4-12-4 购建与处置固定资产的入账凭证及附件抽样记录\n",
      "投行申报\\4 财务与会计调查\\4-12 固定资产、在建工程\\4-12-5 固定资产成新率及是否面临淘汰、更新、大修、技术升级等分析\n",
      "投行申报\\4 财务与会计调查\\4-12 固定资产、在建工程\\4-12-6 有关固定资产的会计制度及减值准备计提充分的说明\n",
      "投行申报\\4 财务与会计调查\\4-12 固定资产、在建工程\\4-12-7 购建、处置固定资产等履行的审批程序\n",
      "投行申报\\4 财务与会计调查\\4-12 固定资产、在建工程\\4-12-8 在建工程明细表、减值准备明细表、原始凭证及实地查看记录\n",
      "投行申报\\4 财务与会计调查\\4-12 固定资产、在建工程\\4-12-9 在建工程转固列表及折旧计提情况（转固时间、转固依据、各项在建工程转固证据文件等）\n",
      "投行申报\\4 财务与会计调查\\4-13 无形资产、开发支出\n",
      "投行申报\\4 财务与会计调查\\4-13 无形资产、开发支出\\4-13-1 无形资产摊销和减值情况\n",
      "投行申报\\4 财务与会计调查\\4-13 无形资产、开发支出\\4-13-2 无形资产、开发支出明细表（开发支出明细表请使用模板“开发支出分析表.xlsx”）\n",
      "投行申报\\4 财务与会计调查\\4-13 无形资产、开发支出\\4-13-3 无形资产、开发支出的会计政策\n",
      "投行申报\\4 财务与会计调查\\4-13 无形资产、开发支出\\4-13-4 公司主要无形资产的取得方式、入账价值及依据\n",
      "投行申报\\4 财务与会计调查\\4-13 无形资产、开发支出\\4-13-5 处置无形资产的审批程序\n",
      "投行申报\\4 财务与会计调查\\4-13 无形资产、开发支出\\4-13-6 无形资产减值准备计提方法、减值准备明细表\n",
      "投行申报\\4 财务与会计调查\\4-13 无形资产、开发支出\\4-13-7 无形资产减值准备计提履行的审批程序\n",
      "投行申报\\4 财务与会计调查\\4-14 商誉\n",
      "投行申报\\4 财务与会计调查\\4-14 商誉\\4-14-1 商誉明细表，商誉形成的基础资料及形成原因\n",
      "投行申报\\4 财务与会计调查\\4-14 商誉\\4-14-2 增减变动与减值测试依据等情况，管理层关于商誉减值测试情况说明\n",
      "投行申报\\4 财务与会计调查\\4-15 投资性房地产\n",
      "投行申报\\4 财务与会计调查\\4-15 投资性房地产\\4-15-1 投资性房地产明细表\n",
      "投行申报\\4 财务与会计调查\\4-15 投资性房地产\\4-15-2 投资性房地产种类和计量模式\n",
      "投行申报\\4 财务与会计调查\\4-15 投资性房地产\\4-15-3 投资性房地产折旧明细表\n",
      "投行申报\\4 财务与会计调查\\4-15 投资性房地产\\4-15-4 投资性房地产减值计提的说明及相关材料\n",
      "投行申报\\4 财务与会计调查\\4-15 投资性房地产\\4-15-5 公允价值计量模式特别核查\n",
      "投行申报\\4 财务与会计调查\\4-16 主要债务\n",
      "投行申报\\4 财务与会计调查\\4-16 主要债务\\4-16-1 应付账款明细表（含款项性质及账龄）及相关核查资料\n",
      "投行申报\\4 财务与会计调查\\4-16 主要债务\\4-16-10 可预见的未来需偿还的负债金额及利息金额，重点说明未来 12 个月内的情况，结合现金流、融资能力与渠道等情况，公司偿债能力的证明材料\n",
      "投行申报\\4 财务与会计调查\\4-16 主要债务\\4-16-2 应付票据\n",
      "投行申报\\4 财务与会计调查\\4-16 主要债务\\4-16-3 银行借款明细表及银行借款合同、委托贷款合同等相关资料\n",
      "投行申报\\4 财务与会计调查\\4-16 主要债务\\4-16-4 预计负债的明细表及其相关协议、估计依据、访谈记录等相关资料\n",
      "投行申报\\4 财务与会计调查\\4-16 主要债务\\4-16-5 其他应付款明细表（含款项性质及账龄）及相关核查资料\n",
      "投行申报\\4 财务与会计调查\\4-16 主要债务\\4-16-6 其他大额负债明细表及相关核查资料\n",
      "投行申报\\4 财务与会计调查\\4-16 主要债务\\4-16-7 一年内到期的长期借款清单，包括债权人（具体到分支行）、本金、起止期限、利率、抵押\n",
      "投行申报\\4 财务与会计调查\\4-16 主要债务\\4-16-8 存在逾期负债的，提供逾期负债金额统计表，核查逾期的原因及后续偿还措施，取得相关证明文件\n",
      "投行申报\\4 财务与会计调查\\4-16 主要债务\\4-16-9 最近一期末银行借款、关联方借款、合同承诺债务、或有负债等主要债项的金额、期限、利率及利息费用等情况\n",
      "投行申报\\4 财务与会计调查\\4-17 现金流量\n",
      "投行申报\\4 财务与会计调查\\4-17 现金流量\\4-17-1 现金流量表与利润表、资产负债表勾稽记录、具体项目波动分析相关资料\n",
      "投行申报\\4 财务与会计调查\\4-17 现金流量\\4-17-2 现金流量与利润表、资产负债表主要数据不匹配的原因及相关资料\n",
      "投行申报\\4 财务与会计调查\\4-17 现金流量\\4-17-3 报告期末的重大资本性支出决议以及未来其他可预见的重大资本性支出计划、资金需求量的证明材料\n",
      "投行申报\\4 财务与会计调查\\4-17 现金流量\\4-17-4 资本性支出涉及跨行业投资，其与公司未来发展战略关系的证明资料，资金缺口的解决措施资料\n",
      "投行申报\\4 财务与会计调查\\4-17 现金流量\\4-17-5 结合长短期债务配置期限、影响现金流量的重要事件或承诺事项以及风险管理政策，说明发行人的流动性已经或可能产生的重大变化或风险趋势、论证相关措施有效性的支持性材料\n",
      "投行申报\\4 财务与会计调查\\4-18 合并报表的范围\n",
      "投行申报\\4 财务与会计调查\\4-18 合并报表的范围\\4-18-1 合并范围列表及确定依据\n",
      "投行申报\\4 财务与会计调查\\4-18 合并报表的范围\\4-18-2 报告期内合并范围变动情况及原因\n",
      "投行申报\\4 财务与会计调查\\4-19 纳税情况\n",
      "投行申报\\4 财务与会计调查\\4-19 纳税情况\\4-19-1 报告期内发行人及其控股子公司主要适用税种及税率说明\n",
      "投行申报\\4 财务与会计调查\\4-19 纳税情况\\4-19-2 报告期的年度纳税申报表\n",
      "投行申报\\4 财务与会计调查\\4-19 纳税情况\\4-19-3 关于税务争议、滞纳金缴纳、以及重大关税纠纷的详细情况以及有关文件及信函\n",
      "投行申报\\4 财务与会计调查\\4-19 纳税情况\\4-19-4 公司及各控股子公司的完税证明或税收缴款书、纳税凭证（抽查）\n",
      "投行申报\\4 财务与会计调查\\4-19 纳税情况\\4-19-5 发行人享有税收优惠情况\n",
      "投行申报\\4 财务与会计调查\\4-19 纳税情况\\4-19-6 报告期内产品出口退税税率变动情况及相关文件\n",
      "投行申报\\4 财务与会计调查\\4-19 纳税情况\\4-19-7 发行人及各控股子公司前三个会计年度各类应交税金余额变动情况表\n",
      "投行申报\\4 财务与会计调查\\4-19 纳税情况\\4-19-8 发行人及各控股子公司前三个会计年度主要税种计提金额的合理性测试工作底稿\n",
      "投行申报\\4 财务与会计调查\\4-19 纳税情况\\4-19-9 当地税务部门出具的关于发行人报告期内纳税情况的证明文件\n",
      "投行申报\\4 财务与会计调查\\4-2 会计政策、会计估计及会计差错更正\n",
      "投行申报\\4 财务与会计调查\\4-2 会计政策、会计估计及会计差错更正\\4-2-1 发行人会计政策、会计估计\n",
      "投行申报\\4 财务与会计调查\\4-2 会计政策、会计估计及会计差错更正\\4-2-2 同行业会计政策和会计估计比较情况，与同行业存在较大差异的原因分析\n",
      "投行申报\\4 财务与会计调查\\4-2 会计政策、会计估计及会计差错更正\\4-2-3 会计政策和会计估计变动相关资料（如有）\n",
      "投行申报\\4 财务与会计调查\\4-2 会计政策、会计估计及会计差错更正\\4-2-4 会计政策和会计估计变更对公司经营业绩影响的说明\n",
      "投行申报\\4 财务与会计调查\\4-2 会计政策、会计估计及会计差错更正\\4-2-5 报告期内重大会计差错更正情况及相关资料\n",
      "投行申报\\4 财务与会计调查\\4-2 会计政策、会计估计及会计差错更正\\4-2-6 重大会计差错更正的审议程序、会议材料等\n",
      "投行申报\\4 财务与会计调查\\4-20 盈利预测\n",
      "投行申报\\4 财务与会计调查\\4-20 盈利预测\\4-20-1 盈利预测报告\n",
      "投行申报\\4 财务与会计调查\\4-20 盈利预测\\4-20-2 盈利预测的依据资料\n",
      "投行申报\\4 财务与会计调查\\4-20 盈利预测\\4-20-3 对发行人及其控股子公司盈利预测所依据的假设的合理性评价备忘录及\n",
      "投行申报\\4 财务与会计调查\\4-21 发行人关于股份支付会计处理的说明及相关底稿\n",
      "投行申报\\4 财务与会计调查\\4-22 其他科目异常情况核查\n",
      "投行申报\\4 财务与会计调查\\4-22 其他科目异常情况核查\\4-22-1 其他会计科目异常变动情况的说明\n",
      "投行申报\\4 财务与会计调查\\4-22 其他科目异常情况核查\\4-22-2 其他财务异常情况的核查说明（如推迟广告投入和其他减少销售费用的情形；短期降低员工工资的情形；引进临时客户增加收入利润的情形）\n",
      "投行申报\\4 财务与会计调查\\4-22 其他科目异常情况核查\\4-22-3 其他可能导致公司财务信息披露失真、粉饰业绩或财务造假的情况\n",
      "投行申报\\4 财务与会计调查\\4-23 报告期内发行人主要财务指标情况表\n",
      "投行申报\\4 财务与会计调查\\4-24 历次验资报告\n",
      "投行申报\\4 财务与会计调查\\4-25 相关银行账户资金流水\n",
      "投行申报\\4 财务与会计调查\\4-25 相关银行账户资金流水\\4-25-1 控股股东、实际控制人的银行账户流水核查，个人账户大额资金往来较多且无合理解释，或者频繁出现大额存现、取现情形的请重点截图上传\n",
      "投行申报\\4 财务与会计调查\\4-25 相关银行账户资金流水\\4-25-10 控股股东、实际控制人、董事、监事、高管、关键岗位人员是否从发行人获得大额现金分红款、薪酬或资产转让款、转让发行人股权获得大额股权转让款，主要资金流向或用途数据核查情况上传\n",
      "投行申报\\4 财务与会计调查\\4-25 相关银行账户资金流水\\4-25-11 控股股东、实际控制人、董事、监事、高管、关键岗位人员与发行人关联方、客户、供应商之间异常大额资金往来的核查\n",
      "投行申报\\4 财务与会计调查\\4-25 相关银行账户资金流水\\4-25-12 是否存在关联方代发行人收取客户款项或支付供应商款项的核查\n",
      "投行申报\\4 财务与会计调查\\4-25 相关银行账户资金流水\\4-25-2 发行人主要关联方的银行账户流水核查\n",
      "投行申报\\4 财务与会计调查\\4-25 相关银行账户资金流水\\4-25-3 发行人董事的银行账户流水核查\n",
      "投行申报\\4 财务与会计调查\\4-25 相关银行账户资金流水\\4-25-4 发行人监事的银行账户流水核查\n",
      "投行申报\\4 财务与会计调查\\4-25 相关银行账户资金流水\\4-25-5 发行人高管的银行账户流水核查\n",
      "投行申报\\4 财务与会计调查\\4-25 相关银行账户资金流水\\4-25-6 发行人关键岗位人员的银行账户流水核查\n",
      "投行申报\\4 财务与会计调查\\4-25 相关银行账户资金流水\\4-25-7 发行人大额资金往来是否存在重大异常核查，是否与公司经营活动、资产购置、对外投资等不相匹配\n",
      "投行申报\\4 财务与会计调查\\4-25 相关银行账户资金流水\\4-25-8 发行人相关账户大额取现的情况核查\n",
      "投行申报\\4 财务与会计调查\\4-25 相关银行账户资金流水\\4-25-9 发行人同一账户或不同账户之间，是否存在金额、日期相近的异常大额资金进出的情形，存在请截图\n",
      "投行申报\\4 财务与会计调查\\4-3 有关评估报告\n",
      "投行申报\\4 财务与会计调查\\4-3 有关评估报告\\4-3-1 公司设立时（含有限责任公司改制期间）及报告期内历次资产评估报告\n",
      "投行申报\\4 财务与会计调查\\4-3 有关评估报告\\4-3-2 公司设立时（含有限责任公司改制期间）及报告期内历次土地评估报告\n",
      "投行申报\\4 财务与会计调查\\4-3 有关评估报告\\4-3-3 其他评估报告（矿产、房地产开发存货等）\n",
      "投行申报\\4 财务与会计调查\\4-4 销售收入\n",
      "投行申报\\4 财务与会计调查\\4-4 销售收入\\4-4-1 发行人收入的确认政策、产品构成、地域构成、销售模式构成及其变动情况的详细资料\n",
      "投行申报\\4 财务与会计调查\\4-4 销售收入\\4-4-10 发行人异常交易核查情况\n",
      "投行申报\\4 财务与会计调查\\4-4 销售收入\\4-4-11 产销量或合同订单完成量等业务执行数据与财务确认数据的一致性\n",
      "投行申报\\4 财务与会计调查\\4-4 销售收入\\4-4-12 电商、互联网信息服务、互联网营销企业\n",
      "投行申报\\4 财务与会计调查\\4-4 销售收入\\4-4-13 单一大客户核查\n",
      "投行申报\\4 财务与会计调查\\4-4 销售收入\\4-4-2 发行人报告期内主要产品或服务价格变动的资料及原因分析及相关资料，变动趋势与市场上相同或相近产品或服务的信息及其走势相比是否存在显著异常\n",
      "投行申报\\4 财务与会计调查\\4-4 销售收入\\4-4-3 发行人报告期主要产品或服务的销量变化资料及原因，变动趋势与市场上相同或相近产品或服务的信息及其走势相比是否存在显著异常\n",
      "投行申报\\4 财务与会计调查\\4-4 销售收入\\4-4-4 收入真实性的核查\n",
      "投行申报\\4 财务与会计调查\\4-4 销售收入\\4-4-5 收入截止性测试情况，会计期末是否存在突击确认销售以及期后是否存在大量销售退回的情况，会计期末销售收入异常增长情况的收入确认凭证\n",
      "投行申报\\4 财务与会计调查\\4-4 销售收入\\4-4-6 境外销售核查情况\n",
      "投行申报\\4 财务与会计调查\\4-4 销售收入\\4-4-7 网络销售的真实性核查情况\n",
      "投行申报\\4 财务与会计调查\\4-4 销售收入\\4-4-8 第三方回款的核查资料，包括但不限于采购方与回款方的关系说明、付款凭证等\n",
      "投行申报\\4 财务与会计调查\\4-4 销售收入\\4-4-9 发行人存在特殊交易模式或创新交易模式的核查情况\n",
      "投行申报\\4 财务与会计调查\\4-5 营业成本与销售毛利\n",
      "投行申报\\4 财务与会计调查\\4-5 营业成本与销售毛利\\4-5-1 成本、毛利、毛利率明细表\n",
      "投行申报\\4 财务与会计调查\\4-5 营业成本与销售毛利\\4-5-2 成本真实性的核查\n",
      "投行申报\\4 财务与会计调查\\4-5 营业成本与销售毛利\\4-5-3 业绩增长及毛利率变动真实性的核查\n",
      "投行申报\\4 财务与会计调查\\4-6 期间费用\n",
      "投行申报\\4 财务与会计调查\\4-6 期间费用\\4-6-1 销售费用情况\n",
      "投行申报\\4 财务与会计调查\\4-6 期间费用\\4-6-2 管理费用情况\n",
      "投行申报\\4 财务与会计调查\\4-6 期间费用\\4-6-3 研发费用情况\n",
      "投行申报\\4 财务与会计调查\\4-6 期间费用\\4-6-4 财务费用情况\n",
      "投行申报\\4 财务与会计调查\\4-6 期间费用\\4-6-5 广告费明细表（广告费占比销售费用超过30%需编制）（请使用模板“广告费明细表.xlsx”）、销售部门获取报告期各项营销推广活动清单\n",
      "投行申报\\4 财务与会计调查\\4-6 期间费用\\4-6-6 工资薪金单、工资薪金表（请使用模板“ 工资薪金分析表.xlsx”）\n",
      "投行申报\\4 财务与会计调查\\4-6 期间费用\\4-6-7 费用截止性测试，判断是否存在费用核算跨期问题（包含填列的模板“费用跨期测试表.xlsx”及相关原始凭证）\n",
      "投行申报\\4 财务与会计调查\\4-7 政府补助、非经常性损益\n",
      "投行申报\\4 财务与会计调查\\4-7 政府补助、非经常性损益\\4-7-1 政府补助\n",
      "投行申报\\4 财务与会计调查\\4-7 政府补助、非经常性损益\\4-7-2 非经常性损益\n",
      "投行申报\\4 财务与会计调查\\4-8 货币资金\n",
      "投行申报\\4 财务与会计调查\\4-8 货币资金\\4-8-1 报告期内银行账户开户清单（含注销账户）及企业信用报告（含子公司）\n",
      "投行申报\\4 财务与会计调查\\4-8 货币资金\\4-8-2 报告期内账户银行对账单（详式）、各期末余额调节表、相关函证资料或复核会计函证资料的工作记录\n",
      "投行申报\\4 财务与会计调查\\4-8 货币资金\\4-8-3 异常、巨额资金流转情况资料、发生背景说明及会计处理\n",
      "投行申报\\4 财务与会计调查\\4-8 货币资金\\4-8-4 现金收付交易核查情况\n",
      "投行申报\\4 财务与会计调查\\4-8 货币资金\\4-8-5 关于发行人与控股股东或其他关联方设立联合或共管账户、在控股股东控制的财务公司开设银行账户或参与资金池业务的说明及相关资料（如有）\n",
      "投行申报\\4 财务与会计调查\\4-8 货币资金\\4-8-6 发行人利用员工账户或其他个人账户进行货款收支及款项往来情况、相应整改措施的说明\n",
      "投行申报\\4 财务与会计调查\\4-8 货币资金\\4-8-7 其他应收款员工备用金月末余额变动表及其合理性分析\n",
      "投行申报\\4 财务与会计调查\\4-8 货币资金\\4-8-8 报告期内银行日记账\n",
      "投行申报\\4 财务与会计调查\\4-9 应收款项、合同资产\n",
      "投行申报\\4 财务与会计调查\\4-9 应收款项、合同资产\\4-9-1 应收账款、应收票据明细表、账龄分析表、坏账准备明细表及应收账款余额的变动情况分析\n",
      "投行申报\\4 财务与会计调查\\4-9 应收款项、合同资产\\4-9-10 报告期内发行人应收账款主要客户与发行人主要客户是否匹配的说明\n",
      "投行申报\\4 财务与会计调查\\4-9 应收款项、合同资产\\4-9-11 新增客户的应收账款金额与其营业收入是否匹配的说明\n",
      "投行申报\\4 财务与会计调查\\4-9 应收款项、合同资产\\4-9-12 大额应收账款是否能够按期收回以及期末收到的销售款项是否存在期后不正常流出的情况说明\n",
      "投行申报\\4 财务与会计调查\\4-9 应收款项、合同资产\\4-9-13 应收账款周转率明显异于同行业水平的原因分析及合理性说明\n",
      "投行申报\\4 财务与会计调查\\4-9 应收款项、合同资产\\4-9-2 合同资产明细表及符合会计准则规定的说明\n",
      "投行申报\\4 财务与会计调查\\4-9 应收款项、合同资产\\4-9-3 应收票据背书、贴现明细表及相关资料\n",
      "投行申报\\4 财务与会计调查\\4-9 应收款项、合同资产\\4-9-4 主要债务人及主要逾期债务人名单\n",
      "投行申报\\4 财务与会计调查\\4-9 应收款项、合同资产\\4-9-5 与应收款项相关的销售合同\n",
      "投行申报\\4 财务与会计调查\\4-9 应收款项、合同资产\\4-9-6 应收持发行人5％及以上表决权股份的股东账款情况\n",
      "投行申报\\4 财务与会计调查\\4-9 应收款项、合同资产\\4-9-7 应收账款的期后回收情况、报告期各期主要客户信用政策的变化情况以及对超出信用政策的大额应收账款的分析\n",
      "投行申报\\4 财务与会计调查\\4-9 应收款项、合同资产\\4-9-8 发行人与同行业其他公司应收账款坏账准备计提政策列表和坏账准备计提比例表\n",
      "投行申报\\4 财务与会计调查\\4-9 应收款项、合同资产\\4-9-9 往来款（预付账款、其他应收款）是否异常核查情况\n",
      "投行申报\\5 募集资金运用情况和业务发展目标调查\n",
      "投行申报\\5 募集资金运用情况和业务发展目标调查\\5-1 前次募集资金使用情况（如有）\n",
      "投行申报\\5 募集资金运用情况和业务发展目标调查\\5-1 前次募集资金使用情况（如有）\\5-1-1 发行人关于历次募集资金运用情况的说明\n",
      "投行申报\\5 募集资金运用情况和业务发展目标调查\\5-1 前次募集资金使用情况（如有）\\5-1-2 募集资金相关的会计师专项报告以及募集资金运用项目的核算资料\n",
      "投行申报\\5 募集资金运用情况和业务发展目标调查\\5-1 前次募集资金使用情况（如有）\\5-1-3 历次募集资金投向变更的相关决策文件，变更后项目的核准或备案文件\n",
      "投行申报\\5 募集资金运用情况和业务发展目标调查\\5-1 前次募集资金使用情况（如有）\\5-1-4 历次募集资金的验资报告\n",
      "投行申报\\5 募集资金运用情况和业务发展目标调查\\5-2 本次募集资金运用的相关资料\n",
      "投行申报\\5 募集资金运用情况和业务发展目标调查\\5-2 本次募集资金运用的相关资料\\5-2-1 可行性研究报告\n",
      "投行申报\\5 募集资金运用情况和业务发展目标调查\\5-2 本次募集资金运用的相关资料\\5-2-10 发行人关于募集资金运用对财务状况及经营成果影响的详细分析\n",
      "投行申报\\5 募集资金运用情况和业务发展目标调查\\5-2 本次募集资金运用的相关资料\\5-2-11 募集资金投向产生的关联交易\n",
      "投行申报\\5 募集资金运用情况和业务发展目标调查\\5-2 本次募集资金运用的相关资料\\5-2-2 关于本次募集资金运用的股东大会、董事会的议案、决议和会议纪要\n",
      "投行申报\\5 募集资金运用情况和业务发展目标调查\\5-2 本次募集资金运用的相关资料\\5-2-3 涉及本次募集资金项目有关主管部门的批复或相关核准或备案文件\n",
      "投行申报\\5 募集资金运用情况和业务发展目标调查\\5-2 本次募集资金运用的相关资料\\5-2-4 本次募集资金投向涉及安全、环保等需相关政府部门出具的批复\n",
      "投行申报\\5 募集资金运用情况和业务发展目标调查\\5-2 本次募集资金运用的相关资料\\5-2-5 募集资金运用涉及新取得土地或房产的，取得方式、进展情况及未能如期取得对募集资金具体用途的影响的相关说明\n",
      "投行申报\\5 募集资金运用情况和业务发展目标调查\\5-2 本次募集资金运用的相关资料\\5-2-6 募集资金运用涉及收购资产的相关资料\n",
      "投行申报\\5 募集资金运用情况和业务发展目标调查\\5-2 本次募集资金运用的相关资料\\5-2-7 募集资金运用涉及与他人合作的，合作方基本情况、合作方式、各方权利义务关系的说明\n",
      "投行申报\\5 募集资金运用情况和业务发展目标调查\\5-2 本次募集资金运用的相关资料\\5-2-8 募集资金用于研发投入、科技创新、新产品开发生产的，具体安排及其与发行人现有主要业务、核心技术之间关系的说明\n",
      "投行申报\\5 募集资金运用情况和业务发展目标调查\\5-2 本次募集资金运用的相关资料\\5-2-9 募集资金用于新增产能的，产能消化能力与市场前景的说明\n",
      "投行申报\\5 募集资金运用情况和业务发展目标调查\\5-3 募集资金投向产生的关联交易\n",
      "投行申报\\5 募集资金运用情况和业务发展目标调查\\5-3 募集资金投向产生的关联交易\\5-3-1 募集资金投向涉及与关联方合资或与关联方发生交易的，相关关联方资料\n",
      "投行申报\\5 募集资金运用情况和业务发展目标调查\\5-3 募集资金投向产生的关联交易\\5-3-2 募集资金向实际控制人、控股股东及其关联方收购资产，说明定价公允性、收购必要性，如果对被收购资产有效益承诺的，效益无法完成时的补偿责任的说明\n",
      "投行申报\\5 募集资金运用情况和业务发展目标调查\\5-4 发展战略\n",
      "投行申报\\5 募集资金运用情况和业务发展目标调查\\5-4 发展战略\\5-4-1 中长期发展战略规划资料\n",
      "投行申报\\5 募集资金运用情况和业务发展目标调查\\5-4 发展战略\\5-4-2 战略委员会会议纪要\n",
      "投行申报\\5 募集资金运用情况和业务发展目标调查\\5-4 发展战略\\5-4-3 独立董事意见\n",
      "投行申报\\5 募集资金运用情况和业务发展目标调查\\5-4 发展战略\\5-4-4 历年发展计划及年度报告\n",
      "投行申报\\5 募集资金运用情况和业务发展目标调查\\5-5 业务发展目标\n",
      "投行申报\\5 募集资金运用情况和业务发展目标调查\\5-5 业务发展目标\\5-5-1 未来二至三年的发展计划\n",
      "投行申报\\5 募集资金运用情况和业务发展目标调查\\5-5 业务发展目标\\5-5-2 业务发展目标相关文件\n",
      "投行申报\\5 募集资金运用情况和业务发展目标调查\\5-5 业务发展目标\\5-5-3 制定业务发展目标的依据性文件\n",
      "投行申报\\5 募集资金运用情况和业务发展目标调查\\5-5 业务发展目标\\5-5-4 业务发展目标与现有业务的关系说明\n",
      "投行申报\\5 募集资金运用情况和业务发展目标调查\\5-5 业务发展目标\\5-5-5 募集资金投向与业务发展目标的关系说明\n",
      "投行申报\\5 募集资金运用情况和业务发展目标调查\\5-6 关于募集资金管理的相关制度\n",
      "投行申报\\6 投资者保护调查\n",
      "投行申报\\6 投资者保护调查\\6-1 保护投资者合法权益规定的各项措施\n",
      "投行申报\\6 投资者保护调查\\6-1 保护投资者合法权益规定的各项措施\\6-1-1 投资者关系的主要安排，包括信息披露制度和流程、投资者沟通渠道的建立情况以及未来开展投资者关系管理的规划等\n",
      "投行申报\\6 投资者保护调查\\6-1 保护投资者合法权益规定的各项措施\\6-1-2 发行人自设立以来存在特别表决权股份、协议控制架构或类似特殊安排的，获取相关股东及持股情况、表决机制和实际运行情况等资料（部分内容可参见3-1-3和3-2-5）\n",
      "投行申报\\6 投资者保护调查\\6-1 保护投资者合法权益规定的各项措施\\6-1-3 特别表决权股份、协议控制架构或类似特殊安排，尚未盈利或存在累计未弥补亏损的，落实保护投资者合法权益规定的各项措施（如有）\n",
      "投行申报\\6 投资者保护调查\\6-1 保护投资者合法权益规定的各项措施\\6-1-4 发行人境外注册地法律制度及章程条款与境内制度的差异及对投资者保护的影响说明和相关资料\n",
      "投行申报\\6 投资者保护调查\\6-1 保护投资者合法权益规定的各项措施\\6-1-5 发行人如为控股型公司的，主要控股子公司的章程和财务管理制度中关于利润分配的规定，及外汇管制、注册地法规等方面对利润分配的具体影响说明和相关资料\n",
      "投行申报\\6 投资者保护调查\\6-2 承诺事项履行情况\n",
      "投行申报\\6 投资者保护调查\\6-2 承诺事项履行情况\\6-2-1 本次发行前股东所持股份的限售安排、自愿锁定股份、延长锁定期限以及相关股东持股及减持意向等承诺\n",
      "投行申报\\6 投资者保护调查\\6-2 承诺事项履行情况\\6-2-2 稳定股价的措施和承诺\n",
      "投行申报\\6 投资者保护调查\\6-2 承诺事项履行情况\\6-2-3 股份回购和股份买回的措施和承诺\n",
      "投行申报\\6 投资者保护调查\\6-2 承诺事项履行情况\\6-2-4 对欺诈发行上市的股份回购和股份买回承诺\n",
      "投行申报\\6 投资者保护调查\\6-2 承诺事项履行情况\\6-2-5 填补被摊薄即期回报的措施及承诺\n",
      "投行申报\\6 投资者保护调查\\6-2 承诺事项履行情况\\6-2-6 利润分配政策的承诺\n",
      "投行申报\\6 投资者保护调查\\6-2 承诺事项履行情况\\6-2-7 依法承担赔偿责任的承诺\n",
      "投行申报\\6 投资者保护调查\\6-2 承诺事项履行情况\\6-2-8 其他承诺事项\n",
      "投行申报\\6 投资者保护调查\\6-2 承诺事项履行情况\\6-2-9 控股股东及实际控制人、发起人、主要股东及董事、监事、高级管理人员未能履行承诺的约束措施\n",
      "投行申报\\6 投资者保护调查\\6-3 信息披露制度的建设和执行情况\n",
      "投行申报\\6 投资者保护调查\\6-3 信息披露制度的建设和执行情况\\6-3-1 信息披露制度\n",
      "投行申报\\6 投资者保护调查\\6-3 信息披露制度的建设和执行情况\\6-3-2 投资者关系部门组织架构\n",
      "投行申报\\6 投资者保护调查\\6-3 信息披露制度的建设和执行情况\\6-3-3 未来开展投资者关系管理的规划\n",
      "投行申报\\6 投资者保护调查\\6-4 股利分配政策\n",
      "投行申报\\6 投资者保护调查\\6-4 股利分配政策\\6-4-1 结合各年度\n",
      "投行申报\\6 投资者保护调查\\6-4 股利分配政策\\6-4-2 最近三年股利分配政策\n",
      "投行申报\\6 投资者保护调查\\6-4 股利分配政策\\6-4-3 发行人关于股利分配情况的说明\n",
      "投行申报\\6 投资者保护调查\\6-4 股利分配政策\\6-4-4 发行人关于发行后股利分配政策的说明\n",
      "投行申报\\6 投资者保护调查\\6-4 股利分配政策\\6-4-5 股利分配相关三会文件\n",
      "投行申报\\6 投资者保护调查\\6-5 发行前滚存利润分配安排\n",
      "投行申报\\6 投资者保护调查\\6-6 股东投票机制的建立情况，包括采取累积投票制选举公司董事、监事，中小投资者单独计票机制，法定事项采取网络投票方式召开股东大会进行审议表决、征集投票权的相关安排等（如有）\n",
      "投行申报\\7 风险因素及其他重要事项调查\n",
      "投行申报\\7 风险因素及其他重要事项调查\\7-1 既往经营业绩发生重大变动或历次重大事件的相关资料\n",
      "投行申报\\7 风险因素及其他重要事项调查\\7-2 重大合同（包括已履行完毕但属于报告期内且对发行人有重要影响的合同）（对应招股书披露内容，已提供的部分合同可参见其他章节）\n",
      "投行申报\\7 风险因素及其他重要事项调查\\7-3 诉讼和担保情况\n",
      "投行申报\\7 风险因素及其他重要事项调查\\7-3 诉讼和担保情况\\7-3-1 目前尚未了结的诉讼与仲裁事项说明，与重大诉讼或仲裁事项相关的合同、协议，法院或仲裁机构受理的相关文件\n",
      "投行申报\\7 风险因素及其他重要事项调查\\7-3 诉讼和担保情况\\7-3-2 报告期内已经了结的诉讼和仲裁的相关资料\n",
      "投行申报\\7 风险因素及其他重要事项调查\\7-3 诉讼和担保情况\\7-3-3 所有为外部主体的担保（包括抵押、质押、保证等）合同、反担保合同\n",
      "投行申报\\7 风险因素及其他重要事项调查\\7-3 诉讼和担保情况\\7-3-4 对外担保的决策文件，被担保方基本情况及财务报表等资料，担保解除资料\n",
      "投行申报\\7 风险因素及其他重要事项调查\\7-3 诉讼和担保情况\\7-3-5 发行人对外担保情况清单及管理层对其完整性的书面声明\n",
      "投行申报\\7 风险因素及其他重要事项调查\\7-3 诉讼和担保情况\\7-3-6 发行人对外担保总额占其（合并及母公司）净资产\n",
      "投行申报\\7 风险因素及其他重要事项调查\\7-3 诉讼和担保情况\\7-3-7 发行人其他重大仲裁、诉讼及其他或有事项清单及有关事项的情况说明及管理层对其完整性的书面声明\n",
      "投行申报\\7 风险因素及其他重要事项调查\\7-4 评估价值\n",
      "投行申报\\7 风险因素及其他重要事项调查\\7-4 评估价值\\7-4-1 报告期外部股权融资情况说明\n",
      "投行申报\\7 风险因素及其他重要事项调查\\7-4 评估价值\\7-4-2 可比公司在境内外市场的估值情况相关资料\n",
      "投行申报\\7 风险因素及其他重要事项调查\\7-4 评估价值\\7-4-3 其他估值相关资料\n",
      "投行申报\\7 风险因素及其他重要事项调查\\7-5 发行人符合创业板定位的相关资料和说明\n",
      "投行申报\\7 风险因素及其他重要事项调查\\7-5 发行人符合创业板定位的相关资料和说明\\7-5-1 发行人是否属于《推荐暂行规定》中不支持申报的行业的核查\n",
      "投行申报\\7 风险因素及其他重要事项调查\\7-5 发行人符合创业板定位的相关资料和说明\\7-5-2 发行人是否具有发展更多依靠创新、创造、创意的特征的核查\n",
      "投行申报\\7 风险因素及其他重要事项调查\\7-5 发行人符合创业板定位的相关资料和说明\\7-5-3 发行人是否具有新技术、新产业、新业态、新模式等特征的核查\n",
      "投行申报\\7 风险因素及其他重要事项调查\\7-5 发行人符合创业板定位的相关资料和说明\\7-5-4 发行人技术先进性、竞争优势的核查\n",
      "投行申报\\7 风险因素及其他重要事项调查\\7-6 尚未盈利或存在累计未弥补亏损\n",
      "投行申报\\7 风险因素及其他重要事项调查\\7-6 尚未盈利或存在累计未弥补亏损\\7-6-1 说明尚未盈利或存在累计未弥补亏损的情形的成因\n",
      "投行申报\\7 风险因素及其他重要事项调查\\7-6 尚未盈利或存在累计未弥补亏损\\7-6-2 尚未盈利或存在累计未弥补亏损对公司现金流、业务拓展、人才吸引、团队稳定性、研发投入、战略性投入、生产经营可持续性等方面的影响\n",
      "投行申报\\8 与其他证券服务机构的协作\n",
      "投行申报\\8 与其他证券服务机构的协作\\8-1 其他证券服务机构及签字人员的业务资质\n",
      "投行申报\\8 与其他证券服务机构的协作\\8-2 对其他证券服务机构关于核查程序及取得的关键性证据、核查工作范围及核查结论等的访谈记录及其他相关复核过程资料\n",
      "投行申报\\8 与其他证券服务机构的协作\\8-3 对于其他证券服务机构专业意见以及报告中重大异常、前后重大矛盾、重大差异情形的核查说明及相关资料（包括重要事项的会计处理不符合行业惯例；含有重大无先例会计事项；专业意见与法律法规、监管规定、自律规则等要求或者行业惯例存在重大差异；专业意见所依赖的假设前提明显不合理、核查程序、核查工作范围等明显不合理等）（如有）\n",
      "投行申报\\8 与其他证券服务机构的协作\\8-4 执业中介机构营业执照复印件\n",
      "投行申报\\8 与其他证券服务机构的协作\\8-5 执业注册会计师\n",
      "投行申报\\8 与其他证券服务机构的协作\\8-5 执业注册会计师\\律师\n",
      "投行申报\\8 与其他证券服务机构的协作\\8-6 执业中介机构项目小组成员名单及简历（包括签字会计师\n",
      "投行申报\\8 与其他证券服务机构的协作\\8-7 执业中介机构及其项目小组成员（包括签字会计师\n",
      "投行申报\\8 与其他证券服务机构的协作\\8-8 执业中介机构项目小组成员独立性声明（包括签字会计师\n",
      "投行申报\\9 工作执行记录\n",
      "投行申报\\9 工作执行记录\\9-1 保荐机构项目人员配置情况，各人员从事的具体工作，以及相关人员在项目中发挥的作用的相关记录\n",
      "投行申报\\9 工作执行记录\\9-2 定期会议的会议资料以及会议记录\n",
      "投行申报\\9 工作执行记录\\9-3 重大事项的专题讨论会的会议资料及会议纪要\n",
      "投行申报\\9 工作执行记录\\9-4 按照证监会保荐业务管理相关规定制作的工作日志（请使用模板“项目工作日志.docx”）\n"
     ]
    }
   ],
   "source": [
    "tree(path)"
   ]
  },
  {
   "cell_type": "markdown",
   "id": "37f4e21d-d917-4f08-9be7-f033a2521f39",
   "metadata": {},
   "source": [
    "#### 存储递归中的内容"
   ]
  },
  {
   "cell_type": "code",
   "execution_count": 155,
   "id": "849e37be-edc6-40d6-b97e-13946d3f6681",
   "metadata": {},
   "outputs": [],
   "source": [
    "tree_list = []\n",
    "def tree(file_path, tree_list):\n",
    "    node_list = os.listdir(file_path)\n",
    "    if node_list != []: # 如果有子文件夹\n",
    "        for node in node_list:\n",
    "            node_path = os.path.join(file_path, node) # 拼接新目录\n",
    "            tree_list.append(node) # 本案例中每个目录的名称都唯一\n",
    "            # print(id(tree_list)) # 内存地址如一\n",
    "            tree(node_path, tree_list) # 递归调用\n",
    "tree(path, tree_list)"
   ]
  },
  {
   "cell_type": "code",
   "execution_count": 146,
   "id": "69b8fe43-36f7-48ac-9399-2f4736adfb6b",
   "metadata": {},
   "outputs": [
    {
     "data": {
      "text/plain": [
       "1823684693568"
      ]
     },
     "execution_count": 146,
     "metadata": {},
     "output_type": "execute_result"
    }
   ],
   "source": [
    "id(tree_list)"
   ]
  },
  {
   "cell_type": "code",
   "execution_count": 156,
   "id": "52c98982-1752-444a-b315-7ef9709f608a",
   "metadata": {
    "collapsed": true,
    "jupyter": {
     "outputs_hidden": true
    },
    "tags": []
   },
   "outputs": [
    {
     "data": {
      "text/plain": [
       "['1 发行人基本情况调查',\n",
       " '1-1 历史沿革情况',\n",
       " '1-1-1 发行人设立及历次工商变更登记文件，历次股权变动涉及的三会决议、股权转让协议或增减资协议、验资报告或出资证明、审计报告、评估报告、国有资产评估核准或备案文件、政府批准文件、股权转让或增资的作价依据、股权转让价款支付情况说明或支付凭证、缴税凭证、债权人同意文件、其他股东放弃优先购买权的承诺函等',\n",
       " '1-1-10 发行人境外控制架构设置的相关资料，涉及红筹架构形成及拆除的相关资料（如有）',\n",
       " '1-1-11 发行人成立时拥有的主要资产和业务情况的说明',\n",
       " '1-1-12 在其他证券市场的上市',\n",
       " '1-1-2 发起人、股东以非货币财产出资时，涉及的资产产权变更登记资料文件',\n",
       " '1-1-3 发行人是否存在出资瑕疵（出资不实、虚假出资、抽逃出资等）的情况说明及相关资料',\n",
       " '1-1-4 发行人历史上委托持股、信托持股、股权代持形成、演变和清理的相关资料',\n",
       " '1-1-5 发行人间接股东的相关核查资料',\n",
       " '1-1-6 发行人对其董事、监事、高级管理人员、其他核心人员、员工实行的股权激励（如员工持股计划、限制性股票、股票期权）及其他制度安排和执行情况（如有）',\n",
       " '1-1-7 发行人（包括下属公司）及其前身或红筹架构上的境内外实体（如有）在其他证券市场的上市',\n",
       " '1-1-8 发行人在其他证券市场挂牌',\n",
       " '1-1-9 发行人涉及境外私有化退市的相关资料（如有）',\n",
       " '1-10 董事、监事、高级管理人员及其他核心人员薪酬及兼职情况',\n",
       " '1-10-1 与薪酬情况相关的三会文件',\n",
       " '1-10-2 关于是否存在兼职情况的说明',\n",
       " '1-10-3 从关联方领取报酬以及享受其他待遇情况的说明',\n",
       " '1-11 报告期内董事、监事、高级管理人员及其他核心人员变动',\n",
       " '1-11-1 与报告期内上述人员变动相关的三会文件',\n",
       " '1-11-2 报告期内董事、监事、高级管理人员及其他核心人员变动情况的说明',\n",
       " '1-12 董事、监事、高级管理人员及其他核心人员持股及其他对外投资等情况',\n",
       " '1-12-1 董事、监事、高级管理人员及其他核心人员就持股及其他对外投资情况发出的声明文件',\n",
       " '1-12-2 董事、监事、高级管理人员及其他核心人员及其直系亲属是否存在自营或为他人经营与发行人同类业务的情况及声明文件',\n",
       " '1-12-3 董事、监事、高级管理人员及其他核心人员及其直系亲属是否存在与公司利益发生冲突的对外投资，是否存在重大债务负担及声明文件',\n",
       " '1-12-4 董事、监事、高级管理人员及其他核心人员是否涉及诉讼、是否有到期未偿还债务等情况的声明及相关资料',\n",
       " '1-13 员工情况',\n",
       " '1-13-1 关于员工人数及其变化、专业结构、受教育程度、年龄分布的说明',\n",
       " '1-13-10 劳务派遣',\n",
       " '1-13-11 发行人社会保险缴纳情况证明',\n",
       " '1-13-12 发行人主要参控股公司养老保险、医疗保险、住房公积金、失业保险、工伤保险、生育保险的费用缴纳凭证',\n",
       " '1-13-13 员工薪酬及奖励制度',\n",
       " '1-13-2 执行社会保障制度、住房制度改革、医疗制度改革情况的说明',\n",
       " '1-13-3 劳动合同样本、竞业禁止协议及保密协议样本（如有）',\n",
       " '1-13-4 社保相关费用缴纳凭证（抽查）',\n",
       " '1-13-5 公积金相关费用缴纳凭证（抽查）',\n",
       " '1-13-6 员工名单（请使用模板“员工花名册【表格】.xlsx”）、工资明细表',\n",
       " '1-13-7 发行人员工工资水平与所在地区平均水平或同行业上市公司平均水平之间是否存在显著差异及差异合理性的说明',\n",
       " '1-13-8 员工总数、工资总额、人均工资、人员结构、工资占成本、费用比例的波动分析，公司员工数量与薪资的匹配关系说明',\n",
       " '1-13-9 员工访谈记录',\n",
       " '1-2 企业改制与设立情况（国有企业、集体企业改制而来的或历史上存在挂靠集体组织经营的企业）',\n",
       " '1-2-1 上级主管部门同意改制的批复文件',\n",
       " '1-2-2 改制前原企业（或主要发起人）的审计报告及相关财务资料，资产清单以及对业务构成情况的说明',\n",
       " '1-2-3 发行人的改制重组方案，包括业务、资产、债务、人员等的重组安排',\n",
       " '1-2-4 改制时所做的专项审计报告、评估报告、验资报告等（1-1-1未包含部分）',\n",
       " '1-2-5 国企改制的相关人员安置方案的职代会审议文件',\n",
       " '1-2-6 国有资产评估的核准或备案文件、国有股权管理文件',\n",
       " '1-2-7 改制前原企业业务流程、改制后发行人业务流程，以及原企业和发行人业务流程间联系的说明',\n",
       " '1-3 内部职工股（如适用）',\n",
       " '1-3-1 审批文件、募股文件、缴款证明及验资报告',\n",
       " '1-3-2 历次转让文件、历年托管证明文件',\n",
       " '1-3-3 内部职工股发行中的违法违规情况，包括超范围、超比例，变相增加内部职工股数量、违规转让和交易、法人股个人化等相关资料',\n",
       " '1-3-4 内部职工股潜在问题、风险隐患及相关资料',\n",
       " '1-3-5 股份形成及演变的法律文件，包括相关的工商登记资料、三会文件（1-1-1未包含部分）',\n",
       " '1-3-6 内部职工股清理的决策文件、相关协议、价款支付凭证',\n",
       " '1-3-7 有权部门对发行人内部职工股托管情况及真实性的确认文件',\n",
       " '1-3-8 发行人成立以来历次内部职工股发行、转让前后的内部职工股持股人数及持股数量',\n",
       " '1-4 重大重组情况',\n",
       " '1-4-1 重大重组涉及的股东会',\n",
       " '1-4-2 重组协议',\n",
       " '1-4-3 政府批准文件',\n",
       " '1-4-4 重大重组涉及的审计报告、评估报告、中介机构专业意见、国有资产评估核准或备案文件',\n",
       " '1-4-5 重大重组涉及国有资产转让的，国有资产进场交易的文件',\n",
       " '1-4-6 债权人同意债务转移的相关文件、重组相关的对价支付凭证、税收缴纳凭证和资产过户文件',\n",
       " '1-4-7 重大重组对发行人业务、经营业绩、财务状况和管理层影响情况的说明',\n",
       " '1-5 发行人控股子公司和重要参股公司情况',\n",
       " '1-5-1 发行人报告期内控股子公司、重要参股公司的营业执照、公司章程、主营业务情况',\n",
       " '1-5-2 发行人报告期内控股子公司、重要参股公司的全部工商登记文件',\n",
       " '1-5-3 报告期内转让或受让控股子公司、对发行人有重大影响的参股公司股权的，相关决策性文件、审计报告、评估报告、股权转让协议及支付凭证（1-5-2未包含部分）',\n",
       " '1-5-4 发行人重要控股子公司、对发行人有重大影响的参股公司的主要其他合作方情况和相关资料',\n",
       " '1-5-5 发行人控股子公司、重要参股合营',\n",
       " '1-6 控股股东及实际控制人、发起人及股东情况',\n",
       " '1-6-1 发行人控股股东或实际控制人的组织结构（参控股子公司、职能部门设置）',\n",
       " '1-6-10 发行人股东中存在的契约型基金、信托计划、资产管理计划等“三类股东”相关资料',\n",
       " '1-6-11 股东是否存在违规入股、入股交易价格异常情形的说明',\n",
       " '1-6-12 发行人成立后主要发起人拥有的主要资产和实际从事业务情况的说明',\n",
       " '1-6-13 自然人发起人直接持股和间接持股的有关情况，及其在发行人的任职情况',\n",
       " '1-6-14 控股股东及实际控制人、发起人、主要股东及作为股东的董事、监事、高管人员做出的重要承诺及其履行情况的说明',\n",
       " '1-6-15 发行人关于全部股东名称、持股数量及比例、股份性质的说明',\n",
       " '1-6-2 控股股东及实际控制人、发起人及主要股东的基本情况调查表、营业执照、公司章程或合伙协议、工商登记资料、最近一年及一期的财务报表或审计报告',\n",
       " '1-6-3 控股股东及实际控制人、发起人及主要股东如为自然人的，应提供关于国籍、永久境外居留权、身份证号码、住所及简历的说明',\n",
       " '1-6-4 控股股东及实际控制人控制的其他企业的营业执照、公司章程、工商登记资料、最近一年及一期的财务报表或审计报告',\n",
       " '1-6-5 控股股东、实际控制人及主要股东持有发行人股份是否存在质押、冻结、其他权利限制或权属争议情况的说明及相关文件',\n",
       " '1-6-6 控股股东、实际控制人合法合规情况',\n",
       " '1-6-7 股东之间是否存在关联关系或一致行动关系的说明及相关协议，股东与发行人的董事、监事、高级管理人员之间以及股东与本次发行的中介机构及其负责人、高级管理人员、经办人员之间是否存在关联关系或其他利益关系情况的说明',\n",
       " '1-6-8 私募股权基金备案及管理人登记资料',\n",
       " '1-6-9 对赌协议及解除的相关资料',\n",
       " '1-7 董事、监事和高级管理人员任职情况和任职资格',\n",
       " '1-7-1 董事会、监事会、高级管理人员及其他核心人员的构成情况及职责',\n",
       " '1-7-2 董事、监事、高级管理人员及其他核心人员相互之间是否存在亲属关系的说明',\n",
       " '1-7-3 监管部门对于上述人员任职资格的批准或备案文件',\n",
       " '1-8 董事、监事和高级管理人员的经历及行为操守',\n",
       " '1-8-1 董事、监事、高级管理人员及其他核心人员简历、基本情况、关联关系调查表',\n",
       " '1-8-2 发行人关于董事、监事、高级管理人员及其他核心人员是否存在违规行为的说明，是否受到相关部门处罚或立案侦查、立案调查的情况',\n",
       " '1-8-4 发行人与董事、监事、高级管理人员及其他核心人员所签订的协议（包括劳动合同、保密协议、竞业禁止协议及其他对投资者做出价值判断和投资决策有重大影响的协议）以及履行情况',\n",
       " '1-9 董事、监事和高级管理人员胜任能力和勤勉尽责',\n",
       " '1-9-1 董事、监事、高级管理人员及其他核心人员最近三年曾担任高级管理人员的其他公司的规范运作情况以及该公司经营情况的说明文件',\n",
       " '1-9-2 董事、监事、高级管理人员及其他核心人员在发行人投入时间的说明以及相关的三会及总经理办公会纪要或记录',\n",
       " '1-9-3 董事、监事、高管人员及核心技术人员合规证明',\n",
       " '10 建议书与备忘录',\n",
       " '10-1 为发行人出具的项目建议书、改制方案及其他规范方案',\n",
       " '10-2 保荐机构就重大或专题事项出具的备忘录',\n",
       " '10-3 发行人律师就重大或专题事项出具的备忘录',\n",
       " '10-4 会计师就重大或专题事项出具的备忘录',\n",
       " '10-5 评估师就重大或专题事项出具的备忘录',\n",
       " '10-6 承销商律师就重大或专题事项出具的备忘录',\n",
       " '10-7 其他中介机构就重大或专题事项出具的备忘录',\n",
       " '10-8 本次发行的保荐机构及证券服务机构等作出的重要承诺',\n",
       " '2 业务与技术调查',\n",
       " '2-1 行业情况及竞争状况',\n",
       " '2-1-1 行业主管部门制定的发展规划、行业管理方面的法律法规及规范性文件',\n",
       " '2-1-2 行业研究资料、行业杂志、行业分析报告',\n",
       " '2-1-3 行业专家意见、行业协会意见',\n",
       " '2-1-4 国家有关产业政策及发展纲要',\n",
       " '2-1-5 通过公开渠道获得的主要竞争对手资料',\n",
       " '2-1-6 披露引用第三方数据的相关资料',\n",
       " '2-1-7 发行人的主要商业模式、销售模式和盈利模式情况介绍',\n",
       " '2-1-8 同行业比较情况',\n",
       " '2-2 销售情况',\n",
       " '2-2-1 行业和发行人销售模式的说明文件、发行人的销售定价原则',\n",
       " '2-2-10 董事、监事、高级管理人员和其他核心人员、主要关联方或持有发行人5%以上股份的股东在主要客户中所占权益的说明',\n",
       " '2-2-11 异常客户核查',\n",
       " '2-2-12 经销商、加盟商及终端客户核查情况（如有）',\n",
       " '2-2-13 销售业务执行情况',\n",
       " '2-2-2 发行人销售管理',\n",
       " '2-2-3 权威市场调研机构关于销售情况的报告',\n",
       " '2-2-4 主要产品的市场占有率的资料',\n",
       " '2-2-5 报告期按区域分布的销售记录',\n",
       " '2-2-6 主要客户核查情况',\n",
       " '2-2-7 发行人销售业务的抽查情况（单笔业务的销售订单、销售合同、发货通知、出库单、运输单据、签收',\n",
       " '2-2-8 报告期内销售退回的核查资料',\n",
       " '2-2-9 报告期产品返修率、客户诉讼和产品质量纠纷等方面的资料',\n",
       " '2-3 采购情况',\n",
       " '2-3-1 行业和发行人采购模式的说明文件',\n",
       " '2-3-10 发行人出具的关于采购来源以及价格稳定性的说明，及对主要供应商的行业地位和情况的介绍',\n",
       " '2-3-11 发行人供应商选择流程及相关文件样本；采购订单的生成和审批、执行流程及相关文件样本；库存管理制度及入库、出库相关流程、手续及相关文件样本',\n",
       " '2-3-12 采购付款测试（包含填列的模板“采购付款测试表.xlsx”及相应原始凭证）',\n",
       " '2-3-2 发行人采购管理',\n",
       " '2-3-3 与原材料、辅助材料以及能源动力供求相关的研究报告和统计资料',\n",
       " '2-3-4 主要供应商核查情况',\n",
       " '2-3-5 发行人采购业务的抽查情况（大额采购申请、采购合同、验收证明、入库凭证、采购发票、款项支付、审批程序及相应账务处理记录）',\n",
       " '2-3-6 董事、监事、高级管理人员和其他核心人员、主要关联方或持有发行人5%以上股份的股东在主要供应商中所占权益的说明',\n",
       " '2-3-7 异常供应商核查',\n",
       " '2-3-8 发行人报告期内采取外协、外包的情况',\n",
       " '2-3-9 发行人过往三年的采购情况以及成本变动分析',\n",
       " '2-4 生产情况',\n",
       " '2-4-1 行业和发行人生产模式的说明文件',\n",
       " '2-4-10 商标、专利、非专利技术、水面养殖权、探矿权、采矿权、版权、特许经营权等无形资产的清单及权属证明',\n",
       " '2-4-11 专利、非专利技术的用途介绍，形成核心技术和主营业务收入的专利情况相关资料',\n",
       " '2-4-12 业务许可资格或资质情况（包括但不限于生产经营许可证、高新技术企业证书、安全生产许可证、卫生许可证、排污许可证等）',\n",
       " '2-4-13 发行人资产抵押、质押或权利存在限制的情况及相关合同、证明文件、还款情况',\n",
       " '2-4-14 发行人关于是否存在和第三方共有资产情况的说明，及共有资产权属证明文件、协议等底稿（如有）',\n",
       " '2-4-15 关键设备、厂房等重要资产的保险合同或其他保障协定',\n",
       " '2-4-16 境外拥有资产的情况说明及重要境外资产的权属证明，境外律师出具的关于境外资产完整性的法律意见书（如有）',\n",
       " '2-4-17 产品质量和技术标准',\n",
       " '2-4-18 安全生产',\n",
       " '2-4-19 环境保护',\n",
       " '2-4-2 发行人主要产品及其功能、服务的用途介绍资料',\n",
       " '2-4-3 主要产品的工艺流程图或服务的流程图',\n",
       " '2-4-4 发行人关于生产工艺、技术在行业中领先程度的说明',\n",
       " '2-4-5 发行人生产工艺变动的相关资料及毛利率波动与工艺改进匹配关系说明',\n",
       " '2-4-6 主要产品的设计生产能力和报告期内历年产量有关资料',\n",
       " '2-4-7 房产、主要设备等资产的占有与使用情况',\n",
       " '2-4-8 发行人许可或被许可使用资产的情况',\n",
       " '2-4-9 正在建造或拟建造固定资产的相关审批、许可文件',\n",
       " '2-5 核心技术人员、技术与研发情况',\n",
       " '2-5-1 公司技术研发成果、在研项目、研发进展以及研发目标等相关资料',\n",
       " '2-5-10 公司技术先进性及其表征',\n",
       " '2-5-11 发行人的核心技术与专利权的对应关系，专利权属证明',\n",
       " '2-5-12 发行人的核心技术在主营业务及产品或服务中的应用和贡献情况相关底稿',\n",
       " '2-5-13 发行人正在从事的研发项目核查',\n",
       " '2-5-14 报告期内核心技术人员的主要变动情况及对发行人的影响，离职流程、入职申请等',\n",
       " '2-5-15 研发费用与对应研发项目的整体预算、费用支出金额、实施进度等情况',\n",
       " '2-5-2 技术许可协议、技术合作协议',\n",
       " '2-5-3 核心技术产品（服务）收入的主要内容、核算方法及合理性分析资料',\n",
       " '2-5-4 核心技术人员的认定依据及相关资料',\n",
       " '2-5-5 核心技术人员的学历、专业资质及重要科研成果和获得奖项等资料',\n",
       " '2-5-6 发行人对核心技术人员实施的约束激励措施，报告期内核心技术人员对公司研发的具体贡献、主要变动情况及对发行人的影响的说明',\n",
       " '2-5-7 公司研发部门组织架构及职能说明，研发体制及激励制度等资料',\n",
       " '2-5-8 与非专利技术相关的保密制度及其与核心技术人员签订的保密协议',\n",
       " '2-5-9 核心技术的取得及使用是否存在纠纷或潜在纠纷及侵犯他人知识产权的情形的说明（包括但不限于访谈、互联网搜索等）',\n",
       " '3 公司治理与独立性调查',\n",
       " '3-1 公司章程及其规范运行情况',\n",
       " '3-1-1 与公司章程历次修改相关的三会文件、公司章程进行工商变更登记或备案的资料',\n",
       " '3-1-2 发行人就其三年内是否存在违法违规行为的书面声明',\n",
       " '3-1-3 发行人特别表决权股份或类似安排的相关资料',\n",
       " '3-10 独立情况',\n",
       " '3-10-1 发行人关于资产完整情况的说明',\n",
       " '3-10-10 发行人部分资产来自于上市公司的独立性核查',\n",
       " '3-10-2 资产是否存在被控股股东、其他关联方控制或占用情况的说明（资金占用见3-12-7）',\n",
       " '3-10-3 控股股东、实际控制人与发行人从事的主要业务与拥有的资产情况',\n",
       " '3-10-4 如存在业务交叉，相互占用资产、资源的情况，要特别说明解决措施和效果',\n",
       " '3-10-5 控股股东、实际控制人与发行人的财务部门的设置以及独立运作情况',\n",
       " '3-10-6 控股股东、实际控制人与发行人的采购、销售部门的设置及各自运作情况',\n",
       " '3-10-7 控股股东、实际控制人与发行人的银行账户开设及独立运作情况',\n",
       " '3-10-8 发行人关于人员独立情况的说明',\n",
       " '3-10-9 发行人控股股东、实际控制人关于保持发行人资产、人员、财务、机构和业务独立的承诺',\n",
       " '3-11 同业竞争情况',\n",
       " '3-11-1 发行人、控股股东或实际控制人（如控股股东、实际控制人为自然人，应包含亲属）及其控制的企业主营业务情况的说明',\n",
       " '3-11-2 解除同业竞争的相关资料（如有）',\n",
       " '3-11-3 控股股东或实际控制人关于避免同业竞争的承诺函',\n",
       " '3-11-4 关于不属于重大不利影响同业竞争的说明（如有）',\n",
       " '3-12 关联方及关联交易情况',\n",
       " '3-12-1 关联方资料',\n",
       " '3-12-10 经常性和偶发性关联交易及其对发行人长期持续运营的影响',\n",
       " '3-12-11 与关联交易相关的同类交易的市场价格数据，以及交易价格比较分析',\n",
       " '3-12-12 发行人关于减少和规范关联交易的措施说明',\n",
       " '3-12-13 发行人报告期内关联方注销及非关联化情况',\n",
       " '3-12-14 关于是否存在尚未识别的关联方及其交易的核查情况',\n",
       " '3-12-2 关联交易管理制度',\n",
       " '3-12-3 与关联交易相关的会议资料',\n",
       " '3-12-4 发行人高级管理人员及其他核心人员是否在关联方单位任职、领取薪酬的情况说明',\n",
       " '3-12-5 与关联交易相关的独立董事意见',\n",
       " '3-12-6 发行人与关联方发生的关联交易情况',\n",
       " '3-12-7 关联方资金占用情况',\n",
       " '3-12-8 关联交易相关的应收、应付款项占发行人应收、应付款项的比例',\n",
       " '3-12-9 关联交易必要性、持续性、真实性的说明，发行人是否利用与关联方或其他利益相关方的交易实现报告期收入的增长',\n",
       " '3-2 组织结构和三会运作情况',\n",
       " '3-2-1 组织结构（含参、控股子公司）及关于部门职能描述的文件',\n",
       " '3-2-2 公司治理制度规定，包括三会议事规则、董事会专门委员会议事规则、董事会秘书制度、总经理工作制度、内部审计制度等文件资料',\n",
       " '3-2-3 报告期内历次三会的会议文件，包括书面通知、会议记录、会议决议等',\n",
       " '3-2-4 审计委员会的运行情况',\n",
       " '3-2-5 发行人协议控制架构的具体情况，包括协议控制架构涉及的各方法律主体的基本情况、主要合同等（如有）',\n",
       " '3-2-6 结合对上述文件的审阅，对发行人组织机构及三会运作情况调查了解工作的有关记录和评价结论',\n",
       " '3-3 独立董事制度及其执行情况',\n",
       " '3-3-1 独立董事简历及任职资格说明',\n",
       " '3-3-2 独立董事制度',\n",
       " '3-3-3 独立董事发表的意见',\n",
       " '3-3-4 结合对上述文件的审阅，对发行人独立董事制度调查了解工作的有关记录和评价结论',\n",
       " '3-4 内部控制环境',\n",
       " '3-4-1 有助分析发行人内部控制环境的董事会、总经理办公会等会议记录',\n",
       " '3-4-2 各项业务及管理规章制度及汇总表（包括但不限于对外投资、对外担保、关联交易、委托理财、重大投资等，如有）',\n",
       " '3-4-3 公司管理层对内部控制完整性、合理性及有效性的自我评估',\n",
       " '3-4-4 注册会计师对内部控制的鉴证意见',\n",
       " '3-4-5 注册会计师关于内部控制的整改建议及企业的整改措施',\n",
       " '3-4-6 结合对上述文件的审阅，对发行人内部控制环境了解工作的有关记录和评价结论',\n",
       " '3-5 业务控制',\n",
       " '3-5-1 发行人关于各类业务的控制标准、控制措施的相关制度规定',\n",
       " '3-5-2 发行人因违反工商、税务、审计、环保、劳动保护等部门的相关规定而受到处罚的情况',\n",
       " '3-5-3 发行人已发现的由于风险控制不力导致的损失事件的情况说明',\n",
       " '3-6 信息系统控制',\n",
       " '3-6-1 信息系统控制相关的业务规章制度',\n",
       " '3-6-2 发行人信息管理系统用户权限设置情况表',\n",
       " '3-6-3 信息系统管理内部控制调查中发现的问题、整改建议及发行人整改请况',\n",
       " '3-6-4 对发行人信息系统管理内部控制的有效性评价及其依据',\n",
       " '3-7 会计管理控制',\n",
       " '3-7-1 会计管理制度、会计报告制度及其他相关会计制度',\n",
       " '3-7-2 发行人财务部岗位设置和人员配备',\n",
       " '3-7-3 关于会计档案管理的说明及相关资料',\n",
       " '3-7-4 关于报告期内未采用财务管理电算化系统的情况说明',\n",
       " '3-7-5 关于报告期内财务总监或会计负责人离职及上述人员任职期间对财务数据提出异议的情况说明及资料',\n",
       " '3-7-6 各级财务会计人员简历及专业资质',\n",
       " '3-7-7 财务会计管理内部控制流程调查中发现的问题、整改建议及发行人整改状况',\n",
       " '3-7-8 对发行人财务会计管理内部控制的有效性评价及其依据',\n",
       " '3-8 内部控制的监督',\n",
       " '3-8-1 内部审计报告、监事会报告',\n",
       " '3-8-2 发行人内部审计稽核部门设置情况及相关内部审计制度',\n",
       " '3-9 商业信用情况',\n",
       " '3-9-1 市场监督管理、税务、海关、土地管理、环保、应急管理、人社、司法、银行等机构的调查反馈文件（如需要），境外律师出具的关于境外子公司合法合规性的法律意见书（如需要）',\n",
       " '3-9-2 行业监管机构的监管记录和处罚文件',\n",
       " '3-9-3 针对发行人进行的网络搜索情况，包括登录相关网站（如各类政府机关网站，包括市场监督管理、税务、海关、土地管理、环保、应急管理、人社、司法等机构）或其他搜索网站（如中国人民银行征信系统、国家企业信用信息公示系统、中国执行信息公开网、中国裁判文书网等公共信息系统等）查询发行人是否存在违法违规情况，或因其他不诚信行为被媒体报道的情况',\n",
       " '3-9-4 主要银行给予发行人的授信额度',\n",
       " '3-9-5 发行人获得的主要荣誉和奖励',\n",
       " '4 财务与会计调查',\n",
       " '4-1 财务报告及相关财务资料',\n",
       " '4-1-1 最近三年及一期经审计的财务报告及原始财务报表',\n",
       " '4-1-2 最近三年及一期原始财务报表与申报财务报表差异比较表及差异原因分析说明',\n",
       " '4-1-3 下属子公司最近三年及一期经审计的财务报告或原始财务报表',\n",
       " '4-1-4 披露的参股公司最近一年及一期的财务报告及审计报告',\n",
       " '4-1-5 如发行人最近一年及一期内收购兼并其他企业资产（或股权），且被收购企业资产总额或营业收入或净利润超过收购前发行人相应项目20%（含20%），需要被收购企业收购前一年的财务报表并核查其财务状况',\n",
       " '4-1-6 董事会和监事会对非标准审计报告涉及事项处理情况的说明',\n",
       " '4-1-7 境内外报表差异调节表（如有）',\n",
       " '4-1-8 与财务会计信息相关的重大事项或重要性水平的判断标准证明文件',\n",
       " '4-10 存货',\n",
       " '4-10-1 存货明细表、货龄分析表、存货构成相关资料及产量、销量与存货数量匹配关系说明（包含填列的模板“存货库龄分析表.xlsx”）',\n",
       " '4-10-2 发行人存货管理制度执行情况的抽查记录，发行人存货盘点制度的建立和报告期实际执行情况',\n",
       " '4-10-3 会计师关于发行人的存货监盘计划以及存货监盘情况',\n",
       " '4-10-4 保荐机构随同会计师参与存货监盘或复核会计师存货监盘的工作记录（如存在需要倒扎的情况，应包含填列的模板“存货抽盘倒轧表.xlsx”）',\n",
       " '4-10-5 存货跌价准备计提政策和存货跌价准备计提表（如发行人期末存货余额较大，周转率较低，应结合其业务模式、市场竞争情况和行业发展趋势等因素披露原因，同时分析并披露发行人的存货减值风险）（包含填列的模板“存货跌价准备计提复核表.xlsx”）',\n",
       " '4-10-6 发行人关于存货期末余额较大的原因以及是否充分计提存货跌价准备的说明、报告期各期末发出商品是否存在异常变动及其原因分析',\n",
       " '4-10-7 发行人存货的真实性，是否存在将本应计入当期成本费用的支出混入存货项目以达到少计当期成本费用的情况说明',\n",
       " '4-10-8 异地存放、盘点过程存在特殊困难或由第三方保管或控制的存货的盘存方法以及履行的替代盘点程序',\n",
       " '4-10-9 存货周转率明显异于同行业水平的原因分析及合理性说明',\n",
       " '4-11 重要的对外投资（合并范围内的子公司除外）',\n",
       " '4-11-1 被投资公司的营业执照',\n",
       " '4-11-10 期末金额较大的交易性金融资产、可供出售金融资产、借与他人款项、委托理财等财务投资的核查资料（4-10-1至4-10-9未包含部分）',\n",
       " '4-11-11 发行人各报告期对外投资的明细清单，包括投资项目、投资类型（债权投资',\n",
       " '4-11-2 被投资公司报告期的财务报告',\n",
       " '4-11-3 投资协议',\n",
       " '4-11-4 报告期发行人购买或出售被投资公司股权时的财务报告、审计报告及评估报告',\n",
       " '4-11-5 重大委托理财的相关合同',\n",
       " '4-11-6 购买衍生产品的明细表及合同，持有衍生产品的品种、规模是否与发行人正常的生产经营需求相匹配的说明',\n",
       " '4-11-7 重大项目的投资合同',\n",
       " '4-11-8 发行人内部关于对外投资的批准文件',\n",
       " '4-11-9 长期股权投资减值准备计提的相关资料，及关于合理性和充分性的相关资料',\n",
       " '4-12 固定资产、在建工程',\n",
       " '4-12-1 固定资产明细表、固定资产折旧明细表和减值准备明细表',\n",
       " '4-12-10 在建工程施工合同或预算资料',\n",
       " '4-12-11 购建在建工程履行的审批程序',\n",
       " '4-12-12 结合固定资产成本规模、残值率和折旧年限对报告期固定资产折旧费用的合理性分析，并核查其与同期生产成本和期间费用中折旧项目金额的一致性',\n",
       " '4-12-13 报告期如存在大额在建工程转入固定资产的，应说明其内容、依据及影响，尚未完工交付项目预计未来转入固定资产的时间与条件；固定资产与在建工程是否存在重大减值因素；需要提供具体的明细台账',\n",
       " '4-12-2 固定资产的计价政策、折旧政策、使用年限和残值率',\n",
       " '4-12-3 固定资产实地查看记录',\n",
       " '4-12-4 购建与处置固定资产的入账凭证及附件抽样记录',\n",
       " '4-12-5 固定资产成新率及是否面临淘汰、更新、大修、技术升级等分析',\n",
       " '4-12-6 有关固定资产的会计制度及减值准备计提充分的说明',\n",
       " '4-12-7 购建、处置固定资产等履行的审批程序',\n",
       " '4-12-8 在建工程明细表、减值准备明细表、原始凭证及实地查看记录',\n",
       " '4-12-9 在建工程转固列表及折旧计提情况（转固时间、转固依据、各项在建工程转固证据文件等）',\n",
       " '4-13 无形资产、开发支出',\n",
       " '4-13-1 无形资产摊销和减值情况',\n",
       " '4-13-2 无形资产、开发支出明细表（开发支出明细表请使用模板“开发支出分析表.xlsx”）',\n",
       " '4-13-3 无形资产、开发支出的会计政策',\n",
       " '4-13-4 公司主要无形资产的取得方式、入账价值及依据',\n",
       " '4-13-5 处置无形资产的审批程序',\n",
       " '4-13-6 无形资产减值准备计提方法、减值准备明细表',\n",
       " '4-13-7 无形资产减值准备计提履行的审批程序',\n",
       " '4-14 商誉',\n",
       " '4-14-1 商誉明细表，商誉形成的基础资料及形成原因',\n",
       " '4-14-2 增减变动与减值测试依据等情况，管理层关于商誉减值测试情况说明',\n",
       " '4-15 投资性房地产',\n",
       " '4-15-1 投资性房地产明细表',\n",
       " '4-15-2 投资性房地产种类和计量模式',\n",
       " '4-15-3 投资性房地产折旧明细表',\n",
       " '4-15-4 投资性房地产减值计提的说明及相关材料',\n",
       " '4-15-5 公允价值计量模式特别核查',\n",
       " '4-16 主要债务',\n",
       " '4-16-1 应付账款明细表（含款项性质及账龄）及相关核查资料',\n",
       " '4-16-10 可预见的未来需偿还的负债金额及利息金额，重点说明未来 12 个月内的情况，结合现金流、融资能力与渠道等情况，公司偿债能力的证明材料',\n",
       " '4-16-2 应付票据',\n",
       " '4-16-3 银行借款明细表及银行借款合同、委托贷款合同等相关资料',\n",
       " '4-16-4 预计负债的明细表及其相关协议、估计依据、访谈记录等相关资料',\n",
       " '4-16-5 其他应付款明细表（含款项性质及账龄）及相关核查资料',\n",
       " '4-16-6 其他大额负债明细表及相关核查资料',\n",
       " '4-16-7 一年内到期的长期借款清单，包括债权人（具体到分支行）、本金、起止期限、利率、抵押',\n",
       " '4-16-8 存在逾期负债的，提供逾期负债金额统计表，核查逾期的原因及后续偿还措施，取得相关证明文件',\n",
       " '4-16-9 最近一期末银行借款、关联方借款、合同承诺债务、或有负债等主要债项的金额、期限、利率及利息费用等情况',\n",
       " '4-17 现金流量',\n",
       " '4-17-1 现金流量表与利润表、资产负债表勾稽记录、具体项目波动分析相关资料',\n",
       " '4-17-2 现金流量与利润表、资产负债表主要数据不匹配的原因及相关资料',\n",
       " '4-17-3 报告期末的重大资本性支出决议以及未来其他可预见的重大资本性支出计划、资金需求量的证明材料',\n",
       " '4-17-4 资本性支出涉及跨行业投资，其与公司未来发展战略关系的证明资料，资金缺口的解决措施资料',\n",
       " '4-17-5 结合长短期债务配置期限、影响现金流量的重要事件或承诺事项以及风险管理政策，说明发行人的流动性已经或可能产生的重大变化或风险趋势、论证相关措施有效性的支持性材料',\n",
       " '4-18 合并报表的范围',\n",
       " '4-18-1 合并范围列表及确定依据',\n",
       " '4-18-2 报告期内合并范围变动情况及原因',\n",
       " '4-19 纳税情况',\n",
       " '4-19-1 报告期内发行人及其控股子公司主要适用税种及税率说明',\n",
       " '4-19-2 报告期的年度纳税申报表',\n",
       " '4-19-3 关于税务争议、滞纳金缴纳、以及重大关税纠纷的详细情况以及有关文件及信函',\n",
       " '4-19-4 公司及各控股子公司的完税证明或税收缴款书、纳税凭证（抽查）',\n",
       " '4-19-5 发行人享有税收优惠情况',\n",
       " '4-19-6 报告期内产品出口退税税率变动情况及相关文件',\n",
       " '4-19-7 发行人及各控股子公司前三个会计年度各类应交税金余额变动情况表',\n",
       " '4-19-8 发行人及各控股子公司前三个会计年度主要税种计提金额的合理性测试工作底稿',\n",
       " '4-19-9 当地税务部门出具的关于发行人报告期内纳税情况的证明文件',\n",
       " '4-2 会计政策、会计估计及会计差错更正',\n",
       " '4-2-1 发行人会计政策、会计估计',\n",
       " '4-2-2 同行业会计政策和会计估计比较情况，与同行业存在较大差异的原因分析',\n",
       " '4-2-3 会计政策和会计估计变动相关资料（如有）',\n",
       " '4-2-4 会计政策和会计估计变更对公司经营业绩影响的说明',\n",
       " '4-2-5 报告期内重大会计差错更正情况及相关资料',\n",
       " '4-2-6 重大会计差错更正的审议程序、会议材料等',\n",
       " '4-20 盈利预测',\n",
       " '4-20-1 盈利预测报告',\n",
       " '4-20-2 盈利预测的依据资料',\n",
       " '4-20-3 对发行人及其控股子公司盈利预测所依据的假设的合理性评价备忘录及',\n",
       " '4-21 发行人关于股份支付会计处理的说明及相关底稿',\n",
       " '4-22 其他科目异常情况核查',\n",
       " '4-22-1 其他会计科目异常变动情况的说明',\n",
       " '4-22-2 其他财务异常情况的核查说明（如推迟广告投入和其他减少销售费用的情形；短期降低员工工资的情形；引进临时客户增加收入利润的情形）',\n",
       " '4-22-3 其他可能导致公司财务信息披露失真、粉饰业绩或财务造假的情况',\n",
       " '4-23 报告期内发行人主要财务指标情况表',\n",
       " '4-24 历次验资报告',\n",
       " '4-25 相关银行账户资金流水',\n",
       " '4-25-1 控股股东、实际控制人的银行账户流水核查，个人账户大额资金往来较多且无合理解释，或者频繁出现大额存现、取现情形的请重点截图上传',\n",
       " '4-25-10 控股股东、实际控制人、董事、监事、高管、关键岗位人员是否从发行人获得大额现金分红款、薪酬或资产转让款、转让发行人股权获得大额股权转让款，主要资金流向或用途数据核查情况上传',\n",
       " '4-25-11 控股股东、实际控制人、董事、监事、高管、关键岗位人员与发行人关联方、客户、供应商之间异常大额资金往来的核查',\n",
       " '4-25-12 是否存在关联方代发行人收取客户款项或支付供应商款项的核查',\n",
       " '4-25-2 发行人主要关联方的银行账户流水核查',\n",
       " '4-25-3 发行人董事的银行账户流水核查',\n",
       " '4-25-4 发行人监事的银行账户流水核查',\n",
       " '4-25-5 发行人高管的银行账户流水核查',\n",
       " '4-25-6 发行人关键岗位人员的银行账户流水核查',\n",
       " '4-25-7 发行人大额资金往来是否存在重大异常核查，是否与公司经营活动、资产购置、对外投资等不相匹配',\n",
       " '4-25-8 发行人相关账户大额取现的情况核查',\n",
       " '4-25-9 发行人同一账户或不同账户之间，是否存在金额、日期相近的异常大额资金进出的情形，存在请截图',\n",
       " '4-3 有关评估报告',\n",
       " '4-3-1 公司设立时（含有限责任公司改制期间）及报告期内历次资产评估报告',\n",
       " '4-3-2 公司设立时（含有限责任公司改制期间）及报告期内历次土地评估报告',\n",
       " '4-3-3 其他评估报告（矿产、房地产开发存货等）',\n",
       " '4-4 销售收入',\n",
       " '4-4-1 发行人收入的确认政策、产品构成、地域构成、销售模式构成及其变动情况的详细资料',\n",
       " '4-4-10 发行人异常交易核查情况',\n",
       " '4-4-11 产销量或合同订单完成量等业务执行数据与财务确认数据的一致性',\n",
       " '4-4-12 电商、互联网信息服务、互联网营销企业',\n",
       " '4-4-13 单一大客户核查',\n",
       " '4-4-2 发行人报告期内主要产品或服务价格变动的资料及原因分析及相关资料，变动趋势与市场上相同或相近产品或服务的信息及其走势相比是否存在显著异常',\n",
       " '4-4-3 发行人报告期主要产品或服务的销量变化资料及原因，变动趋势与市场上相同或相近产品或服务的信息及其走势相比是否存在显著异常',\n",
       " '4-4-4 收入真实性的核查',\n",
       " '4-4-5 收入截止性测试情况，会计期末是否存在突击确认销售以及期后是否存在大量销售退回的情况，会计期末销售收入异常增长情况的收入确认凭证',\n",
       " '4-4-6 境外销售核查情况',\n",
       " '4-4-7 网络销售的真实性核查情况',\n",
       " '4-4-8 第三方回款的核查资料，包括但不限于采购方与回款方的关系说明、付款凭证等',\n",
       " '4-4-9 发行人存在特殊交易模式或创新交易模式的核查情况',\n",
       " '4-5 营业成本与销售毛利',\n",
       " '4-5-1 成本、毛利、毛利率明细表',\n",
       " '4-5-2 成本真实性的核查',\n",
       " '4-5-3 业绩增长及毛利率变动真实性的核查',\n",
       " '4-6 期间费用',\n",
       " '4-6-1 销售费用情况',\n",
       " '4-6-2 管理费用情况',\n",
       " '4-6-3 研发费用情况',\n",
       " '4-6-4 财务费用情况',\n",
       " '4-6-5 广告费明细表（广告费占比销售费用超过30%需编制）（请使用模板“广告费明细表.xlsx”）、销售部门获取报告期各项营销推广活动清单',\n",
       " '4-6-6 工资薪金单、工资薪金表（请使用模板“ 工资薪金分析表.xlsx”）',\n",
       " '4-6-7 费用截止性测试，判断是否存在费用核算跨期问题（包含填列的模板“费用跨期测试表.xlsx”及相关原始凭证）',\n",
       " '4-7 政府补助、非经常性损益',\n",
       " '4-7-1 政府补助',\n",
       " '4-7-2 非经常性损益',\n",
       " '4-8 货币资金',\n",
       " '4-8-1 报告期内银行账户开户清单（含注销账户）及企业信用报告（含子公司）',\n",
       " '4-8-2 报告期内账户银行对账单（详式）、各期末余额调节表、相关函证资料或复核会计函证资料的工作记录',\n",
       " '4-8-3 异常、巨额资金流转情况资料、发生背景说明及会计处理',\n",
       " '4-8-4 现金收付交易核查情况',\n",
       " '4-8-5 关于发行人与控股股东或其他关联方设立联合或共管账户、在控股股东控制的财务公司开设银行账户或参与资金池业务的说明及相关资料（如有）',\n",
       " '4-8-6 发行人利用员工账户或其他个人账户进行货款收支及款项往来情况、相应整改措施的说明',\n",
       " '4-8-7 其他应收款员工备用金月末余额变动表及其合理性分析',\n",
       " '4-8-8 报告期内银行日记账',\n",
       " '4-9 应收款项、合同资产',\n",
       " '4-9-1 应收账款、应收票据明细表、账龄分析表、坏账准备明细表及应收账款余额的变动情况分析',\n",
       " '4-9-10 报告期内发行人应收账款主要客户与发行人主要客户是否匹配的说明',\n",
       " '4-9-11 新增客户的应收账款金额与其营业收入是否匹配的说明',\n",
       " '4-9-12 大额应收账款是否能够按期收回以及期末收到的销售款项是否存在期后不正常流出的情况说明',\n",
       " '4-9-13 应收账款周转率明显异于同行业水平的原因分析及合理性说明',\n",
       " '4-9-2 合同资产明细表及符合会计准则规定的说明',\n",
       " '4-9-3 应收票据背书、贴现明细表及相关资料',\n",
       " '4-9-4 主要债务人及主要逾期债务人名单',\n",
       " '4-9-5 与应收款项相关的销售合同',\n",
       " '4-9-6 应收持发行人5％及以上表决权股份的股东账款情况',\n",
       " '4-9-7 应收账款的期后回收情况、报告期各期主要客户信用政策的变化情况以及对超出信用政策的大额应收账款的分析',\n",
       " '4-9-8 发行人与同行业其他公司应收账款坏账准备计提政策列表和坏账准备计提比例表',\n",
       " '4-9-9 往来款（预付账款、其他应收款）是否异常核查情况',\n",
       " '5 募集资金运用情况和业务发展目标调查',\n",
       " '5-1 前次募集资金使用情况（如有）',\n",
       " '5-1-1 发行人关于历次募集资金运用情况的说明',\n",
       " '5-1-2 募集资金相关的会计师专项报告以及募集资金运用项目的核算资料',\n",
       " '5-1-3 历次募集资金投向变更的相关决策文件，变更后项目的核准或备案文件',\n",
       " '5-1-4 历次募集资金的验资报告',\n",
       " '5-2 本次募集资金运用的相关资料',\n",
       " '5-2-1 可行性研究报告',\n",
       " '5-2-10 发行人关于募集资金运用对财务状况及经营成果影响的详细分析',\n",
       " '5-2-11 募集资金投向产生的关联交易',\n",
       " '5-2-2 关于本次募集资金运用的股东大会、董事会的议案、决议和会议纪要',\n",
       " '5-2-3 涉及本次募集资金项目有关主管部门的批复或相关核准或备案文件',\n",
       " '5-2-4 本次募集资金投向涉及安全、环保等需相关政府部门出具的批复',\n",
       " '5-2-5 募集资金运用涉及新取得土地或房产的，取得方式、进展情况及未能如期取得对募集资金具体用途的影响的相关说明',\n",
       " '5-2-6 募集资金运用涉及收购资产的相关资料',\n",
       " '5-2-7 募集资金运用涉及与他人合作的，合作方基本情况、合作方式、各方权利义务关系的说明',\n",
       " '5-2-8 募集资金用于研发投入、科技创新、新产品开发生产的，具体安排及其与发行人现有主要业务、核心技术之间关系的说明',\n",
       " '5-2-9 募集资金用于新增产能的，产能消化能力与市场前景的说明',\n",
       " '5-3 募集资金投向产生的关联交易',\n",
       " '5-3-1 募集资金投向涉及与关联方合资或与关联方发生交易的，相关关联方资料',\n",
       " '5-3-2 募集资金向实际控制人、控股股东及其关联方收购资产，说明定价公允性、收购必要性，如果对被收购资产有效益承诺的，效益无法完成时的补偿责任的说明',\n",
       " '5-4 发展战略',\n",
       " '5-4-1 中长期发展战略规划资料',\n",
       " '5-4-2 战略委员会会议纪要',\n",
       " '5-4-3 独立董事意见',\n",
       " '5-4-4 历年发展计划及年度报告',\n",
       " '5-5 业务发展目标',\n",
       " '5-5-1 未来二至三年的发展计划',\n",
       " '5-5-2 业务发展目标相关文件',\n",
       " '5-5-3 制定业务发展目标的依据性文件',\n",
       " '5-5-4 业务发展目标与现有业务的关系说明',\n",
       " '5-5-5 募集资金投向与业务发展目标的关系说明',\n",
       " '5-6 关于募集资金管理的相关制度',\n",
       " '6 投资者保护调查',\n",
       " '6-1 保护投资者合法权益规定的各项措施',\n",
       " '6-1-1 投资者关系的主要安排，包括信息披露制度和流程、投资者沟通渠道的建立情况以及未来开展投资者关系管理的规划等',\n",
       " '6-1-2 发行人自设立以来存在特别表决权股份、协议控制架构或类似特殊安排的，获取相关股东及持股情况、表决机制和实际运行情况等资料（部分内容可参见3-1-3和3-2-5）',\n",
       " '6-1-3 特别表决权股份、协议控制架构或类似特殊安排，尚未盈利或存在累计未弥补亏损的，落实保护投资者合法权益规定的各项措施（如有）',\n",
       " '6-1-4 发行人境外注册地法律制度及章程条款与境内制度的差异及对投资者保护的影响说明和相关资料',\n",
       " '6-1-5 发行人如为控股型公司的，主要控股子公司的章程和财务管理制度中关于利润分配的规定，及外汇管制、注册地法规等方面对利润分配的具体影响说明和相关资料',\n",
       " '6-2 承诺事项履行情况',\n",
       " '6-2-1 本次发行前股东所持股份的限售安排、自愿锁定股份、延长锁定期限以及相关股东持股及减持意向等承诺',\n",
       " '6-2-2 稳定股价的措施和承诺',\n",
       " '6-2-3 股份回购和股份买回的措施和承诺',\n",
       " '6-2-4 对欺诈发行上市的股份回购和股份买回承诺',\n",
       " '6-2-5 填补被摊薄即期回报的措施及承诺',\n",
       " '6-2-6 利润分配政策的承诺',\n",
       " '6-2-7 依法承担赔偿责任的承诺',\n",
       " '6-2-8 其他承诺事项',\n",
       " '6-2-9 控股股东及实际控制人、发起人、主要股东及董事、监事、高级管理人员未能履行承诺的约束措施',\n",
       " '6-3 信息披露制度的建设和执行情况',\n",
       " '6-3-1 信息披露制度',\n",
       " '6-3-2 投资者关系部门组织架构',\n",
       " '6-3-3 未来开展投资者关系管理的规划',\n",
       " '6-4 股利分配政策',\n",
       " '6-4-1 结合各年度',\n",
       " '6-4-2 最近三年股利分配政策',\n",
       " '6-4-3 发行人关于股利分配情况的说明',\n",
       " '6-4-4 发行人关于发行后股利分配政策的说明',\n",
       " '6-4-5 股利分配相关三会文件',\n",
       " '6-5 发行前滚存利润分配安排',\n",
       " '6-6 股东投票机制的建立情况，包括采取累积投票制选举公司董事、监事，中小投资者单独计票机制，法定事项采取网络投票方式召开股东大会进行审议表决、征集投票权的相关安排等（如有）',\n",
       " '7 风险因素及其他重要事项调查',\n",
       " '7-1 既往经营业绩发生重大变动或历次重大事件的相关资料',\n",
       " '7-2 重大合同（包括已履行完毕但属于报告期内且对发行人有重要影响的合同）（对应招股书披露内容，已提供的部分合同可参见其他章节）',\n",
       " '7-3 诉讼和担保情况',\n",
       " '7-3-1 目前尚未了结的诉讼与仲裁事项说明，与重大诉讼或仲裁事项相关的合同、协议，法院或仲裁机构受理的相关文件',\n",
       " '7-3-2 报告期内已经了结的诉讼和仲裁的相关资料',\n",
       " '7-3-3 所有为外部主体的担保（包括抵押、质押、保证等）合同、反担保合同',\n",
       " '7-3-4 对外担保的决策文件，被担保方基本情况及财务报表等资料，担保解除资料',\n",
       " '7-3-5 发行人对外担保情况清单及管理层对其完整性的书面声明',\n",
       " '7-3-6 发行人对外担保总额占其（合并及母公司）净资产',\n",
       " '7-3-7 发行人其他重大仲裁、诉讼及其他或有事项清单及有关事项的情况说明及管理层对其完整性的书面声明',\n",
       " '7-4 评估价值',\n",
       " '7-4-1 报告期外部股权融资情况说明',\n",
       " '7-4-2 可比公司在境内外市场的估值情况相关资料',\n",
       " '7-4-3 其他估值相关资料',\n",
       " '7-5 发行人符合创业板定位的相关资料和说明',\n",
       " '7-5-1 发行人是否属于《推荐暂行规定》中不支持申报的行业的核查',\n",
       " '7-5-2 发行人是否具有发展更多依靠创新、创造、创意的特征的核查',\n",
       " '7-5-3 发行人是否具有新技术、新产业、新业态、新模式等特征的核查',\n",
       " '7-5-4 发行人技术先进性、竞争优势的核查',\n",
       " '7-6 尚未盈利或存在累计未弥补亏损',\n",
       " '7-6-1 说明尚未盈利或存在累计未弥补亏损的情形的成因',\n",
       " '7-6-2 尚未盈利或存在累计未弥补亏损对公司现金流、业务拓展、人才吸引、团队稳定性、研发投入、战略性投入、生产经营可持续性等方面的影响',\n",
       " '8 与其他证券服务机构的协作',\n",
       " '8-1 其他证券服务机构及签字人员的业务资质',\n",
       " '8-2 对其他证券服务机构关于核查程序及取得的关键性证据、核查工作范围及核查结论等的访谈记录及其他相关复核过程资料',\n",
       " '8-3 对于其他证券服务机构专业意见以及报告中重大异常、前后重大矛盾、重大差异情形的核查说明及相关资料（包括重要事项的会计处理不符合行业惯例；含有重大无先例会计事项；专业意见与法律法规、监管规定、自律规则等要求或者行业惯例存在重大差异；专业意见所依赖的假设前提明显不合理、核查程序、核查工作范围等明显不合理等）（如有）',\n",
       " '8-4 执业中介机构营业执照复印件',\n",
       " '8-5 执业注册会计师',\n",
       " '律师',\n",
       " '8-6 执业中介机构项目小组成员名单及简历（包括签字会计师',\n",
       " '8-7 执业中介机构及其项目小组成员（包括签字会计师',\n",
       " '8-8 执业中介机构项目小组成员独立性声明（包括签字会计师',\n",
       " '9 工作执行记录',\n",
       " '9-1 保荐机构项目人员配置情况，各人员从事的具体工作，以及相关人员在项目中发挥的作用的相关记录',\n",
       " '9-2 定期会议的会议资料以及会议记录',\n",
       " '9-3 重大事项的专题讨论会的会议资料及会议纪要',\n",
       " '9-4 按照证监会保荐业务管理相关规定制作的工作日志（请使用模板“项目工作日志.docx”）']"
      ]
     },
     "execution_count": 156,
     "metadata": {},
     "output_type": "execute_result"
    }
   ],
   "source": [
    "tree_list"
   ]
  },
  {
   "cell_type": "code",
   "execution_count": 157,
   "id": "ef9882a7-ba39-4a0e-a669-fb40c3cc9ab3",
   "metadata": {},
   "outputs": [
    {
     "data": {
      "text/html": [
       "<div>\n",
       "<style scoped>\n",
       "    .dataframe tbody tr th:only-of-type {\n",
       "        vertical-align: middle;\n",
       "    }\n",
       "\n",
       "    .dataframe tbody tr th {\n",
       "        vertical-align: top;\n",
       "    }\n",
       "\n",
       "    .dataframe thead th {\n",
       "        text-align: right;\n",
       "    }\n",
       "</style>\n",
       "<table border=\"1\" class=\"dataframe\">\n",
       "  <thead>\n",
       "    <tr style=\"text-align: right;\">\n",
       "      <th></th>\n",
       "      <th>目录</th>\n",
       "      <th>章节</th>\n",
       "    </tr>\n",
       "  </thead>\n",
       "  <tbody>\n",
       "    <tr>\n",
       "      <th>0</th>\n",
       "      <td>1 发行人基本情况调查</td>\n",
       "      <td>1</td>\n",
       "    </tr>\n",
       "    <tr>\n",
       "      <th>1</th>\n",
       "      <td>1-1 历史沿革情况</td>\n",
       "      <td>1-1</td>\n",
       "    </tr>\n",
       "    <tr>\n",
       "      <th>2</th>\n",
       "      <td>1-1-1 发行人设立及历次工商变更登记文件，历次股权变动涉及的三会决议、股权转让协议或增减...</td>\n",
       "      <td>1-1-1</td>\n",
       "    </tr>\n",
       "    <tr>\n",
       "      <th>3</th>\n",
       "      <td>1-1-10 发行人境外控制架构设置的相关资料，涉及红筹架构形成及拆除的相关资料（如有）</td>\n",
       "      <td>1-1-10</td>\n",
       "    </tr>\n",
       "    <tr>\n",
       "      <th>4</th>\n",
       "      <td>1-1-11 发行人成立时拥有的主要资产和业务情况的说明</td>\n",
       "      <td>1-1-11</td>\n",
       "    </tr>\n",
       "    <tr>\n",
       "      <th>...</th>\n",
       "      <td>...</td>\n",
       "      <td>...</td>\n",
       "    </tr>\n",
       "    <tr>\n",
       "      <th>538</th>\n",
       "      <td>9 工作执行记录</td>\n",
       "      <td>9</td>\n",
       "    </tr>\n",
       "    <tr>\n",
       "      <th>539</th>\n",
       "      <td>9-1 保荐机构项目人员配置情况，各人员从事的具体工作，以及相关人员在项目中发挥的作用的相关记录</td>\n",
       "      <td>9-1</td>\n",
       "    </tr>\n",
       "    <tr>\n",
       "      <th>540</th>\n",
       "      <td>9-2 定期会议的会议资料以及会议记录</td>\n",
       "      <td>9-2</td>\n",
       "    </tr>\n",
       "    <tr>\n",
       "      <th>541</th>\n",
       "      <td>9-3 重大事项的专题讨论会的会议资料及会议纪要</td>\n",
       "      <td>9-3</td>\n",
       "    </tr>\n",
       "    <tr>\n",
       "      <th>542</th>\n",
       "      <td>9-4 按照证监会保荐业务管理相关规定制作的工作日志（请使用模板“项目工作日志.docx”）</td>\n",
       "      <td>9-4</td>\n",
       "    </tr>\n",
       "  </tbody>\n",
       "</table>\n",
       "<p>543 rows × 2 columns</p>\n",
       "</div>"
      ],
      "text/plain": [
       "                                                    目录      章节\n",
       "0                                          1 发行人基本情况调查       1\n",
       "1                                           1-1 历史沿革情况     1-1\n",
       "2    1-1-1 发行人设立及历次工商变更登记文件，历次股权变动涉及的三会决议、股权转让协议或增减...   1-1-1\n",
       "3         1-1-10 发行人境外控制架构设置的相关资料，涉及红筹架构形成及拆除的相关资料（如有）  1-1-10\n",
       "4                         1-1-11 发行人成立时拥有的主要资产和业务情况的说明  1-1-11\n",
       "..                                                 ...     ...\n",
       "538                                           9 工作执行记录       9\n",
       "539   9-1 保荐机构项目人员配置情况，各人员从事的具体工作，以及相关人员在项目中发挥的作用的相关记录     9-1\n",
       "540                                9-2 定期会议的会议资料以及会议记录     9-2\n",
       "541                           9-3 重大事项的专题讨论会的会议资料及会议纪要     9-3\n",
       "542     9-4 按照证监会保荐业务管理相关规定制作的工作日志（请使用模板“项目工作日志.docx”）     9-4\n",
       "\n",
       "[543 rows x 2 columns]"
      ]
     },
     "execution_count": 157,
     "metadata": {},
     "output_type": "execute_result"
    }
   ],
   "source": [
    "tree_pandas = pd.DataFrame(tree_list)\n",
    "tree_pandas[1] = tree_pandas[0].apply(lambda x : x.split(' ')[0])\n",
    "tree_pandas.columns = ['目录', '章节']\n",
    "tree_pandas"
   ]
  },
  {
   "cell_type": "markdown",
   "id": "55baa2d1-dcba-4fb1-8299-e6f229a436f6",
   "metadata": {},
   "source": [
    "### 目录树优化1：分辨目录和文件-isdir、isfile"
   ]
  },
  {
   "cell_type": "code",
   "execution_count": 161,
   "id": "c92c2b84-7492-4440-a57f-541def8101df",
   "metadata": {},
   "outputs": [
    {
     "ename": "NotADirectoryError",
     "evalue": "[WinError 267] 目录名称无效。: '投行申报\\\\11.txt'",
     "output_type": "error",
     "traceback": [
      "\u001b[1;31m---------------------------------------------------------------------------\u001b[0m",
      "\u001b[1;31mNotADirectoryError\u001b[0m                        Traceback (most recent call last)",
      "\u001b[1;32mC:\\Users\\ADMINI~1\\AppData\\Local\\Temp/ipykernel_14124/2318485185.py\u001b[0m in \u001b[0;36m<module>\u001b[1;34m\u001b[0m\n\u001b[0;32m      7\u001b[0m             \u001b[0mtree_list\u001b[0m\u001b[1;33m.\u001b[0m\u001b[0mappend\u001b[0m\u001b[1;33m(\u001b[0m\u001b[0mnode\u001b[0m\u001b[1;33m)\u001b[0m \u001b[1;31m# 本案例中每个目录的名称都唯一\u001b[0m\u001b[1;33m\u001b[0m\u001b[1;33m\u001b[0m\u001b[0m\n\u001b[0;32m      8\u001b[0m             \u001b[0mtree\u001b[0m\u001b[1;33m(\u001b[0m\u001b[0mnode_path\u001b[0m\u001b[1;33m,\u001b[0m \u001b[0mtree_list\u001b[0m\u001b[1;33m)\u001b[0m \u001b[1;31m# 递归调用\u001b[0m\u001b[1;33m\u001b[0m\u001b[1;33m\u001b[0m\u001b[0m\n\u001b[1;32m----> 9\u001b[1;33m \u001b[0mtree\u001b[0m\u001b[1;33m(\u001b[0m\u001b[0mpath\u001b[0m\u001b[1;33m,\u001b[0m \u001b[0mtree_list\u001b[0m\u001b[1;33m)\u001b[0m\u001b[1;33m\u001b[0m\u001b[1;33m\u001b[0m\u001b[0m\n\u001b[0m",
      "\u001b[1;32mC:\\Users\\ADMINI~1\\AppData\\Local\\Temp/ipykernel_14124/2318485185.py\u001b[0m in \u001b[0;36mtree\u001b[1;34m(file_path, tree_list)\u001b[0m\n\u001b[0;32m      6\u001b[0m             \u001b[0mnode_path\u001b[0m \u001b[1;33m=\u001b[0m \u001b[0mos\u001b[0m\u001b[1;33m.\u001b[0m\u001b[0mpath\u001b[0m\u001b[1;33m.\u001b[0m\u001b[0mjoin\u001b[0m\u001b[1;33m(\u001b[0m\u001b[0mfile_path\u001b[0m\u001b[1;33m,\u001b[0m \u001b[0mnode\u001b[0m\u001b[1;33m)\u001b[0m \u001b[1;31m# 拼接新目录\u001b[0m\u001b[1;33m\u001b[0m\u001b[1;33m\u001b[0m\u001b[0m\n\u001b[0;32m      7\u001b[0m             \u001b[0mtree_list\u001b[0m\u001b[1;33m.\u001b[0m\u001b[0mappend\u001b[0m\u001b[1;33m(\u001b[0m\u001b[0mnode\u001b[0m\u001b[1;33m)\u001b[0m \u001b[1;31m# 本案例中每个目录的名称都唯一\u001b[0m\u001b[1;33m\u001b[0m\u001b[1;33m\u001b[0m\u001b[0m\n\u001b[1;32m----> 8\u001b[1;33m             \u001b[0mtree\u001b[0m\u001b[1;33m(\u001b[0m\u001b[0mnode_path\u001b[0m\u001b[1;33m,\u001b[0m \u001b[0mtree_list\u001b[0m\u001b[1;33m)\u001b[0m \u001b[1;31m# 递归调用\u001b[0m\u001b[1;33m\u001b[0m\u001b[1;33m\u001b[0m\u001b[0m\n\u001b[0m\u001b[0;32m      9\u001b[0m \u001b[0mtree\u001b[0m\u001b[1;33m(\u001b[0m\u001b[0mpath\u001b[0m\u001b[1;33m,\u001b[0m \u001b[0mtree_list\u001b[0m\u001b[1;33m)\u001b[0m\u001b[1;33m\u001b[0m\u001b[1;33m\u001b[0m\u001b[0m\n",
      "\u001b[1;32mC:\\Users\\ADMINI~1\\AppData\\Local\\Temp/ipykernel_14124/2318485185.py\u001b[0m in \u001b[0;36mtree\u001b[1;34m(file_path, tree_list)\u001b[0m\n\u001b[0;32m      1\u001b[0m \u001b[0mtree_list\u001b[0m \u001b[1;33m=\u001b[0m \u001b[1;33m[\u001b[0m\u001b[1;33m]\u001b[0m\u001b[1;33m\u001b[0m\u001b[1;33m\u001b[0m\u001b[0m\n\u001b[0;32m      2\u001b[0m \u001b[1;32mdef\u001b[0m \u001b[0mtree\u001b[0m\u001b[1;33m(\u001b[0m\u001b[0mfile_path\u001b[0m\u001b[1;33m,\u001b[0m \u001b[0mtree_list\u001b[0m\u001b[1;33m)\u001b[0m\u001b[1;33m:\u001b[0m\u001b[1;33m\u001b[0m\u001b[1;33m\u001b[0m\u001b[0m\n\u001b[1;32m----> 3\u001b[1;33m     \u001b[0mnode_list\u001b[0m \u001b[1;33m=\u001b[0m \u001b[0mos\u001b[0m\u001b[1;33m.\u001b[0m\u001b[0mlistdir\u001b[0m\u001b[1;33m(\u001b[0m\u001b[0mfile_path\u001b[0m\u001b[1;33m)\u001b[0m\u001b[1;33m\u001b[0m\u001b[1;33m\u001b[0m\u001b[0m\n\u001b[0m\u001b[0;32m      4\u001b[0m     \u001b[1;32mif\u001b[0m \u001b[0mnode_list\u001b[0m \u001b[1;33m!=\u001b[0m \u001b[1;33m[\u001b[0m\u001b[1;33m]\u001b[0m\u001b[1;33m:\u001b[0m \u001b[1;31m# 如果有子文件夹\u001b[0m\u001b[1;33m\u001b[0m\u001b[1;33m\u001b[0m\u001b[0m\n\u001b[0;32m      5\u001b[0m         \u001b[1;32mfor\u001b[0m \u001b[0mnode\u001b[0m \u001b[1;32min\u001b[0m \u001b[0mnode_list\u001b[0m\u001b[1;33m:\u001b[0m\u001b[1;33m\u001b[0m\u001b[1;33m\u001b[0m\u001b[0m\n",
      "\u001b[1;31mNotADirectoryError\u001b[0m: [WinError 267] 目录名称无效。: '投行申报\\\\11.txt'"
     ]
    }
   ],
   "source": [
    "tree_list = []\n",
    "def tree(file_path, tree_list):\n",
    "    node_list = os.listdir(file_path)\n",
    "    if node_list != []: # 如果有子文件夹\n",
    "        for node in node_list:\n",
    "            node_path = os.path.join(file_path, node) # 拼接新目录\n",
    "            tree_list.append(node) # 本案例中每个目录的名称都唯一\n",
    "            tree(node_path, tree_list) # 递归调用\n",
    "tree(path, tree_list)"
   ]
  },
  {
   "cell_type": "code",
   "execution_count": 162,
   "id": "78aa775f-6c5d-4d6a-9ab1-03d12f8f88f5",
   "metadata": {},
   "outputs": [
    {
     "data": {
      "text/plain": [
       "True"
      ]
     },
     "execution_count": 162,
     "metadata": {},
     "output_type": "execute_result"
    }
   ],
   "source": [
    "os.path.isdir(path)"
   ]
  },
  {
   "cell_type": "code",
   "execution_count": 163,
   "id": "1fa4fae1-d337-4f0a-8417-1a9136de2382",
   "metadata": {},
   "outputs": [
    {
     "data": {
      "text/plain": [
       "False"
      ]
     },
     "execution_count": 163,
     "metadata": {},
     "output_type": "execute_result"
    }
   ],
   "source": [
    "os.path.isdir('demo.csv')"
   ]
  },
  {
   "cell_type": "code",
   "execution_count": 164,
   "id": "a82b6a37-c197-45f7-ac60-2a5f726e8ec4",
   "metadata": {},
   "outputs": [
    {
     "data": {
      "text/plain": [
       "True"
      ]
     },
     "execution_count": 164,
     "metadata": {},
     "output_type": "execute_result"
    }
   ],
   "source": [
    "os.path.isfile('demo.csv')"
   ]
  },
  {
   "cell_type": "code",
   "execution_count": 165,
   "id": "496df758-0f2a-4af4-bb1b-13fdd8a111cd",
   "metadata": {},
   "outputs": [
    {
     "data": {
      "text/plain": [
       "False"
      ]
     },
     "execution_count": 165,
     "metadata": {},
     "output_type": "execute_result"
    }
   ],
   "source": [
    "os.path.isfile('不存在.csv')"
   ]
  },
  {
   "cell_type": "code",
   "execution_count": 166,
   "id": "28eae2c7-1eaa-4130-afef-4b9c56d4ac19",
   "metadata": {},
   "outputs": [
    {
     "data": {
      "text/plain": [
       "False"
      ]
     },
     "execution_count": 166,
     "metadata": {},
     "output_type": "execute_result"
    }
   ],
   "source": [
    "os.path.isdir('不存在.csv')"
   ]
  },
  {
   "cell_type": "markdown",
   "id": "737566fa-cf2d-43b0-aadd-fc6c416b2b39",
   "metadata": {},
   "source": [
    "#### 第3种DataFrame构建方法"
   ]
  },
  {
   "cell_type": "markdown",
   "id": "8bd85b1c-ab79-4116-bc6d-4fc16e791e70",
   "metadata": {},
   "source": [
    "列的长度不会不一致"
   ]
  },
  {
   "cell_type": "code",
   "execution_count": 167,
   "id": "83649acc-7bee-49ec-a60d-0dd48c728f40",
   "metadata": {},
   "outputs": [],
   "source": [
    "data_dict = [{'章节': '1', '目录': '目录1'}, {'章节': '2', '目录': '目录2'}]"
   ]
  },
  {
   "cell_type": "code",
   "execution_count": 168,
   "id": "51f78f9a-cf61-436f-b845-58e8d4318df3",
   "metadata": {},
   "outputs": [
    {
     "data": {
      "text/html": [
       "<div>\n",
       "<style scoped>\n",
       "    .dataframe tbody tr th:only-of-type {\n",
       "        vertical-align: middle;\n",
       "    }\n",
       "\n",
       "    .dataframe tbody tr th {\n",
       "        vertical-align: top;\n",
       "    }\n",
       "\n",
       "    .dataframe thead th {\n",
       "        text-align: right;\n",
       "    }\n",
       "</style>\n",
       "<table border=\"1\" class=\"dataframe\">\n",
       "  <thead>\n",
       "    <tr style=\"text-align: right;\">\n",
       "      <th></th>\n",
       "      <th>章节</th>\n",
       "      <th>目录</th>\n",
       "    </tr>\n",
       "  </thead>\n",
       "  <tbody>\n",
       "    <tr>\n",
       "      <th>0</th>\n",
       "      <td>1</td>\n",
       "      <td>目录1</td>\n",
       "    </tr>\n",
       "    <tr>\n",
       "      <th>1</th>\n",
       "      <td>2</td>\n",
       "      <td>目录2</td>\n",
       "    </tr>\n",
       "  </tbody>\n",
       "</table>\n",
       "</div>"
      ],
      "text/plain": [
       "  章节   目录\n",
       "0  1  目录1\n",
       "1  2  目录2"
      ]
     },
     "execution_count": 168,
     "metadata": {},
     "output_type": "execute_result"
    }
   ],
   "source": [
    "pd.DataFrame(data=data_dict)"
   ]
  },
  {
   "cell_type": "code",
   "execution_count": 169,
   "id": "59a4bdd5-03af-48c2-86d7-647c09982694",
   "metadata": {},
   "outputs": [
    {
     "data": {
      "text/html": [
       "<div>\n",
       "<style scoped>\n",
       "    .dataframe tbody tr th:only-of-type {\n",
       "        vertical-align: middle;\n",
       "    }\n",
       "\n",
       "    .dataframe tbody tr th {\n",
       "        vertical-align: top;\n",
       "    }\n",
       "\n",
       "    .dataframe thead th {\n",
       "        text-align: right;\n",
       "    }\n",
       "</style>\n",
       "<table border=\"1\" class=\"dataframe\">\n",
       "  <thead>\n",
       "    <tr style=\"text-align: right;\">\n",
       "      <th></th>\n",
       "      <th>章节</th>\n",
       "      <th>目录</th>\n",
       "    </tr>\n",
       "  </thead>\n",
       "  <tbody>\n",
       "    <tr>\n",
       "      <th>100</th>\n",
       "      <td>1</td>\n",
       "      <td>目录1</td>\n",
       "    </tr>\n",
       "    <tr>\n",
       "      <th>101</th>\n",
       "      <td>2</td>\n",
       "      <td>目录2</td>\n",
       "    </tr>\n",
       "  </tbody>\n",
       "</table>\n",
       "</div>"
      ],
      "text/plain": [
       "    章节   目录\n",
       "100  1  目录1\n",
       "101  2  目录2"
      ]
     },
     "execution_count": 169,
     "metadata": {},
     "output_type": "execute_result"
    }
   ],
   "source": [
    "pd.DataFrame(data=data_dict, index=[100, 101])"
   ]
  },
  {
   "cell_type": "markdown",
   "id": "13d1b2e1-59d7-4bbb-81f8-084957baa3cb",
   "metadata": {
    "tags": []
   },
   "source": [
    "#### 先判断追加自己，子项再递归判断子项自己"
   ]
  },
  {
   "cell_type": "code",
   "execution_count": 170,
   "id": "1a2441a4-26be-48d8-9cf1-60bda83e5100",
   "metadata": {},
   "outputs": [],
   "source": [
    "tree_list = []\n",
    "def tree(file_path, tree_list):\n",
    "    if os.path.isdir(file_path): # 先判断\n",
    "        ##############先追加自己############\n",
    "        node_dict = {'名称': file_path, '类型': '文件夹'}\n",
    "        tree_list.append(node_dict) # 本案例中每个目录的名称都唯一        \n",
    "        node_list = os.listdir(file_path)\n",
    "        if node_list != []: # 如果有子文件夹\n",
    "            for node in node_list:\n",
    "                node_path = os.path.join(file_path, node) # 拼接新目录\n",
    "                tree(node_path, tree_list) # 递归调用\n",
    "    elif os.path.isfile(file_path):\n",
    "        ##############先追加自己############\n",
    "        node_dict = {'名称': file_path, '类型': '文件'}\n",
    "        tree_list.append(node_dict)\n",
    "    else:\n",
    "        ##############先追加自己############\n",
    "        node_dict = {'名称': file_path, '类型': '其他'}\n",
    "        tree_list.append(node_dict)\n",
    "tree(path, tree_list)"
   ]
  },
  {
   "cell_type": "code",
   "execution_count": 171,
   "id": "3d7e94cf-229b-473e-882a-0b42f087c997",
   "metadata": {},
   "outputs": [
    {
     "data": {
      "text/html": [
       "<div>\n",
       "<style scoped>\n",
       "    .dataframe tbody tr th:only-of-type {\n",
       "        vertical-align: middle;\n",
       "    }\n",
       "\n",
       "    .dataframe tbody tr th {\n",
       "        vertical-align: top;\n",
       "    }\n",
       "\n",
       "    .dataframe thead th {\n",
       "        text-align: right;\n",
       "    }\n",
       "</style>\n",
       "<table border=\"1\" class=\"dataframe\">\n",
       "  <thead>\n",
       "    <tr style=\"text-align: right;\">\n",
       "      <th></th>\n",
       "      <th>名称</th>\n",
       "      <th>类型</th>\n",
       "    </tr>\n",
       "  </thead>\n",
       "  <tbody>\n",
       "    <tr>\n",
       "      <th>0</th>\n",
       "      <td>投行申报</td>\n",
       "      <td>文件夹</td>\n",
       "    </tr>\n",
       "    <tr>\n",
       "      <th>1</th>\n",
       "      <td>投行申报\\1 发行人基本情况调查</td>\n",
       "      <td>文件夹</td>\n",
       "    </tr>\n",
       "    <tr>\n",
       "      <th>2</th>\n",
       "      <td>投行申报\\1 发行人基本情况调查\\1-1 历史沿革情况</td>\n",
       "      <td>文件夹</td>\n",
       "    </tr>\n",
       "    <tr>\n",
       "      <th>3</th>\n",
       "      <td>投行申报\\1 发行人基本情况调查\\1-1 历史沿革情况\\1-1-1 发行人设立及历次工商变更...</td>\n",
       "      <td>文件夹</td>\n",
       "    </tr>\n",
       "    <tr>\n",
       "      <th>4</th>\n",
       "      <td>投行申报\\1 发行人基本情况调查\\1-1 历史沿革情况\\1-1-10 发行人境外控制架构设置...</td>\n",
       "      <td>文件夹</td>\n",
       "    </tr>\n",
       "    <tr>\n",
       "      <th>...</th>\n",
       "      <td>...</td>\n",
       "      <td>...</td>\n",
       "    </tr>\n",
       "    <tr>\n",
       "      <th>540</th>\n",
       "      <td>投行申报\\9 工作执行记录</td>\n",
       "      <td>文件夹</td>\n",
       "    </tr>\n",
       "    <tr>\n",
       "      <th>541</th>\n",
       "      <td>投行申报\\9 工作执行记录\\9-1 保荐机构项目人员配置情况，各人员从事的具体工作，以及相关...</td>\n",
       "      <td>文件夹</td>\n",
       "    </tr>\n",
       "    <tr>\n",
       "      <th>542</th>\n",
       "      <td>投行申报\\9 工作执行记录\\9-2 定期会议的会议资料以及会议记录</td>\n",
       "      <td>文件夹</td>\n",
       "    </tr>\n",
       "    <tr>\n",
       "      <th>543</th>\n",
       "      <td>投行申报\\9 工作执行记录\\9-3 重大事项的专题讨论会的会议资料及会议纪要</td>\n",
       "      <td>文件夹</td>\n",
       "    </tr>\n",
       "    <tr>\n",
       "      <th>544</th>\n",
       "      <td>投行申报\\9 工作执行记录\\9-4 按照证监会保荐业务管理相关规定制作的工作日志（请使用模板...</td>\n",
       "      <td>文件夹</td>\n",
       "    </tr>\n",
       "  </tbody>\n",
       "</table>\n",
       "<p>545 rows × 2 columns</p>\n",
       "</div>"
      ],
      "text/plain": [
       "                                                    名称   类型\n",
       "0                                                 投行申报  文件夹\n",
       "1                                     投行申报\\1 发行人基本情况调查  文件夹\n",
       "2                          投行申报\\1 发行人基本情况调查\\1-1 历史沿革情况  文件夹\n",
       "3    投行申报\\1 发行人基本情况调查\\1-1 历史沿革情况\\1-1-1 发行人设立及历次工商变更...  文件夹\n",
       "4    投行申报\\1 发行人基本情况调查\\1-1 历史沿革情况\\1-1-10 发行人境外控制架构设置...  文件夹\n",
       "..                                                 ...  ...\n",
       "540                                      投行申报\\9 工作执行记录  文件夹\n",
       "541  投行申报\\9 工作执行记录\\9-1 保荐机构项目人员配置情况，各人员从事的具体工作，以及相关...  文件夹\n",
       "542                  投行申报\\9 工作执行记录\\9-2 定期会议的会议资料以及会议记录  文件夹\n",
       "543             投行申报\\9 工作执行记录\\9-3 重大事项的专题讨论会的会议资料及会议纪要  文件夹\n",
       "544  投行申报\\9 工作执行记录\\9-4 按照证监会保荐业务管理相关规定制作的工作日志（请使用模板...  文件夹\n",
       "\n",
       "[545 rows x 2 columns]"
      ]
     },
     "execution_count": 171,
     "metadata": {},
     "output_type": "execute_result"
    }
   ],
   "source": [
    "tree_pandas = pd.DataFrame(tree_list)\n",
    "tree_pandas"
   ]
  },
  {
   "cell_type": "code",
   "execution_count": 173,
   "id": "74d84b97-077e-4e69-9d1e-f5c5d5858e54",
   "metadata": {},
   "outputs": [
    {
     "data": {
      "text/html": [
       "<div>\n",
       "<style scoped>\n",
       "    .dataframe tbody tr th:only-of-type {\n",
       "        vertical-align: middle;\n",
       "    }\n",
       "\n",
       "    .dataframe tbody tr th {\n",
       "        vertical-align: top;\n",
       "    }\n",
       "\n",
       "    .dataframe thead th {\n",
       "        text-align: right;\n",
       "    }\n",
       "</style>\n",
       "<table border=\"1\" class=\"dataframe\">\n",
       "  <thead>\n",
       "    <tr style=\"text-align: right;\">\n",
       "      <th></th>\n",
       "      <th>名称</th>\n",
       "      <th>类型</th>\n",
       "    </tr>\n",
       "  </thead>\n",
       "  <tbody>\n",
       "    <tr>\n",
       "      <th>109</th>\n",
       "      <td>投行申报\\11.txt</td>\n",
       "      <td>文件</td>\n",
       "    </tr>\n",
       "  </tbody>\n",
       "</table>\n",
       "</div>"
      ],
      "text/plain": [
       "              名称  类型\n",
       "109  投行申报\\11.txt  文件"
      ]
     },
     "execution_count": 173,
     "metadata": {},
     "output_type": "execute_result"
    }
   ],
   "source": [
    "tree_pandas[tree_pandas['类型'] == '文件']"
   ]
  },
  {
   "cell_type": "markdown",
   "id": "f4c90649-4d35-4750-ad06-73dd3d219ba9",
   "metadata": {
    "tags": []
   },
   "source": [
    "#### 先判断追加子项，子项再递归判断孙子"
   ]
  },
  {
   "cell_type": "code",
   "execution_count": 176,
   "id": "fa4776a2-98b2-488d-b369-7efaa346bf1b",
   "metadata": {},
   "outputs": [],
   "source": [
    "tree_list = []\n",
    "def tree(file_path, tree_list):\n",
    "    node_list = os.listdir(file_path)\n",
    "    if node_list != []: # 如果有子文件夹\n",
    "        for node in node_list:\n",
    "            node_path = os.path.join(file_path, node) # 拼接新目录\n",
    "            ##############先追加子项############\n",
    "            if os.path.isdir(node_path):\n",
    "                node_dict = {'名称': node, '类型': '文件夹'}\n",
    "                tree_list.append(node_dict) # 先追加子项，再到递归孙子项\n",
    "                tree(node_path, tree_list) # 递归调用\n",
    "                # tree_list.append(node_dict) # 不写后面的原因\n",
    "            elif os.path.isfile(node_path):\n",
    "                node_dict = {'名称': node, '类型': '文件'}\n",
    "                tree_list.append(node_dict)\n",
    "            else:\n",
    "                node_dict = {'名称': node, '类型': '其他'}\n",
    "                tree_list.append(node_dict)\n",
    "tree(path, tree_list)"
   ]
  },
  {
   "cell_type": "code",
   "execution_count": 177,
   "id": "705ad6ac-2775-428d-9b58-d9d27f4f18fb",
   "metadata": {},
   "outputs": [
    {
     "data": {
      "text/html": [
       "<div>\n",
       "<style scoped>\n",
       "    .dataframe tbody tr th:only-of-type {\n",
       "        vertical-align: middle;\n",
       "    }\n",
       "\n",
       "    .dataframe tbody tr th {\n",
       "        vertical-align: top;\n",
       "    }\n",
       "\n",
       "    .dataframe thead th {\n",
       "        text-align: right;\n",
       "    }\n",
       "</style>\n",
       "<table border=\"1\" class=\"dataframe\">\n",
       "  <thead>\n",
       "    <tr style=\"text-align: right;\">\n",
       "      <th></th>\n",
       "      <th>名称</th>\n",
       "      <th>类型</th>\n",
       "    </tr>\n",
       "  </thead>\n",
       "  <tbody>\n",
       "    <tr>\n",
       "      <th>0</th>\n",
       "      <td>1 发行人基本情况调查</td>\n",
       "      <td>文件夹</td>\n",
       "    </tr>\n",
       "    <tr>\n",
       "      <th>1</th>\n",
       "      <td>1-1 历史沿革情况</td>\n",
       "      <td>文件夹</td>\n",
       "    </tr>\n",
       "    <tr>\n",
       "      <th>2</th>\n",
       "      <td>1-1-1 发行人设立及历次工商变更登记文件，历次股权变动涉及的三会决议、股权转让协议或增减...</td>\n",
       "      <td>文件夹</td>\n",
       "    </tr>\n",
       "    <tr>\n",
       "      <th>3</th>\n",
       "      <td>1-1-10 发行人境外控制架构设置的相关资料，涉及红筹架构形成及拆除的相关资料（如有）</td>\n",
       "      <td>文件夹</td>\n",
       "    </tr>\n",
       "    <tr>\n",
       "      <th>4</th>\n",
       "      <td>1-1-11 发行人成立时拥有的主要资产和业务情况的说明</td>\n",
       "      <td>文件夹</td>\n",
       "    </tr>\n",
       "    <tr>\n",
       "      <th>...</th>\n",
       "      <td>...</td>\n",
       "      <td>...</td>\n",
       "    </tr>\n",
       "    <tr>\n",
       "      <th>539</th>\n",
       "      <td>9 工作执行记录</td>\n",
       "      <td>文件夹</td>\n",
       "    </tr>\n",
       "    <tr>\n",
       "      <th>540</th>\n",
       "      <td>9-1 保荐机构项目人员配置情况，各人员从事的具体工作，以及相关人员在项目中发挥的作用的相关记录</td>\n",
       "      <td>文件夹</td>\n",
       "    </tr>\n",
       "    <tr>\n",
       "      <th>541</th>\n",
       "      <td>9-2 定期会议的会议资料以及会议记录</td>\n",
       "      <td>文件夹</td>\n",
       "    </tr>\n",
       "    <tr>\n",
       "      <th>542</th>\n",
       "      <td>9-3 重大事项的专题讨论会的会议资料及会议纪要</td>\n",
       "      <td>文件夹</td>\n",
       "    </tr>\n",
       "    <tr>\n",
       "      <th>543</th>\n",
       "      <td>9-4 按照证监会保荐业务管理相关规定制作的工作日志（请使用模板“项目工作日志.docx”）</td>\n",
       "      <td>文件夹</td>\n",
       "    </tr>\n",
       "  </tbody>\n",
       "</table>\n",
       "<p>544 rows × 2 columns</p>\n",
       "</div>"
      ],
      "text/plain": [
       "                                                    名称   类型\n",
       "0                                          1 发行人基本情况调查  文件夹\n",
       "1                                           1-1 历史沿革情况  文件夹\n",
       "2    1-1-1 发行人设立及历次工商变更登记文件，历次股权变动涉及的三会决议、股权转让协议或增减...  文件夹\n",
       "3         1-1-10 发行人境外控制架构设置的相关资料，涉及红筹架构形成及拆除的相关资料（如有）  文件夹\n",
       "4                         1-1-11 发行人成立时拥有的主要资产和业务情况的说明  文件夹\n",
       "..                                                 ...  ...\n",
       "539                                           9 工作执行记录  文件夹\n",
       "540   9-1 保荐机构项目人员配置情况，各人员从事的具体工作，以及相关人员在项目中发挥的作用的相关记录  文件夹\n",
       "541                                9-2 定期会议的会议资料以及会议记录  文件夹\n",
       "542                           9-3 重大事项的专题讨论会的会议资料及会议纪要  文件夹\n",
       "543     9-4 按照证监会保荐业务管理相关规定制作的工作日志（请使用模板“项目工作日志.docx”）  文件夹\n",
       "\n",
       "[544 rows x 2 columns]"
      ]
     },
     "execution_count": 177,
     "metadata": {},
     "output_type": "execute_result"
    }
   ],
   "source": [
    "tree_pandas = pd.DataFrame(tree_list)\n",
    "tree_pandas"
   ]
  },
  {
   "cell_type": "code",
   "execution_count": 178,
   "id": "526b5aee-ac69-4126-96a5-843f75289159",
   "metadata": {},
   "outputs": [
    {
     "data": {
      "text/html": [
       "<div>\n",
       "<style scoped>\n",
       "    .dataframe tbody tr th:only-of-type {\n",
       "        vertical-align: middle;\n",
       "    }\n",
       "\n",
       "    .dataframe tbody tr th {\n",
       "        vertical-align: top;\n",
       "    }\n",
       "\n",
       "    .dataframe thead th {\n",
       "        text-align: right;\n",
       "    }\n",
       "</style>\n",
       "<table border=\"1\" class=\"dataframe\">\n",
       "  <thead>\n",
       "    <tr style=\"text-align: right;\">\n",
       "      <th></th>\n",
       "      <th>名称</th>\n",
       "      <th>类型</th>\n",
       "    </tr>\n",
       "  </thead>\n",
       "  <tbody>\n",
       "    <tr>\n",
       "      <th>108</th>\n",
       "      <td>11.txt</td>\n",
       "      <td>文件</td>\n",
       "    </tr>\n",
       "  </tbody>\n",
       "</table>\n",
       "</div>"
      ],
      "text/plain": [
       "         名称  类型\n",
       "108  11.txt  文件"
      ]
     },
     "execution_count": 178,
     "metadata": {},
     "output_type": "execute_result"
    }
   ],
   "source": [
    "tree_pandas[tree_pandas['类型'] == '文件']"
   ]
  },
  {
   "cell_type": "markdown",
   "id": "a8d0881a-f0e3-4d29-9294-51dbadb03f3d",
   "metadata": {
    "tags": []
   },
   "source": [
    "### 目录树优化2：存储父项目录和深度-basename、dirname"
   ]
  },
  {
   "cell_type": "code",
   "execution_count": 222,
   "id": "1a56241f-5188-4d74-8091-2b37092722d9",
   "metadata": {},
   "outputs": [
    {
     "data": {
      "text/plain": [
       "'1-1 历史沿革情况'"
      ]
     },
     "execution_count": 222,
     "metadata": {},
     "output_type": "execute_result"
    }
   ],
   "source": [
    "os.path.basename('项目申报\\\\1 发行人基本情况调查\\\\1-1 历史沿革情况')"
   ]
  },
  {
   "cell_type": "code",
   "execution_count": 223,
   "id": "bd34c274-5982-4f6f-b54b-6f8eb691ffb3",
   "metadata": {},
   "outputs": [
    {
     "data": {
      "text/plain": [
       "'项目申报\\\\1 发行人基本情况调查'"
      ]
     },
     "execution_count": 223,
     "metadata": {},
     "output_type": "execute_result"
    }
   ],
   "source": [
    "os.path.dirname('项目申报\\\\1 发行人基本情况调查\\\\1-1 历史沿革情况')"
   ]
  },
  {
   "cell_type": "code",
   "execution_count": 228,
   "id": "1e7e5b1a-81aa-47b7-8f5f-a559a2ec4f84",
   "metadata": {},
   "outputs": [
    {
     "data": {
      "text/html": [
       "<div>\n",
       "<style scoped>\n",
       "    .dataframe tbody tr th:only-of-type {\n",
       "        vertical-align: middle;\n",
       "    }\n",
       "\n",
       "    .dataframe tbody tr th {\n",
       "        vertical-align: top;\n",
       "    }\n",
       "\n",
       "    .dataframe thead th {\n",
       "        text-align: right;\n",
       "    }\n",
       "</style>\n",
       "<table border=\"1\" class=\"dataframe\">\n",
       "  <thead>\n",
       "    <tr style=\"text-align: right;\">\n",
       "      <th></th>\n",
       "      <th>名称</th>\n",
       "      <th>父项</th>\n",
       "      <th>深度</th>\n",
       "      <th>类型</th>\n",
       "    </tr>\n",
       "  </thead>\n",
       "  <tbody>\n",
       "    <tr>\n",
       "      <th>0</th>\n",
       "      <td>1 发行人基本情况调查</td>\n",
       "      <td>投行申报</td>\n",
       "      <td>1</td>\n",
       "      <td>文件夹</td>\n",
       "    </tr>\n",
       "    <tr>\n",
       "      <th>1</th>\n",
       "      <td>1-1 历史沿革情况</td>\n",
       "      <td>1 发行人基本情况调查</td>\n",
       "      <td>2</td>\n",
       "      <td>文件夹</td>\n",
       "    </tr>\n",
       "    <tr>\n",
       "      <th>2</th>\n",
       "      <td>1-1-1 发行人设立及历次工商变更登记文件，历次股权变动涉及的三会决议、股权转让协议或增减...</td>\n",
       "      <td>1-1 历史沿革情况</td>\n",
       "      <td>3</td>\n",
       "      <td>文件夹</td>\n",
       "    </tr>\n",
       "    <tr>\n",
       "      <th>3</th>\n",
       "      <td>1-1-10 发行人境外控制架构设置的相关资料，涉及红筹架构形成及拆除的相关资料（如有）</td>\n",
       "      <td>1-1 历史沿革情况</td>\n",
       "      <td>3</td>\n",
       "      <td>文件夹</td>\n",
       "    </tr>\n",
       "    <tr>\n",
       "      <th>4</th>\n",
       "      <td>1-1-11 发行人成立时拥有的主要资产和业务情况的说明</td>\n",
       "      <td>1-1 历史沿革情况</td>\n",
       "      <td>3</td>\n",
       "      <td>文件夹</td>\n",
       "    </tr>\n",
       "    <tr>\n",
       "      <th>...</th>\n",
       "      <td>...</td>\n",
       "      <td>...</td>\n",
       "      <td>...</td>\n",
       "      <td>...</td>\n",
       "    </tr>\n",
       "    <tr>\n",
       "      <th>539</th>\n",
       "      <td>9 工作执行记录</td>\n",
       "      <td>投行申报</td>\n",
       "      <td>1</td>\n",
       "      <td>文件夹</td>\n",
       "    </tr>\n",
       "    <tr>\n",
       "      <th>540</th>\n",
       "      <td>9-1 保荐机构项目人员配置情况，各人员从事的具体工作，以及相关人员在项目中发挥的作用的相关记录</td>\n",
       "      <td>9 工作执行记录</td>\n",
       "      <td>2</td>\n",
       "      <td>文件夹</td>\n",
       "    </tr>\n",
       "    <tr>\n",
       "      <th>541</th>\n",
       "      <td>9-2 定期会议的会议资料以及会议记录</td>\n",
       "      <td>9 工作执行记录</td>\n",
       "      <td>2</td>\n",
       "      <td>文件夹</td>\n",
       "    </tr>\n",
       "    <tr>\n",
       "      <th>542</th>\n",
       "      <td>9-3 重大事项的专题讨论会的会议资料及会议纪要</td>\n",
       "      <td>9 工作执行记录</td>\n",
       "      <td>2</td>\n",
       "      <td>文件夹</td>\n",
       "    </tr>\n",
       "    <tr>\n",
       "      <th>543</th>\n",
       "      <td>9-4 按照证监会保荐业务管理相关规定制作的工作日志（请使用模板“项目工作日志.docx”）</td>\n",
       "      <td>9 工作执行记录</td>\n",
       "      <td>2</td>\n",
       "      <td>文件夹</td>\n",
       "    </tr>\n",
       "  </tbody>\n",
       "</table>\n",
       "<p>544 rows × 4 columns</p>\n",
       "</div>"
      ],
      "text/plain": [
       "                                                    名称           父项  深度   类型\n",
       "0                                          1 发行人基本情况调查         投行申报   1  文件夹\n",
       "1                                           1-1 历史沿革情况  1 发行人基本情况调查   2  文件夹\n",
       "2    1-1-1 发行人设立及历次工商变更登记文件，历次股权变动涉及的三会决议、股权转让协议或增减...   1-1 历史沿革情况   3  文件夹\n",
       "3         1-1-10 发行人境外控制架构设置的相关资料，涉及红筹架构形成及拆除的相关资料（如有）   1-1 历史沿革情况   3  文件夹\n",
       "4                         1-1-11 发行人成立时拥有的主要资产和业务情况的说明   1-1 历史沿革情况   3  文件夹\n",
       "..                                                 ...          ...  ..  ...\n",
       "539                                           9 工作执行记录         投行申报   1  文件夹\n",
       "540   9-1 保荐机构项目人员配置情况，各人员从事的具体工作，以及相关人员在项目中发挥的作用的相关记录     9 工作执行记录   2  文件夹\n",
       "541                                9-2 定期会议的会议资料以及会议记录     9 工作执行记录   2  文件夹\n",
       "542                           9-3 重大事项的专题讨论会的会议资料及会议纪要     9 工作执行记录   2  文件夹\n",
       "543     9-4 按照证监会保荐业务管理相关规定制作的工作日志（请使用模板“项目工作日志.docx”）     9 工作执行记录   2  文件夹\n",
       "\n",
       "[544 rows x 4 columns]"
      ]
     },
     "execution_count": 228,
     "metadata": {},
     "output_type": "execute_result"
    }
   ],
   "source": [
    "## 先判断追加子项，子项再递归判断孙子\n",
    "tree_list = []\n",
    "def tree(file_path, tree_list, depth):\n",
    "    node_list = os.listdir(file_path)\n",
    "    current_name = os.path.basename(file_path)\n",
    "    if node_list != []: # 如果有子文件夹\n",
    "        ##############深度+1############\n",
    "        sub_depth = depth + 1 \n",
    "        for node in node_list:\n",
    "            node_path = os.path.join(file_path, node) # 拼接新目录\n",
    "            if os.path.isdir(node_path):\n",
    "                node_dict = {'名称': node, '父项': current_name, '深度': sub_depth, '类型': '文件夹'}\n",
    "                tree_list.append(node_dict) # 先追加子项，再到递归孙子项\n",
    "                tree(node_path, tree_list, sub_depth) # 递归调用\n",
    "                # tree_list.append(node_dict) # 不写后面的原因\n",
    "            elif os.path.isfile(node_path):\n",
    "                node_dict = {'名称': node, '父项': current_name, '深度': sub_depth, '类型': '文件'}\n",
    "                tree_list.append(node_dict)\n",
    "            else:\n",
    "                node_dict = {'名称': node, '父项': current_name, '深度': sub_depth, '类型': '其他'}\n",
    "                tree_list.append(node_dict)\n",
    "tree(path, tree_list, 0)\n",
    "tree_pandas = pd.DataFrame(tree_list)\n",
    "tree_pandas"
   ]
  },
  {
   "cell_type": "markdown",
   "id": "cabf0a83-0054-41a7-b8ea-2274956e31a2",
   "metadata": {},
   "source": [
    "### 目录树优化3：存储其他信息-子项数、大小、时间"
   ]
  },
  {
   "cell_type": "markdown",
   "id": "7dd95712-9619-4b84-926d-2019aa117c7f",
   "metadata": {},
   "source": [
    "#### 获取时间"
   ]
  },
  {
   "cell_type": "markdown",
   "id": "7bb02c97-3752-4888-9888-9d9e15d69ec8",
   "metadata": {},
   "source": [
    "T3.1-P12：https://www.bilibili.com/video/BV1HY4y1v7Ke?p=12  \n",
    "菜鸟教程time模块：https://www.runoob.com/python3/python3-date-time.html  \n",
    "菜鸟教程datetime案例：https://www.runoob.com/python3/python-timstamp-str.html"
   ]
  },
  {
   "cell_type": "markdown",
   "id": "4fab1f0a-d024-4fc4-9618-92e11bc294ed",
   "metadata": {},
   "source": [
    "**子文件修改，上级所有目录时间都会变！**"
   ]
  },
  {
   "cell_type": "code",
   "execution_count": 210,
   "id": "8e2cb87a-1299-43b7-9eef-2b56d63630ba",
   "metadata": {},
   "outputs": [
    {
     "data": {
      "text/plain": [
       "'投行申报'"
      ]
     },
     "execution_count": 210,
     "metadata": {},
     "output_type": "execute_result"
    }
   ],
   "source": [
    "path"
   ]
  },
  {
   "cell_type": "code",
   "execution_count": 211,
   "id": "aa64e674-0180-4788-8fa2-e9ecf3a41d75",
   "metadata": {},
   "outputs": [
    {
     "data": {
      "text/plain": [
       "1652037530.0807319"
      ]
     },
     "execution_count": 211,
     "metadata": {},
     "output_type": "execute_result"
    }
   ],
   "source": [
    "os.path.getmtime(path)"
   ]
  },
  {
   "cell_type": "code",
   "execution_count": 212,
   "id": "66bb6aea-7438-419b-9882-7bb61df99dc9",
   "metadata": {},
   "outputs": [
    {
     "data": {
      "text/plain": [
       "52.38576642823224"
      ]
     },
     "execution_count": 212,
     "metadata": {},
     "output_type": "execute_result"
    }
   ],
   "source": [
    "os.path.getmtime(path) / 3600 / 24 / 365"
   ]
  },
  {
   "cell_type": "code",
   "execution_count": 213,
   "id": "e4f4a8b6-0fe2-4a60-a22f-6e18450dafeb",
   "metadata": {},
   "outputs": [],
   "source": [
    "from datetime import datetime"
   ]
  },
  {
   "cell_type": "code",
   "execution_count": 214,
   "id": "9b012173-66a9-4473-a4ae-119e5ed888db",
   "metadata": {},
   "outputs": [
    {
     "data": {
      "text/plain": [
       "datetime.datetime(2022, 5, 9, 4, 42, 24, 917311)"
      ]
     },
     "execution_count": 214,
     "metadata": {},
     "output_type": "execute_result"
    }
   ],
   "source": [
    "datetime.now()"
   ]
  },
  {
   "cell_type": "code",
   "execution_count": 215,
   "id": "abc6bc4f-9be9-4634-ae0d-71407975898e",
   "metadata": {},
   "outputs": [
    {
     "data": {
      "text/plain": [
       "datetime.datetime(2022, 5, 9, 3, 18, 50, 80732)"
      ]
     },
     "execution_count": 215,
     "metadata": {},
     "output_type": "execute_result"
    }
   ],
   "source": [
    "datetime.fromtimestamp(os.path.getmtime(path))"
   ]
  },
  {
   "cell_type": "code",
   "execution_count": 216,
   "id": "d37dcaf5-f933-456c-a12c-338570b2f770",
   "metadata": {},
   "outputs": [
    {
     "data": {
      "text/plain": [
       "'2022-05-09 03:18:50'"
      ]
     },
     "execution_count": 216,
     "metadata": {},
     "output_type": "execute_result"
    }
   ],
   "source": [
    "datetime.strftime(datetime.fromtimestamp(os.path.getmtime(path)), '%Y-%m-%d %H:%M:%S')"
   ]
  },
  {
   "cell_type": "markdown",
   "id": "51697450-7223-4f9e-9a1f-0b0cf2e80c7f",
   "metadata": {},
   "source": [
    "#### 获取大小"
   ]
  },
  {
   "cell_type": "code",
   "execution_count": 217,
   "id": "051766dd-1ef8-4b5f-a8f3-53ffb0f2563d",
   "metadata": {},
   "outputs": [
    {
     "data": {
      "text/plain": [
       "4096"
      ]
     },
     "execution_count": 217,
     "metadata": {},
     "output_type": "execute_result"
    }
   ],
   "source": [
    "os.path.getsize(path) # B"
   ]
  },
  {
   "cell_type": "code",
   "execution_count": 218,
   "id": "0ceeaf51-5c3c-4912-a344-f455f53e0f0b",
   "metadata": {},
   "outputs": [
    {
     "data": {
      "text/plain": [
       "177978"
      ]
     },
     "execution_count": 218,
     "metadata": {},
     "output_type": "execute_result"
    }
   ],
   "source": [
    "os.path.getsize('投行申报.zip')"
   ]
  },
  {
   "cell_type": "code",
   "execution_count": 219,
   "id": "0f702ffd-d556-4956-9fe7-e4725bdeadcd",
   "metadata": {},
   "outputs": [
    {
     "data": {
      "text/plain": [
       "173.806640625"
      ]
     },
     "execution_count": 219,
     "metadata": {},
     "output_type": "execute_result"
    }
   ],
   "source": [
    "os.path.getsize('投行申报.zip') / 1024"
   ]
  },
  {
   "cell_type": "markdown",
   "id": "3c8e3bc6-54e0-4f12-89be-06d61dbf2dec",
   "metadata": {},
   "source": [
    "#### 改写优化"
   ]
  },
  {
   "cell_type": "code",
   "execution_count": 268,
   "id": "f8f9a3ad-5c51-406b-b586-3f008ce9962e",
   "metadata": {},
   "outputs": [],
   "source": [
    "## 先判断追加子项，子项再递归判断孙子\n",
    "tree_list = []\n",
    "def tree(file_path, tree_list, depth):\n",
    "    node_list = os.listdir(file_path)\n",
    "    current_name = os.path.basename(file_path)\n",
    "    if node_list != []: # 如果有子文件夹\n",
    "        sub_depth = depth + 1  #深度+1\n",
    "        for node in node_list:\n",
    "            node_path = os.path.join(file_path, node) # 拼接新目录\n",
    "            ###########获取大小##############\n",
    "            size = os.path.getsize(node_path)\n",
    "            ###########获取时间##############\n",
    "            update_time = datetime.strftime(datetime.fromtimestamp(os.path.getmtime(node_path)), '%Y-%m-%d %H:%M:%S')\n",
    "            if os.path.isdir(node_path):\n",
    "                count = len(os.listdir(node_path))\n",
    "                node_dict = {'名称': node, '父项': current_name, '深度': sub_depth, '类型': '文件夹', '子项数': count, '大小': size, '更新时间': update_time}\n",
    "                tree_list.append(node_dict) # 先追加子项，再到递归孙子项\n",
    "                tree(node_path, tree_list, sub_depth) # 递归调用\n",
    "            elif os.path.isfile(node_path):\n",
    "                node_dict = {'名称': node, '父项': current_name, '深度': sub_depth, '类型': '文件', '子项数': count, '大小': size, '更新时间': update_time}\n",
    "                tree_list.append(node_dict)\n",
    "            else:\n",
    "                node_dict = {'名称': node, '父项': current_name, '深度': sub_depth, '类型': '其他', '子项数': count, '大小': size, '更新时间': update_time}\n",
    "                tree_list.append(node_dict)\n",
    "tree(path, tree_list, 0)"
   ]
  },
  {
   "cell_type": "code",
   "execution_count": 269,
   "id": "bfb59660-7c17-455a-8425-f3876041d657",
   "metadata": {},
   "outputs": [
    {
     "data": {
      "text/html": [
       "<div>\n",
       "<style scoped>\n",
       "    .dataframe tbody tr th:only-of-type {\n",
       "        vertical-align: middle;\n",
       "    }\n",
       "\n",
       "    .dataframe tbody tr th {\n",
       "        vertical-align: top;\n",
       "    }\n",
       "\n",
       "    .dataframe thead th {\n",
       "        text-align: right;\n",
       "    }\n",
       "</style>\n",
       "<table border=\"1\" class=\"dataframe\">\n",
       "  <thead>\n",
       "    <tr style=\"text-align: right;\">\n",
       "      <th></th>\n",
       "      <th>名称</th>\n",
       "      <th>父项</th>\n",
       "      <th>深度</th>\n",
       "      <th>类型</th>\n",
       "      <th>子项数</th>\n",
       "      <th>大小</th>\n",
       "      <th>更新时间</th>\n",
       "    </tr>\n",
       "  </thead>\n",
       "  <tbody>\n",
       "    <tr>\n",
       "      <th>0</th>\n",
       "      <td>1 发行人基本情况调查</td>\n",
       "      <td>投行申报</td>\n",
       "      <td>1</td>\n",
       "      <td>文件夹</td>\n",
       "      <td>13</td>\n",
       "      <td>4096</td>\n",
       "      <td>2022-05-09 04:19:26</td>\n",
       "    </tr>\n",
       "    <tr>\n",
       "      <th>1</th>\n",
       "      <td>1-1 历史沿革情况</td>\n",
       "      <td>1 发行人基本情况调查</td>\n",
       "      <td>2</td>\n",
       "      <td>文件夹</td>\n",
       "      <td>12</td>\n",
       "      <td>4096</td>\n",
       "      <td>2022-05-03 00:24:18</td>\n",
       "    </tr>\n",
       "    <tr>\n",
       "      <th>2</th>\n",
       "      <td>1-1-1 发行人设立及历次工商变更登记文件，历次股权变动涉及的三会决议、股权转让协议或增减...</td>\n",
       "      <td>1-1 历史沿革情况</td>\n",
       "      <td>3</td>\n",
       "      <td>文件夹</td>\n",
       "      <td>0</td>\n",
       "      <td>0</td>\n",
       "      <td>2022-05-02 23:48:03</td>\n",
       "    </tr>\n",
       "    <tr>\n",
       "      <th>3</th>\n",
       "      <td>1-1-10 发行人境外控制架构设置的相关资料，涉及红筹架构形成及拆除的相关资料（如有）</td>\n",
       "      <td>1-1 历史沿革情况</td>\n",
       "      <td>3</td>\n",
       "      <td>文件夹</td>\n",
       "      <td>0</td>\n",
       "      <td>0</td>\n",
       "      <td>2022-05-02 23:48:03</td>\n",
       "    </tr>\n",
       "    <tr>\n",
       "      <th>4</th>\n",
       "      <td>1-1-11 发行人成立时拥有的主要资产和业务情况的说明</td>\n",
       "      <td>1-1 历史沿革情况</td>\n",
       "      <td>3</td>\n",
       "      <td>文件夹</td>\n",
       "      <td>0</td>\n",
       "      <td>0</td>\n",
       "      <td>2022-05-02 23:48:03</td>\n",
       "    </tr>\n",
       "    <tr>\n",
       "      <th>...</th>\n",
       "      <td>...</td>\n",
       "      <td>...</td>\n",
       "      <td>...</td>\n",
       "      <td>...</td>\n",
       "      <td>...</td>\n",
       "      <td>...</td>\n",
       "      <td>...</td>\n",
       "    </tr>\n",
       "    <tr>\n",
       "      <th>539</th>\n",
       "      <td>9 工作执行记录</td>\n",
       "      <td>投行申报</td>\n",
       "      <td>1</td>\n",
       "      <td>文件夹</td>\n",
       "      <td>4</td>\n",
       "      <td>4096</td>\n",
       "      <td>2022-05-03 00:24:20</td>\n",
       "    </tr>\n",
       "    <tr>\n",
       "      <th>540</th>\n",
       "      <td>9-1 保荐机构项目人员配置情况，各人员从事的具体工作，以及相关人员在项目中发挥的作用的相关记录</td>\n",
       "      <td>9 工作执行记录</td>\n",
       "      <td>2</td>\n",
       "      <td>文件夹</td>\n",
       "      <td>0</td>\n",
       "      <td>0</td>\n",
       "      <td>2022-05-02 23:48:03</td>\n",
       "    </tr>\n",
       "    <tr>\n",
       "      <th>541</th>\n",
       "      <td>9-2 定期会议的会议资料以及会议记录</td>\n",
       "      <td>9 工作执行记录</td>\n",
       "      <td>2</td>\n",
       "      <td>文件夹</td>\n",
       "      <td>0</td>\n",
       "      <td>0</td>\n",
       "      <td>2022-05-02 23:48:03</td>\n",
       "    </tr>\n",
       "    <tr>\n",
       "      <th>542</th>\n",
       "      <td>9-3 重大事项的专题讨论会的会议资料及会议纪要</td>\n",
       "      <td>9 工作执行记录</td>\n",
       "      <td>2</td>\n",
       "      <td>文件夹</td>\n",
       "      <td>0</td>\n",
       "      <td>0</td>\n",
       "      <td>2022-05-02 23:48:03</td>\n",
       "    </tr>\n",
       "    <tr>\n",
       "      <th>543</th>\n",
       "      <td>9-4 按照证监会保荐业务管理相关规定制作的工作日志（请使用模板“项目工作日志.docx”）</td>\n",
       "      <td>9 工作执行记录</td>\n",
       "      <td>2</td>\n",
       "      <td>文件夹</td>\n",
       "      <td>0</td>\n",
       "      <td>0</td>\n",
       "      <td>2022-05-02 23:48:03</td>\n",
       "    </tr>\n",
       "  </tbody>\n",
       "</table>\n",
       "<p>544 rows × 7 columns</p>\n",
       "</div>"
      ],
      "text/plain": [
       "                                                    名称           父项  深度   类型  \\\n",
       "0                                          1 发行人基本情况调查         投行申报   1  文件夹   \n",
       "1                                           1-1 历史沿革情况  1 发行人基本情况调查   2  文件夹   \n",
       "2    1-1-1 发行人设立及历次工商变更登记文件，历次股权变动涉及的三会决议、股权转让协议或增减...   1-1 历史沿革情况   3  文件夹   \n",
       "3         1-1-10 发行人境外控制架构设置的相关资料，涉及红筹架构形成及拆除的相关资料（如有）   1-1 历史沿革情况   3  文件夹   \n",
       "4                         1-1-11 发行人成立时拥有的主要资产和业务情况的说明   1-1 历史沿革情况   3  文件夹   \n",
       "..                                                 ...          ...  ..  ...   \n",
       "539                                           9 工作执行记录         投行申报   1  文件夹   \n",
       "540   9-1 保荐机构项目人员配置情况，各人员从事的具体工作，以及相关人员在项目中发挥的作用的相关记录     9 工作执行记录   2  文件夹   \n",
       "541                                9-2 定期会议的会议资料以及会议记录     9 工作执行记录   2  文件夹   \n",
       "542                           9-3 重大事项的专题讨论会的会议资料及会议纪要     9 工作执行记录   2  文件夹   \n",
       "543     9-4 按照证监会保荐业务管理相关规定制作的工作日志（请使用模板“项目工作日志.docx”）     9 工作执行记录   2  文件夹   \n",
       "\n",
       "     子项数    大小                 更新时间  \n",
       "0     13  4096  2022-05-09 04:19:26  \n",
       "1     12  4096  2022-05-03 00:24:18  \n",
       "2      0     0  2022-05-02 23:48:03  \n",
       "3      0     0  2022-05-02 23:48:03  \n",
       "4      0     0  2022-05-02 23:48:03  \n",
       "..   ...   ...                  ...  \n",
       "539    4  4096  2022-05-03 00:24:20  \n",
       "540    0     0  2022-05-02 23:48:03  \n",
       "541    0     0  2022-05-02 23:48:03  \n",
       "542    0     0  2022-05-02 23:48:03  \n",
       "543    0     0  2022-05-02 23:48:03  \n",
       "\n",
       "[544 rows x 7 columns]"
      ]
     },
     "execution_count": 269,
     "metadata": {},
     "output_type": "execute_result"
    }
   ],
   "source": [
    "tree_pandas = pd.DataFrame(tree_list)\n",
    "tree_pandas"
   ]
  },
  {
   "cell_type": "markdown",
   "id": "5f8bf7a6-71a7-467a-929e-ee108485fd11",
   "metadata": {},
   "source": [
    "### 通过目录树来生成文件夹"
   ]
  },
  {
   "cell_type": "code",
   "execution_count": 270,
   "id": "53f73adb-9146-4dc0-b226-8ac4dc39a328",
   "metadata": {},
   "outputs": [],
   "source": [
    "tree_pandas.to_excel('投行申报目录树.xlsx', index=False)"
   ]
  },
  {
   "cell_type": "markdown",
   "id": "201e29db-a78e-4bad-975a-3bdfa6c924c2",
   "metadata": {},
   "source": [
    "#### 不用makedirs生成文件夹-按深度排序"
   ]
  },
  {
   "cell_type": "code",
   "execution_count": 271,
   "id": "f6ad7a74-3bd4-4a7f-99c2-c2253e2fd413",
   "metadata": {},
   "outputs": [],
   "source": [
    "tree_pandas_dir = tree_pandas[tree_pandas['类型'] == '文件夹'] "
   ]
  },
  {
   "cell_type": "code",
   "execution_count": 273,
   "id": "86b77892-02ad-46ef-a972-5059c6a79853",
   "metadata": {},
   "outputs": [],
   "source": [
    "file_sort = tree_pandas_dir.sort_values(by='深度')"
   ]
  },
  {
   "cell_type": "code",
   "execution_count": 274,
   "id": "e5d8a7b4-4a38-4b94-8ddd-8727e61b6515",
   "metadata": {
    "tags": []
   },
   "outputs": [
    {
     "data": {
      "text/html": [
       "<div>\n",
       "<style scoped>\n",
       "    .dataframe tbody tr th:only-of-type {\n",
       "        vertical-align: middle;\n",
       "    }\n",
       "\n",
       "    .dataframe tbody tr th {\n",
       "        vertical-align: top;\n",
       "    }\n",
       "\n",
       "    .dataframe thead th {\n",
       "        text-align: right;\n",
       "    }\n",
       "</style>\n",
       "<table border=\"1\" class=\"dataframe\">\n",
       "  <thead>\n",
       "    <tr style=\"text-align: right;\">\n",
       "      <th></th>\n",
       "      <th>名称</th>\n",
       "      <th>父项</th>\n",
       "      <th>深度</th>\n",
       "      <th>类型</th>\n",
       "      <th>子项数</th>\n",
       "      <th>大小</th>\n",
       "      <th>更新时间</th>\n",
       "    </tr>\n",
       "  </thead>\n",
       "  <tbody>\n",
       "    <tr>\n",
       "      <th>0</th>\n",
       "      <td>1 发行人基本情况调查</td>\n",
       "      <td>投行申报</td>\n",
       "      <td>1</td>\n",
       "      <td>文件夹</td>\n",
       "      <td>13</td>\n",
       "      <td>4096</td>\n",
       "      <td>2022-05-09 04:19:26</td>\n",
       "    </tr>\n",
       "    <tr>\n",
       "      <th>506</th>\n",
       "      <td>7 风险因素及其他重要事项调查</td>\n",
       "      <td>投行申报</td>\n",
       "      <td>1</td>\n",
       "      <td>文件夹</td>\n",
       "      <td>6</td>\n",
       "      <td>4096</td>\n",
       "      <td>2022-05-03 00:24:20</td>\n",
       "    </tr>\n",
       "    <tr>\n",
       "      <th>182</th>\n",
       "      <td>3 公司治理与独立性调查</td>\n",
       "      <td>投行申报</td>\n",
       "      <td>1</td>\n",
       "      <td>文件夹</td>\n",
       "      <td>12</td>\n",
       "      <td>4096</td>\n",
       "      <td>2022-05-03 00:24:19</td>\n",
       "    </tr>\n",
       "    <tr>\n",
       "      <th>444</th>\n",
       "      <td>5 募集资金运用情况和业务发展目标调查</td>\n",
       "      <td>投行申报</td>\n",
       "      <td>1</td>\n",
       "      <td>文件夹</td>\n",
       "      <td>6</td>\n",
       "      <td>4096</td>\n",
       "      <td>2022-05-03 00:24:20</td>\n",
       "    </tr>\n",
       "    <tr>\n",
       "      <th>264</th>\n",
       "      <td>4 财务与会计调查</td>\n",
       "      <td>投行申报</td>\n",
       "      <td>1</td>\n",
       "      <td>文件夹</td>\n",
       "      <td>25</td>\n",
       "      <td>8192</td>\n",
       "      <td>2022-05-03 00:24:20</td>\n",
       "    </tr>\n",
       "    <tr>\n",
       "      <th>...</th>\n",
       "      <td>...</td>\n",
       "      <td>...</td>\n",
       "      <td>...</td>\n",
       "      <td>...</td>\n",
       "      <td>...</td>\n",
       "      <td>...</td>\n",
       "      <td>...</td>\n",
       "    </tr>\n",
       "    <tr>\n",
       "      <th>239</th>\n",
       "      <td>3-5-2 发行人因违反工商、税务、审计、环保、劳动保护等部门的相关规定而受到处罚的情况</td>\n",
       "      <td>3-5 业务控制</td>\n",
       "      <td>3</td>\n",
       "      <td>文件夹</td>\n",
       "      <td>0</td>\n",
       "      <td>0</td>\n",
       "      <td>2022-05-02 23:48:03</td>\n",
       "    </tr>\n",
       "    <tr>\n",
       "      <th>238</th>\n",
       "      <td>3-5-1 发行人关于各类业务的控制标准、控制措施的相关制度规定</td>\n",
       "      <td>3-5 业务控制</td>\n",
       "      <td>3</td>\n",
       "      <td>文件夹</td>\n",
       "      <td>0</td>\n",
       "      <td>0</td>\n",
       "      <td>2022-05-02 23:48:03</td>\n",
       "    </tr>\n",
       "    <tr>\n",
       "      <th>236</th>\n",
       "      <td>3-4-6 结合对上述文件的审阅，对发行人内部控制环境了解工作的有关记录和评价结论</td>\n",
       "      <td>3-4 内部控制环境</td>\n",
       "      <td>3</td>\n",
       "      <td>文件夹</td>\n",
       "      <td>0</td>\n",
       "      <td>0</td>\n",
       "      <td>2022-05-02 23:48:03</td>\n",
       "    </tr>\n",
       "    <tr>\n",
       "      <th>248</th>\n",
       "      <td>3-7-2 发行人财务部岗位设置和人员配备</td>\n",
       "      <td>3-7 会计管理控制</td>\n",
       "      <td>3</td>\n",
       "      <td>文件夹</td>\n",
       "      <td>0</td>\n",
       "      <td>0</td>\n",
       "      <td>2022-05-02 23:48:03</td>\n",
       "    </tr>\n",
       "    <tr>\n",
       "      <th>272</th>\n",
       "      <td>4-1-7 境内外报表差异调节表（如有）</td>\n",
       "      <td>4-1 财务报告及相关财务资料</td>\n",
       "      <td>3</td>\n",
       "      <td>文件夹</td>\n",
       "      <td>0</td>\n",
       "      <td>0</td>\n",
       "      <td>2022-05-02 23:48:03</td>\n",
       "    </tr>\n",
       "  </tbody>\n",
       "</table>\n",
       "<p>543 rows × 7 columns</p>\n",
       "</div>"
      ],
      "text/plain": [
       "                                               名称               父项  深度   类型  \\\n",
       "0                                     1 发行人基本情况调查             投行申报   1  文件夹   \n",
       "506                               7 风险因素及其他重要事项调查             投行申报   1  文件夹   \n",
       "182                                  3 公司治理与独立性调查             投行申报   1  文件夹   \n",
       "444                           5 募集资金运用情况和业务发展目标调查             投行申报   1  文件夹   \n",
       "264                                     4 财务与会计调查             投行申报   1  文件夹   \n",
       "..                                            ...              ...  ..  ...   \n",
       "239  3-5-2 发行人因违反工商、税务、审计、环保、劳动保护等部门的相关规定而受到处罚的情况         3-5 业务控制   3  文件夹   \n",
       "238              3-5-1 发行人关于各类业务的控制标准、控制措施的相关制度规定         3-5 业务控制   3  文件夹   \n",
       "236     3-4-6 结合对上述文件的审阅，对发行人内部控制环境了解工作的有关记录和评价结论       3-4 内部控制环境   3  文件夹   \n",
       "248                         3-7-2 发行人财务部岗位设置和人员配备       3-7 会计管理控制   3  文件夹   \n",
       "272                          4-1-7 境内外报表差异调节表（如有）  4-1 财务报告及相关财务资料   3  文件夹   \n",
       "\n",
       "     子项数    大小                 更新时间  \n",
       "0     13  4096  2022-05-09 04:19:26  \n",
       "506    6  4096  2022-05-03 00:24:20  \n",
       "182   12  4096  2022-05-03 00:24:19  \n",
       "444    6  4096  2022-05-03 00:24:20  \n",
       "264   25  8192  2022-05-03 00:24:20  \n",
       "..   ...   ...                  ...  \n",
       "239    0     0  2022-05-02 23:48:03  \n",
       "238    0     0  2022-05-02 23:48:03  \n",
       "236    0     0  2022-05-02 23:48:03  \n",
       "248    0     0  2022-05-02 23:48:03  \n",
       "272    0     0  2022-05-02 23:48:03  \n",
       "\n",
       "[543 rows x 7 columns]"
      ]
     },
     "execution_count": 274,
     "metadata": {},
     "output_type": "execute_result"
    }
   ],
   "source": [
    "file_sort"
   ]
  },
  {
   "cell_type": "markdown",
   "id": "67d133bb-c869-4b02-86b5-1b473d634dfc",
   "metadata": {},
   "source": [
    "#### 将{子项名称：父项名称}存到字典"
   ]
  },
  {
   "cell_type": "code",
   "execution_count": 280,
   "id": "ac3d6820-29a8-48ee-be10-5c1032ae8c95",
   "metadata": {},
   "outputs": [
    {
     "data": {
      "text/plain": [
       "3"
      ]
     },
     "execution_count": 280,
     "metadata": {},
     "output_type": "execute_result"
    }
   ],
   "source": [
    "a = {1:1}\n",
    "a.setdefault(1, 2)\n",
    "a.setdefault(2, 3)"
   ]
  },
  {
   "cell_type": "code",
   "execution_count": 281,
   "id": "69b1063d-065d-4fb6-8aa1-984f5857429d",
   "metadata": {},
   "outputs": [
    {
     "data": {
      "text/plain": [
       "{1: 1, 2: 3}"
      ]
     },
     "execution_count": 281,
     "metadata": {},
     "output_type": "execute_result"
    }
   ],
   "source": [
    "a"
   ]
  },
  {
   "cell_type": "code",
   "execution_count": 282,
   "id": "58f7ccbc-5a83-405a-bf01-690301f81f01",
   "metadata": {},
   "outputs": [
    {
     "data": {
      "text/plain": [
       "0                 投行申报\n",
       "506               投行申报\n",
       "182               投行申报\n",
       "444               投行申报\n",
       "264               投行申报\n",
       "            ...       \n",
       "239           3-5 业务控制\n",
       "238           3-5 业务控制\n",
       "236         3-4 内部控制环境\n",
       "248         3-7 会计管理控制\n",
       "272    4-1 财务报告及相关财务资料\n",
       "Length: 543, dtype: object"
      ]
     },
     "execution_count": 282,
     "metadata": {},
     "output_type": "execute_result"
    }
   ],
   "source": [
    "# 基于每个目录名称都不一样！\n",
    "total_node = {}\n",
    "file_sort.apply(lambda x : total_node.setdefault(x['名称'], x['父项']), axis=1)"
   ]
  },
  {
   "cell_type": "code",
   "execution_count": 283,
   "id": "ba358485-fd3b-407d-893a-48e918be3129",
   "metadata": {
    "collapsed": true,
    "jupyter": {
     "outputs_hidden": true
    },
    "tags": []
   },
   "outputs": [
    {
     "data": {
      "text/plain": [
       "{'1 发行人基本情况调查': '投行申报',\n",
       " '7 风险因素及其他重要事项调查': '投行申报',\n",
       " '3 公司治理与独立性调查': '投行申报',\n",
       " '5 募集资金运用情况和业务发展目标调查': '投行申报',\n",
       " '4 财务与会计调查': '投行申报',\n",
       " '2 业务与技术调查': '投行申报',\n",
       " '8 与其他证券服务机构的协作': '投行申报',\n",
       " '9 工作执行记录': '投行申报',\n",
       " '10 建议书与备忘录': '投行申报',\n",
       " '6 投资者保护调查': '投行申报',\n",
       " '4-10 存货': '4 财务与会计调查',\n",
       " '4-15 投资性房地产': '4 财务与会计调查',\n",
       " '3-4 内部控制环境': '3 公司治理与独立性调查',\n",
       " '9-3 重大事项的专题讨论会的会议资料及会议纪要': '9 工作执行记录',\n",
       " '4-1 财务报告及相关财务资料': '4 财务与会计调查',\n",
       " '4-16 主要债务': '4 财务与会计调查',\n",
       " '4-14 商誉': '4 财务与会计调查',\n",
       " '3-9 商业信用情况': '3 公司治理与独立性调查',\n",
       " '4-17 现金流量': '4 财务与会计调查',\n",
       " '4-12 固定资产、在建工程': '4 财务与会计调查',\n",
       " '3-8 内部控制的监督': '3 公司治理与独立性调查',\n",
       " '3-7 会计管理控制': '3 公司治理与独立性调查',\n",
       " '3-6 信息系统控制': '3 公司治理与独立性调查',\n",
       " '3-5 业务控制': '3 公司治理与独立性调查',\n",
       " '4-11 重要的对外投资（合并范围内的子公司除外）': '4 财务与会计调查',\n",
       " '4-13 无形资产、开发支出': '4 财务与会计调查',\n",
       " '3-12 关联方及关联交易情况': '3 公司治理与独立性调查',\n",
       " '3-2 组织结构和三会运作情况': '3 公司治理与独立性调查',\n",
       " '10-1 为发行人出具的项目建议书、改制方案及其他规范方案': '10 建议书与备忘录',\n",
       " '10-2 保荐机构就重大或专题事项出具的备忘录': '10 建议书与备忘录',\n",
       " '10-3 发行人律师就重大或专题事项出具的备忘录': '10 建议书与备忘录',\n",
       " '10-4 会计师就重大或专题事项出具的备忘录': '10 建议书与备忘录',\n",
       " '10-5 评估师就重大或专题事项出具的备忘录': '10 建议书与备忘录',\n",
       " '10-6 承销商律师就重大或专题事项出具的备忘录': '10 建议书与备忘录',\n",
       " '10-7 其他中介机构就重大或专题事项出具的备忘录': '10 建议书与备忘录',\n",
       " '10-8 本次发行的保荐机构及证券服务机构等作出的重要承诺': '10 建议书与备忘录',\n",
       " '2-1 行业情况及竞争状况': '2 业务与技术调查',\n",
       " '2-2 销售情况': '2 业务与技术调查',\n",
       " '2-3 采购情况': '2 业务与技术调查',\n",
       " '2-4 生产情况': '2 业务与技术调查',\n",
       " '2-5 核心技术人员、技术与研发情况': '2 业务与技术调查',\n",
       " '3-1 公司章程及其规范运行情况': '3 公司治理与独立性调查',\n",
       " '3-10 独立情况': '3 公司治理与独立性调查',\n",
       " '3-11 同业竞争情况': '3 公司治理与独立性调查',\n",
       " '4-18 合并报表的范围': '4 财务与会计调查',\n",
       " '3-3 独立董事制度及其执行情况': '3 公司治理与独立性调查',\n",
       " '4-19 纳税情况': '4 财务与会计调查',\n",
       " '4-21 发行人关于股份支付会计处理的说明及相关底稿': '4 财务与会计调查',\n",
       " '4-20 盈利预测': '4 财务与会计调查',\n",
       " '6-5 发行前滚存利润分配安排': '6 投资者保护调查',\n",
       " '6-6 股东投票机制的建立情况，包括采取累积投票制选举公司董事、监事，中小投资者单独计票机制，法定事项采取网络投票方式召开股东大会进行审议表决、征集投票权的相关安排等（如有）': '6 投资者保护调查',\n",
       " '7-1 既往经营业绩发生重大变动或历次重大事件的相关资料': '7 风险因素及其他重要事项调查',\n",
       " '7-2 重大合同（包括已履行完毕但属于报告期内且对发行人有重要影响的合同）（对应招股书披露内容，已提供的部分合同可参见其他章节）': '7 风险因素及其他重要事项调查',\n",
       " '7-3 诉讼和担保情况': '7 风险因素及其他重要事项调查',\n",
       " '7-4 评估价值': '7 风险因素及其他重要事项调查',\n",
       " '7-5 发行人符合创业板定位的相关资料和说明': '7 风险因素及其他重要事项调查',\n",
       " '7-6 尚未盈利或存在累计未弥补亏损': '7 风险因素及其他重要事项调查',\n",
       " '6-4 股利分配政策': '6 投资者保护调查',\n",
       " '8-1 其他证券服务机构及签字人员的业务资质': '8 与其他证券服务机构的协作',\n",
       " '8-3 对于其他证券服务机构专业意见以及报告中重大异常、前后重大矛盾、重大差异情形的核查说明及相关资料（包括重要事项的会计处理不符合行业惯例；含有重大无先例会计事项；专业意见与法律法规、监管规定、自律规则等要求或者行业惯例存在重大差异；专业意见所依赖的假设前提明显不合理、核查程序、核查工作范围等明显不合理等）（如有）': '8 与其他证券服务机构的协作',\n",
       " '8-4 执业中介机构营业执照复印件': '8 与其他证券服务机构的协作',\n",
       " '8-5 执业注册会计师': '8 与其他证券服务机构的协作',\n",
       " '8-6 执业中介机构项目小组成员名单及简历（包括签字会计师': '8 与其他证券服务机构的协作',\n",
       " '8-7 执业中介机构及其项目小组成员（包括签字会计师': '8 与其他证券服务机构的协作',\n",
       " '8-8 执业中介机构项目小组成员独立性声明（包括签字会计师': '8 与其他证券服务机构的协作',\n",
       " '9-1 保荐机构项目人员配置情况，各人员从事的具体工作，以及相关人员在项目中发挥的作用的相关记录': '9 工作执行记录',\n",
       " '9-2 定期会议的会议资料以及会议记录': '9 工作执行记录',\n",
       " '8-2 对其他证券服务机构关于核查程序及取得的关键性证据、核查工作范围及核查结论等的访谈记录及其他相关复核过程资料': '8 与其他证券服务机构的协作',\n",
       " '4-2 会计政策、会计估计及会计差错更正': '4 财务与会计调查',\n",
       " '6-3 信息披露制度的建设和执行情况': '6 投资者保护调查',\n",
       " '6-1 保护投资者合法权益规定的各项措施': '6 投资者保护调查',\n",
       " '1-9 董事、监事和高级管理人员胜任能力和勤勉尽责': '1 发行人基本情况调查',\n",
       " '4-22 其他科目异常情况核查': '4 财务与会计调查',\n",
       " '4-23 报告期内发行人主要财务指标情况表': '4 财务与会计调查',\n",
       " '4-24 历次验资报告': '4 财务与会计调查',\n",
       " '4-25 相关银行账户资金流水': '4 财务与会计调查',\n",
       " '4-3 有关评估报告': '4 财务与会计调查',\n",
       " '4-4 销售收入': '4 财务与会计调查',\n",
       " '4-5 营业成本与销售毛利': '4 财务与会计调查',\n",
       " '6-2 承诺事项履行情况': '6 投资者保护调查',\n",
       " '4-6 期间费用': '4 财务与会计调查',\n",
       " '4-8 货币资金': '4 财务与会计调查',\n",
       " '4-9 应收款项、合同资产': '4 财务与会计调查',\n",
       " '5-1 前次募集资金使用情况（如有）': '5 募集资金运用情况和业务发展目标调查',\n",
       " '5-2 本次募集资金运用的相关资料': '5 募集资金运用情况和业务发展目标调查',\n",
       " '5-3 募集资金投向产生的关联交易': '5 募集资金运用情况和业务发展目标调查',\n",
       " '5-4 发展战略': '5 募集资金运用情况和业务发展目标调查',\n",
       " '5-5 业务发展目标': '5 募集资金运用情况和业务发展目标调查',\n",
       " '5-6 关于募集资金管理的相关制度': '5 募集资金运用情况和业务发展目标调查',\n",
       " '4-7 政府补助、非经常性损益': '4 财务与会计调查',\n",
       " '1-8 董事、监事和高级管理人员的经历及行为操守': '1 发行人基本情况调查',\n",
       " '9-4 按照证监会保荐业务管理相关规定制作的工作日志（请使用模板“项目工作日志.docx”）': '9 工作执行记录',\n",
       " '1-1 历史沿革情况': '1 发行人基本情况调查',\n",
       " '1-5 发行人控股子公司和重要参股公司情况': '1 发行人基本情况调查',\n",
       " '1-3 内部职工股（如适用）': '1 发行人基本情况调查',\n",
       " '1-2 企业改制与设立情况（国有企业、集体企业改制而来的或历史上存在挂靠集体组织经营的企业）': '1 发行人基本情况调查',\n",
       " '1-13 员工情况': '1 发行人基本情况调查',\n",
       " '1-11 报告期内董事、监事、高级管理人员及其他核心人员变动': '1 发行人基本情况调查',\n",
       " '1-7 董事、监事和高级管理人员任职情况和任职资格': '1 发行人基本情况调查',\n",
       " '1-10 董事、监事、高级管理人员及其他核心人员薪酬及兼职情况': '1 发行人基本情况调查',\n",
       " '1-12 董事、监事、高级管理人员及其他核心人员持股及其他对外投资等情况': '1 发行人基本情况调查',\n",
       " '1-6 控股股东及实际控制人、发起人及股东情况': '1 发行人基本情况调查',\n",
       " '1-4 重大重组情况': '1 发行人基本情况调查',\n",
       " '1-8-1 董事、监事、高级管理人员及其他核心人员简历、基本情况、关联关系调查表': '1-8 董事、监事和高级管理人员的经历及行为操守',\n",
       " '4-4-10 发行人异常交易核查情况': '4-4 销售收入',\n",
       " '4-4-11 产销量或合同订单完成量等业务执行数据与财务确认数据的一致性': '4-4 销售收入',\n",
       " '4-4-12 电商、互联网信息服务、互联网营销企业': '4-4 销售收入',\n",
       " '4-4-13 单一大客户核查': '4-4 销售收入',\n",
       " '4-4-2 发行人报告期内主要产品或服务价格变动的资料及原因分析及相关资料，变动趋势与市场上相同或相近产品或服务的信息及其走势相比是否存在显著异常': '4-4 销售收入',\n",
       " '4-4-1 发行人收入的确认政策、产品构成、地域构成、销售模式构成及其变动情况的详细资料': '4-4 销售收入',\n",
       " '1-13-9 员工访谈记录': '1-13 员工情况',\n",
       " '4-3-1 公司设立时（含有限责任公司改制期间）及报告期内历次资产评估报告': '4-3 有关评估报告',\n",
       " '4-3-2 公司设立时（含有限责任公司改制期间）及报告期内历次土地评估报告': '4-3 有关评估报告',\n",
       " '4-25-9 发行人同一账户或不同账户之间，是否存在金额、日期相近的异常大额资金进出的情形，存在请截图': '4-25 相关银行账户资金流水',\n",
       " '4-25-8 发行人相关账户大额取现的情况核查': '4-25 相关银行账户资金流水',\n",
       " '4-25-7 发行人大额资金往来是否存在重大异常核查，是否与公司经营活动、资产购置、对外投资等不相匹配': '4-25 相关银行账户资金流水',\n",
       " '4-25-6 发行人关键岗位人员的银行账户流水核查': '4-25 相关银行账户资金流水',\n",
       " '4-25-5 发行人高管的银行账户流水核查': '4-25 相关银行账户资金流水',\n",
       " '4-25-4 发行人监事的银行账户流水核查': '4-25 相关银行账户资金流水',\n",
       " '4-25-3 发行人董事的银行账户流水核查': '4-25 相关银行账户资金流水',\n",
       " '4-25-2 发行人主要关联方的银行账户流水核查': '4-25 相关银行账户资金流水',\n",
       " '4-25-12 是否存在关联方代发行人收取客户款项或支付供应商款项的核查': '4-25 相关银行账户资金流水',\n",
       " '4-25-11 控股股东、实际控制人、董事、监事、高管、关键岗位人员与发行人关联方、客户、供应商之间异常大额资金往来的核查': '4-25 相关银行账户资金流水',\n",
       " '4-3-3 其他评估报告（矿产、房地产开发存货等）': '4-3 有关评估报告',\n",
       " '4-4-3 发行人报告期主要产品或服务的销量变化资料及原因，变动趋势与市场上相同或相近产品或服务的信息及其走势相比是否存在显著异常': '4-4 销售收入',\n",
       " '4-4-5 收入截止性测试情况，会计期末是否存在突击确认销售以及期后是否存在大量销售退回的情况，会计期末销售收入异常增长情况的收入确认凭证': '4-4 销售收入',\n",
       " '4-25-10 控股股东、实际控制人、董事、监事、高管、关键岗位人员是否从发行人获得大额现金分红款、薪酬或资产转让款、转让发行人股权获得大额股权转让款，主要资金流向或用途数据核查情况上传': '4-25 相关银行账户资金流水',\n",
       " '4-8-4 现金收付交易核查情况': '4-8 货币资金',\n",
       " '4-8-3 异常、巨额资金流转情况资料、发生背景说明及会计处理': '4-8 货币资金',\n",
       " '4-8-2 报告期内账户银行对账单（详式）、各期末余额调节表、相关函证资料或复核会计函证资料的工作记录': '4-8 货币资金',\n",
       " '4-8-1 报告期内银行账户开户清单（含注销账户）及企业信用报告（含子公司）': '4-8 货币资金',\n",
       " '1-13-5 公积金相关费用缴纳凭证（抽查）': '1-13 员工情况',\n",
       " '4-7-2 非经常性损益': '4-7 政府补助、非经常性损益',\n",
       " '4-7-1 政府补助': '4-7 政府补助、非经常性损益',\n",
       " '1-13-6 员工名单（请使用模板“员工花名册【表格】.xlsx”）、工资明细表': '1-13 员工情况',\n",
       " '4-6-7 费用截止性测试，判断是否存在费用核算跨期问题（包含填列的模板“费用跨期测试表.xlsx”及相关原始凭证）': '4-6 期间费用',\n",
       " '4-6-6 工资薪金单、工资薪金表（请使用模板“ 工资薪金分析表.xlsx”）': '4-6 期间费用',\n",
       " '4-6-5 广告费明细表（广告费占比销售费用超过30%需编制）（请使用模板“广告费明细表.xlsx”）、销售部门获取报告期各项营销推广活动清单': '4-6 期间费用',\n",
       " '4-4-4 收入真实性的核查': '4-4 销售收入',\n",
       " '4-6-4 财务费用情况': '4-6 期间费用',\n",
       " '4-6-2 管理费用情况': '4-6 期间费用',\n",
       " '4-6-1 销售费用情况': '4-6 期间费用',\n",
       " '1-13-7 发行人员工工资水平与所在地区平均水平或同行业上市公司平均水平之间是否存在显著差异及差异合理性的说明': '1-13 员工情况',\n",
       " '4-5-3 业绩增长及毛利率变动真实性的核查': '4-5 营业成本与销售毛利',\n",
       " '4-5-2 成本真实性的核查': '4-5 营业成本与销售毛利',\n",
       " '4-5-1 成本、毛利、毛利率明细表': '4-5 营业成本与销售毛利',\n",
       " '1-13-8 员工总数、工资总额、人均工资、人员结构、工资占成本、费用比例的波动分析，公司员工数量与薪资的匹配关系说明': '1-13 员工情况',\n",
       " '4-4-9 发行人存在特殊交易模式或创新交易模式的核查情况': '4-4 销售收入',\n",
       " '4-4-8 第三方回款的核查资料，包括但不限于采购方与回款方的关系说明、付款凭证等': '4-4 销售收入',\n",
       " '4-4-7 网络销售的真实性核查情况': '4-4 销售收入',\n",
       " '4-4-6 境外销售核查情况': '4-4 销售收入',\n",
       " '4-6-3 研发费用情况': '4-6 期间费用',\n",
       " '4-25-1 控股股东、实际控制人的银行账户流水核查，个人账户大额资金往来较多且无合理解释，或者频繁出现大额存现、取现情形的请重点截图上传': '4-25 相关银行账户资金流水',\n",
       " '4-22-3 其他可能导致公司财务信息披露失真、粉饰业绩或财务造假的情况': '4-22 其他科目异常情况核查',\n",
       " '1-2-2 改制前原企业（或主要发起人）的审计报告及相关财务资料，资产清单以及对业务构成情况的说明': '1-2 企业改制与设立情况（国有企业、集体企业改制而来的或历史上存在挂靠集体组织经营的企业）',\n",
       " '1-3-1 审批文件、募股文件、缴款证明及验资报告': '1-3 内部职工股（如适用）',\n",
       " '4-17-5 结合长短期债务配置期限、影响现金流量的重要事件或承诺事项以及风险管理政策，说明发行人的流动性已经或可能产生的重大变化或风险趋势、论证相关措施有效性的支持性材料': '4-17 现金流量',\n",
       " '4-17-4 资本性支出涉及跨行业投资，其与公司未来发展战略关系的证明资料，资金缺口的解决措施资料': '4-17 现金流量',\n",
       " '4-17-3 报告期末的重大资本性支出决议以及未来其他可预见的重大资本性支出计划、资金需求量的证明材料': '4-17 现金流量',\n",
       " '4-17-2 现金流量与利润表、资产负债表主要数据不匹配的原因及相关资料': '4-17 现金流量',\n",
       " '4-17-1 现金流量表与利润表、资产负债表勾稽记录、具体项目波动分析相关资料': '4-17 现金流量',\n",
       " '1-3-2 历次转让文件、历年托管证明文件': '1-3 内部职工股（如适用）',\n",
       " '4-16-9 最近一期末银行借款、关联方借款、合同承诺债务、或有负债等主要债项的金额、期限、利率及利息费用等情况': '4-16 主要债务',\n",
       " '4-16-8 存在逾期负债的，提供逾期负债金额统计表，核查逾期的原因及后续偿还措施，取得相关证明文件': '4-16 主要债务',\n",
       " '4-16-7 一年内到期的长期借款清单，包括债权人（具体到分支行）、本金、起止期限、利率、抵押': '4-16 主要债务',\n",
       " '4-16-6 其他大额负债明细表及相关核查资料': '4-16 主要债务',\n",
       " '4-16-5 其他应付款明细表（含款项性质及账龄）及相关核查资料': '4-16 主要债务',\n",
       " '4-16-4 预计负债的明细表及其相关协议、估计依据、访谈记录等相关资料': '4-16 主要债务',\n",
       " '4-16-3 银行借款明细表及银行借款合同、委托贷款合同等相关资料': '4-16 主要债务',\n",
       " '4-16-2 应付票据': '4-16 主要债务',\n",
       " '4-16-10 可预见的未来需偿还的负债金额及利息金额，重点说明未来 12 个月内的情况，结合现金流、融资能力与渠道等情况，公司偿债能力的证明材料': '4-16 主要债务',\n",
       " '4-16-1 应付账款明细表（含款项性质及账龄）及相关核查资料': '4-16 主要债务',\n",
       " '1-3-3 内部职工股发行中的违法违规情况，包括超范围、超比例，变相增加内部职工股数量、违规转让和交易、法人股个人化等相关资料': '1-3 内部职工股（如适用）',\n",
       " '4-15-5 公允价值计量模式特别核查': '4-15 投资性房地产',\n",
       " '4-15-4 投资性房地产减值计提的说明及相关材料': '4-15 投资性房地产',\n",
       " '4-15-3 投资性房地产折旧明细表': '4-15 投资性房地产',\n",
       " '4-15-2 投资性房地产种类和计量模式': '4-15 投资性房地产',\n",
       " '4-15-1 投资性房地产明细表': '4-15 投资性房地产',\n",
       " '4-18-1 合并范围列表及确定依据': '4-18 合并报表的范围',\n",
       " '4-18-2 报告期内合并范围变动情况及原因': '4-18 合并报表的范围',\n",
       " '4-19-1 报告期内发行人及其控股子公司主要适用税种及税率说明': '4-19 纳税情况',\n",
       " '4-19-2 报告期的年度纳税申报表': '4-19 纳税情况',\n",
       " '1-2-3 发行人的改制重组方案，包括业务、资产、债务、人员等的重组安排': '1-2 企业改制与设立情况（国有企业、集体企业改制而来的或历史上存在挂靠集体组织经营的企业）',\n",
       " '4-8-5 关于发行人与控股股东或其他关联方设立联合或共管账户、在控股股东控制的财务公司开设银行账户或参与资金池业务的说明及相关资料（如有）': '4-8 货币资金',\n",
       " '4-22-2 其他财务异常情况的核查说明（如推迟广告投入和其他减少销售费用的情形；短期降低员工工资的情形；引进临时客户增加收入利润的情形）': '4-22 其他科目异常情况核查',\n",
       " '4-22-1 其他会计科目异常变动情况的说明': '4-22 其他科目异常情况核查',\n",
       " '1-2-4 改制时所做的专项审计报告、评估报告、验资报告等（1-1-1未包含部分）': '1-2 企业改制与设立情况（国有企业、集体企业改制而来的或历史上存在挂靠集体组织经营的企业）',\n",
       " '1-2-5 国企改制的相关人员安置方案的职代会审议文件': '1-2 企业改制与设立情况（国有企业、集体企业改制而来的或历史上存在挂靠集体组织经营的企业）',\n",
       " '4-20-3 对发行人及其控股子公司盈利预测所依据的假设的合理性评价备忘录及': '4-20 盈利预测',\n",
       " '4-20-2 盈利预测的依据资料': '4-20 盈利预测',\n",
       " '4-20-1 盈利预测报告': '4-20 盈利预测',\n",
       " '1-2-6 国有资产评估的核准或备案文件、国有股权管理文件': '1-2 企业改制与设立情况（国有企业、集体企业改制而来的或历史上存在挂靠集体组织经营的企业）',\n",
       " '4-2-6 重大会计差错更正的审议程序、会议材料等': '4-2 会计政策、会计估计及会计差错更正',\n",
       " '1-2-1 上级主管部门同意改制的批复文件': '1-2 企业改制与设立情况（国有企业、集体企业改制而来的或历史上存在挂靠集体组织经营的企业）',\n",
       " '4-2-5 报告期内重大会计差错更正情况及相关资料': '4-2 会计政策、会计估计及会计差错更正',\n",
       " '4-2-3 会计政策和会计估计变动相关资料（如有）': '4-2 会计政策、会计估计及会计差错更正',\n",
       " '4-2-2 同行业会计政策和会计估计比较情况，与同行业存在较大差异的原因分析': '4-2 会计政策、会计估计及会计差错更正',\n",
       " '4-2-1 发行人会计政策、会计估计': '4-2 会计政策、会计估计及会计差错更正',\n",
       " '1-2-7 改制前原企业业务流程、改制后发行人业务流程，以及原企业和发行人业务流程间联系的说明': '1-2 企业改制与设立情况（国有企业、集体企业改制而来的或历史上存在挂靠集体组织经营的企业）',\n",
       " '4-19-9 当地税务部门出具的关于发行人报告期内纳税情况的证明文件': '4-19 纳税情况',\n",
       " '4-19-8 发行人及各控股子公司前三个会计年度主要税种计提金额的合理性测试工作底稿': '4-19 纳税情况',\n",
       " '4-19-7 发行人及各控股子公司前三个会计年度各类应交税金余额变动情况表': '4-19 纳税情况',\n",
       " '4-19-6 报告期内产品出口退税税率变动情况及相关文件': '4-19 纳税情况',\n",
       " '4-19-5 发行人享有税收优惠情况': '4-19 纳税情况',\n",
       " '4-19-4 公司及各控股子公司的完税证明或税收缴款书、纳税凭证（抽查）': '4-19 纳税情况',\n",
       " '4-19-3 关于税务争议、滞纳金缴纳、以及重大关税纠纷的详细情况以及有关文件及信函': '4-19 纳税情况',\n",
       " '4-2-4 会计政策和会计估计变更对公司经营业绩影响的说明': '4-2 会计政策、会计估计及会计差错更正',\n",
       " '4-8-6 发行人利用员工账户或其他个人账户进行货款收支及款项往来情况、相应整改措施的说明': '4-8 货币资金',\n",
       " '4-9-1 应收账款、应收票据明细表、账龄分析表、坏账准备明细表及应收账款余额的变动情况分析': '4-9 应收款项、合同资产',\n",
       " '4-8-8 报告期内银行日记账': '4-8 货币资金',\n",
       " '7-3-2 报告期内已经了结的诉讼和仲裁的相关资料': '7-3 诉讼和担保情况',\n",
       " '7-3-1 目前尚未了结的诉讼与仲裁事项说明，与重大诉讼或仲裁事项相关的合同、协议，法院或仲裁机构受理的相关文件': '7-3 诉讼和担保情况',\n",
       " '1-10-2 关于是否存在兼职情况的说明': '1-10 董事、监事、高级管理人员及其他核心人员薪酬及兼职情况',\n",
       " '1-10-3 从关联方领取报酬以及享受其他待遇情况的说明': '1-10 董事、监事、高级管理人员及其他核心人员薪酬及兼职情况',\n",
       " '1-11-1 与报告期内上述人员变动相关的三会文件': '1-11 报告期内董事、监事、高级管理人员及其他核心人员变动',\n",
       " '1-11-2 报告期内董事、监事、高级管理人员及其他核心人员变动情况的说明': '1-11 报告期内董事、监事、高级管理人员及其他核心人员变动',\n",
       " '6-4-5 股利分配相关三会文件': '6-4 股利分配政策',\n",
       " '6-4-4 发行人关于发行后股利分配政策的说明': '6-4 股利分配政策',\n",
       " '6-4-3 发行人关于股利分配情况的说明': '6-4 股利分配政策',\n",
       " '6-4-2 最近三年股利分配政策': '6-4 股利分配政策',\n",
       " '6-4-1 结合各年度': '6-4 股利分配政策',\n",
       " '1-12-1 董事、监事、高级管理人员及其他核心人员就持股及其他对外投资情况发出的声明文件': '1-12 董事、监事、高级管理人员及其他核心人员持股及其他对外投资等情况',\n",
       " '6-3-3 未来开展投资者关系管理的规划': '6-3 信息披露制度的建设和执行情况',\n",
       " '6-3-2 投资者关系部门组织架构': '6-3 信息披露制度的建设和执行情况',\n",
       " '6-3-1 信息披露制度': '6-3 信息披露制度的建设和执行情况',\n",
       " '1-12-2 董事、监事、高级管理人员及其他核心人员及其直系亲属是否存在自营或为他人经营与发行人同类业务的情况及声明文件': '1-12 董事、监事、高级管理人员及其他核心人员持股及其他对外投资等情况',\n",
       " '6-2-9 控股股东及实际控制人、发起人、主要股东及董事、监事、高级管理人员未能履行承诺的约束措施': '6-2 承诺事项履行情况',\n",
       " '6-2-8 其他承诺事项': '6-2 承诺事项履行情况',\n",
       " '6-2-7 依法承担赔偿责任的承诺': '6-2 承诺事项履行情况',\n",
       " '6-2-6 利润分配政策的承诺': '6-2 承诺事项履行情况',\n",
       " '6-2-5 填补被摊薄即期回报的措施及承诺': '6-2 承诺事项履行情况',\n",
       " '6-2-4 对欺诈发行上市的股份回购和股份买回承诺': '6-2 承诺事项履行情况',\n",
       " '6-2-3 股份回购和股份买回的措施和承诺': '6-2 承诺事项履行情况',\n",
       " '7-3-3 所有为外部主体的担保（包括抵押、质押、保证等）合同、反担保合同': '7-3 诉讼和担保情况',\n",
       " '7-3-4 对外担保的决策文件，被担保方基本情况及财务报表等资料，担保解除资料': '7-3 诉讼和担保情况',\n",
       " '7-3-5 发行人对外担保情况清单及管理层对其完整性的书面声明': '7-3 诉讼和担保情况',\n",
       " '7-3-6 发行人对外担保总额占其（合并及母公司）净资产': '7-3 诉讼和担保情况',\n",
       " '1-1-1 发行人设立及历次工商变更登记文件，历次股权变动涉及的三会决议、股权转让协议或增减资协议、验资报告或出资证明、审计报告、评估报告、国有资产评估核准或备案文件、政府批准文件、股权转让或增资的作价依据、股权转让价款支付情况说明或支付凭证、缴税凭证、债权人同意文件、其他股东放弃优先购买权的承诺函等': '1-1 历史沿革情况',\n",
       " '1-1-10 发行人境外控制架构设置的相关资料，涉及红筹架构形成及拆除的相关资料（如有）': '1-1 历史沿革情况',\n",
       " '1-1-11 发行人成立时拥有的主要资产和业务情况的说明': '1-1 历史沿革情况',\n",
       " '1-1-12 在其他证券市场的上市': '1-1 历史沿革情况',\n",
       " '1-1-2 发起人、股东以非货币财产出资时，涉及的资产产权变更登记资料文件': '1-1 历史沿革情况',\n",
       " '律师': '8-5 执业注册会计师',\n",
       " '1-1-3 发行人是否存在出资瑕疵（出资不实、虚假出资、抽逃出资等）的情况说明及相关资料': '1-1 历史沿革情况',\n",
       " '1-1-4 发行人历史上委托持股、信托持股、股权代持形成、演变和清理的相关资料': '1-1 历史沿革情况',\n",
       " '1-1-5 发行人间接股东的相关核查资料': '1-1 历史沿革情况',\n",
       " '1-1-6 发行人对其董事、监事、高级管理人员、其他核心人员、员工实行的股权激励（如员工持股计划、限制性股票、股票期权）及其他制度安排和执行情况（如有）': '1-1 历史沿革情况',\n",
       " '1-1-7 发行人（包括下属公司）及其前身或红筹架构上的境内外实体（如有）在其他证券市场的上市': '1-1 历史沿革情况',\n",
       " '6-2-2 稳定股价的措施和承诺': '6-2 承诺事项履行情况',\n",
       " '1-1-8 发行人在其他证券市场挂牌': '1-1 历史沿革情况',\n",
       " '7-6-1 说明尚未盈利或存在累计未弥补亏损的情形的成因': '7-6 尚未盈利或存在累计未弥补亏损',\n",
       " '1-1-9 发行人涉及境外私有化退市的相关资料（如有）': '1-1 历史沿革情况',\n",
       " '7-5-4 发行人技术先进性、竞争优势的核查': '7-5 发行人符合创业板定位的相关资料和说明',\n",
       " '7-5-3 发行人是否具有新技术、新产业、新业态、新模式等特征的核查': '7-5 发行人符合创业板定位的相关资料和说明',\n",
       " '7-5-2 发行人是否具有发展更多依靠创新、创造、创意的特征的核查': '7-5 发行人符合创业板定位的相关资料和说明',\n",
       " '7-5-1 发行人是否属于《推荐暂行规定》中不支持申报的行业的核查': '7-5 发行人符合创业板定位的相关资料和说明',\n",
       " '7-4-3 其他估值相关资料': '7-4 评估价值',\n",
       " '7-4-2 可比公司在境内外市场的估值情况相关资料': '7-4 评估价值',\n",
       " '7-4-1 报告期外部股权融资情况说明': '7-4 评估价值',\n",
       " '1-10-1 与薪酬情况相关的三会文件': '1-10 董事、监事、高级管理人员及其他核心人员薪酬及兼职情况',\n",
       " '7-3-7 发行人其他重大仲裁、诉讼及其他或有事项清单及有关事项的情况说明及管理层对其完整性的书面声明': '7-3 诉讼和担保情况',\n",
       " '7-6-2 尚未盈利或存在累计未弥补亏损对公司现金流、业务拓展、人才吸引、团队稳定性、研发投入、战略性投入、生产经营可持续性等方面的影响': '7-6 尚未盈利或存在累计未弥补亏损',\n",
       " '6-2-1 本次发行前股东所持股份的限售安排、自愿锁定股份、延长锁定期限以及相关股东持股及减持意向等承诺': '6-2 承诺事项履行情况',\n",
       " '1-12-3 董事、监事、高级管理人员及其他核心人员及其直系亲属是否存在与公司利益发生冲突的对外投资，是否存在重大债务负担及声明文件': '1-12 董事、监事、高级管理人员及其他核心人员持股及其他对外投资等情况',\n",
       " '6-1-5 发行人如为控股型公司的，主要控股子公司的章程和财务管理制度中关于利润分配的规定，及外汇管制、注册地法规等方面对利润分配的具体影响说明和相关资料': '6-1 保护投资者合法权益规定的各项措施',\n",
       " '5-2-11 募集资金投向产生的关联交易': '5-2 本次募集资金运用的相关资料',\n",
       " '5-2-10 发行人关于募集资金运用对财务状况及经营成果影响的详细分析': '5-2 本次募集资金运用的相关资料',\n",
       " '5-2-1 可行性研究报告': '5-2 本次募集资金运用的相关资料',\n",
       " '1-13-13 员工薪酬及奖励制度': '1-13 员工情况',\n",
       " '5-1-4 历次募集资金的验资报告': '5-1 前次募集资金使用情况（如有）',\n",
       " '5-1-3 历次募集资金投向变更的相关决策文件，变更后项目的核准或备案文件': '5-1 前次募集资金使用情况（如有）',\n",
       " '5-1-2 募集资金相关的会计师专项报告以及募集资金运用项目的核算资料': '5-1 前次募集资金使用情况（如有）',\n",
       " '5-1-1 发行人关于历次募集资金运用情况的说明': '5-1 前次募集资金使用情况（如有）',\n",
       " '1-13-2 执行社会保障制度、住房制度改革、医疗制度改革情况的说明': '1-13 员工情况',\n",
       " '1-13-3 劳动合同样本、竞业禁止协议及保密协议样本（如有）': '1-13 员工情况',\n",
       " '4-9-9 往来款（预付账款、其他应收款）是否异常核查情况': '4-9 应收款项、合同资产',\n",
       " '5-2-2 关于本次募集资金运用的股东大会、董事会的议案、决议和会议纪要': '5-2 本次募集资金运用的相关资料',\n",
       " '4-9-8 发行人与同行业其他公司应收账款坏账准备计提政策列表和坏账准备计提比例表': '4-9 应收款项、合同资产',\n",
       " '4-9-6 应收持发行人5％及以上表决权股份的股东账款情况': '4-9 应收款项、合同资产',\n",
       " '4-9-5 与应收款项相关的销售合同': '4-9 应收款项、合同资产',\n",
       " '4-9-4 主要债务人及主要逾期债务人名单': '4-9 应收款项、合同资产',\n",
       " '4-9-3 应收票据背书、贴现明细表及相关资料': '4-9 应收款项、合同资产',\n",
       " '4-9-2 合同资产明细表及符合会计准则规定的说明': '4-9 应收款项、合同资产',\n",
       " '4-9-13 应收账款周转率明显异于同行业水平的原因分析及合理性说明': '4-9 应收款项、合同资产',\n",
       " '4-9-12 大额应收账款是否能够按期收回以及期末收到的销售款项是否存在期后不正常流出的情况说明': '4-9 应收款项、合同资产',\n",
       " '4-9-11 新增客户的应收账款金额与其营业收入是否匹配的说明': '4-9 应收款项、合同资产',\n",
       " '4-9-10 报告期内发行人应收账款主要客户与发行人主要客户是否匹配的说明': '4-9 应收款项、合同资产',\n",
       " '1-3-4 内部职工股潜在问题、风险隐患及相关资料': '1-3 内部职工股（如适用）',\n",
       " '1-13-4 社保相关费用缴纳凭证（抽查）': '1-13 员工情况',\n",
       " '4-9-7 应收账款的期后回收情况、报告期各期主要客户信用政策的变化情况以及对超出信用政策的大额应收账款的分析': '4-9 应收款项、合同资产',\n",
       " '4-8-7 其他应收款员工备用金月末余额变动表及其合理性分析': '4-8 货币资金',\n",
       " '5-2-3 涉及本次募集资金项目有关主管部门的批复或相关核准或备案文件': '5-2 本次募集资金运用的相关资料',\n",
       " '5-2-5 募集资金运用涉及新取得土地或房产的，取得方式、进展情况及未能如期取得对募集资金具体用途的影响的相关说明': '5-2 本次募集资金运用的相关资料',\n",
       " '6-1-4 发行人境外注册地法律制度及章程条款与境内制度的差异及对投资者保护的影响说明和相关资料': '6-1 保护投资者合法权益规定的各项措施',\n",
       " '6-1-3 特别表决权股份、协议控制架构或类似特殊安排，尚未盈利或存在累计未弥补亏损的，落实保护投资者合法权益规定的各项措施（如有）': '6-1 保护投资者合法权益规定的各项措施',\n",
       " '6-1-2 发行人自设立以来存在特别表决权股份、协议控制架构或类似特殊安排的，获取相关股东及持股情况、表决机制和实际运行情况等资料（部分内容可参见3-1-3和3-2-5）': '6-1 保护投资者合法权益规定的各项措施',\n",
       " '6-1-1 投资者关系的主要安排，包括信息披露制度和流程、投资者沟通渠道的建立情况以及未来开展投资者关系管理的规划等': '6-1 保护投资者合法权益规定的各项措施',\n",
       " '1-12-4 董事、监事、高级管理人员及其他核心人员是否涉及诉讼、是否有到期未偿还债务等情况的声明及相关资料': '1-12 董事、监事、高级管理人员及其他核心人员持股及其他对外投资等情况',\n",
       " '1-13-1 关于员工人数及其变化、专业结构、受教育程度、年龄分布的说明': '1-13 员工情况',\n",
       " '5-5-5 募集资金投向与业务发展目标的关系说明': '5-5 业务发展目标',\n",
       " '5-5-4 业务发展目标与现有业务的关系说明': '5-5 业务发展目标',\n",
       " '5-5-3 制定业务发展目标的依据性文件': '5-5 业务发展目标',\n",
       " '5-5-2 业务发展目标相关文件': '5-5 业务发展目标',\n",
       " '5-5-1 未来二至三年的发展计划': '5-5 业务发展目标',\n",
       " '5-2-4 本次募集资金投向涉及安全、环保等需相关政府部门出具的批复': '5-2 本次募集资金运用的相关资料',\n",
       " '1-13-10 劳务派遣': '1-13 员工情况',\n",
       " '5-4-3 独立董事意见': '5-4 发展战略',\n",
       " '5-4-2 战略委员会会议纪要': '5-4 发展战略',\n",
       " '5-4-1 中长期发展战略规划资料': '5-4 发展战略',\n",
       " '1-13-11 发行人社会保险缴纳情况证明': '1-13 员工情况',\n",
       " '5-3-2 募集资金向实际控制人、控股股东及其关联方收购资产，说明定价公允性、收购必要性，如果对被收购资产有效益承诺的，效益无法完成时的补偿责任的说明': '5-3 募集资金投向产生的关联交易',\n",
       " '5-3-1 募集资金投向涉及与关联方合资或与关联方发生交易的，相关关联方资料': '5-3 募集资金投向产生的关联交易',\n",
       " '1-13-12 发行人主要参控股公司养老保险、医疗保险、住房公积金、失业保险、工伤保险、生育保险的费用缴纳凭证': '1-13 员工情况',\n",
       " '5-2-9 募集资金用于新增产能的，产能消化能力与市场前景的说明': '5-2 本次募集资金运用的相关资料',\n",
       " '5-2-8 募集资金用于研发投入、科技创新、新产品开发生产的，具体安排及其与发行人现有主要业务、核心技术之间关系的说明': '5-2 本次募集资金运用的相关资料',\n",
       " '5-2-7 募集资金运用涉及与他人合作的，合作方基本情况、合作方式、各方权利义务关系的说明': '5-2 本次募集资金运用的相关资料',\n",
       " '5-2-6 募集资金运用涉及收购资产的相关资料': '5-2 本次募集资金运用的相关资料',\n",
       " '5-4-4 历年发展计划及年度报告': '5-4 发展战略',\n",
       " '4-14-2 增减变动与减值测试依据等情况，管理层关于商誉减值测试情况说明': '4-14 商誉',\n",
       " '1-3-5 股份形成及演变的法律文件，包括相关的工商登记资料、三会文件（1-1-1未包含部分）': '1-3 内部职工股（如适用）',\n",
       " '1-7-3 监管部门对于上述人员任职资格的批准或备案文件': '1-7 董事、监事和高级管理人员任职情况和任职资格',\n",
       " '2-5-2 技术许可协议、技术合作协议': '2-5 核心技术人员、技术与研发情况',\n",
       " '2-5-15 研发费用与对应研发项目的整体预算、费用支出金额、实施进度等情况': '2-5 核心技术人员、技术与研发情况',\n",
       " '2-5-14 报告期内核心技术人员的主要变动情况及对发行人的影响，离职流程、入职申请等': '2-5 核心技术人员、技术与研发情况',\n",
       " '2-5-13 发行人正在从事的研发项目核查': '2-5 核心技术人员、技术与研发情况',\n",
       " '2-5-12 发行人的核心技术在主营业务及产品或服务中的应用和贡献情况相关底稿': '2-5 核心技术人员、技术与研发情况',\n",
       " '2-5-11 发行人的核心技术与专利权的对应关系，专利权属证明': '2-5 核心技术人员、技术与研发情况',\n",
       " '2-5-10 公司技术先进性及其表征': '2-5 核心技术人员、技术与研发情况',\n",
       " '2-5-1 公司技术研发成果、在研项目、研发进展以及研发目标等相关资料': '2-5 核心技术人员、技术与研发情况',\n",
       " '1-6-11 股东是否存在违规入股、入股交易价格异常情形的说明': '1-6 控股股东及实际控制人、发起人及股东情况',\n",
       " '2-4-9 正在建造或拟建造固定资产的相关审批、许可文件': '2-4 生产情况',\n",
       " '2-4-8 发行人许可或被许可使用资产的情况': '2-4 生产情况',\n",
       " '2-5-3 核心技术产品（服务）收入的主要内容、核算方法及合理性分析资料': '2-5 核心技术人员、技术与研发情况',\n",
       " '2-4-7 房产、主要设备等资产的占有与使用情况': '2-4 生产情况',\n",
       " '2-4-5 发行人生产工艺变动的相关资料及毛利率波动与工艺改进匹配关系说明': '2-4 生产情况',\n",
       " '2-4-4 发行人关于生产工艺、技术在行业中领先程度的说明': '2-4 生产情况',\n",
       " '2-4-3 主要产品的工艺流程图或服务的流程图': '2-4 生产情况',\n",
       " '2-4-2 发行人主要产品及其功能、服务的用途介绍资料': '2-4 生产情况',\n",
       " '2-4-19 环境保护': '2-4 生产情况',\n",
       " '2-4-18 安全生产': '2-4 生产情况',\n",
       " '2-4-17 产品质量和技术标准': '2-4 生产情况',\n",
       " '2-4-16 境外拥有资产的情况说明及重要境外资产的权属证明，境外律师出具的关于境外资产完整性的法律意见书（如有）': '2-4 生产情况',\n",
       " '2-4-15 关键设备、厂房等重要资产的保险合同或其他保障协定': '2-4 生产情况',\n",
       " '2-4-14 发行人关于是否存在和第三方共有资产情况的说明，及共有资产权属证明文件、协议等底稿（如有）': '2-4 生产情况',\n",
       " '2-4-13 发行人资产抵押、质押或权利存在限制的情况及相关合同、证明文件、还款情况': '2-4 生产情况',\n",
       " '2-4-6 主要产品的设计生产能力和报告期内历年产量有关资料': '2-4 生产情况',\n",
       " '2-4-12 业务许可资格或资质情况（包括但不限于生产经营许可证、高新技术企业证书、安全生产许可证、卫生许可证、排污许可证等）': '2-4 生产情况',\n",
       " '2-5-4 核心技术人员的认定依据及相关资料': '2-5 核心技术人员、技术与研发情况',\n",
       " '2-5-6 发行人对核心技术人员实施的约束激励措施，报告期内核心技术人员对公司研发的具体贡献、主要变动情况及对发行人的影响的说明': '2-5 核心技术人员、技术与研发情况',\n",
       " '1-5-4 发行人重要控股子公司、对发行人有重大影响的参股公司的主要其他合作方情况和相关资料': '1-5 发行人控股子公司和重要参股公司情况',\n",
       " '3-11-4 关于不属于重大不利影响同业竞争的说明（如有）': '3-11 同业竞争情况',\n",
       " '3-11-3 控股股东或实际控制人关于避免同业竞争的承诺函': '3-11 同业竞争情况',\n",
       " '3-11-2 解除同业竞争的相关资料（如有）': '3-11 同业竞争情况',\n",
       " '3-11-1 发行人、控股股东或实际控制人（如控股股东、实际控制人为自然人，应包含亲属）及其控制的企业主营业务情况的说明': '3-11 同业竞争情况',\n",
       " '1-5-5 发行人控股子公司、重要参股合营': '1-5 发行人控股子公司和重要参股公司情况',\n",
       " '3-10-9 发行人控股股东、实际控制人关于保持发行人资产、人员、财务、机构和业务独立的承诺': '3-10 独立情况',\n",
       " '3-10-8 发行人关于人员独立情况的说明': '3-10 独立情况',\n",
       " '3-10-7 控股股东、实际控制人与发行人的银行账户开设及独立运作情况': '3-10 独立情况',\n",
       " '3-10-6 控股股东、实际控制人与发行人的采购、销售部门的设置及各自运作情况': '3-10 独立情况',\n",
       " '3-10-5 控股股东、实际控制人与发行人的财务部门的设置以及独立运作情况': '3-10 独立情况',\n",
       " '2-5-5 核心技术人员的学历、专业资质及重要科研成果和获得奖项等资料': '2-5 核心技术人员、技术与研发情况',\n",
       " '3-10-4 如存在业务交叉，相互占用资产、资源的情况，要特别说明解决措施和效果': '3-10 独立情况',\n",
       " '3-10-2 资产是否存在被控股股东、其他关联方控制或占用情况的说明（资金占用见3-12-7）': '3-10 独立情况',\n",
       " '3-10-10 发行人部分资产来自于上市公司的独立性核查': '3-10 独立情况',\n",
       " '3-10-1 发行人关于资产完整情况的说明': '3-10 独立情况',\n",
       " '3-1-3 发行人特别表决权股份或类似安排的相关资料': '3-1 公司章程及其规范运行情况',\n",
       " '3-1-2 发行人就其三年内是否存在违法违规行为的书面声明': '3-1 公司章程及其规范运行情况',\n",
       " '3-1-1 与公司章程历次修改相关的三会文件、公司章程进行工商变更登记或备案的资料': '3-1 公司章程及其规范运行情况',\n",
       " '1-6-1 发行人控股股东或实际控制人的组织结构（参控股子公司、职能部门设置）': '1-6 控股股东及实际控制人、发起人及股东情况',\n",
       " '1-6-10 发行人股东中存在的契约型基金、信托计划、资产管理计划等“三类股东”相关资料': '1-6 控股股东及实际控制人、发起人及股东情况',\n",
       " '2-5-9 核心技术的取得及使用是否存在纠纷或潜在纠纷及侵犯他人知识产权的情形的说明（包括但不限于访谈、互联网搜索等）': '2-5 核心技术人员、技术与研发情况',\n",
       " '2-5-8 与非专利技术相关的保密制度及其与核心技术人员签订的保密协议': '2-5 核心技术人员、技术与研发情况',\n",
       " '2-5-7 公司研发部门组织架构及职能说明，研发体制及激励制度等资料': '2-5 核心技术人员、技术与研发情况',\n",
       " '3-10-3 控股股东、实际控制人与发行人从事的主要业务与拥有的资产情况': '3-10 独立情况',\n",
       " '3-12-1 关联方资料': '3-12 关联方及关联交易情况',\n",
       " '2-4-11 专利、非专利技术的用途介绍，形成核心技术和主营业务收入的专利情况相关资料': '2-4 生产情况',\n",
       " '2-4-1 行业和发行人生产模式的说明文件': '2-4 生产情况',\n",
       " '2-1-8 同行业比较情况': '2-1 行业情况及竞争状况',\n",
       " '2-1-7 发行人的主要商业模式、销售模式和盈利模式情况介绍': '2-1 行业情况及竞争状况',\n",
       " '2-1-6 披露引用第三方数据的相关资料': '2-1 行业情况及竞争状况',\n",
       " '2-1-5 通过公开渠道获得的主要竞争对手资料': '2-1 行业情况及竞争状况',\n",
       " '2-1-4 国家有关产业政策及发展纲要': '2-1 行业情况及竞争状况',\n",
       " '2-1-3 行业专家意见、行业协会意见': '2-1 行业情况及竞争状况',\n",
       " '2-1-2 行业研究资料、行业杂志、行业分析报告': '2-1 行业情况及竞争状况',\n",
       " '2-1-1 行业主管部门制定的发展规划、行业管理方面的法律法规及规范性文件': '2-1 行业情况及竞争状况',\n",
       " '1-6-15 发行人关于全部股东名称、持股数量及比例、股份性质的说明': '1-6 控股股东及实际控制人、发起人及股东情况',\n",
       " '1-6-2 控股股东及实际控制人、发起人及主要股东的基本情况调查表、营业执照、公司章程或合伙协议、工商登记资料、最近一年及一期的财务报表或审计报告': '1-6 控股股东及实际控制人、发起人及股东情况',\n",
       " '1-6-3 控股股东及实际控制人、发起人及主要股东如为自然人的，应提供关于国籍、永久境外居留权、身份证号码、住所及简历的说明': '1-6 控股股东及实际控制人、发起人及股东情况',\n",
       " '1-6-14 控股股东及实际控制人、发起人、主要股东及作为股东的董事、监事、高管人员做出的重要承诺及其履行情况的说明': '1-6 控股股东及实际控制人、发起人及股东情况',\n",
       " '1-6-4 控股股东及实际控制人控制的其他企业的营业执照、公司章程、工商登记资料、最近一年及一期的财务报表或审计报告': '1-6 控股股东及实际控制人、发起人及股东情况',\n",
       " '1-6-6 控股股东、实际控制人合法合规情况': '1-6 控股股东及实际控制人、发起人及股东情况',\n",
       " '1-6-7 股东之间是否存在关联关系或一致行动关系的说明及相关协议，股东与发行人的董事、监事、高级管理人员之间以及股东与本次发行的中介机构及其负责人、高级管理人员、经办人员之间是否存在关联关系或其他利益关系情况的说明': '1-6 控股股东及实际控制人、发起人及股东情况',\n",
       " '1-6-8 私募股权基金备案及管理人登记资料': '1-6 控股股东及实际控制人、发起人及股东情况',\n",
       " '1-6-9 对赌协议及解除的相关资料': '1-6 控股股东及实际控制人、发起人及股东情况',\n",
       " '1-7-1 董事会、监事会、高级管理人员及其他核心人员的构成情况及职责': '1-7 董事、监事和高级管理人员任职情况和任职资格',\n",
       " '1-9-3 董事、监事、高管人员及核心技术人员合规证明': '1-9 董事、监事和高级管理人员胜任能力和勤勉尽责',\n",
       " '1-9-2 董事、监事、高级管理人员及其他核心人员在发行人投入时间的说明以及相关的三会及总经理办公会纪要或记录': '1-9 董事、监事和高级管理人员胜任能力和勤勉尽责',\n",
       " '1-9-1 董事、监事、高级管理人员及其他核心人员最近三年曾担任高级管理人员的其他公司的规范运作情况以及该公司经营情况的说明文件': '1-9 董事、监事和高级管理人员胜任能力和勤勉尽责',\n",
       " '1-7-2 董事、监事、高级管理人员及其他核心人员相互之间是否存在亲属关系的说明': '1-7 董事、监事和高级管理人员任职情况和任职资格',\n",
       " '1-8-4 发行人与董事、监事、高级管理人员及其他核心人员所签订的协议（包括劳动合同、保密协议、竞业禁止协议及其他对投资者做出价值判断和投资决策有重大影响的协议）以及履行情况': '1-8 董事、监事和高级管理人员的经历及行为操守',\n",
       " '1-8-2 发行人关于董事、监事、高级管理人员及其他核心人员是否存在违规行为的说明，是否受到相关部门处罚或立案侦查、立案调查的情况': '1-8 董事、监事和高级管理人员的经历及行为操守',\n",
       " '1-6-5 控股股东、实际控制人及主要股东持有发行人股份是否存在质押、冻结、其他权利限制或权属争议情况的说明及相关文件': '1-6 控股股东及实际控制人、发起人及股东情况',\n",
       " '2-4-10 商标、专利、非专利技术、水面养殖权、探矿权、采矿权、版权、特许经营权等无形资产的清单及权属证明': '2-4 生产情况',\n",
       " '2-2-1 行业和发行人销售模式的说明文件、发行人的销售定价原则': '2-2 销售情况',\n",
       " '2-2-11 异常客户核查': '2-2 销售情况',\n",
       " '1-6-12 发行人成立后主要发起人拥有的主要资产和实际从事业务情况的说明': '1-6 控股股东及实际控制人、发起人及股东情况',\n",
       " '2-3-9 发行人过往三年的采购情况以及成本变动分析': '2-3 采购情况',\n",
       " '2-3-8 发行人报告期内采取外协、外包的情况': '2-3 采购情况',\n",
       " '2-3-7 异常供应商核查': '2-3 采购情况',\n",
       " '2-3-6 董事、监事、高级管理人员和其他核心人员、主要关联方或持有发行人5%以上股份的股东在主要供应商中所占权益的说明': '2-3 采购情况',\n",
       " '2-3-5 发行人采购业务的抽查情况（大额采购申请、采购合同、验收证明、入库凭证、采购发票、款项支付、审批程序及相应账务处理记录）': '2-3 采购情况',\n",
       " '2-3-4 主要供应商核查情况': '2-3 采购情况',\n",
       " '2-3-3 与原材料、辅助材料以及能源动力供求相关的研究报告和统计资料': '2-3 采购情况',\n",
       " '2-3-2 发行人采购管理': '2-3 采购情况',\n",
       " '2-3-12 采购付款测试（包含填列的模板“采购付款测试表.xlsx”及相应原始凭证）': '2-3 采购情况',\n",
       " '2-3-11 发行人供应商选择流程及相关文件样本；采购订单的生成和审批、执行流程及相关文件样本；库存管理制度及入库、出库相关流程、手续及相关文件样本': '2-3 采购情况',\n",
       " '2-2-10 董事、监事、高级管理人员和其他核心人员、主要关联方或持有发行人5%以上股份的股东在主要客户中所占权益的说明': '2-2 销售情况',\n",
       " '2-3-10 发行人出具的关于采购来源以及价格稳定性的说明，及对主要供应商的行业地位和情况的介绍': '2-3 采购情况',\n",
       " '1-6-13 自然人发起人直接持股和间接持股的有关情况，及其在发行人的任职情况': '1-6 控股股东及实际控制人、发起人及股东情况',\n",
       " '2-2-9 报告期产品返修率、客户诉讼和产品质量纠纷等方面的资料': '2-2 销售情况',\n",
       " '2-2-8 报告期内销售退回的核查资料': '2-2 销售情况',\n",
       " '2-2-7 发行人销售业务的抽查情况（单笔业务的销售订单、销售合同、发货通知、出库单、运输单据、签收': '2-2 销售情况',\n",
       " '2-2-6 主要客户核查情况': '2-2 销售情况',\n",
       " '2-2-5 报告期按区域分布的销售记录': '2-2 销售情况',\n",
       " '2-2-4 主要产品的市场占有率的资料': '2-2 销售情况',\n",
       " '2-2-3 权威市场调研机构关于销售情况的报告': '2-2 销售情况',\n",
       " '2-2-2 发行人销售管理': '2-2 销售情况',\n",
       " '2-2-13 销售业务执行情况': '2-2 销售情况',\n",
       " '2-2-12 经销商、加盟商及终端客户核查情况（如有）': '2-2 销售情况',\n",
       " '2-3-1 行业和发行人采购模式的说明文件': '2-3 采购情况',\n",
       " '4-14-1 商誉明细表，商誉形成的基础资料及形成原因': '4-14 商誉',\n",
       " '3-12-10 经常性和偶发性关联交易及其对发行人长期持续运营的影响': '3-12 关联方及关联交易情况',\n",
       " '3-12-12 发行人关于减少和规范关联交易的措施说明': '3-12 关联方及关联交易情况',\n",
       " '4-11-3 投资协议': '4-11 重要的对外投资（合并范围内的子公司除外）',\n",
       " '4-11-2 被投资公司报告期的财务报告': '4-11 重要的对外投资（合并范围内的子公司除外）',\n",
       " '4-11-11 发行人各报告期对外投资的明细清单，包括投资项目、投资类型（债权投资': '4-11 重要的对外投资（合并范围内的子公司除外）',\n",
       " '4-11-10 期末金额较大的交易性金融资产、可供出售金融资产、借与他人款项、委托理财等财务投资的核查资料（4-10-1至4-10-9未包含部分）': '4-11 重要的对外投资（合并范围内的子公司除外）',\n",
       " '4-11-1 被投资公司的营业执照': '4-11 重要的对外投资（合并范围内的子公司除外）',\n",
       " '1-3-8 发行人成立以来历次内部职工股发行、转让前后的内部职工股持股人数及持股数量': '1-3 内部职工股（如适用）',\n",
       " '4-10-9 存货周转率明显异于同行业水平的原因分析及合理性说明': '4-10 存货',\n",
       " '4-10-8 异地存放、盘点过程存在特殊困难或由第三方保管或控制的存货的盘存方法以及履行的替代盘点程序': '4-10 存货',\n",
       " '4-10-7 发行人存货的真实性，是否存在将本应计入当期成本费用的支出混入存货项目以达到少计当期成本费用的情况说明': '4-10 存货',\n",
       " '4-10-6 发行人关于存货期末余额较大的原因以及是否充分计提存货跌价准备的说明、报告期各期末发出商品是否存在异常变动及其原因分析': '4-10 存货',\n",
       " '4-10-5 存货跌价准备计提政策和存货跌价准备计提表（如发行人期末存货余额较大，周转率较低，应结合其业务模式、市场竞争情况和行业发展趋势等因素披露原因，同时分析并披露发行人的存货减值风险）（包含填列的模板“存货跌价准备计提复核表.xlsx”）': '4-10 存货',\n",
       " '4-11-4 报告期发行人购买或出售被投资公司股权时的财务报告、审计报告及评估报告': '4-11 重要的对外投资（合并范围内的子公司除外）',\n",
       " '4-10-4 保荐机构随同会计师参与存货监盘或复核会计师存货监盘的工作记录（如存在需要倒扎的情况，应包含填列的模板“存货抽盘倒轧表.xlsx”）': '4-10 存货',\n",
       " '4-10-2 发行人存货管理制度执行情况的抽查记录，发行人存货盘点制度的建立和报告期实际执行情况': '4-10 存货',\n",
       " '4-10-1 存货明细表、货龄分析表、存货构成相关资料及产量、销量与存货数量匹配关系说明（包含填列的模板“存货库龄分析表.xlsx”）': '4-10 存货',\n",
       " '4-1-8 与财务会计信息相关的重大事项或重要性水平的判断标准证明文件': '4-1 财务报告及相关财务资料',\n",
       " '1-4-1 重大重组涉及的股东会': '1-4 重大重组情况',\n",
       " '4-1-6 董事会和监事会对非标准审计报告涉及事项处理情况的说明': '4-1 财务报告及相关财务资料',\n",
       " '4-1-5 如发行人最近一年及一期内收购兼并其他企业资产（或股权），且被收购企业资产总额或营业收入或净利润超过收购前发行人相应项目20%（含20%），需要被收购企业收购前一年的财务报表并核查其财务状况': '4-1 财务报告及相关财务资料',\n",
       " '4-1-4 披露的参股公司最近一年及一期的财务报告及审计报告': '4-1 财务报告及相关财务资料',\n",
       " '4-1-3 下属子公司最近三年及一期经审计的财务报告或原始财务报表': '4-1 财务报告及相关财务资料',\n",
       " '4-1-2 最近三年及一期原始财务报表与申报财务报表差异比较表及差异原因分析说明': '4-1 财务报告及相关财务资料',\n",
       " '4-1-1 最近三年及一期经审计的财务报告及原始财务报表': '4-1 财务报告及相关财务资料',\n",
       " '1-4-2 重组协议': '1-4 重大重组情况',\n",
       " '4-10-3 会计师关于发行人的存货监盘计划以及存货监盘情况': '4-10 存货',\n",
       " '1-4-3 政府批准文件': '1-4 重大重组情况',\n",
       " '4-11-5 重大委托理财的相关合同': '4-11 重要的对外投资（合并范围内的子公司除外）',\n",
       " '4-11-7 重大项目的投资合同': '4-11 重要的对外投资（合并范围内的子公司除外）',\n",
       " '4-13-7 无形资产减值准备计提履行的审批程序': '4-13 无形资产、开发支出',\n",
       " '4-13-6 无形资产减值准备计提方法、减值准备明细表': '4-13 无形资产、开发支出',\n",
       " '4-13-5 处置无形资产的审批程序': '4-13 无形资产、开发支出',\n",
       " '4-13-4 公司主要无形资产的取得方式、入账价值及依据': '4-13 无形资产、开发支出',\n",
       " '4-13-3 无形资产、开发支出的会计政策': '4-13 无形资产、开发支出',\n",
       " '4-13-2 无形资产、开发支出明细表（开发支出明细表请使用模板“开发支出分析表.xlsx”）': '4-13 无形资产、开发支出',\n",
       " '4-13-1 无形资产摊销和减值情况': '4-13 无形资产、开发支出',\n",
       " '1-3-6 内部职工股清理的决策文件、相关协议、价款支付凭证': '1-3 内部职工股（如适用）',\n",
       " '4-12-9 在建工程转固列表及折旧计提情况（转固时间、转固依据、各项在建工程转固证据文件等）': '4-12 固定资产、在建工程',\n",
       " '4-12-8 在建工程明细表、减值准备明细表、原始凭证及实地查看记录': '4-12 固定资产、在建工程',\n",
       " '4-12-7 购建、处置固定资产等履行的审批程序': '4-12 固定资产、在建工程',\n",
       " '4-11-6 购买衍生产品的明细表及合同，持有衍生产品的品种、规模是否与发行人正常的生产经营需求相匹配的说明': '4-11 重要的对外投资（合并范围内的子公司除外）',\n",
       " '4-12-6 有关固定资产的会计制度及减值准备计提充分的说明': '4-12 固定资产、在建工程',\n",
       " '4-12-4 购建与处置固定资产的入账凭证及附件抽样记录': '4-12 固定资产、在建工程',\n",
       " '4-12-3 固定资产实地查看记录': '4-12 固定资产、在建工程',\n",
       " '4-12-2 固定资产的计价政策、折旧政策、使用年限和残值率': '4-12 固定资产、在建工程',\n",
       " '4-12-13 报告期如存在大额在建工程转入固定资产的，应说明其内容、依据及影响，尚未完工交付项目预计未来转入固定资产的时间与条件；固定资产与在建工程是否存在重大减值因素；需要提供具体的明细台账': '4-12 固定资产、在建工程',\n",
       " '4-12-12 结合固定资产成本规模、残值率和折旧年限对报告期固定资产折旧费用的合理性分析，并核查其与同期生产成本和期间费用中折旧项目金额的一致性': '4-12 固定资产、在建工程',\n",
       " '4-12-11 购建在建工程履行的审批程序': '4-12 固定资产、在建工程',\n",
       " '4-12-10 在建工程施工合同或预算资料': '4-12 固定资产、在建工程',\n",
       " '4-12-1 固定资产明细表、固定资产折旧明细表和减值准备明细表': '4-12 固定资产、在建工程',\n",
       " '1-3-7 有权部门对发行人内部职工股托管情况及真实性的确认文件': '1-3 内部职工股（如适用）',\n",
       " '4-11-9 长期股权投资减值准备计提的相关资料，及关于合理性和充分性的相关资料': '4-11 重要的对外投资（合并范围内的子公司除外）',\n",
       " '4-11-8 发行人内部关于对外投资的批准文件': '4-11 重要的对外投资（合并范围内的子公司除外）',\n",
       " '4-12-5 固定资产成新率及是否面临淘汰、更新、大修、技术升级等分析': '4-12 固定资产、在建工程',\n",
       " '3-12-11 与关联交易相关的同类交易的市场价格数据，以及交易价格比较分析': '3-12 关联方及关联交易情况',\n",
       " '3-9-5 发行人获得的主要荣誉和奖励': '3-9 商业信用情况',\n",
       " '3-9-3 针对发行人进行的网络搜索情况，包括登录相关网站（如各类政府机关网站，包括市场监督管理、税务、海关、土地管理、环保、应急管理、人社、司法等机构）或其他搜索网站（如中国人民银行征信系统、国家企业信用信息公示系统、中国执行信息公开网、中国裁判文书网等公共信息系统等）查询发行人是否存在违法违规情况，或因其他不诚信行为被媒体报道的情况': '3-9 商业信用情况',\n",
       " '3-4-1 有助分析发行人内部控制环境的董事会、总经理办公会等会议记录': '3-4 内部控制环境',\n",
       " '1-5-1 发行人报告期内控股子公司、重要参股公司的营业执照、公司章程、主营业务情况': '1-5 发行人控股子公司和重要参股公司情况',\n",
       " '3-3-4 结合对上述文件的审阅，对发行人独立董事制度调查了解工作的有关记录和评价结论': '3-3 独立董事制度及其执行情况',\n",
       " '3-3-3 独立董事发表的意见': '3-3 独立董事制度及其执行情况',\n",
       " '3-3-2 独立董事制度': '3-3 独立董事制度及其执行情况',\n",
       " '3-3-1 独立董事简历及任职资格说明': '3-3 独立董事制度及其执行情况',\n",
       " '1-5-2 发行人报告期内控股子公司、重要参股公司的全部工商登记文件': '1-5 发行人控股子公司和重要参股公司情况',\n",
       " '3-2-6 结合对上述文件的审阅，对发行人组织机构及三会运作情况调查了解工作的有关记录和评价结论': '3-2 组织结构和三会运作情况',\n",
       " '3-2-5 发行人协议控制架构的具体情况，包括协议控制架构涉及的各方法律主体的基本情况、主要合同等（如有）': '3-2 组织结构和三会运作情况',\n",
       " '3-2-4 审计委员会的运行情况': '3-2 组织结构和三会运作情况',\n",
       " '3-2-3 报告期内历次三会的会议文件，包括书面通知、会议记录、会议决议等': '3-2 组织结构和三会运作情况',\n",
       " '3-4-2 各项业务及管理规章制度及汇总表（包括但不限于对外投资、对外担保、关联交易、委托理财、重大投资等，如有）': '3-4 内部控制环境',\n",
       " '3-2-2 公司治理制度规定，包括三会议事规则、董事会专门委员会议事规则、董事会秘书制度、总经理工作制度、内部审计制度等文件资料': '3-2 组织结构和三会运作情况',\n",
       " '1-5-3 报告期内转让或受让控股子公司、对发行人有重大影响的参股公司股权的，相关决策性文件、审计报告、评估报告、股权转让协议及支付凭证（1-5-2未包含部分）': '1-5 发行人控股子公司和重要参股公司情况',\n",
       " '3-12-9 关联交易必要性、持续性、真实性的说明，发行人是否利用与关联方或其他利益相关方的交易实现报告期收入的增长': '3-12 关联方及关联交易情况',\n",
       " '3-12-8 关联交易相关的应收、应付款项占发行人应收、应付款项的比例': '3-12 关联方及关联交易情况',\n",
       " '3-12-7 关联方资金占用情况': '3-12 关联方及关联交易情况',\n",
       " '3-12-6 发行人与关联方发生的关联交易情况': '3-12 关联方及关联交易情况',\n",
       " '3-12-5 与关联交易相关的独立董事意见': '3-12 关联方及关联交易情况',\n",
       " '3-12-4 发行人高级管理人员及其他核心人员是否在关联方单位任职、领取薪酬的情况说明': '3-12 关联方及关联交易情况',\n",
       " '3-12-3 与关联交易相关的会议资料': '3-12 关联方及关联交易情况',\n",
       " '3-12-2 关联交易管理制度': '3-12 关联方及关联交易情况',\n",
       " '3-12-14 关于是否存在尚未识别的关联方及其交易的核查情况': '3-12 关联方及关联交易情况',\n",
       " '3-12-13 发行人报告期内关联方注销及非关联化情况': '3-12 关联方及关联交易情况',\n",
       " '3-2-1 组织结构（含参、控股子公司）及关于部门职能描述的文件': '3-2 组织结构和三会运作情况',\n",
       " '3-9-4 主要银行给予发行人的授信额度': '3-9 商业信用情况',\n",
       " '3-4-3 公司管理层对内部控制完整性、合理性及有效性的自我评估': '3-4 内部控制环境',\n",
       " '3-4-5 注册会计师关于内部控制的整改建议及企业的整改措施': '3-4 内部控制环境',\n",
       " '3-9-2 行业监管机构的监管记录和处罚文件': '3-9 商业信用情况',\n",
       " '3-9-1 市场监督管理、税务、海关、土地管理、环保、应急管理、人社、司法、银行等机构的调查反馈文件（如需要），境外律师出具的关于境外子公司合法合规性的法律意见书（如需要）': '3-9 商业信用情况',\n",
       " '1-4-4 重大重组涉及的审计报告、评估报告、中介机构专业意见、国有资产评估核准或备案文件': '1-4 重大重组情况',\n",
       " '3-8-2 发行人内部审计稽核部门设置情况及相关内部审计制度': '3-8 内部控制的监督',\n",
       " '3-8-1 内部审计报告、监事会报告': '3-8 内部控制的监督',\n",
       " '1-4-5 重大重组涉及国有资产转让的，国有资产进场交易的文件': '1-4 重大重组情况',\n",
       " '3-7-8 对发行人财务会计管理内部控制的有效性评价及其依据': '3-7 会计管理控制',\n",
       " '3-7-7 财务会计管理内部控制流程调查中发现的问题、整改建议及发行人整改状况': '3-7 会计管理控制',\n",
       " '3-7-6 各级财务会计人员简历及专业资质': '3-7 会计管理控制',\n",
       " '3-7-5 关于报告期内财务总监或会计负责人离职及上述人员任职期间对财务数据提出异议的情况说明及资料': '3-7 会计管理控制',\n",
       " '3-7-4 关于报告期内未采用财务管理电算化系统的情况说明': '3-7 会计管理控制',\n",
       " '3-4-4 注册会计师对内部控制的鉴证意见': '3-4 内部控制环境',\n",
       " '3-7-3 关于会计档案管理的说明及相关资料': '3-7 会计管理控制',\n",
       " '3-7-1 会计管理制度、会计报告制度及其他相关会计制度': '3-7 会计管理控制',\n",
       " '1-4-6 债权人同意债务转移的相关文件、重组相关的对价支付凭证、税收缴纳凭证和资产过户文件': '1-4 重大重组情况',\n",
       " '3-6-4 对发行人信息系统管理内部控制的有效性评价及其依据': '3-6 信息系统控制',\n",
       " '3-6-3 信息系统管理内部控制调查中发现的问题、整改建议及发行人整改请况': '3-6 信息系统控制',\n",
       " '3-6-2 发行人信息管理系统用户权限设置情况表': '3-6 信息系统控制',\n",
       " '3-6-1 信息系统控制相关的业务规章制度': '3-6 信息系统控制',\n",
       " '1-4-7 重大重组对发行人业务、经营业绩、财务状况和管理层影响情况的说明': '1-4 重大重组情况',\n",
       " '3-5-3 发行人已发现的由于风险控制不力导致的损失事件的情况说明': '3-5 业务控制',\n",
       " '3-5-2 发行人因违反工商、税务、审计、环保、劳动保护等部门的相关规定而受到处罚的情况': '3-5 业务控制',\n",
       " '3-5-1 发行人关于各类业务的控制标准、控制措施的相关制度规定': '3-5 业务控制',\n",
       " '3-4-6 结合对上述文件的审阅，对发行人内部控制环境了解工作的有关记录和评价结论': '3-4 内部控制环境',\n",
       " '3-7-2 发行人财务部岗位设置和人员配备': '3-7 会计管理控制',\n",
       " '4-1-7 境内外报表差异调节表（如有）': '4-1 财务报告及相关财务资料'}"
      ]
     },
     "execution_count": 283,
     "metadata": {},
     "output_type": "execute_result"
    }
   ],
   "source": [
    "total_node"
   ]
  },
  {
   "cell_type": "markdown",
   "id": "e8de7ce2-1152-4993-8381-69cddf54803e",
   "metadata": {},
   "source": [
    "#### 最终生成"
   ]
  },
  {
   "cell_type": "code",
   "execution_count": 287,
   "id": "ebedc34d-6ef4-4890-8794-b57635c665cd",
   "metadata": {},
   "outputs": [
    {
     "data": {
      "text/plain": [
       "Int64Index([  0, 506, 182, 444, 264, 109, 529, 539,  99, 477,\n",
       "            ...\n",
       "            244, 243, 242,  64, 240, 239, 238, 236, 248, 272],\n",
       "           dtype='int64', length=543)"
      ]
     },
     "execution_count": 287,
     "metadata": {},
     "output_type": "execute_result"
    }
   ],
   "source": [
    "file_sort.index"
   ]
  },
  {
   "cell_type": "code",
   "execution_count": 288,
   "id": "7429d9cd-7057-49be-a7a2-e3dd6f9d1e36",
   "metadata": {
    "tags": []
   },
   "outputs": [],
   "source": [
    "new_path = 'Python生成'\n",
    "root_path = '投行申报'\n",
    "def create_tree(tree_pandas, new_path, root_path):\n",
    "    # 筛选和深度排序\n",
    "    tree_pandas_dir = tree_pandas[tree_pandas['类型'] == '文件夹'] \n",
    "    file_sort = tree_pandas_dir.sort_values(by='深度')\n",
    "    # {子项: 父项}\n",
    "    total_node = {}\n",
    "    file_sort.apply(lambda x : total_node.setdefault(x['名称'], x['父项']), axis=1)\n",
    "    # 创建新的根目录\n",
    "    if not os.path.exists(new_path):\n",
    "        # os.makedirs(new_path)\n",
    "        os.mkdir(new_path)\n",
    "    for i in file_sort.index:\n",
    "        file_name = file_sort.loc[i, '名称']\n",
    "        target_path = file_name # 当前文件夹名称\n",
    "        parent_name = total_node[file_name] # 获取父节点名称\n",
    "        while parent_name != root_path:\n",
    "            # 不断增加父级目录，先拼接，后更新父项名称，举例：\n",
    "            # 第1次循环：target_path 1-1-1 parent_name 1-1\n",
    "            # 第2次循环 target_path 1-1/1-1-1 parent_name 1\n",
    "            # 第3次循环前：target_path 1/1-1/1-1-1 parent_name root_path(或'投行申报')\n",
    "            target_path = os.path.join(parent_name, target_path)\n",
    "            parent_name = total_node[parent_name]\n",
    "        target_path = os.path.join(new_path, target_path)\n",
    "        # 打印一下将创建的路径\n",
    "        print(target_path)\n",
    "        # 因为是按深度来的，所以子项创建之前父项一定创建好了\n",
    "        if not os.path.exists(target_path):\n",
    "            # os.makedirs(target_path)\n",
    "            os.mkdir(target_path)"
   ]
  },
  {
   "cell_type": "code",
   "execution_count": 289,
   "id": "616fa32f-947b-4750-8fdd-554d1123ed3d",
   "metadata": {
    "collapsed": true,
    "jupyter": {
     "outputs_hidden": true
    },
    "tags": []
   },
   "outputs": [
    {
     "name": "stdout",
     "output_type": "stream",
     "text": [
      "Python生成\\1 发行人基本情况调查\n",
      "Python生成\\10 建议书与备忘录\n",
      "Python生成\\9 工作执行记录\n",
      "Python生成\\8 与其他证券服务机构的协作\n",
      "Python生成\\2 业务与技术调查\n",
      "Python生成\\6 投资者保护调查\n",
      "Python生成\\5 募集资金运用情况和业务发展目标调查\n",
      "Python生成\\3 公司治理与独立性调查\n",
      "Python生成\\7 风险因素及其他重要事项调查\n",
      "Python生成\\4 财务与会计调查\n",
      "Python生成\\6 投资者保护调查\\6-3 信息披露制度的建设和执行情况\n",
      "Python生成\\4 财务与会计调查\\4-5 营业成本与销售毛利\n",
      "Python生成\\4 财务与会计调查\\4-3 有关评估报告\n",
      "Python生成\\4 财务与会计调查\\4-25 相关银行账户资金流水\n",
      "Python生成\\4 财务与会计调查\\4-24 历次验资报告\n",
      "Python生成\\4 财务与会计调查\\4-23 报告期内发行人主要财务指标情况表\n",
      "Python生成\\4 财务与会计调查\\4-22 其他科目异常情况核查\n",
      "Python生成\\1 发行人基本情况调查\\1-9 董事、监事和高级管理人员胜任能力和勤勉尽责\n",
      "Python生成\\6 投资者保护调查\\6-1 保护投资者合法权益规定的各项措施\n",
      "Python生成\\4 财务与会计调查\\4-2 会计政策、会计估计及会计差错更正\n",
      "Python生成\\8 与其他证券服务机构的协作\\8-7 执业中介机构及其项目小组成员（包括签字会计师\n",
      "Python生成\\9 工作执行记录\\9-2 定期会议的会议资料以及会议记录\n",
      "Python生成\\9 工作执行记录\\9-1 保荐机构项目人员配置情况，各人员从事的具体工作，以及相关人员在项目中发挥的作用的相关记录\n",
      "Python生成\\8 与其他证券服务机构的协作\\8-8 执业中介机构项目小组成员独立性声明（包括签字会计师\n",
      "Python生成\\6 投资者保护调查\\6-2 承诺事项履行情况\n",
      "Python生成\\8 与其他证券服务机构的协作\\8-6 执业中介机构项目小组成员名单及简历（包括签字会计师\n",
      "Python生成\\8 与其他证券服务机构的协作\\8-5 执业注册会计师\n",
      "Python生成\\8 与其他证券服务机构的协作\\8-4 执业中介机构营业执照复印件\n",
      "Python生成\\8 与其他证券服务机构的协作\\8-3 对于其他证券服务机构专业意见以及报告中重大异常、前后重大矛盾、重大差异情形的核查说明及相关资料（包括重要事项的会计处理不符合行业惯例；含有重大无先例会计事项；专业意见与法律法规、监管规定、自律规则等要求或者行业惯例存在重大差异；专业意见所依赖的假设前提明显不合理、核查程序、核查工作范围等明显不合理等）（如有）\n",
      "Python生成\\8 与其他证券服务机构的协作\\8-1 其他证券服务机构及签字人员的业务资质\n",
      "Python生成\\8 与其他证券服务机构的协作\\8-2 对其他证券服务机构关于核查程序及取得的关键性证据、核查工作范围及核查结论等的访谈记录及其他相关复核过程资料\n",
      "Python生成\\4 财务与会计调查\\4-6 期间费用\n",
      "Python生成\\5 募集资金运用情况和业务发展目标调查\\5-3 募集资金投向产生的关联交易\n",
      "Python生成\\4 财务与会计调查\\4-9 应收款项、合同资产\n",
      "Python生成\\1 发行人基本情况调查\\1-4 重大重组情况\n",
      "Python生成\\1 发行人基本情况调查\\1-6 控股股东及实际控制人、发起人及股东情况\n",
      "Python生成\\1 发行人基本情况调查\\1-12 董事、监事、高级管理人员及其他核心人员持股及其他对外投资等情况\n",
      "Python生成\\1 发行人基本情况调查\\1-10 董事、监事、高级管理人员及其他核心人员薪酬及兼职情况\n",
      "Python生成\\1 发行人基本情况调查\\1-7 董事、监事和高级管理人员任职情况和任职资格\n",
      "Python生成\\1 发行人基本情况调查\\1-11 报告期内董事、监事、高级管理人员及其他核心人员变动\n",
      "Python生成\\1 发行人基本情况调查\\1-13 员工情况\n",
      "Python生成\\1 发行人基本情况调查\\1-2 企业改制与设立情况（国有企业、集体企业改制而来的或历史上存在挂靠集体组织经营的企业）\n",
      "Python生成\\1 发行人基本情况调查\\1-3 内部职工股（如适用）\n",
      "Python生成\\4 财务与会计调查\\4-8 货币资金\n",
      "Python生成\\1 发行人基本情况调查\\1-5 发行人控股子公司和重要参股公司情况\n",
      "Python生成\\9 工作执行记录\\9-4 按照证监会保荐业务管理相关规定制作的工作日志（请使用模板“项目工作日志.docx”）\n",
      "Python生成\\1 发行人基本情况调查\\1-8 董事、监事和高级管理人员的经历及行为操守\n",
      "Python生成\\4 财务与会计调查\\4-7 政府补助、非经常性损益\n",
      "Python生成\\5 募集资金运用情况和业务发展目标调查\\5-6 关于募集资金管理的相关制度\n",
      "Python生成\\5 募集资金运用情况和业务发展目标调查\\5-5 业务发展目标\n",
      "Python生成\\5 募集资金运用情况和业务发展目标调查\\5-4 发展战略\n",
      "Python生成\\6 投资者保护调查\\6-4 股利分配政策\n",
      "Python生成\\5 募集资金运用情况和业务发展目标调查\\5-2 本次募集资金运用的相关资料\n",
      "Python生成\\5 募集资金运用情况和业务发展目标调查\\5-1 前次募集资金使用情况（如有）\n",
      "Python生成\\1 发行人基本情况调查\\1-1 历史沿革情况\n",
      "Python生成\\7 风险因素及其他重要事项调查\\7-6 尚未盈利或存在累计未弥补亏损\n",
      "Python生成\\4 财务与会计调查\\4-4 销售收入\n",
      "Python生成\\7 风险因素及其他重要事项调查\\7-4 评估价值\n",
      "Python生成\\10 建议书与备忘录\\10-2 保荐机构就重大或专题事项出具的备忘录\n",
      "Python生成\\10 建议书与备忘录\\10-1 为发行人出具的项目建议书、改制方案及其他规范方案\n",
      "Python生成\\3 公司治理与独立性调查\\3-2 组织结构和三会运作情况\n",
      "Python生成\\3 公司治理与独立性调查\\3-12 关联方及关联交易情况\n",
      "Python生成\\4 财务与会计调查\\4-13 无形资产、开发支出\n",
      "Python生成\\4 财务与会计调查\\4-11 重要的对外投资（合并范围内的子公司除外）\n",
      "Python生成\\3 公司治理与独立性调查\\3-5 业务控制\n",
      "Python生成\\3 公司治理与独立性调查\\3-6 信息系统控制\n",
      "Python生成\\3 公司治理与独立性调查\\3-7 会计管理控制\n",
      "Python生成\\10 建议书与备忘录\\10-3 发行人律师就重大或专题事项出具的备忘录\n",
      "Python生成\\4 财务与会计调查\\4-12 固定资产、在建工程\n",
      "Python生成\\3 公司治理与独立性调查\\3-9 商业信用情况\n",
      "Python生成\\4 财务与会计调查\\4-14 商誉\n",
      "Python生成\\4 财务与会计调查\\4-16 主要债务\n",
      "Python生成\\4 财务与会计调查\\4-1 财务报告及相关财务资料\n",
      "Python生成\\9 工作执行记录\\9-3 重大事项的专题讨论会的会议资料及会议纪要\n",
      "Python生成\\3 公司治理与独立性调查\\3-4 内部控制环境\n",
      "Python生成\\4 财务与会计调查\\4-15 投资性房地产\n",
      "Python生成\\4 财务与会计调查\\4-10 存货\n",
      "Python生成\\7 风险因素及其他重要事项调查\\7-5 发行人符合创业板定位的相关资料和说明\n",
      "Python生成\\4 财务与会计调查\\4-17 现金流量\n",
      "Python生成\\10 建议书与备忘录\\10-4 会计师就重大或专题事项出具的备忘录\n",
      "Python生成\\3 公司治理与独立性调查\\3-8 内部控制的监督\n",
      "Python生成\\10 建议书与备忘录\\10-6 承销商律师就重大或专题事项出具的备忘录\n",
      "Python生成\\7 风险因素及其他重要事项调查\\7-3 诉讼和担保情况\n",
      "Python生成\\10 建议书与备忘录\\10-5 评估师就重大或专题事项出具的备忘录\n",
      "Python生成\\7 风险因素及其他重要事项调查\\7-2 重大合同（包括已履行完毕但属于报告期内且对发行人有重要影响的合同）（对应招股书披露内容，已提供的部分合同可参见其他章节）\n",
      "Python生成\\7 风险因素及其他重要事项调查\\7-1 既往经营业绩发生重大变动或历次重大事件的相关资料\n",
      "Python生成\\6 投资者保护调查\\6-6 股东投票机制的建立情况，包括采取累积投票制选举公司董事、监事，中小投资者单独计票机制，法定事项采取网络投票方式召开股东大会进行审议表决、征集投票权的相关安排等（如有）\n",
      "Python生成\\6 投资者保护调查\\6-5 发行前滚存利润分配安排\n",
      "Python生成\\4 财务与会计调查\\4-20 盈利预测\n",
      "Python生成\\4 财务与会计调查\\4-19 纳税情况\n",
      "Python生成\\3 公司治理与独立性调查\\3-3 独立董事制度及其执行情况\n",
      "Python生成\\4 财务与会计调查\\4-18 合并报表的范围\n",
      "Python生成\\3 公司治理与独立性调查\\3-11 同业竞争情况\n",
      "Python生成\\4 财务与会计调查\\4-21 发行人关于股份支付会计处理的说明及相关底稿\n",
      "Python生成\\3 公司治理与独立性调查\\3-10 独立情况\n",
      "Python生成\\3 公司治理与独立性调查\\3-1 公司章程及其规范运行情况\n",
      "Python生成\\2 业务与技术调查\\2-5 核心技术人员、技术与研发情况\n",
      "Python生成\\2 业务与技术调查\\2-4 生产情况\n",
      "Python生成\\2 业务与技术调查\\2-3 采购情况\n",
      "Python生成\\2 业务与技术调查\\2-2 销售情况\n",
      "Python生成\\2 业务与技术调查\\2-1 行业情况及竞争状况\n",
      "Python生成\\10 建议书与备忘录\\10-8 本次发行的保荐机构及证券服务机构等作出的重要承诺\n",
      "Python生成\\10 建议书与备忘录\\10-7 其他中介机构就重大或专题事项出具的备忘录\n",
      "Python生成\\1 发行人基本情况调查\\1-6 控股股东及实际控制人、发起人及股东情况\\1-6-9 对赌协议及解除的相关资料\n",
      "Python生成\\1 发行人基本情况调查\\1-7 董事、监事和高级管理人员任职情况和任职资格\\1-7-1 董事会、监事会、高级管理人员及其他核心人员的构成情况及职责\n",
      "Python生成\\1 发行人基本情况调查\\1-9 董事、监事和高级管理人员胜任能力和勤勉尽责\\1-9-3 董事、监事、高管人员及核心技术人员合规证明\n",
      "Python生成\\1 发行人基本情况调查\\1-9 董事、监事和高级管理人员胜任能力和勤勉尽责\\1-9-2 董事、监事、高级管理人员及其他核心人员在发行人投入时间的说明以及相关的三会及总经理办公会纪要或记录\n",
      "Python生成\\1 发行人基本情况调查\\1-8 董事、监事和高级管理人员的经历及行为操守\\1-8-4 发行人与董事、监事、高级管理人员及其他核心人员所签订的协议（包括劳动合同、保密协议、竞业禁止协议及其他对投资者做出价值判断和投资决策有重大影响的协议）以及履行情况\n",
      "Python生成\\1 发行人基本情况调查\\1-7 董事、监事和高级管理人员任职情况和任职资格\\1-7-2 董事、监事、高级管理人员及其他核心人员相互之间是否存在亲属关系的说明\n",
      "Python生成\\1 发行人基本情况调查\\1-6 控股股东及实际控制人、发起人及股东情况\\1-6-5 控股股东、实际控制人及主要股东持有发行人股份是否存在质押、冻结、其他权利限制或权属争议情况的说明及相关文件\n",
      "Python生成\\1 发行人基本情况调查\\1-8 董事、监事和高级管理人员的经历及行为操守\\1-8-2 发行人关于董事、监事、高级管理人员及其他核心人员是否存在违规行为的说明，是否受到相关部门处罚或立案侦查、立案调查的情况\n",
      "Python生成\\1 发行人基本情况调查\\1-6 控股股东及实际控制人、发起人及股东情况\\1-6-8 私募股权基金备案及管理人登记资料\n",
      "Python生成\\1 发行人基本情况调查\\1-9 董事、监事和高级管理人员胜任能力和勤勉尽责\\1-9-1 董事、监事、高级管理人员及其他核心人员最近三年曾担任高级管理人员的其他公司的规范运作情况以及该公司经营情况的说明文件\n",
      "Python生成\\1 发行人基本情况调查\\1-6 控股股东及实际控制人、发起人及股东情况\\1-6-7 股东之间是否存在关联关系或一致行动关系的说明及相关协议，股东与发行人的董事、监事、高级管理人员之间以及股东与本次发行的中介机构及其负责人、高级管理人员、经办人员之间是否存在关联关系或其他利益关系情况的说明\n",
      "Python生成\\2 业务与技术调查\\2-1 行业情况及竞争状况\\2-1-4 国家有关产业政策及发展纲要\n",
      "Python生成\\1 发行人基本情况调查\\1-6 控股股东及实际控制人、发起人及股东情况\\1-6-4 控股股东及实际控制人控制的其他企业的营业执照、公司章程、工商登记资料、最近一年及一期的财务报表或审计报告\n",
      "Python生成\\1 发行人基本情况调查\\1-6 控股股东及实际控制人、发起人及股东情况\\1-6-14 控股股东及实际控制人、发起人、主要股东及作为股东的董事、监事、高管人员做出的重要承诺及其履行情况的说明\n",
      "Python生成\\1 发行人基本情况调查\\1-6 控股股东及实际控制人、发起人及股东情况\\1-6-3 控股股东及实际控制人、发起人及主要股东如为自然人的，应提供关于国籍、永久境外居留权、身份证号码、住所及简历的说明\n",
      "Python生成\\1 发行人基本情况调查\\1-6 控股股东及实际控制人、发起人及股东情况\\1-6-2 控股股东及实际控制人、发起人及主要股东的基本情况调查表、营业执照、公司章程或合伙协议、工商登记资料、最近一年及一期的财务报表或审计报告\n",
      "Python生成\\1 发行人基本情况调查\\1-6 控股股东及实际控制人、发起人及股东情况\\1-6-15 发行人关于全部股东名称、持股数量及比例、股份性质的说明\n",
      "Python生成\\2 业务与技术调查\\2-1 行业情况及竞争状况\\2-1-1 行业主管部门制定的发展规划、行业管理方面的法律法规及规范性文件\n",
      "Python生成\\2 业务与技术调查\\2-1 行业情况及竞争状况\\2-1-2 行业研究资料、行业杂志、行业分析报告\n",
      "Python生成\\2 业务与技术调查\\2-1 行业情况及竞争状况\\2-1-3 行业专家意见、行业协会意见\n",
      "Python生成\\2 业务与技术调查\\2-1 行业情况及竞争状况\\2-1-5 通过公开渠道获得的主要竞争对手资料\n",
      "Python生成\\2 业务与技术调查\\2-4 生产情况\\2-4-10 商标、专利、非专利技术、水面养殖权、探矿权、采矿权、版权、特许经营权等无形资产的清单及权属证明\n",
      "Python生成\\2 业务与技术调查\\2-1 行业情况及竞争状况\\2-1-6 披露引用第三方数据的相关资料\n",
      "Python生成\\1 发行人基本情况调查\\1-6 控股股东及实际控制人、发起人及股东情况\\1-6-6 控股股东、实际控制人合法合规情况\n",
      "Python生成\\2 业务与技术调查\\2-2 销售情况\\2-2-1 行业和发行人销售模式的说明文件、发行人的销售定价原则\n",
      "Python生成\\2 业务与技术调查\\2-2 销售情况\\2-2-2 发行人销售管理\n",
      "Python生成\\1 发行人基本情况调查\\1-6 控股股东及实际控制人、发起人及股东情况\\1-6-12 发行人成立后主要发起人拥有的主要资产和实际从事业务情况的说明\n",
      "Python生成\\2 业务与技术调查\\2-1 行业情况及竞争状况\\2-1-7 发行人的主要商业模式、销售模式和盈利模式情况介绍\n",
      "Python生成\\2 业务与技术调查\\2-3 采购情况\\2-3-1 行业和发行人采购模式的说明文件\n",
      "Python生成\\2 业务与技术调查\\2-2 销售情况\\2-2-12 经销商、加盟商及终端客户核查情况（如有）\n",
      "Python生成\\2 业务与技术调查\\2-2 销售情况\\2-2-13 销售业务执行情况\n",
      "Python生成\\2 业务与技术调查\\2-2 销售情况\\2-2-3 权威市场调研机构关于销售情况的报告\n",
      "Python生成\\2 业务与技术调查\\2-2 销售情况\\2-2-4 主要产品的市场占有率的资料\n",
      "Python生成\\2 业务与技术调查\\2-2 销售情况\\2-2-5 报告期按区域分布的销售记录\n",
      "Python生成\\2 业务与技术调查\\2-2 销售情况\\2-2-6 主要客户核查情况\n",
      "Python生成\\2 业务与技术调查\\2-2 销售情况\\2-2-7 发行人销售业务的抽查情况（单笔业务的销售订单、销售合同、发货通知、出库单、运输单据、签收\n",
      "Python生成\\2 业务与技术调查\\2-2 销售情况\\2-2-8 报告期内销售退回的核查资料\n",
      "Python生成\\2 业务与技术调查\\2-2 销售情况\\2-2-9 报告期产品返修率、客户诉讼和产品质量纠纷等方面的资料\n",
      "Python生成\\2 业务与技术调查\\2-2 销售情况\\2-2-11 异常客户核查\n",
      "Python生成\\1 发行人基本情况调查\\1-6 控股股东及实际控制人、发起人及股东情况\\1-6-13 自然人发起人直接持股和间接持股的有关情况，及其在发行人的任职情况\n",
      "Python生成\\2 业务与技术调查\\2-2 销售情况\\2-2-10 董事、监事、高级管理人员和其他核心人员、主要关联方或持有发行人5%以上股份的股东在主要客户中所占权益的说明\n",
      "Python生成\\2 业务与技术调查\\2-3 采购情况\\2-3-11 发行人供应商选择流程及相关文件样本；采购订单的生成和审批、执行流程及相关文件样本；库存管理制度及入库、出库相关流程、手续及相关文件样本\n",
      "Python生成\\2 业务与技术调查\\2-3 采购情况\\2-3-12 采购付款测试（包含填列的模板“采购付款测试表.xlsx”及相应原始凭证）\n",
      "Python生成\\2 业务与技术调查\\2-3 采购情况\\2-3-2 发行人采购管理\n",
      "Python生成\\2 业务与技术调查\\2-3 采购情况\\2-3-3 与原材料、辅助材料以及能源动力供求相关的研究报告和统计资料\n",
      "Python生成\\2 业务与技术调查\\2-3 采购情况\\2-3-4 主要供应商核查情况\n",
      "Python生成\\2 业务与技术调查\\2-3 采购情况\\2-3-5 发行人采购业务的抽查情况（大额采购申请、采购合同、验收证明、入库凭证、采购发票、款项支付、审批程序及相应账务处理记录）\n",
      "Python生成\\2 业务与技术调查\\2-3 采购情况\\2-3-6 董事、监事、高级管理人员和其他核心人员、主要关联方或持有发行人5%以上股份的股东在主要供应商中所占权益的说明\n",
      "Python生成\\2 业务与技术调查\\2-3 采购情况\\2-3-7 异常供应商核查\n",
      "Python生成\\2 业务与技术调查\\2-3 采购情况\\2-3-8 发行人报告期内采取外协、外包的情况\n",
      "Python生成\\2 业务与技术调查\\2-3 采购情况\\2-3-9 发行人过往三年的采购情况以及成本变动分析\n",
      "Python生成\\2 业务与技术调查\\2-3 采购情况\\2-3-10 发行人出具的关于采购来源以及价格稳定性的说明，及对主要供应商的行业地位和情况的介绍\n",
      "Python生成\\2 业务与技术调查\\2-1 行业情况及竞争状况\\2-1-8 同行业比较情况\n",
      "Python生成\\2 业务与技术调查\\2-5 核心技术人员、技术与研发情况\\2-5-11 发行人的核心技术与专利权的对应关系，专利权属证明\n",
      "Python生成\\2 业务与技术调查\\2-4 生产情况\\2-4-11 专利、非专利技术的用途介绍，形成核心技术和主营业务收入的专利情况相关资料\n",
      "Python生成\\2 业务与技术调查\\2-4 生产情况\\2-4-12 业务许可资格或资质情况（包括但不限于生产经营许可证、高新技术企业证书、安全生产许可证、卫生许可证、排污许可证等）\n",
      "Python生成\\2 业务与技术调查\\2-4 生产情况\\2-4-6 主要产品的设计生产能力和报告期内历年产量有关资料\n",
      "Python生成\\2 业务与技术调查\\2-4 生产情况\\2-4-13 发行人资产抵押、质押或权利存在限制的情况及相关合同、证明文件、还款情况\n",
      "Python生成\\2 业务与技术调查\\2-4 生产情况\\2-4-14 发行人关于是否存在和第三方共有资产情况的说明，及共有资产权属证明文件、协议等底稿（如有）\n",
      "Python生成\\2 业务与技术调查\\2-4 生产情况\\2-4-15 关键设备、厂房等重要资产的保险合同或其他保障协定\n",
      "Python生成\\2 业务与技术调查\\2-4 生产情况\\2-4-16 境外拥有资产的情况说明及重要境外资产的权属证明，境外律师出具的关于境外资产完整性的法律意见书（如有）\n",
      "Python生成\\2 业务与技术调查\\2-4 生产情况\\2-4-17 产品质量和技术标准\n",
      "Python生成\\2 业务与技术调查\\2-4 生产情况\\2-4-18 安全生产\n",
      "Python生成\\2 业务与技术调查\\2-4 生产情况\\2-4-19 环境保护\n",
      "Python生成\\2 业务与技术调查\\2-4 生产情况\\2-4-2 发行人主要产品及其功能、服务的用途介绍资料\n",
      "Python生成\\2 业务与技术调查\\2-4 生产情况\\2-4-3 主要产品的工艺流程图或服务的流程图\n",
      "Python生成\\2 业务与技术调查\\2-4 生产情况\\2-4-4 发行人关于生产工艺、技术在行业中领先程度的说明\n",
      "Python生成\\2 业务与技术调查\\2-4 生产情况\\2-4-5 发行人生产工艺变动的相关资料及毛利率波动与工艺改进匹配关系说明\n",
      "Python生成\\2 业务与技术调查\\2-4 生产情况\\2-4-7 房产、主要设备等资产的占有与使用情况\n",
      "Python生成\\2 业务与技术调查\\2-5 核心技术人员、技术与研发情况\\2-5-3 核心技术产品（服务）收入的主要内容、核算方法及合理性分析资料\n",
      "Python生成\\2 业务与技术调查\\2-4 生产情况\\2-4-8 发行人许可或被许可使用资产的情况\n",
      "Python生成\\2 业务与技术调查\\2-4 生产情况\\2-4-9 正在建造或拟建造固定资产的相关审批、许可文件\n",
      "Python生成\\1 发行人基本情况调查\\1-6 控股股东及实际控制人、发起人及股东情况\\1-6-11 股东是否存在违规入股、入股交易价格异常情形的说明\n",
      "Python生成\\2 业务与技术调查\\2-5 核心技术人员、技术与研发情况\\2-5-1 公司技术研发成果、在研项目、研发进展以及研发目标等相关资料\n",
      "Python生成\\2 业务与技术调查\\2-5 核心技术人员、技术与研发情况\\2-5-10 公司技术先进性及其表征\n",
      "Python生成\\4 财务与会计调查\\4-14 商誉\\4-14-1 商誉明细表，商誉形成的基础资料及形成原因\n",
      "Python生成\\2 业务与技术调查\\2-5 核心技术人员、技术与研发情况\\2-5-12 发行人的核心技术在主营业务及产品或服务中的应用和贡献情况相关底稿\n",
      "Python生成\\2 业务与技术调查\\2-5 核心技术人员、技术与研发情况\\2-5-13 发行人正在从事的研发项目核查\n",
      "Python生成\\2 业务与技术调查\\2-5 核心技术人员、技术与研发情况\\2-5-4 核心技术人员的认定依据及相关资料\n",
      "Python生成\\2 业务与技术调查\\2-5 核心技术人员、技术与研发情况\\2-5-6 发行人对核心技术人员实施的约束激励措施，报告期内核心技术人员对公司研发的具体贡献、主要变动情况及对发行人的影响的说明\n",
      "Python生成\\1 发行人基本情况调查\\1-5 发行人控股子公司和重要参股公司情况\\1-5-4 发行人重要控股子公司、对发行人有重大影响的参股公司的主要其他合作方情况和相关资料\n",
      "Python生成\\3 公司治理与独立性调查\\3-11 同业竞争情况\\3-11-4 关于不属于重大不利影响同业竞争的说明（如有）\n",
      "Python生成\\3 公司治理与独立性调查\\3-12 关联方及关联交易情况\\3-12-1 关联方资料\n",
      "Python生成\\3 公司治理与独立性调查\\3-10 独立情况\\3-10-3 控股股东、实际控制人与发行人从事的主要业务与拥有的资产情况\n",
      "Python生成\\2 业务与技术调查\\2-5 核心技术人员、技术与研发情况\\2-5-7 公司研发部门组织架构及职能说明，研发体制及激励制度等资料\n",
      "Python生成\\2 业务与技术调查\\2-5 核心技术人员、技术与研发情况\\2-5-8 与非专利技术相关的保密制度及其与核心技术人员签订的保密协议\n",
      "Python生成\\2 业务与技术调查\\2-5 核心技术人员、技术与研发情况\\2-5-9 核心技术的取得及使用是否存在纠纷或潜在纠纷及侵犯他人知识产权的情形的说明（包括但不限于访谈、互联网搜索等）\n",
      "Python生成\\1 发行人基本情况调查\\1-6 控股股东及实际控制人、发起人及股东情况\\1-6-10 发行人股东中存在的契约型基金、信托计划、资产管理计划等“三类股东”相关资料\n",
      "Python生成\\1 发行人基本情况调查\\1-6 控股股东及实际控制人、发起人及股东情况\\1-6-1 发行人控股股东或实际控制人的组织结构（参控股子公司、职能部门设置）\n",
      "Python生成\\3 公司治理与独立性调查\\3-1 公司章程及其规范运行情况\\3-1-1 与公司章程历次修改相关的三会文件、公司章程进行工商变更登记或备案的资料\n",
      "Python生成\\3 公司治理与独立性调查\\3-1 公司章程及其规范运行情况\\3-1-2 发行人就其三年内是否存在违法违规行为的书面声明\n",
      "Python生成\\3 公司治理与独立性调查\\3-1 公司章程及其规范运行情况\\3-1-3 发行人特别表决权股份或类似安排的相关资料\n",
      "Python生成\\3 公司治理与独立性调查\\3-10 独立情况\\3-10-1 发行人关于资产完整情况的说明\n",
      "Python生成\\2 业务与技术调查\\2-4 生产情况\\2-4-1 行业和发行人生产模式的说明文件\n",
      "Python生成\\3 公司治理与独立性调查\\3-10 独立情况\\3-10-10 发行人部分资产来自于上市公司的独立性核查\n",
      "Python生成\\3 公司治理与独立性调查\\3-10 独立情况\\3-10-4 如存在业务交叉，相互占用资产、资源的情况，要特别说明解决措施和效果\n",
      "Python生成\\2 业务与技术调查\\2-5 核心技术人员、技术与研发情况\\2-5-5 核心技术人员的学历、专业资质及重要科研成果和获得奖项等资料\n",
      "Python生成\\3 公司治理与独立性调查\\3-10 独立情况\\3-10-5 控股股东、实际控制人与发行人的财务部门的设置以及独立运作情况\n",
      "Python生成\\3 公司治理与独立性调查\\3-10 独立情况\\3-10-6 控股股东、实际控制人与发行人的采购、销售部门的设置及各自运作情况\n",
      "Python生成\\3 公司治理与独立性调查\\3-10 独立情况\\3-10-7 控股股东、实际控制人与发行人的银行账户开设及独立运作情况\n",
      "Python生成\\3 公司治理与独立性调查\\3-10 独立情况\\3-10-8 发行人关于人员独立情况的说明\n",
      "Python生成\\3 公司治理与独立性调查\\3-10 独立情况\\3-10-9 发行人控股股东、实际控制人关于保持发行人资产、人员、财务、机构和业务独立的承诺\n",
      "Python生成\\1 发行人基本情况调查\\1-5 发行人控股子公司和重要参股公司情况\\1-5-5 发行人控股子公司、重要参股合营\n",
      "Python生成\\3 公司治理与独立性调查\\3-11 同业竞争情况\\3-11-1 发行人、控股股东或实际控制人（如控股股东、实际控制人为自然人，应包含亲属）及其控制的企业主营业务情况的说明\n",
      "Python生成\\3 公司治理与独立性调查\\3-11 同业竞争情况\\3-11-2 解除同业竞争的相关资料（如有）\n",
      "Python生成\\3 公司治理与独立性调查\\3-11 同业竞争情况\\3-11-3 控股股东或实际控制人关于避免同业竞争的承诺函\n",
      "Python生成\\3 公司治理与独立性调查\\3-10 独立情况\\3-10-2 资产是否存在被控股股东、其他关联方控制或占用情况的说明（资金占用见3-12-7）\n",
      "Python生成\\3 公司治理与独立性调查\\3-12 关联方及关联交易情况\\3-12-10 经常性和偶发性关联交易及其对发行人长期持续运营的影响\n",
      "Python生成\\4 财务与会计调查\\4-11 重要的对外投资（合并范围内的子公司除外）\\4-11-9 长期股权投资减值准备计提的相关资料，及关于合理性和充分性的相关资料\n",
      "Python生成\\4 财务与会计调查\\4-11 重要的对外投资（合并范围内的子公司除外）\\4-11-3 投资协议\n",
      "Python生成\\3 公司治理与独立性调查\\3-12 关联方及关联交易情况\\3-12-13 发行人报告期内关联方注销及非关联化情况\n",
      "Python生成\\3 公司治理与独立性调查\\3-12 关联方及关联交易情况\\3-12-14 关于是否存在尚未识别的关联方及其交易的核查情况\n",
      "Python生成\\3 公司治理与独立性调查\\3-12 关联方及关联交易情况\\3-12-2 关联交易管理制度\n",
      "Python生成\\3 公司治理与独立性调查\\3-12 关联方及关联交易情况\\3-12-3 与关联交易相关的会议资料\n",
      "Python生成\\3 公司治理与独立性调查\\3-12 关联方及关联交易情况\\3-12-4 发行人高级管理人员及其他核心人员是否在关联方单位任职、领取薪酬的情况说明\n",
      "Python生成\\3 公司治理与独立性调查\\3-12 关联方及关联交易情况\\3-12-5 与关联交易相关的独立董事意见\n",
      "Python生成\\3 公司治理与独立性调查\\3-12 关联方及关联交易情况\\3-12-6 发行人与关联方发生的关联交易情况\n",
      "Python生成\\3 公司治理与独立性调查\\3-12 关联方及关联交易情况\\3-12-7 关联方资金占用情况\n",
      "Python生成\\3 公司治理与独立性调查\\3-12 关联方及关联交易情况\\3-12-8 关联交易相关的应收、应付款项占发行人应收、应付款项的比例\n",
      "Python生成\\3 公司治理与独立性调查\\3-12 关联方及关联交易情况\\3-12-9 关联交易必要性、持续性、真实性的说明，发行人是否利用与关联方或其他利益相关方的交易实现报告期收入的增长\n",
      "Python生成\\1 发行人基本情况调查\\1-5 发行人控股子公司和重要参股公司情况\\1-5-3 报告期内转让或受让控股子公司、对发行人有重大影响的参股公司股权的，相关决策性文件、审计报告、评估报告、股权转让协议及支付凭证（1-5-2未包含部分）\n",
      "Python生成\\3 公司治理与独立性调查\\3-2 组织结构和三会运作情况\\3-2-2 公司治理制度规定，包括三会议事规则、董事会专门委员会议事规则、董事会秘书制度、总经理工作制度、内部审计制度等文件资料\n",
      "Python生成\\3 公司治理与独立性调查\\3-4 内部控制环境\\3-4-2 各项业务及管理规章制度及汇总表（包括但不限于对外投资、对外担保、关联交易、委托理财、重大投资等，如有）\n",
      "Python生成\\3 公司治理与独立性调查\\3-2 组织结构和三会运作情况\\3-2-3 报告期内历次三会的会议文件，包括书面通知、会议记录、会议决议等\n",
      "Python生成\\3 公司治理与独立性调查\\3-2 组织结构和三会运作情况\\3-2-4 审计委员会的运行情况\n",
      "Python生成\\3 公司治理与独立性调查\\3-2 组织结构和三会运作情况\\3-2-5 发行人协议控制架构的具体情况，包括协议控制架构涉及的各方法律主体的基本情况、主要合同等（如有）\n",
      "Python生成\\3 公司治理与独立性调查\\3-2 组织结构和三会运作情况\\3-2-6 结合对上述文件的审阅，对发行人组织机构及三会运作情况调查了解工作的有关记录和评价结论\n",
      "Python生成\\1 发行人基本情况调查\\1-5 发行人控股子公司和重要参股公司情况\\1-5-2 发行人报告期内控股子公司、重要参股公司的全部工商登记文件\n",
      "Python生成\\3 公司治理与独立性调查\\3-3 独立董事制度及其执行情况\\3-3-1 独立董事简历及任职资格说明\n",
      "Python生成\\3 公司治理与独立性调查\\3-3 独立董事制度及其执行情况\\3-3-2 独立董事制度\n",
      "Python生成\\3 公司治理与独立性调查\\3-3 独立董事制度及其执行情况\\3-3-3 独立董事发表的意见\n",
      "Python生成\\3 公司治理与独立性调查\\3-3 独立董事制度及其执行情况\\3-3-4 结合对上述文件的审阅，对发行人独立董事制度调查了解工作的有关记录和评价结论\n",
      "Python生成\\1 发行人基本情况调查\\1-5 发行人控股子公司和重要参股公司情况\\1-5-1 发行人报告期内控股子公司、重要参股公司的营业执照、公司章程、主营业务情况\n",
      "Python生成\\3 公司治理与独立性调查\\3-2 组织结构和三会运作情况\\3-2-1 组织结构（含参、控股子公司）及关于部门职能描述的文件\n",
      "Python生成\\3 公司治理与独立性调查\\3-9 商业信用情况\\3-9-4 主要银行给予发行人的授信额度\n",
      "Python生成\\3 公司治理与独立性调查\\3-4 内部控制环境\\3-4-3 公司管理层对内部控制完整性、合理性及有效性的自我评估\n",
      "Python生成\\3 公司治理与独立性调查\\3-4 内部控制环境\\3-4-5 注册会计师关于内部控制的整改建议及企业的整改措施\n",
      "Python生成\\3 公司治理与独立性调查\\3-4 内部控制环境\\3-4-6 结合对上述文件的审阅，对发行人内部控制环境了解工作的有关记录和评价结论\n",
      "Python生成\\3 公司治理与独立性调查\\3-5 业务控制\\3-5-1 发行人关于各类业务的控制标准、控制措施的相关制度规定\n",
      "Python生成\\3 公司治理与独立性调查\\3-5 业务控制\\3-5-2 发行人因违反工商、税务、审计、环保、劳动保护等部门的相关规定而受到处罚的情况\n",
      "Python生成\\3 公司治理与独立性调查\\3-5 业务控制\\3-5-3 发行人已发现的由于风险控制不力导致的损失事件的情况说明\n",
      "Python生成\\1 发行人基本情况调查\\1-4 重大重组情况\\1-4-7 重大重组对发行人业务、经营业绩、财务状况和管理层影响情况的说明\n",
      "Python生成\\3 公司治理与独立性调查\\3-6 信息系统控制\\3-6-1 信息系统控制相关的业务规章制度\n",
      "Python生成\\3 公司治理与独立性调查\\3-6 信息系统控制\\3-6-2 发行人信息管理系统用户权限设置情况表\n",
      "Python生成\\3 公司治理与独立性调查\\3-6 信息系统控制\\3-6-3 信息系统管理内部控制调查中发现的问题、整改建议及发行人整改请况\n",
      "Python生成\\3 公司治理与独立性调查\\3-6 信息系统控制\\3-6-4 对发行人信息系统管理内部控制的有效性评价及其依据\n",
      "Python生成\\1 发行人基本情况调查\\1-4 重大重组情况\\1-4-6 债权人同意债务转移的相关文件、重组相关的对价支付凭证、税收缴纳凭证和资产过户文件\n",
      "Python生成\\3 公司治理与独立性调查\\3-7 会计管理控制\\3-7-1 会计管理制度、会计报告制度及其他相关会计制度\n",
      "Python生成\\3 公司治理与独立性调查\\3-4 内部控制环境\\3-4-1 有助分析发行人内部控制环境的董事会、总经理办公会等会议记录\n",
      "Python生成\\3 公司治理与独立性调查\\3-7 会计管理控制\\3-7-3 关于会计档案管理的说明及相关资料\n",
      "Python生成\\3 公司治理与独立性调查\\3-7 会计管理控制\\3-7-4 关于报告期内未采用财务管理电算化系统的情况说明\n",
      "Python生成\\3 公司治理与独立性调查\\3-7 会计管理控制\\3-7-5 关于报告期内财务总监或会计负责人离职及上述人员任职期间对财务数据提出异议的情况说明及资料\n",
      "Python生成\\3 公司治理与独立性调查\\3-7 会计管理控制\\3-7-6 各级财务会计人员简历及专业资质\n",
      "Python生成\\3 公司治理与独立性调查\\3-7 会计管理控制\\3-7-7 财务会计管理内部控制流程调查中发现的问题、整改建议及发行人整改状况\n",
      "Python生成\\3 公司治理与独立性调查\\3-7 会计管理控制\\3-7-8 对发行人财务会计管理内部控制的有效性评价及其依据\n",
      "Python生成\\1 发行人基本情况调查\\1-4 重大重组情况\\1-4-5 重大重组涉及国有资产转让的，国有资产进场交易的文件\n",
      "Python生成\\3 公司治理与独立性调查\\3-8 内部控制的监督\\3-8-1 内部审计报告、监事会报告\n",
      "Python生成\\3 公司治理与独立性调查\\3-8 内部控制的监督\\3-8-2 发行人内部审计稽核部门设置情况及相关内部审计制度\n",
      "Python生成\\1 发行人基本情况调查\\1-4 重大重组情况\\1-4-4 重大重组涉及的审计报告、评估报告、中介机构专业意见、国有资产评估核准或备案文件\n",
      "Python生成\\3 公司治理与独立性调查\\3-9 商业信用情况\\3-9-1 市场监督管理、税务、海关、土地管理、环保、应急管理、人社、司法、银行等机构的调查反馈文件（如需要），境外律师出具的关于境外子公司合法合规性的法律意见书（如需要）\n",
      "Python生成\\3 公司治理与独立性调查\\3-9 商业信用情况\\3-9-2 行业监管机构的监管记录和处罚文件\n",
      "Python生成\\3 公司治理与独立性调查\\3-4 内部控制环境\\3-4-4 注册会计师对内部控制的鉴证意见\n",
      "Python生成\\3 公司治理与独立性调查\\3-9 商业信用情况\\3-9-3 针对发行人进行的网络搜索情况，包括登录相关网站（如各类政府机关网站，包括市场监督管理、税务、海关、土地管理、环保、应急管理、人社、司法等机构）或其他搜索网站（如中国人民银行征信系统、国家企业信用信息公示系统、中国执行信息公开网、中国裁判文书网等公共信息系统等）查询发行人是否存在违法违规情况，或因其他不诚信行为被媒体报道的情况\n",
      "Python生成\\3 公司治理与独立性调查\\3-9 商业信用情况\\3-9-5 发行人获得的主要荣誉和奖励\n",
      "Python生成\\3 公司治理与独立性调查\\3-12 关联方及关联交易情况\\3-12-11 与关联交易相关的同类交易的市场价格数据，以及交易价格比较分析\n",
      "Python生成\\4 财务与会计调查\\4-10 存货\\4-10-3 会计师关于发行人的存货监盘计划以及存货监盘情况\n",
      "Python生成\\1 发行人基本情况调查\\1-4 重大重组情况\\1-4-2 重组协议\n",
      "Python生成\\4 财务与会计调查\\4-1 财务报告及相关财务资料\\4-1-1 最近三年及一期经审计的财务报告及原始财务报表\n",
      "Python生成\\4 财务与会计调查\\4-1 财务报告及相关财务资料\\4-1-2 最近三年及一期原始财务报表与申报财务报表差异比较表及差异原因分析说明\n",
      "Python生成\\4 财务与会计调查\\4-1 财务报告及相关财务资料\\4-1-3 下属子公司最近三年及一期经审计的财务报告或原始财务报表\n",
      "Python生成\\4 财务与会计调查\\4-1 财务报告及相关财务资料\\4-1-4 披露的参股公司最近一年及一期的财务报告及审计报告\n",
      "Python生成\\4 财务与会计调查\\4-1 财务报告及相关财务资料\\4-1-5 如发行人最近一年及一期内收购兼并其他企业资产（或股权），且被收购企业资产总额或营业收入或净利润超过收购前发行人相应项目20%（含20%），需要被收购企业收购前一年的财务报表并核查其财务状况\n",
      "Python生成\\4 财务与会计调查\\4-1 财务报告及相关财务资料\\4-1-6 董事会和监事会对非标准审计报告涉及事项处理情况的说明\n",
      "Python生成\\1 发行人基本情况调查\\1-4 重大重组情况\\1-4-1 重大重组涉及的股东会\n",
      "Python生成\\4 财务与会计调查\\4-1 财务报告及相关财务资料\\4-1-8 与财务会计信息相关的重大事项或重要性水平的判断标准证明文件\n",
      "Python生成\\4 财务与会计调查\\4-10 存货\\4-10-1 存货明细表、货龄分析表、存货构成相关资料及产量、销量与存货数量匹配关系说明（包含填列的模板“存货库龄分析表.xlsx”）\n",
      "Python生成\\1 发行人基本情况调查\\1-4 重大重组情况\\1-4-3 政府批准文件\n",
      "Python生成\\4 财务与会计调查\\4-10 存货\\4-10-2 发行人存货管理制度执行情况的抽查记录，发行人存货盘点制度的建立和报告期实际执行情况\n",
      "Python生成\\4 财务与会计调查\\4-11 重要的对外投资（合并范围内的子公司除外）\\4-11-4 报告期发行人购买或出售被投资公司股权时的财务报告、审计报告及评估报告\n",
      "Python生成\\4 财务与会计调查\\4-10 存货\\4-10-5 存货跌价准备计提政策和存货跌价准备计提表（如发行人期末存货余额较大，周转率较低，应结合其业务模式、市场竞争情况和行业发展趋势等因素披露原因，同时分析并披露发行人的存货减值风险）（包含填列的模板“存货跌价准备计提复核表.xlsx”）\n",
      "Python生成\\4 财务与会计调查\\4-10 存货\\4-10-6 发行人关于存货期末余额较大的原因以及是否充分计提存货跌价准备的说明、报告期各期末发出商品是否存在异常变动及其原因分析\n",
      "Python生成\\4 财务与会计调查\\4-10 存货\\4-10-7 发行人存货的真实性，是否存在将本应计入当期成本费用的支出混入存货项目以达到少计当期成本费用的情况说明\n",
      "Python生成\\4 财务与会计调查\\4-10 存货\\4-10-8 异地存放、盘点过程存在特殊困难或由第三方保管或控制的存货的盘存方法以及履行的替代盘点程序\n",
      "Python生成\\4 财务与会计调查\\4-10 存货\\4-10-9 存货周转率明显异于同行业水平的原因分析及合理性说明\n",
      "Python生成\\1 发行人基本情况调查\\1-3 内部职工股（如适用）\\1-3-8 发行人成立以来历次内部职工股发行、转让前后的内部职工股持股人数及持股数量\n",
      "Python生成\\4 财务与会计调查\\4-11 重要的对外投资（合并范围内的子公司除外）\\4-11-1 被投资公司的营业执照\n",
      "Python生成\\4 财务与会计调查\\4-11 重要的对外投资（合并范围内的子公司除外）\\4-11-10 期末金额较大的交易性金融资产、可供出售金融资产、借与他人款项、委托理财等财务投资的核查资料（4-10-1至4-10-9未包含部分）\n",
      "Python生成\\4 财务与会计调查\\4-11 重要的对外投资（合并范围内的子公司除外）\\4-11-11 发行人各报告期对外投资的明细清单，包括投资项目、投资类型（债权投资\n",
      "Python生成\\4 财务与会计调查\\4-11 重要的对外投资（合并范围内的子公司除外）\\4-11-2 被投资公司报告期的财务报告\n",
      "Python生成\\4 财务与会计调查\\4-10 存货\\4-10-4 保荐机构随同会计师参与存货监盘或复核会计师存货监盘的工作记录（如存在需要倒扎的情况，应包含填列的模板“存货抽盘倒轧表.xlsx”）\n",
      "Python生成\\3 公司治理与独立性调查\\3-12 关联方及关联交易情况\\3-12-12 发行人关于减少和规范关联交易的措施说明\n",
      "Python生成\\4 财务与会计调查\\4-11 重要的对外投资（合并范围内的子公司除外）\\4-11-5 重大委托理财的相关合同\n",
      "Python生成\\4 财务与会计调查\\4-13 无形资产、开发支出\\4-13-7 无形资产减值准备计提履行的审批程序\n",
      "Python生成\\4 财务与会计调查\\4-12 固定资产、在建工程\\4-12-5 固定资产成新率及是否面临淘汰、更新、大修、技术升级等分析\n",
      "Python生成\\4 财务与会计调查\\4-11 重要的对外投资（合并范围内的子公司除外）\\4-11-8 发行人内部关于对外投资的批准文件\n",
      "Python生成\\2 业务与技术调查\\2-5 核心技术人员、技术与研发情况\\2-5-14 报告期内核心技术人员的主要变动情况及对发行人的影响，离职流程、入职申请等\n",
      "Python生成\\1 发行人基本情况调查\\1-3 内部职工股（如适用）\\1-3-7 有权部门对发行人内部职工股托管情况及真实性的确认文件\n",
      "Python生成\\4 财务与会计调查\\4-12 固定资产、在建工程\\4-12-1 固定资产明细表、固定资产折旧明细表和减值准备明细表\n",
      "Python生成\\4 财务与会计调查\\4-12 固定资产、在建工程\\4-12-10 在建工程施工合同或预算资料\n",
      "Python生成\\4 财务与会计调查\\4-12 固定资产、在建工程\\4-12-11 购建在建工程履行的审批程序\n",
      "Python生成\\4 财务与会计调查\\4-12 固定资产、在建工程\\4-12-12 结合固定资产成本规模、残值率和折旧年限对报告期固定资产折旧费用的合理性分析，并核查其与同期生产成本和期间费用中折旧项目金额的一致性\n",
      "Python生成\\4 财务与会计调查\\4-12 固定资产、在建工程\\4-12-13 报告期如存在大额在建工程转入固定资产的，应说明其内容、依据及影响，尚未完工交付项目预计未来转入固定资产的时间与条件；固定资产与在建工程是否存在重大减值因素；需要提供具体的明细台账\n",
      "Python生成\\4 财务与会计调查\\4-12 固定资产、在建工程\\4-12-2 固定资产的计价政策、折旧政策、使用年限和残值率\n",
      "Python生成\\4 财务与会计调查\\4-12 固定资产、在建工程\\4-12-3 固定资产实地查看记录\n",
      "Python生成\\4 财务与会计调查\\4-11 重要的对外投资（合并范围内的子公司除外）\\4-11-7 重大项目的投资合同\n",
      "Python生成\\4 财务与会计调查\\4-12 固定资产、在建工程\\4-12-4 购建与处置固定资产的入账凭证及附件抽样记录\n",
      "Python生成\\4 财务与会计调查\\4-11 重要的对外投资（合并范围内的子公司除外）\\4-11-6 购买衍生产品的明细表及合同，持有衍生产品的品种、规模是否与发行人正常的生产经营需求相匹配的说明\n",
      "Python生成\\4 财务与会计调查\\4-12 固定资产、在建工程\\4-12-7 购建、处置固定资产等履行的审批程序\n",
      "Python生成\\4 财务与会计调查\\4-12 固定资产、在建工程\\4-12-8 在建工程明细表、减值准备明细表、原始凭证及实地查看记录\n",
      "Python生成\\4 财务与会计调查\\4-12 固定资产、在建工程\\4-12-9 在建工程转固列表及折旧计提情况（转固时间、转固依据、各项在建工程转固证据文件等）\n",
      "Python生成\\1 发行人基本情况调查\\1-3 内部职工股（如适用）\\1-3-6 内部职工股清理的决策文件、相关协议、价款支付凭证\n",
      "Python生成\\4 财务与会计调查\\4-13 无形资产、开发支出\\4-13-1 无形资产摊销和减值情况\n",
      "Python生成\\4 财务与会计调查\\4-13 无形资产、开发支出\\4-13-2 无形资产、开发支出明细表（开发支出明细表请使用模板“开发支出分析表.xlsx”）\n",
      "Python生成\\4 财务与会计调查\\4-13 无形资产、开发支出\\4-13-3 无形资产、开发支出的会计政策\n",
      "Python生成\\4 财务与会计调查\\4-13 无形资产、开发支出\\4-13-4 公司主要无形资产的取得方式、入账价值及依据\n",
      "Python生成\\4 财务与会计调查\\4-13 无形资产、开发支出\\4-13-5 处置无形资产的审批程序\n",
      "Python生成\\4 财务与会计调查\\4-13 无形资产、开发支出\\4-13-6 无形资产减值准备计提方法、减值准备明细表\n",
      "Python生成\\4 财务与会计调查\\4-12 固定资产、在建工程\\4-12-6 有关固定资产的会计制度及减值准备计提充分的说明\n",
      "Python生成\\2 业务与技术调查\\2-5 核心技术人员、技术与研发情况\\2-5-15 研发费用与对应研发项目的整体预算、费用支出金额、实施进度等情况\n",
      "Python生成\\5 募集资金运用情况和业务发展目标调查\\5-1 前次募集资金使用情况（如有）\\5-1-2 募集资金相关的会计师专项报告以及募集资金运用项目的核算资料\n",
      "Python生成\\1 发行人基本情况调查\\1-7 董事、监事和高级管理人员任职情况和任职资格\\1-7-3 监管部门对于上述人员任职资格的批准或备案文件\n",
      "Python生成\\4 财务与会计调查\\4-19 纳税情况\\4-19-1 报告期内发行人及其控股子公司主要适用税种及税率说明\n",
      "Python生成\\4 财务与会计调查\\4-18 合并报表的范围\\4-18-2 报告期内合并范围变动情况及原因\n",
      "Python生成\\4 财务与会计调查\\4-18 合并报表的范围\\4-18-1 合并范围列表及确定依据\n",
      "Python生成\\4 财务与会计调查\\4-15 投资性房地产\\4-15-1 投资性房地产明细表\n",
      "Python生成\\4 财务与会计调查\\4-15 投资性房地产\\4-15-2 投资性房地产种类和计量模式\n",
      "Python生成\\4 财务与会计调查\\4-15 投资性房地产\\4-15-3 投资性房地产折旧明细表\n",
      "Python生成\\4 财务与会计调查\\4-15 投资性房地产\\4-15-4 投资性房地产减值计提的说明及相关材料\n",
      "Python生成\\4 财务与会计调查\\4-15 投资性房地产\\4-15-5 公允价值计量模式特别核查\n",
      "Python生成\\1 发行人基本情况调查\\1-3 内部职工股（如适用）\\1-3-3 内部职工股发行中的违法违规情况，包括超范围、超比例，变相增加内部职工股数量、违规转让和交易、法人股个人化等相关资料\n",
      "Python生成\\4 财务与会计调查\\4-16 主要债务\\4-16-1 应付账款明细表（含款项性质及账龄）及相关核查资料\n",
      "Python生成\\4 财务与会计调查\\4-16 主要债务\\4-16-10 可预见的未来需偿还的负债金额及利息金额，重点说明未来 12 个月内的情况，结合现金流、融资能力与渠道等情况，公司偿债能力的证明材料\n",
      "Python生成\\4 财务与会计调查\\4-16 主要债务\\4-16-2 应付票据\n",
      "Python生成\\4 财务与会计调查\\4-16 主要债务\\4-16-3 银行借款明细表及银行借款合同、委托贷款合同等相关资料\n",
      "Python生成\\4 财务与会计调查\\4-16 主要债务\\4-16-4 预计负债的明细表及其相关协议、估计依据、访谈记录等相关资料\n",
      "Python生成\\4 财务与会计调查\\4-16 主要债务\\4-16-5 其他应付款明细表（含款项性质及账龄）及相关核查资料\n",
      "Python生成\\4 财务与会计调查\\4-16 主要债务\\4-16-6 其他大额负债明细表及相关核查资料\n",
      "Python生成\\4 财务与会计调查\\4-16 主要债务\\4-16-7 一年内到期的长期借款清单，包括债权人（具体到分支行）、本金、起止期限、利率、抵押\n",
      "Python生成\\4 财务与会计调查\\4-16 主要债务\\4-16-8 存在逾期负债的，提供逾期负债金额统计表，核查逾期的原因及后续偿还措施，取得相关证明文件\n",
      "Python生成\\4 财务与会计调查\\4-16 主要债务\\4-16-9 最近一期末银行借款、关联方借款、合同承诺债务、或有负债等主要债项的金额、期限、利率及利息费用等情况\n",
      "Python生成\\1 发行人基本情况调查\\1-3 内部职工股（如适用）\\1-3-2 历次转让文件、历年托管证明文件\n",
      "Python生成\\4 财务与会计调查\\4-17 现金流量\\4-17-1 现金流量表与利润表、资产负债表勾稽记录、具体项目波动分析相关资料\n",
      "Python生成\\4 财务与会计调查\\4-17 现金流量\\4-17-2 现金流量与利润表、资产负债表主要数据不匹配的原因及相关资料\n",
      "Python生成\\4 财务与会计调查\\4-17 现金流量\\4-17-3 报告期末的重大资本性支出决议以及未来其他可预见的重大资本性支出计划、资金需求量的证明材料\n",
      "Python生成\\4 财务与会计调查\\4-19 纳税情况\\4-19-2 报告期的年度纳税申报表\n",
      "Python生成\\1 发行人基本情况调查\\1-2 企业改制与设立情况（国有企业、集体企业改制而来的或历史上存在挂靠集体组织经营的企业）\\1-2-3 发行人的改制重组方案，包括业务、资产、债务、人员等的重组安排\n",
      "Python生成\\4 财务与会计调查\\4-8 货币资金\\4-8-5 关于发行人与控股股东或其他关联方设立联合或共管账户、在控股股东控制的财务公司开设银行账户或参与资金池业务的说明及相关资料（如有）\n",
      "Python生成\\4 财务与会计调查\\4-22 其他科目异常情况核查\\4-22-2 其他财务异常情况的核查说明（如推迟广告投入和其他减少销售费用的情形；短期降低员工工资的情形；引进临时客户增加收入利润的情形）\n",
      "Python生成\\4 财务与会计调查\\4-9 应收款项、合同资产\\4-9-1 应收账款、应收票据明细表、账龄分析表、坏账准备明细表及应收账款余额的变动情况分析\n",
      "Python生成\\4 财务与会计调查\\4-8 货币资金\\4-8-6 发行人利用员工账户或其他个人账户进行货款收支及款项往来情况、相应整改措施的说明\n",
      "Python生成\\4 财务与会计调查\\4-2 会计政策、会计估计及会计差错更正\\4-2-4 会计政策和会计估计变更对公司经营业绩影响的说明\n",
      "Python生成\\4 财务与会计调查\\4-19 纳税情况\\4-19-3 关于税务争议、滞纳金缴纳、以及重大关税纠纷的详细情况以及有关文件及信函\n",
      "Python生成\\4 财务与会计调查\\4-19 纳税情况\\4-19-4 公司及各控股子公司的完税证明或税收缴款书、纳税凭证（抽查）\n",
      "Python生成\\4 财务与会计调查\\4-19 纳税情况\\4-19-5 发行人享有税收优惠情况\n",
      "Python生成\\4 财务与会计调查\\4-19 纳税情况\\4-19-6 报告期内产品出口退税税率变动情况及相关文件\n",
      "Python生成\\4 财务与会计调查\\4-19 纳税情况\\4-19-7 发行人及各控股子公司前三个会计年度各类应交税金余额变动情况表\n",
      "Python生成\\4 财务与会计调查\\4-19 纳税情况\\4-19-8 发行人及各控股子公司前三个会计年度主要税种计提金额的合理性测试工作底稿\n",
      "Python生成\\4 财务与会计调查\\4-19 纳税情况\\4-19-9 当地税务部门出具的关于发行人报告期内纳税情况的证明文件\n",
      "Python生成\\1 发行人基本情况调查\\1-2 企业改制与设立情况（国有企业、集体企业改制而来的或历史上存在挂靠集体组织经营的企业）\\1-2-7 改制前原企业业务流程、改制后发行人业务流程，以及原企业和发行人业务流程间联系的说明\n",
      "Python生成\\4 财务与会计调查\\4-17 现金流量\\4-17-4 资本性支出涉及跨行业投资，其与公司未来发展战略关系的证明资料，资金缺口的解决措施资料\n",
      "Python生成\\4 财务与会计调查\\4-2 会计政策、会计估计及会计差错更正\\4-2-1 发行人会计政策、会计估计\n",
      "Python生成\\4 财务与会计调查\\4-2 会计政策、会计估计及会计差错更正\\4-2-3 会计政策和会计估计变动相关资料（如有）\n",
      "Python生成\\4 财务与会计调查\\4-2 会计政策、会计估计及会计差错更正\\4-2-5 报告期内重大会计差错更正情况及相关资料\n",
      "Python生成\\1 发行人基本情况调查\\1-2 企业改制与设立情况（国有企业、集体企业改制而来的或历史上存在挂靠集体组织经营的企业）\\1-2-1 上级主管部门同意改制的批复文件\n",
      "Python生成\\4 财务与会计调查\\4-2 会计政策、会计估计及会计差错更正\\4-2-6 重大会计差错更正的审议程序、会议材料等\n",
      "Python生成\\1 发行人基本情况调查\\1-2 企业改制与设立情况（国有企业、集体企业改制而来的或历史上存在挂靠集体组织经营的企业）\\1-2-6 国有资产评估的核准或备案文件、国有股权管理文件\n",
      "Python生成\\4 财务与会计调查\\4-20 盈利预测\\4-20-1 盈利预测报告\n",
      "Python生成\\4 财务与会计调查\\4-20 盈利预测\\4-20-2 盈利预测的依据资料\n",
      "Python生成\\4 财务与会计调查\\4-20 盈利预测\\4-20-3 对发行人及其控股子公司盈利预测所依据的假设的合理性评价备忘录及\n",
      "Python生成\\1 发行人基本情况调查\\1-2 企业改制与设立情况（国有企业、集体企业改制而来的或历史上存在挂靠集体组织经营的企业）\\1-2-5 国企改制的相关人员安置方案的职代会审议文件\n",
      "Python生成\\1 发行人基本情况调查\\1-2 企业改制与设立情况（国有企业、集体企业改制而来的或历史上存在挂靠集体组织经营的企业）\\1-2-4 改制时所做的专项审计报告、评估报告、验资报告等（1-1-1未包含部分）\n",
      "Python生成\\4 财务与会计调查\\4-22 其他科目异常情况核查\\4-22-1 其他会计科目异常变动情况的说明\n",
      "Python生成\\4 财务与会计调查\\4-2 会计政策、会计估计及会计差错更正\\4-2-2 同行业会计政策和会计估计比较情况，与同行业存在较大差异的原因分析\n",
      "Python生成\\4 财务与会计调查\\4-8 货币资金\\4-8-8 报告期内银行日记账\n",
      "Python生成\\4 财务与会计调查\\4-17 现金流量\\4-17-5 结合长短期债务配置期限、影响现金流量的重要事件或承诺事项以及风险管理政策，说明发行人的流动性已经或可能产生的重大变化或风险趋势、论证相关措施有效性的支持性材料\n",
      "Python生成\\1 发行人基本情况调查\\1-2 企业改制与设立情况（国有企业、集体企业改制而来的或历史上存在挂靠集体组织经营的企业）\\1-2-2 改制前原企业（或主要发起人）的审计报告及相关财务资料，资产清单以及对业务构成情况的说明\n",
      "Python生成\\4 财务与会计调查\\4-4 销售收入\\4-4-5 收入截止性测试情况，会计期末是否存在突击确认销售以及期后是否存在大量销售退回的情况，会计期末销售收入异常增长情况的收入确认凭证\n",
      "Python生成\\4 财务与会计调查\\4-4 销售收入\\4-4-3 发行人报告期主要产品或服务的销量变化资料及原因，变动趋势与市场上相同或相近产品或服务的信息及其走势相比是否存在显著异常\n",
      "Python生成\\4 财务与会计调查\\4-3 有关评估报告\\4-3-3 其他评估报告（矿产、房地产开发存货等）\n",
      "Python生成\\4 财务与会计调查\\4-25 相关银行账户资金流水\\4-25-11 控股股东、实际控制人、董事、监事、高管、关键岗位人员与发行人关联方、客户、供应商之间异常大额资金往来的核查\n",
      "Python生成\\4 财务与会计调查\\4-25 相关银行账户资金流水\\4-25-12 是否存在关联方代发行人收取客户款项或支付供应商款项的核查\n",
      "Python生成\\4 财务与会计调查\\4-25 相关银行账户资金流水\\4-25-2 发行人主要关联方的银行账户流水核查\n",
      "Python生成\\4 财务与会计调查\\4-25 相关银行账户资金流水\\4-25-3 发行人董事的银行账户流水核查\n",
      "Python生成\\4 财务与会计调查\\4-25 相关银行账户资金流水\\4-25-4 发行人监事的银行账户流水核查\n",
      "Python生成\\4 财务与会计调查\\4-25 相关银行账户资金流水\\4-25-5 发行人高管的银行账户流水核查\n",
      "Python生成\\4 财务与会计调查\\4-25 相关银行账户资金流水\\4-25-6 发行人关键岗位人员的银行账户流水核查\n",
      "Python生成\\4 财务与会计调查\\4-25 相关银行账户资金流水\\4-25-7 发行人大额资金往来是否存在重大异常核查，是否与公司经营活动、资产购置、对外投资等不相匹配\n",
      "Python生成\\4 财务与会计调查\\4-25 相关银行账户资金流水\\4-25-8 发行人相关账户大额取现的情况核查\n",
      "Python生成\\4 财务与会计调查\\4-25 相关银行账户资金流水\\4-25-9 发行人同一账户或不同账户之间，是否存在金额、日期相近的异常大额资金进出的情形，存在请截图\n",
      "Python生成\\4 财务与会计调查\\4-3 有关评估报告\\4-3-2 公司设立时（含有限责任公司改制期间）及报告期内历次土地评估报告\n",
      "Python生成\\4 财务与会计调查\\4-3 有关评估报告\\4-3-1 公司设立时（含有限责任公司改制期间）及报告期内历次资产评估报告\n",
      "Python生成\\1 发行人基本情况调查\\1-13 员工情况\\1-13-9 员工访谈记录\n",
      "Python生成\\4 财务与会计调查\\4-4 销售收入\\4-4-1 发行人收入的确认政策、产品构成、地域构成、销售模式构成及其变动情况的详细资料\n",
      "Python生成\\4 财务与会计调查\\4-4 销售收入\\4-4-2 发行人报告期内主要产品或服务价格变动的资料及原因分析及相关资料，变动趋势与市场上相同或相近产品或服务的信息及其走势相比是否存在显著异常\n",
      "Python生成\\4 财务与会计调查\\4-4 销售收入\\4-4-13 单一大客户核查\n",
      "Python生成\\4 财务与会计调查\\4-4 销售收入\\4-4-12 电商、互联网信息服务、互联网营销企业\n",
      "Python生成\\4 财务与会计调查\\4-4 销售收入\\4-4-11 产销量或合同订单完成量等业务执行数据与财务确认数据的一致性\n",
      "Python生成\\4 财务与会计调查\\4-4 销售收入\\4-4-10 发行人异常交易核查情况\n",
      "Python生成\\1 发行人基本情况调查\\1-8 董事、监事和高级管理人员的经历及行为操守\\1-8-1 董事、监事、高级管理人员及其他核心人员简历、基本情况、关联关系调查表\n",
      "Python生成\\4 财务与会计调查\\4-25 相关银行账户资金流水\\4-25-10 控股股东、实际控制人、董事、监事、高管、关键岗位人员是否从发行人获得大额现金分红款、薪酬或资产转让款、转让发行人股权获得大额股权转让款，主要资金流向或用途数据核查情况上传\n",
      "Python生成\\4 财务与会计调查\\4-8 货币资金\\4-8-4 现金收付交易核查情况\n",
      "Python生成\\4 财务与会计调查\\4-8 货币资金\\4-8-3 异常、巨额资金流转情况资料、发生背景说明及会计处理\n",
      "Python生成\\4 财务与会计调查\\4-8 货币资金\\4-8-2 报告期内账户银行对账单（详式）、各期末余额调节表、相关函证资料或复核会计函证资料的工作记录\n",
      "Python生成\\4 财务与会计调查\\4-22 其他科目异常情况核查\\4-22-3 其他可能导致公司财务信息披露失真、粉饰业绩或财务造假的情况\n",
      "Python生成\\4 财务与会计调查\\4-25 相关银行账户资金流水\\4-25-1 控股股东、实际控制人的银行账户流水核查，个人账户大额资金往来较多且无合理解释，或者频繁出现大额存现、取现情形的请重点截图上传\n",
      "Python生成\\4 财务与会计调查\\4-6 期间费用\\4-6-3 研发费用情况\n",
      "Python生成\\4 财务与会计调查\\4-4 销售收入\\4-4-6 境外销售核查情况\n",
      "Python生成\\4 财务与会计调查\\4-4 销售收入\\4-4-7 网络销售的真实性核查情况\n",
      "Python生成\\4 财务与会计调查\\4-4 销售收入\\4-4-8 第三方回款的核查资料，包括但不限于采购方与回款方的关系说明、付款凭证等\n",
      "Python生成\\4 财务与会计调查\\4-4 销售收入\\4-4-9 发行人存在特殊交易模式或创新交易模式的核查情况\n",
      "Python生成\\1 发行人基本情况调查\\1-13 员工情况\\1-13-8 员工总数、工资总额、人均工资、人员结构、工资占成本、费用比例的波动分析，公司员工数量与薪资的匹配关系说明\n",
      "Python生成\\4 财务与会计调查\\4-5 营业成本与销售毛利\\4-5-1 成本、毛利、毛利率明细表\n",
      "Python生成\\4 财务与会计调查\\4-5 营业成本与销售毛利\\4-5-2 成本真实性的核查\n",
      "Python生成\\4 财务与会计调查\\4-5 营业成本与销售毛利\\4-5-3 业绩增长及毛利率变动真实性的核查\n",
      "Python生成\\1 发行人基本情况调查\\1-3 内部职工股（如适用）\\1-3-1 审批文件、募股文件、缴款证明及验资报告\n",
      "Python生成\\1 发行人基本情况调查\\1-13 员工情况\\1-13-7 发行人员工工资水平与所在地区平均水平或同行业上市公司平均水平之间是否存在显著差异及差异合理性的说明\n",
      "Python生成\\4 财务与会计调查\\4-6 期间费用\\4-6-2 管理费用情况\n",
      "Python生成\\4 财务与会计调查\\4-6 期间费用\\4-6-4 财务费用情况\n",
      "Python生成\\4 财务与会计调查\\4-4 销售收入\\4-4-4 收入真实性的核查\n",
      "Python生成\\4 财务与会计调查\\4-6 期间费用\\4-6-5 广告费明细表（广告费占比销售费用超过30%需编制）（请使用模板“广告费明细表.xlsx”）、销售部门获取报告期各项营销推广活动清单\n",
      "Python生成\\4 财务与会计调查\\4-6 期间费用\\4-6-6 工资薪金单、工资薪金表（请使用模板“ 工资薪金分析表.xlsx”）\n",
      "Python生成\\4 财务与会计调查\\4-6 期间费用\\4-6-7 费用截止性测试，判断是否存在费用核算跨期问题（包含填列的模板“费用跨期测试表.xlsx”及相关原始凭证）\n",
      "Python生成\\1 发行人基本情况调查\\1-13 员工情况\\1-13-6 员工名单（请使用模板“员工花名册【表格】.xlsx”）、工资明细表\n",
      "Python生成\\4 财务与会计调查\\4-7 政府补助、非经常性损益\\4-7-1 政府补助\n",
      "Python生成\\4 财务与会计调查\\4-7 政府补助、非经常性损益\\4-7-2 非经常性损益\n",
      "Python生成\\1 发行人基本情况调查\\1-13 员工情况\\1-13-5 公积金相关费用缴纳凭证（抽查）\n",
      "Python生成\\4 财务与会计调查\\4-8 货币资金\\4-8-1 报告期内银行账户开户清单（含注销账户）及企业信用报告（含子公司）\n",
      "Python生成\\4 财务与会计调查\\4-6 期间费用\\4-6-1 销售费用情况\n",
      "Python生成\\7 风险因素及其他重要事项调查\\7-3 诉讼和担保情况\\7-3-2 报告期内已经了结的诉讼和仲裁的相关资料\n",
      "Python生成\\7 风险因素及其他重要事项调查\\7-3 诉讼和担保情况\\7-3-1 目前尚未了结的诉讼与仲裁事项说明，与重大诉讼或仲裁事项相关的合同、协议，法院或仲裁机构受理的相关文件\n",
      "Python生成\\1 发行人基本情况调查\\1-10 董事、监事、高级管理人员及其他核心人员薪酬及兼职情况\\1-10-2 关于是否存在兼职情况的说明\n",
      "Python生成\\5 募集资金运用情况和业务发展目标调查\\5-2 本次募集资金运用的相关资料\\5-2-3 涉及本次募集资金项目有关主管部门的批复或相关核准或备案文件\n",
      "Python生成\\4 财务与会计调查\\4-8 货币资金\\4-8-7 其他应收款员工备用金月末余额变动表及其合理性分析\n",
      "Python生成\\4 财务与会计调查\\4-9 应收款项、合同资产\\4-9-7 应收账款的期后回收情况、报告期各期主要客户信用政策的变化情况以及对超出信用政策的大额应收账款的分析\n",
      "Python生成\\1 发行人基本情况调查\\1-13 员工情况\\1-13-4 社保相关费用缴纳凭证（抽查）\n",
      "Python生成\\1 发行人基本情况调查\\1-3 内部职工股（如适用）\\1-3-4 内部职工股潜在问题、风险隐患及相关资料\n",
      "Python生成\\4 财务与会计调查\\4-9 应收款项、合同资产\\4-9-10 报告期内发行人应收账款主要客户与发行人主要客户是否匹配的说明\n",
      "Python生成\\4 财务与会计调查\\4-9 应收款项、合同资产\\4-9-11 新增客户的应收账款金额与其营业收入是否匹配的说明\n",
      "Python生成\\4 财务与会计调查\\4-9 应收款项、合同资产\\4-9-12 大额应收账款是否能够按期收回以及期末收到的销售款项是否存在期后不正常流出的情况说明\n",
      "Python生成\\4 财务与会计调查\\4-9 应收款项、合同资产\\4-9-13 应收账款周转率明显异于同行业水平的原因分析及合理性说明\n",
      "Python生成\\4 财务与会计调查\\4-9 应收款项、合同资产\\4-9-2 合同资产明细表及符合会计准则规定的说明\n",
      "Python生成\\4 财务与会计调查\\4-9 应收款项、合同资产\\4-9-3 应收票据背书、贴现明细表及相关资料\n",
      "Python生成\\4 财务与会计调查\\4-9 应收款项、合同资产\\4-9-4 主要债务人及主要逾期债务人名单\n",
      "Python生成\\4 财务与会计调查\\4-9 应收款项、合同资产\\4-9-5 与应收款项相关的销售合同\n",
      "Python生成\\4 财务与会计调查\\4-9 应收款项、合同资产\\4-9-6 应收持发行人5％及以上表决权股份的股东账款情况\n",
      "Python生成\\4 财务与会计调查\\4-9 应收款项、合同资产\\4-9-8 发行人与同行业其他公司应收账款坏账准备计提政策列表和坏账准备计提比例表\n",
      "Python生成\\5 募集资金运用情况和业务发展目标调查\\5-2 本次募集资金运用的相关资料\\5-2-2 关于本次募集资金运用的股东大会、董事会的议案、决议和会议纪要\n",
      "Python生成\\4 财务与会计调查\\4-9 应收款项、合同资产\\4-9-9 往来款（预付账款、其他应收款）是否异常核查情况\n",
      "Python生成\\1 发行人基本情况调查\\1-13 员工情况\\1-13-3 劳动合同样本、竞业禁止协议及保密协议样本（如有）\n",
      "Python生成\\1 发行人基本情况调查\\1-13 员工情况\\1-13-2 执行社会保障制度、住房制度改革、医疗制度改革情况的说明\n",
      "Python生成\\5 募集资金运用情况和业务发展目标调查\\5-1 前次募集资金使用情况（如有）\\5-1-1 发行人关于历次募集资金运用情况的说明\n",
      "Python生成\\3 公司治理与独立性调查\\3-7 会计管理控制\\3-7-2 发行人财务部岗位设置和人员配备\n",
      "Python生成\\5 募集资金运用情况和业务发展目标调查\\5-1 前次募集资金使用情况（如有）\\5-1-3 历次募集资金投向变更的相关决策文件，变更后项目的核准或备案文件\n",
      "Python生成\\5 募集资金运用情况和业务发展目标调查\\5-1 前次募集资金使用情况（如有）\\5-1-4 历次募集资金的验资报告\n",
      "Python生成\\5 募集资金运用情况和业务发展目标调查\\5-2 本次募集资金运用的相关资料\\5-2-5 募集资金运用涉及新取得土地或房产的，取得方式、进展情况及未能如期取得对募集资金具体用途的影响的相关说明\n",
      "Python生成\\6 投资者保护调查\\6-1 保护投资者合法权益规定的各项措施\\6-1-4 发行人境外注册地法律制度及章程条款与境内制度的差异及对投资者保护的影响说明和相关资料\n",
      "Python生成\\6 投资者保护调查\\6-1 保护投资者合法权益规定的各项措施\\6-1-3 特别表决权股份、协议控制架构或类似特殊安排，尚未盈利或存在累计未弥补亏损的，落实保护投资者合法权益规定的各项措施（如有）\n",
      "Python生成\\6 投资者保护调查\\6-1 保护投资者合法权益规定的各项措施\\6-1-2 发行人自设立以来存在特别表决权股份、协议控制架构或类似特殊安排的，获取相关股东及持股情况、表决机制和实际运行情况等资料（部分内容可参见3-1-3和3-2-5）\n",
      "Python生成\\1 发行人基本情况调查\\1-3 内部职工股（如适用）\\1-3-5 股份形成及演变的法律文件，包括相关的工商登记资料、三会文件（1-1-1未包含部分）\n",
      "Python生成\\4 财务与会计调查\\4-14 商誉\\4-14-2 增减变动与减值测试依据等情况，管理层关于商誉减值测试情况说明\n",
      "Python生成\\5 募集资金运用情况和业务发展目标调查\\5-4 发展战略\\5-4-4 历年发展计划及年度报告\n",
      "Python生成\\5 募集资金运用情况和业务发展目标调查\\5-2 本次募集资金运用的相关资料\\5-2-6 募集资金运用涉及收购资产的相关资料\n",
      "Python生成\\5 募集资金运用情况和业务发展目标调查\\5-2 本次募集资金运用的相关资料\\5-2-7 募集资金运用涉及与他人合作的，合作方基本情况、合作方式、各方权利义务关系的说明\n",
      "Python生成\\5 募集资金运用情况和业务发展目标调查\\5-2 本次募集资金运用的相关资料\\5-2-8 募集资金用于研发投入、科技创新、新产品开发生产的，具体安排及其与发行人现有主要业务、核心技术之间关系的说明\n",
      "Python生成\\5 募集资金运用情况和业务发展目标调查\\5-2 本次募集资金运用的相关资料\\5-2-9 募集资金用于新增产能的，产能消化能力与市场前景的说明\n",
      "Python生成\\1 发行人基本情况调查\\1-13 员工情况\\1-13-12 发行人主要参控股公司养老保险、医疗保险、住房公积金、失业保险、工伤保险、生育保险的费用缴纳凭证\n",
      "Python生成\\5 募集资金运用情况和业务发展目标调查\\5-3 募集资金投向产生的关联交易\\5-3-1 募集资金投向涉及与关联方合资或与关联方发生交易的，相关关联方资料\n",
      "Python生成\\5 募集资金运用情况和业务发展目标调查\\5-3 募集资金投向产生的关联交易\\5-3-2 募集资金向实际控制人、控股股东及其关联方收购资产，说明定价公允性、收购必要性，如果对被收购资产有效益承诺的，效益无法完成时的补偿责任的说明\n",
      "Python生成\\1 发行人基本情况调查\\1-13 员工情况\\1-13-11 发行人社会保险缴纳情况证明\n",
      "Python生成\\1 发行人基本情况调查\\1-13 员工情况\\1-13-13 员工薪酬及奖励制度\n",
      "Python生成\\5 募集资金运用情况和业务发展目标调查\\5-4 发展战略\\5-4-1 中长期发展战略规划资料\n",
      "Python生成\\5 募集资金运用情况和业务发展目标调查\\5-4 发展战略\\5-4-3 独立董事意见\n",
      "Python生成\\1 发行人基本情况调查\\1-13 员工情况\\1-13-10 劳务派遣\n",
      "Python生成\\5 募集资金运用情况和业务发展目标调查\\5-2 本次募集资金运用的相关资料\\5-2-4 本次募集资金投向涉及安全、环保等需相关政府部门出具的批复\n",
      "Python生成\\5 募集资金运用情况和业务发展目标调查\\5-5 业务发展目标\\5-5-1 未来二至三年的发展计划\n",
      "Python生成\\5 募集资金运用情况和业务发展目标调查\\5-5 业务发展目标\\5-5-2 业务发展目标相关文件\n",
      "Python生成\\5 募集资金运用情况和业务发展目标调查\\5-5 业务发展目标\\5-5-3 制定业务发展目标的依据性文件\n",
      "Python生成\\5 募集资金运用情况和业务发展目标调查\\5-5 业务发展目标\\5-5-4 业务发展目标与现有业务的关系说明\n",
      "Python生成\\5 募集资金运用情况和业务发展目标调查\\5-5 业务发展目标\\5-5-5 募集资金投向与业务发展目标的关系说明\n",
      "Python生成\\1 发行人基本情况调查\\1-13 员工情况\\1-13-1 关于员工人数及其变化、专业结构、受教育程度、年龄分布的说明\n",
      "Python生成\\1 发行人基本情况调查\\1-12 董事、监事、高级管理人员及其他核心人员持股及其他对外投资等情况\\1-12-4 董事、监事、高级管理人员及其他核心人员是否涉及诉讼、是否有到期未偿还债务等情况的声明及相关资料\n",
      "Python生成\\6 投资者保护调查\\6-1 保护投资者合法权益规定的各项措施\\6-1-1 投资者关系的主要安排，包括信息披露制度和流程、投资者沟通渠道的建立情况以及未来开展投资者关系管理的规划等\n",
      "Python生成\\5 募集资金运用情况和业务发展目标调查\\5-4 发展战略\\5-4-2 战略委员会会议纪要\n",
      "Python生成\\5 募集资金运用情况和业务发展目标调查\\5-2 本次募集资金运用的相关资料\\5-2-1 可行性研究报告\n",
      "Python生成\\5 募集资金运用情况和业务发展目标调查\\5-2 本次募集资金运用的相关资料\\5-2-10 发行人关于募集资金运用对财务状况及经营成果影响的详细分析\n",
      "Python生成\\5 募集资金运用情况和业务发展目标调查\\5-2 本次募集资金运用的相关资料\\5-2-11 募集资金投向产生的关联交易\n",
      "Python生成\\7 风险因素及其他重要事项调查\\7-3 诉讼和担保情况\\7-3-6 发行人对外担保总额占其（合并及母公司）净资产\n",
      "Python生成\\7 风险因素及其他重要事项调查\\7-3 诉讼和担保情况\\7-3-5 发行人对外担保情况清单及管理层对其完整性的书面声明\n",
      "Python生成\\7 风险因素及其他重要事项调查\\7-3 诉讼和担保情况\\7-3-4 对外担保的决策文件，被担保方基本情况及财务报表等资料，担保解除资料\n",
      "Python生成\\7 风险因素及其他重要事项调查\\7-3 诉讼和担保情况\\7-3-3 所有为外部主体的担保（包括抵押、质押、保证等）合同、反担保合同\n",
      "Python生成\\6 投资者保护调查\\6-2 承诺事项履行情况\\6-2-3 股份回购和股份买回的措施和承诺\n",
      "Python生成\\6 投资者保护调查\\6-2 承诺事项履行情况\\6-2-4 对欺诈发行上市的股份回购和股份买回承诺\n",
      "Python生成\\6 投资者保护调查\\6-2 承诺事项履行情况\\6-2-5 填补被摊薄即期回报的措施及承诺\n",
      "Python生成\\6 投资者保护调查\\6-2 承诺事项履行情况\\6-2-6 利润分配政策的承诺\n",
      "Python生成\\6 投资者保护调查\\6-2 承诺事项履行情况\\6-2-7 依法承担赔偿责任的承诺\n",
      "Python生成\\6 投资者保护调查\\6-2 承诺事项履行情况\\6-2-8 其他承诺事项\n",
      "Python生成\\6 投资者保护调查\\6-2 承诺事项履行情况\\6-2-9 控股股东及实际控制人、发起人、主要股东及董事、监事、高级管理人员未能履行承诺的约束措施\n",
      "Python生成\\1 发行人基本情况调查\\1-1 历史沿革情况\\1-1-1 发行人设立及历次工商变更登记文件，历次股权变动涉及的三会决议、股权转让协议或增减资协议、验资报告或出资证明、审计报告、评估报告、国有资产评估核准或备案文件、政府批准文件、股权转让或增资的作价依据、股权转让价款支付情况说明或支付凭证、缴税凭证、债权人同意文件、其他股东放弃优先购买权的承诺函等\n",
      "Python生成\\1 发行人基本情况调查\\1-12 董事、监事、高级管理人员及其他核心人员持股及其他对外投资等情况\\1-12-2 董事、监事、高级管理人员及其他核心人员及其直系亲属是否存在自营或为他人经营与发行人同类业务的情况及声明文件\n",
      "Python生成\\6 投资者保护调查\\6-3 信息披露制度的建设和执行情况\\6-3-2 投资者关系部门组织架构\n",
      "Python生成\\6 投资者保护调查\\6-3 信息披露制度的建设和执行情况\\6-3-3 未来开展投资者关系管理的规划\n",
      "Python生成\\1 发行人基本情况调查\\1-12 董事、监事、高级管理人员及其他核心人员持股及其他对外投资等情况\\1-12-1 董事、监事、高级管理人员及其他核心人员就持股及其他对外投资情况发出的声明文件\n",
      "Python生成\\6 投资者保护调查\\6-4 股利分配政策\\6-4-1 结合各年度\n",
      "Python生成\\6 投资者保护调查\\6-4 股利分配政策\\6-4-2 最近三年股利分配政策\n",
      "Python生成\\6 投资者保护调查\\6-4 股利分配政策\\6-4-3 发行人关于股利分配情况的说明\n",
      "Python生成\\6 投资者保护调查\\6-4 股利分配政策\\6-4-4 发行人关于发行后股利分配政策的说明\n",
      "Python生成\\6 投资者保护调查\\6-4 股利分配政策\\6-4-5 股利分配相关三会文件\n",
      "Python生成\\1 发行人基本情况调查\\1-11 报告期内董事、监事、高级管理人员及其他核心人员变动\\1-11-2 报告期内董事、监事、高级管理人员及其他核心人员变动情况的说明\n",
      "Python生成\\1 发行人基本情况调查\\1-11 报告期内董事、监事、高级管理人员及其他核心人员变动\\1-11-1 与报告期内上述人员变动相关的三会文件\n",
      "Python生成\\1 发行人基本情况调查\\1-10 董事、监事、高级管理人员及其他核心人员薪酬及兼职情况\\1-10-3 从关联方领取报酬以及享受其他待遇情况的说明\n",
      "Python生成\\6 投资者保护调查\\6-3 信息披露制度的建设和执行情况\\6-3-1 信息披露制度\n",
      "Python生成\\2 业务与技术调查\\2-5 核心技术人员、技术与研发情况\\2-5-2 技术许可协议、技术合作协议\n",
      "Python生成\\1 发行人基本情况调查\\1-1 历史沿革情况\\1-1-10 发行人境外控制架构设置的相关资料，涉及红筹架构形成及拆除的相关资料（如有）\n",
      "Python生成\\1 发行人基本情况调查\\1-1 历史沿革情况\\1-1-12 在其他证券市场的上市\n",
      "Python生成\\6 投资者保护调查\\6-1 保护投资者合法权益规定的各项措施\\6-1-5 发行人如为控股型公司的，主要控股子公司的章程和财务管理制度中关于利润分配的规定，及外汇管制、注册地法规等方面对利润分配的具体影响说明和相关资料\n",
      "Python生成\\1 发行人基本情况调查\\1-12 董事、监事、高级管理人员及其他核心人员持股及其他对外投资等情况\\1-12-3 董事、监事、高级管理人员及其他核心人员及其直系亲属是否存在与公司利益发生冲突的对外投资，是否存在重大债务负担及声明文件\n",
      "Python生成\\6 投资者保护调查\\6-2 承诺事项履行情况\\6-2-1 本次发行前股东所持股份的限售安排、自愿锁定股份、延长锁定期限以及相关股东持股及减持意向等承诺\n",
      "Python生成\\7 风险因素及其他重要事项调查\\7-6 尚未盈利或存在累计未弥补亏损\\7-6-2 尚未盈利或存在累计未弥补亏损对公司现金流、业务拓展、人才吸引、团队稳定性、研发投入、战略性投入、生产经营可持续性等方面的影响\n",
      "Python生成\\7 风险因素及其他重要事项调查\\7-3 诉讼和担保情况\\7-3-7 发行人其他重大仲裁、诉讼及其他或有事项清单及有关事项的情况说明及管理层对其完整性的书面声明\n",
      "Python生成\\1 发行人基本情况调查\\1-10 董事、监事、高级管理人员及其他核心人员薪酬及兼职情况\\1-10-1 与薪酬情况相关的三会文件\n",
      "Python生成\\7 风险因素及其他重要事项调查\\7-4 评估价值\\7-4-1 报告期外部股权融资情况说明\n",
      "Python生成\\7 风险因素及其他重要事项调查\\7-4 评估价值\\7-4-2 可比公司在境内外市场的估值情况相关资料\n",
      "Python生成\\7 风险因素及其他重要事项调查\\7-4 评估价值\\7-4-3 其他估值相关资料\n",
      "Python生成\\7 风险因素及其他重要事项调查\\7-5 发行人符合创业板定位的相关资料和说明\\7-5-1 发行人是否属于《推荐暂行规定》中不支持申报的行业的核查\n",
      "Python生成\\7 风险因素及其他重要事项调查\\7-5 发行人符合创业板定位的相关资料和说明\\7-5-2 发行人是否具有发展更多依靠创新、创造、创意的特征的核查\n",
      "Python生成\\1 发行人基本情况调查\\1-1 历史沿革情况\\1-1-11 发行人成立时拥有的主要资产和业务情况的说明\n",
      "Python生成\\7 风险因素及其他重要事项调查\\7-5 发行人符合创业板定位的相关资料和说明\\7-5-3 发行人是否具有新技术、新产业、新业态、新模式等特征的核查\n",
      "Python生成\\1 发行人基本情况调查\\1-1 历史沿革情况\\1-1-9 发行人涉及境外私有化退市的相关资料（如有）\n",
      "Python生成\\7 风险因素及其他重要事项调查\\7-6 尚未盈利或存在累计未弥补亏损\\7-6-1 说明尚未盈利或存在累计未弥补亏损的情形的成因\n",
      "Python生成\\1 发行人基本情况调查\\1-1 历史沿革情况\\1-1-8 发行人在其他证券市场挂牌\n",
      "Python生成\\6 投资者保护调查\\6-2 承诺事项履行情况\\6-2-2 稳定股价的措施和承诺\n",
      "Python生成\\1 发行人基本情况调查\\1-1 历史沿革情况\\1-1-7 发行人（包括下属公司）及其前身或红筹架构上的境内外实体（如有）在其他证券市场的上市\n",
      "Python生成\\1 发行人基本情况调查\\1-1 历史沿革情况\\1-1-6 发行人对其董事、监事、高级管理人员、其他核心人员、员工实行的股权激励（如员工持股计划、限制性股票、股票期权）及其他制度安排和执行情况（如有）\n",
      "Python生成\\1 发行人基本情况调查\\1-1 历史沿革情况\\1-1-5 发行人间接股东的相关核查资料\n",
      "Python生成\\1 发行人基本情况调查\\1-1 历史沿革情况\\1-1-4 发行人历史上委托持股、信托持股、股权代持形成、演变和清理的相关资料\n",
      "Python生成\\1 发行人基本情况调查\\1-1 历史沿革情况\\1-1-3 发行人是否存在出资瑕疵（出资不实、虚假出资、抽逃出资等）的情况说明及相关资料\n",
      "Python生成\\8 与其他证券服务机构的协作\\8-5 执业注册会计师\\律师\n",
      "Python生成\\1 发行人基本情况调查\\1-1 历史沿革情况\\1-1-2 发起人、股东以非货币财产出资时，涉及的资产产权变更登记资料文件\n",
      "Python生成\\7 风险因素及其他重要事项调查\\7-5 发行人符合创业板定位的相关资料和说明\\7-5-4 发行人技术先进性、竞争优势的核查\n",
      "Python生成\\4 财务与会计调查\\4-1 财务报告及相关财务资料\\4-1-7 境内外报表差异调节表（如有）\n"
     ]
    }
   ],
   "source": [
    "create_tree(file_sort, new_path, root_path)"
   ]
  },
  {
   "cell_type": "markdown",
   "id": "22ceaaee-360d-4322-b029-14ad3b067f04",
   "metadata": {},
   "source": [
    "#### 读取更改后的目录创建-注意要成树！"
   ]
  },
  {
   "cell_type": "code",
   "execution_count": 293,
   "id": "60a61d2e-d03f-45dd-9af4-0da1037b6eeb",
   "metadata": {},
   "outputs": [],
   "source": [
    "new_tree_pandas = pd.read_excel('投行申报目录树.xlsx')"
   ]
  },
  {
   "cell_type": "code",
   "execution_count": 294,
   "id": "74b4eaa7-6f69-47d6-aa68-f18a6ab98b33",
   "metadata": {},
   "outputs": [],
   "source": [
    "new_path = 'Python修改后生成1'\n",
    "root_path = '投行申报'"
   ]
  },
  {
   "cell_type": "code",
   "execution_count": 295,
   "id": "06fbf142-048f-47cb-a66b-b557e52270d4",
   "metadata": {
    "collapsed": true,
    "jupyter": {
     "outputs_hidden": true
    },
    "tags": []
   },
   "outputs": [
    {
     "name": "stdout",
     "output_type": "stream",
     "text": [
      "Python修改后生成1\\1 发行人基本情况调查\n",
      "Python修改后生成1\\4 财务与会计调查\n",
      "Python修改后生成1\\7 风险因素及其他重要事项调查\n",
      "Python修改后生成1\\5 募集资金运用情况和业务发展目标调查\n",
      "Python修改后生成1\\3 公司治理与独立性调查\n",
      "Python修改后生成1\\6 投资者保护调查\n",
      "Python修改后生成1\\2 业务与技术调查\n",
      "Python修改后生成1\\8 与其他证券服务机构的协作\n",
      "Python修改后生成1\\10 建议书与备忘录\n",
      "Python修改后生成1\\9 工作执行记录\n",
      "Python修改后生成1\\4 财务与会计调查\\4-15 投资性房地产\n",
      "Python修改后生成1\\3 公司治理与独立性调查\\3-8 内部控制的监督\n",
      "Python修改后生成1\\3 公司治理与独立性调查\\3-9 商业信用情况\n",
      "Python修改后生成1\\4 财务与会计调查\\4-19 纳税情况\n",
      "Python修改后生成1\\4 财务与会计调查\\4-1 财务报告及相关财务资料\n",
      "Python修改后生成1\\4 财务与会计调查\\4-10 存货\n",
      "Python修改后生成1\\9 工作执行记录\\9-3 重大事项的专题讨论会的会议资料及会议纪要\n",
      "Python修改后生成1\\4 财务与会计调查\\4-18 合并报表的范围\n",
      "Python修改后生成1\\4 财务与会计调查\\4-11 重要的对外投资（合并范围内的子公司除外）\n",
      "Python修改后生成1\\4 财务与会计调查\\4-17 现金流量\n",
      "Python修改后生成1\\4 财务与会计调查\\4-12 固定资产、在建工程\n",
      "Python修改后生成1\\4 财务与会计调查\\4-13 无形资产、开发支出\n",
      "Python修改后生成1\\4 财务与会计调查\\4-14 商誉\n",
      "Python修改后生成1\\4 财务与会计调查\\4-16 主要债务\n",
      "Python修改后生成1\\3 公司治理与独立性调查\\3-7 会计管理控制\n",
      "Python修改后生成1\\3 公司治理与独立性调查\\3-4 内部控制环境\n",
      "Python修改后生成1\\3 公司治理与独立性调查\\3-5 业务控制\n",
      "Python修改后生成1\\10 建议书与备忘录\\10-4 会计师就重大或专题事项出具的备忘录\n",
      "Python修改后生成1\\10 建议书与备忘录\\10-5 评估师就重大或专题事项出具的备忘录\n",
      "Python修改后生成1\\10 建议书与备忘录\\10-6 承销商律师就重大或专题事项出具的备忘录\n",
      "Python修改后生成1\\10 建议书与备忘录\\10-7 其他中介机构就重大或专题事项出具的备忘录\n",
      "Python修改后生成1\\10 建议书与备忘录\\10-8 本次发行的保荐机构及证券服务机构等作出的重要承诺\n",
      "Python修改后生成1\\2 业务与技术调查\\2-1 行业情况及竞争状况\n",
      "Python修改后生成1\\2 业务与技术调查\\2-2 销售情况\n",
      "Python修改后生成1\\2 业务与技术调查\\2-3 采购情况\n",
      "Python修改后生成1\\2 业务与技术调查\\2-4 生产情况\n",
      "Python修改后生成1\\2 业务与技术调查\\2-5 核心技术人员、技术与研发情况\n",
      "Python修改后生成1\\3 公司治理与独立性调查\\3-1 公司章程及其规范运行情况\n",
      "Python修改后生成1\\3 公司治理与独立性调查\\3-10 独立情况\n",
      "Python修改后生成1\\3 公司治理与独立性调查\\3-11 同业竞争情况\n",
      "Python修改后生成1\\3 公司治理与独立性调查\\3-12 关联方及关联交易情况\n",
      "Python修改后生成1\\3 公司治理与独立性调查\\3-2 组织结构和三会运作情况\n",
      "Python修改后生成1\\3 公司治理与独立性调查\\3-3 独立董事制度及其执行情况\n",
      "Python修改后生成1\\4 财务与会计调查\\4-2 会计政策、会计估计及会计差错更正\n",
      "Python修改后生成1\\3 公司治理与独立性调查\\3-6 信息系统控制\n",
      "Python修改后生成1\\4 财务与会计调查\\4-20 盈利预测\n",
      "Python修改后生成1\\4 财务与会计调查\\4-23 报告期内发行人主要财务指标情况表\n",
      "Python修改后生成1\\4 财务与会计调查\\4-22 其他科目异常情况核查\n",
      "Python修改后生成1\\7 风险因素及其他重要事项调查\\7-1 既往经营业绩发生重大变动或历次重大事件的相关资料\n",
      "Python修改后生成1\\7 风险因素及其他重要事项调查\\7-2 重大合同（包括已履行完毕但属于报告期内且对发行人有重要影响的合同）（对应招股书披露内容，已提供的部分合同可参见其他章节）\n",
      "Python修改后生成1\\7 风险因素及其他重要事项调查\\7-3 诉讼和担保情况\n",
      "Python修改后生成1\\7 风险因素及其他重要事项调查\\7-4 评估价值\n",
      "Python修改后生成1\\7 风险因素及其他重要事项调查\\7-5 发行人符合创业板定位的相关资料和说明\n",
      "Python修改后生成1\\7 风险因素及其他重要事项调查\\7-6 尚未盈利或存在累计未弥补亏损\n",
      "Python修改后生成1\\8 与其他证券服务机构的协作\\8-1 其他证券服务机构及签字人员的业务资质\n",
      "Python修改后生成1\\6 投资者保护调查\\6-6 股东投票机制的建立情况，包括采取累积投票制选举公司董事、监事，中小投资者单独计票机制，法定事项采取网络投票方式召开股东大会进行审议表决、征集投票权的相关安排等（如有）\n",
      "Python修改后生成1\\8 与其他证券服务机构的协作\\8-2 对其他证券服务机构关于核查程序及取得的关键性证据、核查工作范围及核查结论等的访谈记录及其他相关复核过程资料\n",
      "Python修改后生成1\\8 与其他证券服务机构的协作\\8-4 执业中介机构营业执照复印件\n",
      "Python修改后生成1\\8 与其他证券服务机构的协作\\8-5 执业注册会计师\n",
      "Python修改后生成1\\8 与其他证券服务机构的协作\\8-6 执业中介机构项目小组成员名单及简历（包括签字会计师\n",
      "Python修改后生成1\\8 与其他证券服务机构的协作\\8-7 执业中介机构及其项目小组成员（包括签字会计师\n",
      "Python修改后生成1\\8 与其他证券服务机构的协作\\8-8 执业中介机构项目小组成员独立性声明（包括签字会计师\n",
      "Python修改后生成1\\9 工作执行记录\\9-1 保荐机构项目人员配置情况，各人员从事的具体工作，以及相关人员在项目中发挥的作用的相关记录\n",
      "Python修改后生成1\\9 工作执行记录\\9-2 定期会议的会议资料以及会议记录\n",
      "Python修改后生成1\\8 与其他证券服务机构的协作\\8-3 对于其他证券服务机构专业意见以及报告中重大异常、前后重大矛盾、重大差异情形的核查说明及相关资料（包括重要事项的会计处理不符合行业惯例；含有重大无先例会计事项；专业意见与法律法规、监管规定、自律规则等要求或者行业惯例存在重大差异；专业意见所依赖的假设前提明显不合理、核查程序、核查工作范围等明显不合理等）（如有）\n",
      "Python修改后生成1\\6 投资者保护调查\\6-5 发行前滚存利润分配安排\n",
      "Python修改后生成1\\6 投资者保护调查\\6-4 股利分配政策\n",
      "Python修改后生成1\\6 投资者保护调查\\6-3 信息披露制度的建设和执行情况\n",
      "Python修改后生成1\\4 财务与会计调查\\4-24 历次验资报告\n",
      "Python修改后生成1\\4 财务与会计调查\\4-25 相关银行账户资金流水\n",
      "Python修改后生成1\\4 财务与会计调查\\4-3 有关评估报告\n",
      "Python修改后生成1\\4 财务与会计调查\\4-4 销售收入\n",
      "Python修改后生成1\\4 财务与会计调查\\4-5 营业成本与销售毛利\n",
      "Python修改后生成1\\4 财务与会计调查\\4-6 期间费用\n",
      "Python修改后生成1\\4 财务与会计调查\\4-7 政府补助、非经常性损益\n",
      "Python修改后生成1\\4 财务与会计调查\\4-8 货币资金\n",
      "Python修改后生成1\\4 财务与会计调查\\4-9 应收款项、合同资产\n",
      "Python修改后生成1\\5 募集资金运用情况和业务发展目标调查\\5-1 前次募集资金使用情况（如有）\n",
      "Python修改后生成1\\5 募集资金运用情况和业务发展目标调查\\5-2 本次募集资金运用的相关资料\n",
      "Python修改后生成1\\5 募集资金运用情况和业务发展目标调查\\5-3 募集资金投向产生的关联交易\n",
      "Python修改后生成1\\5 募集资金运用情况和业务发展目标调查\\5-4 发展战略\n",
      "Python修改后生成1\\5 募集资金运用情况和业务发展目标调查\\5-5 业务发展目标\n",
      "Python修改后生成1\\5 募集资金运用情况和业务发展目标调查\\5-6 关于募集资金管理的相关制度\n",
      "Python修改后生成1\\6 投资者保护调查\\6-1 保护投资者合法权益规定的各项措施\n",
      "Python修改后生成1\\6 投资者保护调查\\6-2 承诺事项履行情况\n",
      "Python修改后生成1\\4 财务与会计调查\\4-21 发行人关于股份支付会计处理的说明及相关底稿\n",
      "Python修改后生成1\\10 建议书与备忘录\\10-3 发行人律师就重大或专题事项出具的备忘录\n",
      "Python修改后生成1\\9 工作执行记录\\9-4 按照证监会保荐业务管理相关规定制作的工作日志（请使用模板“项目工作日志.docx”）\n",
      "Python修改后生成1\\10 建议书与备忘录\\10-1 为发行人出具的项目建议书、改制方案及其他规范方案\n",
      "Python修改后生成1\\10 建议书与备忘录\\10-2 保荐机构就重大或专题事项出具的备忘录\n",
      "Python修改后生成1\\1 发行人基本情况调查\\1-7 董事、监事和高级管理人员任职情况和任职资格\n",
      "Python修改后生成1\\1 发行人基本情况调查\\1-2 企业改制与设立情况（国有企业、集体企业改制而来的或历史上存在挂靠集体组织经营的企业）\n",
      "Python修改后生成1\\1 发行人基本情况调查\\1-4 重大重组情况\n",
      "Python修改后生成1\\1 发行人基本情况调查\\1-6 控股股东及实际控制人、发起人及股东情况\n",
      "Python修改后生成1\\1 发行人基本情况调查\\1-8 董事、监事和高级管理人员的经历及行为操守\n",
      "Python修改后生成1\\1 发行人基本情况调查\\1-13 员工情况\n",
      "Python修改后生成1\\1 发行人基本情况调查\\1-12 董事、监事、高级管理人员及其他核心人员持股及其他对外投资等情况\n",
      "Python修改后生成1\\1 发行人基本情况调查\\1-3 内部职工股（如适用）\n",
      "Python修改后生成1\\1 发行人基本情况调查\\1-11 报告期内董事、监事、高级管理人员及其他核心人员变动\n",
      "Python修改后生成1\\1 发行人基本情况调查\\1-5 发行人控股子公司和重要参股公司情况\n",
      "Python修改后生成1\\1 发行人基本情况调查\\1-9 董事、监事和高级管理人员胜任能力和勤勉尽责\n",
      "Python修改后生成1\\4 财务与会计调查\\4-4 销售收入\\4-4-6 境外销售核查情况\n",
      "Python修改后生成1\\4 财务与会计调查\\4-4 销售收入\\4-4-5 收入截止性测试情况，会计期末是否存在突击确认销售以及期后是否存在大量销售退回的情况，会计期末销售收入异常增长情况的收入确认凭证\n",
      "Python修改后生成1\\4 财务与会计调查\\4-4 销售收入\\4-4-4 收入真实性的核查\n",
      "Python修改后生成1\\4 财务与会计调查\\4-4 销售收入\\4-4-3 发行人报告期主要产品或服务的销量变化资料及原因，变动趋势与市场上相同或相近产品或服务的信息及其走势相比是否存在显著异常\n",
      "Python修改后生成1\\4 财务与会计调查\\4-4 销售收入\\4-4-2 发行人报告期内主要产品或服务价格变动的资料及原因分析及相关资料，变动趋势与市场上相同或相近产品或服务的信息及其走势相比是否存在显著异常\n",
      "Python修改后生成1\\4 财务与会计调查\\4-16 主要债务\\4-16-1 应付账款明细表（含款项性质及账龄）及相关核查资料\n",
      "Python修改后生成1\\4 财务与会计调查\\4-4 销售收入\\4-4-13 单一大客户核查\n",
      "Python修改后生成1\\4 财务与会计调查\\4-4 销售收入\\4-4-12 电商、互联网信息服务、互联网营销企业\n",
      "Python修改后生成1\\4 财务与会计调查\\4-4 销售收入\\4-4-11 产销量或合同订单完成量等业务执行数据与财务确认数据的一致性\n",
      "Python修改后生成1\\4 财务与会计调查\\4-4 销售收入\\4-4-10 发行人异常交易核查情况\n",
      "Python修改后生成1\\4 财务与会计调查\\4-16 主要债务\\4-16-5 其他应付款明细表（含款项性质及账龄）及相关核查资料\n",
      "Python修改后生成1\\4 财务与会计调查\\4-4 销售收入\\4-4-7 网络销售的真实性核查情况\n",
      "Python修改后生成1\\1 发行人基本情况调查\\1-3 内部职工股（如适用）\\1-3-5 股份形成及演变的法律文件，包括相关的工商登记资料、三会文件（1-1-1未包含部分）\n",
      "Python修改后生成1\\4 财务与会计调查\\4-3 有关评估报告\\4-3-3 其他评估报告（矿产、房地产开发存货等）\n",
      "Python修改后生成1\\4 财务与会计调查\\4-3 有关评估报告\\4-3-2 公司设立时（含有限责任公司改制期间）及报告期内历次土地评估报告\n",
      "Python修改后生成1\\4 财务与会计调查\\4-3 有关评估报告\\4-3-1 公司设立时（含有限责任公司改制期间）及报告期内历次资产评估报告\n",
      "Python修改后生成1\\1 发行人基本情况调查\\1-3 内部职工股（如适用）\\1-3-6 内部职工股清理的决策文件、相关协议、价款支付凭证\n",
      "Python修改后生成1\\4 财务与会计调查\\4-25 相关银行账户资金流水\\4-25-9 发行人同一账户或不同账户之间，是否存在金额、日期相近的异常大额资金进出的情形，存在请截图\n",
      "Python修改后生成1\\4 财务与会计调查\\4-16 主要债务\\4-16-10 可预见的未来需偿还的负债金额及利息金额，重点说明未来 12 个月内的情况，结合现金流、融资能力与渠道等情况，公司偿债能力的证明材料\n",
      "Python修改后生成1\\4 财务与会计调查\\4-25 相关银行账户资金流水\\4-25-8 发行人相关账户大额取现的情况核查\n",
      "Python修改后生成1\\4 财务与会计调查\\4-25 相关银行账户资金流水\\4-25-7 发行人大额资金往来是否存在重大异常核查，是否与公司经营活动、资产购置、对外投资等不相匹配\n",
      "Python修改后生成1\\4 财务与会计调查\\4-4 销售收入\\4-4-1 发行人收入的确认政策、产品构成、地域构成、销售模式构成及其变动情况的详细资料\n",
      "Python修改后生成1\\4 财务与会计调查\\4-4 销售收入\\4-4-8 第三方回款的核查资料，包括但不限于采购方与回款方的关系说明、付款凭证等\n",
      "Python修改后生成1\\4 财务与会计调查\\4-4 销售收入\\4-4-9 发行人存在特殊交易模式或创新交易模式的核查情况\n",
      "Python修改后生成1\\1 发行人基本情况调查\\1-3 内部职工股（如适用）\\1-3-4 内部职工股潜在问题、风险隐患及相关资料\n",
      "Python修改后生成1\\4 财务与会计调查\\4-8 货币资金\\4-8-7 其他应收款员工备用金月末余额变动表及其合理性分析\n",
      "Python修改后生成1\\4 财务与会计调查\\4-8 货币资金\\4-8-6 发行人利用员工账户或其他个人账户进行货款收支及款项往来情况、相应整改措施的说明\n",
      "Python修改后生成1\\4 财务与会计调查\\4-8 货币资金\\4-8-5 关于发行人与控股股东或其他关联方设立联合或共管账户、在控股股东控制的财务公司开设银行账户或参与资金池业务的说明及相关资料（如有）\n",
      "Python修改后生成1\\4 财务与会计调查\\4-8 货币资金\\4-8-4 现金收付交易核查情况\n",
      "Python修改后生成1\\4 财务与会计调查\\4-8 货币资金\\4-8-3 异常、巨额资金流转情况资料、发生背景说明及会计处理\n",
      "Python修改后生成1\\4 财务与会计调查\\4-8 货币资金\\4-8-2 报告期内账户银行对账单（详式）、各期末余额调节表、相关函证资料或复核会计函证资料的工作记录\n",
      "Python修改后生成1\\4 财务与会计调查\\4-8 货币资金\\4-8-1 报告期内银行账户开户清单（含注销账户）及企业信用报告（含子公司）\n",
      "Python修改后生成1\\1 发行人基本情况调查\\1-3 内部职工股（如适用）\\1-3-1 审批文件、募股文件、缴款证明及验资报告\n",
      "Python修改后生成1\\4 财务与会计调查\\4-7 政府补助、非经常性损益\\4-7-2 非经常性损益\n",
      "Python修改后生成1\\4 财务与会计调查\\4-7 政府补助、非经常性损益\\4-7-1 政府补助\n",
      "Python修改后生成1\\4 财务与会计调查\\4-25 相关银行账户资金流水\\4-25-6 发行人关键岗位人员的银行账户流水核查\n",
      "Python修改后生成1\\1 发行人基本情况调查\\1-3 内部职工股（如适用）\\1-3-2 历次转让文件、历年托管证明文件\n",
      "Python修改后生成1\\4 财务与会计调查\\4-6 期间费用\\4-6-6 工资薪金单、工资薪金表（请使用模板“ 工资薪金分析表.xlsx”）\n",
      "Python修改后生成1\\4 财务与会计调查\\4-6 期间费用\\4-6-5 广告费明细表（广告费占比销售费用超过30%需编制）（请使用模板“广告费明细表.xlsx”）、销售部门获取报告期各项营销推广活动清单\n",
      "Python修改后生成1\\4 财务与会计调查\\4-6 期间费用\\4-6-4 财务费用情况\n",
      "Python修改后生成1\\4 财务与会计调查\\4-6 期间费用\\4-6-3 研发费用情况\n",
      "Python修改后生成1\\4 财务与会计调查\\4-6 期间费用\\4-6-2 管理费用情况\n",
      "Python修改后生成1\\4 财务与会计调查\\4-6 期间费用\\4-6-1 销售费用情况\n",
      "Python修改后生成1\\1 发行人基本情况调查\\1-3 内部职工股（如适用）\\1-3-3 内部职工股发行中的违法违规情况，包括超范围、超比例，变相增加内部职工股数量、违规转让和交易、法人股个人化等相关资料\n",
      "Python修改后生成1\\4 财务与会计调查\\4-5 营业成本与销售毛利\\4-5-3 业绩增长及毛利率变动真实性的核查\n",
      "Python修改后生成1\\4 财务与会计调查\\4-5 营业成本与销售毛利\\4-5-2 成本真实性的核查\n",
      "Python修改后生成1\\4 财务与会计调查\\4-5 营业成本与销售毛利\\4-5-1 成本、毛利、毛利率明细表\n",
      "Python修改后生成1\\4 财务与会计调查\\4-6 期间费用\\4-6-7 费用截止性测试，判断是否存在费用核算跨期问题（包含填列的模板“费用跨期测试表.xlsx”及相关原始凭证）\n",
      "Python修改后生成1\\4 财务与会计调查\\4-25 相关银行账户资金流水\\4-25-5 发行人高管的银行账户流水核查\n",
      "Python修改后生成1\\4 财务与会计调查\\4-25 相关银行账户资金流水\\4-25-3 发行人董事的银行账户流水核查\n",
      "Python修改后生成1\\4 财务与会计调查\\4-16 主要债务\\4-16-4 预计负债的明细表及其相关协议、估计依据、访谈记录等相关资料\n",
      "Python修改后生成1\\4 财务与会计调查\\4-19 纳税情况\\4-19-6 报告期内产品出口退税税率变动情况及相关文件\n",
      "Python修改后生成1\\4 财务与会计调查\\4-19 纳税情况\\4-19-5 发行人享有税收优惠情况\n",
      "Python修改后生成1\\4 财务与会计调查\\4-19 纳税情况\\4-19-4 公司及各控股子公司的完税证明或税收缴款书、纳税凭证（抽查）\n",
      "Python修改后生成1\\4 财务与会计调查\\4-19 纳税情况\\4-19-3 关于税务争议、滞纳金缴纳、以及重大关税纠纷的详细情况以及有关文件及信函\n",
      "Python修改后生成1\\4 财务与会计调查\\4-19 纳税情况\\4-19-2 报告期的年度纳税申报表\n",
      "Python修改后生成1\\4 财务与会计调查\\4-19 纳税情况\\4-19-1 报告期内发行人及其控股子公司主要适用税种及税率说明\n",
      "Python修改后生成1\\1 发行人基本情况调查\\1-4 重大重组情况\\1-4-5 重大重组涉及国有资产转让的，国有资产进场交易的文件\n",
      "Python修改后生成1\\4 财务与会计调查\\4-18 合并报表的范围\\4-18-2 报告期内合并范围变动情况及原因\n",
      "Python修改后生成1\\4 财务与会计调查\\4-18 合并报表的范围\\4-18-1 合并范围列表及确定依据\n",
      "Python修改后生成1\\1 发行人基本情况调查\\1-4 重大重组情况\\1-4-6 债权人同意债务转移的相关文件、重组相关的对价支付凭证、税收缴纳凭证和资产过户文件\n",
      "Python修改后生成1\\4 财务与会计调查\\4-19 纳税情况\\4-19-7 发行人及各控股子公司前三个会计年度各类应交税金余额变动情况表\n",
      "Python修改后生成1\\4 财务与会计调查\\4-17 现金流量\\4-17-5 结合长短期债务配置期限、影响现金流量的重要事件或承诺事项以及风险管理政策，说明发行人的流动性已经或可能产生的重大变化或风险趋势、论证相关措施有效性的支持性材料\n",
      "Python修改后生成1\\4 财务与会计调查\\4-17 现金流量\\4-17-3 报告期末的重大资本性支出决议以及未来其他可预见的重大资本性支出计划、资金需求量的证明材料\n",
      "Python修改后生成1\\4 财务与会计调查\\4-17 现金流量\\4-17-2 现金流量与利润表、资产负债表主要数据不匹配的原因及相关资料\n",
      "Python修改后生成1\\4 财务与会计调查\\4-17 现金流量\\4-17-1 现金流量表与利润表、资产负债表勾稽记录、具体项目波动分析相关资料\n",
      "Python修改后生成1\\1 发行人基本情况调查\\1-4 重大重组情况\\1-4-7 重大重组对发行人业务、经营业绩、财务状况和管理层影响情况的说明\n",
      "Python修改后生成1\\4 财务与会计调查\\4-16 主要债务\\4-16-2 应付票据\n",
      "Python修改后生成1\\4 财务与会计调查\\4-16 主要债务\\4-16-9 最近一期末银行借款、关联方借款、合同承诺债务、或有负债等主要债项的金额、期限、利率及利息费用等情况\n",
      "Python修改后生成1\\4 财务与会计调查\\4-16 主要债务\\4-16-3 银行借款明细表及银行借款合同、委托贷款合同等相关资料\n",
      "Python修改后生成1\\4 财务与会计调查\\4-16 主要债务\\4-16-8 存在逾期负债的，提供逾期负债金额统计表，核查逾期的原因及后续偿还措施，取得相关证明文件\n",
      "Python修改后生成1\\4 财务与会计调查\\4-16 主要债务\\4-16-7 一年内到期的长期借款清单，包括债权人（具体到分支行）、本金、起止期限、利率、抵押\n",
      "Python修改后生成1\\4 财务与会计调查\\4-16 主要债务\\4-16-6 其他大额负债明细表及相关核查资料\n",
      "Python修改后生成1\\4 财务与会计调查\\4-17 现金流量\\4-17-4 资本性支出涉及跨行业投资，其与公司未来发展战略关系的证明资料，资金缺口的解决措施资料\n",
      "Python修改后生成1\\4 财务与会计调查\\4-25 相关银行账户资金流水\\4-25-4 发行人监事的银行账户流水核查\n",
      "Python修改后生成1\\4 财务与会计调查\\4-19 纳税情况\\4-19-8 发行人及各控股子公司前三个会计年度主要税种计提金额的合理性测试工作底稿\n",
      "Python修改后生成1\\1 发行人基本情况调查\\1-4 重大重组情况\\1-4-4 重大重组涉及的审计报告、评估报告、中介机构专业意见、国有资产评估核准或备案文件\n",
      "Python修改后生成1\\4 财务与会计调查\\4-25 相关银行账户资金流水\\4-25-2 发行人主要关联方的银行账户流水核查\n",
      "Python修改后生成1\\4 财务与会计调查\\4-25 相关银行账户资金流水\\4-25-12 是否存在关联方代发行人收取客户款项或支付供应商款项的核查\n",
      "Python修改后生成1\\4 财务与会计调查\\4-25 相关银行账户资金流水\\4-25-11 控股股东、实际控制人、董事、监事、高管、关键岗位人员与发行人关联方、客户、供应商之间异常大额资金往来的核查\n",
      "Python修改后生成1\\4 财务与会计调查\\4-25 相关银行账户资金流水\\4-25-10 控股股东、实际控制人、董事、监事、高管、关键岗位人员是否从发行人获得大额现金分红款、薪酬或资产转让款、转让发行人股权获得大额股权转让款，主要资金流向或用途数据核查情况上传\n",
      "Python修改后生成1\\4 财务与会计调查\\4-8 货币资金\\4-8-8 报告期内银行日记账\n",
      "Python修改后生成1\\1 发行人基本情况调查\\1-3 内部职工股（如适用）\\1-3-7 有权部门对发行人内部职工股托管情况及真实性的确认文件\n",
      "Python修改后生成1\\1 发行人基本情况调查\\1-3 内部职工股（如适用）\\1-3-8 发行人成立以来历次内部职工股发行、转让前后的内部职工股持股人数及持股数量\n",
      "Python修改后生成1\\4 财务与会计调查\\4-22 其他科目异常情况核查\\4-22-3 其他可能导致公司财务信息披露失真、粉饰业绩或财务造假的情况\n",
      "Python修改后生成1\\4 财务与会计调查\\4-22 其他科目异常情况核查\\4-22-2 其他财务异常情况的核查说明（如推迟广告投入和其他减少销售费用的情形；短期降低员工工资的情形；引进临时客户增加收入利润的情形）\n",
      "Python修改后生成1\\4 财务与会计调查\\4-22 其他科目异常情况核查\\4-22-1 其他会计科目异常变动情况的说明\n",
      "Python修改后生成1\\4 财务与会计调查\\4-19 纳税情况\\4-19-9 当地税务部门出具的关于发行人报告期内纳税情况的证明文件\n",
      "Python修改后生成1\\1 发行人基本情况调查\\1-4 重大重组情况\\1-4-1 重大重组涉及的股东会\n",
      "Python修改后生成1\\4 财务与会计调查\\4-20 盈利预测\\4-20-3 对发行人及其控股子公司盈利预测所依据的假设的合理性评价备忘录及\n",
      "Python修改后生成1\\4 财务与会计调查\\4-20 盈利预测\\4-20-2 盈利预测的依据资料\n",
      "Python修改后生成1\\4 财务与会计调查\\4-20 盈利预测\\4-20-1 盈利预测报告\n",
      "Python修改后生成1\\1 发行人基本情况调查\\1-4 重大重组情况\\1-4-3 政府批准文件\n",
      "Python修改后生成1\\4 财务与会计调查\\4-2 会计政策、会计估计及会计差错更正\\4-2-6 重大会计差错更正的审议程序、会议材料等\n",
      "Python修改后生成1\\4 财务与会计调查\\4-2 会计政策、会计估计及会计差错更正\\4-2-5 报告期内重大会计差错更正情况及相关资料\n",
      "Python修改后生成1\\4 财务与会计调查\\4-2 会计政策、会计估计及会计差错更正\\4-2-4 会计政策和会计估计变更对公司经营业绩影响的说明\n",
      "Python修改后生成1\\4 财务与会计调查\\4-2 会计政策、会计估计及会计差错更正\\4-2-3 会计政策和会计估计变动相关资料（如有）\n",
      "Python修改后生成1\\4 财务与会计调查\\4-2 会计政策、会计估计及会计差错更正\\4-2-2 同行业会计政策和会计估计比较情况，与同行业存在较大差异的原因分析\n",
      "Python修改后生成1\\4 财务与会计调查\\4-2 会计政策、会计估计及会计差错更正\\4-2-1 发行人会计政策、会计估计\n",
      "Python修改后生成1\\1 发行人基本情况调查\\1-4 重大重组情况\\1-4-2 重组协议\n",
      "Python修改后生成1\\4 财务与会计调查\\4-25 相关银行账户资金流水\\4-25-1 控股股东、实际控制人的银行账户流水核查，个人账户大额资金往来较多且无合理解释，或者频繁出现大额存现、取现情形的请重点截图上传\n",
      "Python修改后生成1\\4 财务与会计调查\\4-9 应收款项、合同资产\\4-9-13 应收账款周转率明显异于同行业水平的原因分析及合理性说明\n",
      "Python修改后生成1\\4 财务与会计调查\\4-9 应收款项、合同资产\\4-9-10 报告期内发行人应收账款主要客户与发行人主要客户是否匹配的说明\n",
      "Python修改后生成1\\7 风险因素及其他重要事项调查\\7-3 诉讼和担保情况\\7-3-2 报告期内已经了结的诉讼和仲裁的相关资料\n",
      "Python修改后生成1\\7 风险因素及其他重要事项调查\\7-3 诉讼和担保情况\\7-3-1 目前尚未了结的诉讼与仲裁事项说明，与重大诉讼或仲裁事项相关的合同、协议，法院或仲裁机构受理的相关文件\n",
      "Python修改后生成1\\1 发行人基本情况调查\\1-13 员工情况\\1-13-12 发行人主要参控股公司养老保险、医疗保险、住房公积金、失业保险、工伤保险、生育保险的费用缴纳凭证\n",
      "Python修改后生成1\\1 发行人基本情况调查\\1-13 员工情况\\1-13-13 员工薪酬及奖励制度\n",
      "Python修改后生成1\\1 发行人基本情况调查\\1-13 员工情况\\1-13-2 执行社会保障制度、住房制度改革、医疗制度改革情况的说明\n",
      "Python修改后生成1\\1 发行人基本情况调查\\1-13 员工情况\\1-13-3 劳动合同样本、竞业禁止协议及保密协议样本（如有）\n",
      "Python修改后生成1\\1 发行人基本情况调查\\1-13 员工情况\\1-13-4 社保相关费用缴纳凭证（抽查）\n",
      "Python修改后生成1\\1 发行人基本情况调查\\1-13 员工情况\\1-13-5 公积金相关费用缴纳凭证（抽查）\n",
      "Python修改后生成1\\6 投资者保护调查\\6-4 股利分配政策\\6-4-5 股利分配相关三会文件\n",
      "Python修改后生成1\\6 投资者保护调查\\6-4 股利分配政策\\6-4-4 发行人关于发行后股利分配政策的说明\n",
      "Python修改后生成1\\6 投资者保护调查\\6-4 股利分配政策\\6-4-3 发行人关于股利分配情况的说明\n",
      "Python修改后生成1\\6 投资者保护调查\\6-4 股利分配政策\\6-4-2 最近三年股利分配政策\n",
      "Python修改后生成1\\6 投资者保护调查\\6-4 股利分配政策\\6-4-1 结合各年度\n",
      "Python修改后生成1\\1 发行人基本情况调查\\1-13 员工情况\\1-13-6 员工名单（请使用模板“员工花名册【表格】.xlsx”）、工资明细表\n",
      "Python修改后生成1\\6 投资者保护调查\\6-3 信息披露制度的建设和执行情况\\6-3-3 未来开展投资者关系管理的规划\n",
      "Python修改后生成1\\6 投资者保护调查\\6-3 信息披露制度的建设和执行情况\\6-3-2 投资者关系部门组织架构\n",
      "Python修改后生成1\\6 投资者保护调查\\6-3 信息披露制度的建设和执行情况\\6-3-1 信息披露制度\n",
      "Python修改后生成1\\1 发行人基本情况调查\\1-13 员工情况\\1-13-7 发行人员工工资水平与所在地区平均水平或同行业上市公司平均水平之间是否存在显著差异及差异合理性的说明\n",
      "Python修改后生成1\\6 投资者保护调查\\6-2 承诺事项履行情况\\6-2-9 控股股东及实际控制人、发起人、主要股东及董事、监事、高级管理人员未能履行承诺的约束措施\n",
      "Python修改后生成1\\6 投资者保护调查\\6-2 承诺事项履行情况\\6-2-8 其他承诺事项\n",
      "Python修改后生成1\\6 投资者保护调查\\6-2 承诺事项履行情况\\6-2-7 依法承担赔偿责任的承诺\n",
      "Python修改后生成1\\6 投资者保护调查\\6-2 承诺事项履行情况\\6-2-6 利润分配政策的承诺\n",
      "Python修改后生成1\\6 投资者保护调查\\6-2 承诺事项履行情况\\6-2-5 填补被摊薄即期回报的措施及承诺\n",
      "Python修改后生成1\\7 风险因素及其他重要事项调查\\7-3 诉讼和担保情况\\7-3-3 所有为外部主体的担保（包括抵押、质押、保证等）合同、反担保合同\n",
      "Python修改后生成1\\6 投资者保护调查\\6-2 承诺事项履行情况\\6-2-4 对欺诈发行上市的股份回购和股份买回承诺\n",
      "Python修改后生成1\\7 风险因素及其他重要事项调查\\7-3 诉讼和担保情况\\7-3-4 对外担保的决策文件，被担保方基本情况及财务报表等资料，担保解除资料\n",
      "Python修改后生成1\\7 风险因素及其他重要事项调查\\7-3 诉讼和担保情况\\7-3-6 发行人对外担保总额占其（合并及母公司）净资产\n"
     ]
    },
    {
     "ename": "KeyError",
     "evalue": "'1-10 董事、监事、高级管理人员及其他核心人员薪酬及兼职情况'",
     "output_type": "error",
     "traceback": [
      "\u001b[1;31m---------------------------------------------------------------------------\u001b[0m",
      "\u001b[1;31mKeyError\u001b[0m                                  Traceback (most recent call last)",
      "\u001b[1;32mC:\\Users\\ADMINI~1\\AppData\\Local\\Temp/ipykernel_14124/3727567496.py\u001b[0m in \u001b[0;36m<module>\u001b[1;34m\u001b[0m\n\u001b[1;32m----> 1\u001b[1;33m \u001b[0mcreate_tree\u001b[0m\u001b[1;33m(\u001b[0m\u001b[0mnew_tree_pandas\u001b[0m\u001b[1;33m,\u001b[0m \u001b[0mnew_path\u001b[0m\u001b[1;33m,\u001b[0m \u001b[0mroot_path\u001b[0m\u001b[1;33m)\u001b[0m\u001b[1;33m\u001b[0m\u001b[1;33m\u001b[0m\u001b[0m\n\u001b[0m",
      "\u001b[1;32mC:\\Users\\ADMINI~1\\AppData\\Local\\Temp/ipykernel_14124/890921582.py\u001b[0m in \u001b[0;36mcreate_tree\u001b[1;34m(tree_pandas, new_path, root_path)\u001b[0m\n\u001b[0;32m     22\u001b[0m             \u001b[1;31m# 第3次循环前：target_path 1/1-1/1-1-1 parent_name root_path(或'投行申报')\u001b[0m\u001b[1;33m\u001b[0m\u001b[1;33m\u001b[0m\u001b[0m\n\u001b[0;32m     23\u001b[0m             \u001b[0mtarget_path\u001b[0m \u001b[1;33m=\u001b[0m \u001b[0mos\u001b[0m\u001b[1;33m.\u001b[0m\u001b[0mpath\u001b[0m\u001b[1;33m.\u001b[0m\u001b[0mjoin\u001b[0m\u001b[1;33m(\u001b[0m\u001b[0mparent_name\u001b[0m\u001b[1;33m,\u001b[0m \u001b[0mtarget_path\u001b[0m\u001b[1;33m)\u001b[0m\u001b[1;33m\u001b[0m\u001b[1;33m\u001b[0m\u001b[0m\n\u001b[1;32m---> 24\u001b[1;33m             \u001b[0mparent_name\u001b[0m \u001b[1;33m=\u001b[0m \u001b[0mtotal_node\u001b[0m\u001b[1;33m[\u001b[0m\u001b[0mparent_name\u001b[0m\u001b[1;33m]\u001b[0m\u001b[1;33m\u001b[0m\u001b[1;33m\u001b[0m\u001b[0m\n\u001b[0m\u001b[0;32m     25\u001b[0m         \u001b[0mtarget_path\u001b[0m \u001b[1;33m=\u001b[0m \u001b[0mos\u001b[0m\u001b[1;33m.\u001b[0m\u001b[0mpath\u001b[0m\u001b[1;33m.\u001b[0m\u001b[0mjoin\u001b[0m\u001b[1;33m(\u001b[0m\u001b[0mnew_path\u001b[0m\u001b[1;33m,\u001b[0m \u001b[0mtarget_path\u001b[0m\u001b[1;33m)\u001b[0m\u001b[1;33m\u001b[0m\u001b[1;33m\u001b[0m\u001b[0m\n\u001b[0;32m     26\u001b[0m         \u001b[1;31m# 打印一下将创建的路径\u001b[0m\u001b[1;33m\u001b[0m\u001b[1;33m\u001b[0m\u001b[0m\n",
      "\u001b[1;31mKeyError\u001b[0m: '1-10 董事、监事、高级管理人员及其他核心人员薪酬及兼职情况'"
     ]
    }
   ],
   "source": [
    "create_tree(new_tree_pandas, new_path, root_path)"
   ]
  },
  {
   "cell_type": "markdown",
   "id": "6781e94c-8c79-4b88-bbb1-65a9f8422f85",
   "metadata": {},
   "source": [
    "### 课后思考"
   ]
  },
  {
   "cell_type": "markdown",
   "id": "c74c6688-d3e0-47ba-ad8e-9bf675edb1f3",
   "metadata": {},
   "source": [
    "- 如何在创建新文件夹之前就能知道要创建的文件夹是否成树？\n",
    "- 如何变成多层级的展示形式？有什么利弊？"
   ]
  },
  {
   "cell_type": "markdown",
   "id": "35ce132d-f319-4012-b489-6efd6aa28ef3",
   "metadata": {},
   "source": [
    "一级目录|二级目录|三级目录\n",
    "-|-|-\n",
    "1|-|-\n",
    "1|1-1|-\n",
    "1|1-1|1-1-1"
   ]
  },
  {
   "cell_type": "markdown",
   "id": "c95bf13a-0731-48d3-b1d6-76585f5b1561",
   "metadata": {},
   "source": [
    "# 点赞超1000的深入"
   ]
  },
  {
   "cell_type": "markdown",
   "id": "f764855e-854a-4bb0-b8c6-b7a383149696",
   "metadata": {},
   "source": [
    "## 目录树的可视化"
   ]
  },
  {
   "cell_type": "markdown",
   "id": "1dfce8fa-e631-42fa-8a2c-80db2d79e06b",
   "metadata": {},
   "source": [
    "## 申报文件批量移动"
   ]
  },
  {
   "cell_type": "markdown",
   "id": "73a87d9d-77ef-4c4a-b4f5-db8980106052",
   "metadata": {},
   "source": [
    "## 申报文件版本管理"
   ]
  }
 ],
 "metadata": {
  "kernelspec": {
   "display_name": "Python 3 (ipykernel)",
   "language": "python",
   "name": "python3"
  },
  "language_info": {
   "codemirror_mode": {
    "name": "ipython",
    "version": 3
   },
   "file_extension": ".py",
   "mimetype": "text/x-python",
   "name": "python",
   "nbconvert_exporter": "python",
   "pygments_lexer": "ipython3",
   "version": "3.9.7"
  }
 },
 "nbformat": 4,
 "nbformat_minor": 5
}
