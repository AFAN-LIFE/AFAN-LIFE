{
 "cells": [
  {
   "cell_type": "code",
   "execution_count": 1,
   "id": "edb8726a-9488-416b-82a0-1e31746052e8",
   "metadata": {},
   "outputs": [
    {
     "data": {
      "text/plain": [
       "1336"
      ]
     },
     "execution_count": 1,
     "metadata": {},
     "output_type": "execute_result"
    }
   ],
   "source": [
    "68285 - 66949"
   ]
  },
  {
   "cell_type": "code",
   "execution_count": 2,
   "id": "fb2711fd-5870-4e71-8194-d539d33ca252",
   "metadata": {},
   "outputs": [
    {
     "data": {
      "text/plain": [
       "0.019955488506176344"
      ]
     },
     "execution_count": 2,
     "metadata": {},
     "output_type": "execute_result"
    }
   ],
   "source": [
    "1336 / 66949"
   ]
  },
  {
   "cell_type": "code",
   "execution_count": 3,
   "id": "b1e2cdf5-d3cd-4760-a7c7-296572df9cd2",
   "metadata": {},
   "outputs": [
    {
     "data": {
      "text/plain": [
       "127684"
      ]
     },
     "execution_count": 3,
     "metadata": {},
     "output_type": "execute_result"
    }
   ],
   "source": [
    "1143670 - 1015986"
   ]
  },
  {
   "cell_type": "code",
   "execution_count": 4,
   "id": "e372b5a7-9c20-46e8-a67d-d296245ad9ba",
   "metadata": {},
   "outputs": [
    {
     "data": {
      "text/plain": [
       "0.12567496008803272"
      ]
     },
     "execution_count": 4,
     "metadata": {},
     "output_type": "execute_result"
    }
   ],
   "source": [
    "127684 / 1015986"
   ]
  },
  {
   "cell_type": "code",
   "execution_count": null,
   "id": "8e2aaca1-11ad-490e-800c-55137623c960",
   "metadata": {},
   "outputs": [],
   "source": []
  }
 ],
 "metadata": {
  "kernelspec": {
   "display_name": "Python 3 (ipykernel)",
   "language": "python",
   "name": "python3"
  },
  "language_info": {
   "codemirror_mode": {
    "name": "ipython",
    "version": 3
   },
   "file_extension": ".py",
   "mimetype": "text/x-python",
   "name": "python",
   "nbconvert_exporter": "python",
   "pygments_lexer": "ipython3",
   "version": "3.9.7"
  }
 },
 "nbformat": 4,
 "nbformat_minor": 5
}
