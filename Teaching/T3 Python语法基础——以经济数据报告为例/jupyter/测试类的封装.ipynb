{
 "cells": [
  {
   "cell_type": "code",
   "execution_count": 1,
   "id": "c7e14319-add8-4aa4-bb8d-1180836297ff",
   "metadata": {},
   "outputs": [],
   "source": [
    "from report import Report"
   ]
  },
  {
   "cell_type": "code",
   "execution_count": 3,
   "id": "b0b302d7-58f0-4e38-9c51-968666a628bd",
   "metadata": {},
   "outputs": [],
   "source": [
    "DATA = {'GDP': [14444, 13333, 12222, 10611, 10000, 8888, 7777],\n",
    " '第一产业': [4444, 3333, 2222, 2111, 2000, 1888, 1277],\n",
    " '第二产业': [4000, 4000, 4000, 4500, 4000, 3000, 2750],\n",
    " '第三产业': [6000, 6000, 6000, 4000, 4000, 4000, 3750],\n",
    " '年份': [2022, 2021, 2020, 2019, 2018, 2017, 2016]}"
   ]
  },
  {
   "cell_type": "code",
   "execution_count": 4,
   "id": "7dda0432-49ef-44db-a40f-6e8dadc843a2",
   "metadata": {},
   "outputs": [
    {
     "data": {
      "text/plain": [
       "'第一产业在2019年为2111万亿，比上年增长111万亿，比上年增长5.55%'"
      ]
     },
     "execution_count": 4,
     "metadata": {},
     "output_type": "execute_result"
    }
   ],
   "source": [
    "report1 = Report()\n",
    "report1.increase_plain(DATA\n",
    "              ,indicator_key='第一产业'\n",
    "              ,date_key='年份'\n",
    "              ,date=2019\n",
    "              ,measure='万亿')"
   ]
  }
 ],
 "metadata": {
  "kernelspec": {
   "display_name": "Python 3 (ipykernel)",
   "language": "python",
   "name": "python3"
  },
  "language_info": {
   "codemirror_mode": {
    "name": "ipython",
    "version": 3
   },
   "file_extension": ".py",
   "mimetype": "text/x-python",
   "name": "python",
   "nbconvert_exporter": "python",
   "pygments_lexer": "ipython3",
   "version": "3.9.7"
  }
 },
 "nbformat": 4,
 "nbformat_minor": 5
}
